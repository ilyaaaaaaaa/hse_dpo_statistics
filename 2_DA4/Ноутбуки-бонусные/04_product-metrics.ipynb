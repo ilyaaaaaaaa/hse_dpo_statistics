{
 "cells": [
  {
   "cell_type": "markdown",
   "metadata": {
    "toc": true
   },
   "source": [
    "<h1>Table of Contents<span class=\"tocSkip\"></span></h1>\n",
    "<div class=\"toc\"><ul class=\"toc-item\"><li><span><a href=\"#Продуктовые-метрики\" data-toc-modified-id=\"Продуктовые-метрики-1\"><span class=\"toc-item-num\">1&nbsp;&nbsp;</span>Продуктовые метрики</a></span><ul class=\"toc-item\"><li><span><a href=\"#Число-пользователей\" data-toc-modified-id=\"Число-пользователей-1.1\"><span class=\"toc-item-num\">1.1&nbsp;&nbsp;</span>Число пользователей</a></span></li><li><span><a href=\"#Возвращаемость-(retention)\" data-toc-modified-id=\"Возвращаемость-(retention)-1.2\"><span class=\"toc-item-num\">1.2&nbsp;&nbsp;</span>Возвращаемость (retention)</a></span></li><li><span><a href=\"#Средний-доход-с-пользователя-(RPU)\" data-toc-modified-id=\"Средний-доход-с-пользователя-(RPU)-1.3\"><span class=\"toc-item-num\">1.3&nbsp;&nbsp;</span>Средний доход с пользователя (RPU)</a></span></li></ul></li></ul></div>"
   ]
  },
  {
   "cell_type": "markdown",
   "metadata": {
    "id": "2CCW0NBpLwqC"
   },
   "source": [
    "#  Продуктовые метрики \n",
    "\n",
    "В этой тетрадке мы построим пару доверительных интервалов для продуктовых метрик [гуглового мерчендайз магазина.](https://www.kaggle.com/c/ga-customer-revenue-prediction)\n",
    "\n",
    "\n"
   ]
  },
  {
   "cell_type": "code",
   "execution_count": null,
   "metadata": {
    "id": "doBYm9brLwqS"
   },
   "outputs": [],
   "source": [
    "import numpy as np\n",
    "import pandas as pd\n",
    "\n",
    "from scipy import stats\n",
    "\n",
    "import seaborn as sns\n",
    "import matplotlib.pyplot as plt\n",
    "\n",
    "plt.style.use('ggplot')  # стиль для графиков\n",
    "%matplotlib inline"
   ]
  },
  {
   "cell_type": "markdown",
   "metadata": {
    "id": "OwNOnEPYLwqU"
   },
   "source": [
    " "
   ]
  },
  {
   "cell_type": "markdown",
   "metadata": {
    "id": "jPzpRmi-LwqW"
   },
   "source": [
    "Чтобы держать руку на пульсе бизнеса, нужно строить довольно много продуктовых метрик. Более того, нужно понимать насколько адекватно эти метрики построены и насколько сильно они могут колебаться. Мы в этой тетрадке рассмотрим два таких показателя: возвращаемость (retention) и среднюю выручку (revenue per user, RPU)"
   ]
  },
  {
   "cell_type": "code",
   "execution_count": null,
   "metadata": {
    "id": "qJb2WtVxLwqX",
    "outputId": "c80958a6-ae0e-4e90-b09f-71fa4535b3b3"
   },
   "outputs": [
    {
     "name": "stdout",
     "output_type": "stream",
     "text": [
      "(177973, 5)\n"
     ]
    },
    {
     "data": {
      "text/html": [
       "<div>\n",
       "<style scoped>\n",
       "    .dataframe tbody tr th:only-of-type {\n",
       "        vertical-align: middle;\n",
       "    }\n",
       "\n",
       "    .dataframe tbody tr th {\n",
       "        vertical-align: top;\n",
       "    }\n",
       "\n",
       "    .dataframe thead th {\n",
       "        text-align: right;\n",
       "    }\n",
       "</style>\n",
       "<table border=\"1\" class=\"dataframe\">\n",
       "  <thead>\n",
       "    <tr style=\"text-align: right;\">\n",
       "      <th></th>\n",
       "      <th>date</th>\n",
       "      <th>fullVisitorId</th>\n",
       "      <th>browser</th>\n",
       "      <th>deviceCategory</th>\n",
       "      <th>transactionRevenue</th>\n",
       "    </tr>\n",
       "  </thead>\n",
       "  <tbody>\n",
       "    <tr>\n",
       "      <th>0</th>\n",
       "      <td>2016-08-05</td>\n",
       "      <td>377595677869445136</td>\n",
       "      <td>Chrome</td>\n",
       "      <td>desktop</td>\n",
       "      <td>NaN</td>\n",
       "    </tr>\n",
       "    <tr>\n",
       "      <th>1</th>\n",
       "      <td>2016-08-05</td>\n",
       "      <td>7669007915434203149</td>\n",
       "      <td>Chrome</td>\n",
       "      <td>desktop</td>\n",
       "      <td>NaN</td>\n",
       "    </tr>\n",
       "    <tr>\n",
       "      <th>2</th>\n",
       "      <td>2016-08-05</td>\n",
       "      <td>8513048163701118333</td>\n",
       "      <td>Chrome</td>\n",
       "      <td>desktop</td>\n",
       "      <td>NaN</td>\n",
       "    </tr>\n",
       "    <tr>\n",
       "      <th>3</th>\n",
       "      <td>2016-08-05</td>\n",
       "      <td>8678920290726866310</td>\n",
       "      <td>Chrome</td>\n",
       "      <td>desktop</td>\n",
       "      <td>NaN</td>\n",
       "    </tr>\n",
       "    <tr>\n",
       "      <th>4</th>\n",
       "      <td>2016-08-05</td>\n",
       "      <td>6522495992404435523</td>\n",
       "      <td>Chrome</td>\n",
       "      <td>desktop</td>\n",
       "      <td>NaN</td>\n",
       "    </tr>\n",
       "  </tbody>\n",
       "</table>\n",
       "</div>"
      ],
      "text/plain": [
       "        date        fullVisitorId browser deviceCategory  transactionRevenue\n",
       "0 2016-08-05   377595677869445136  Chrome        desktop                 NaN\n",
       "1 2016-08-05  7669007915434203149  Chrome        desktop                 NaN\n",
       "2 2016-08-05  8513048163701118333  Chrome        desktop                 NaN\n",
       "3 2016-08-05  8678920290726866310  Chrome        desktop                 NaN\n",
       "4 2016-08-05  6522495992404435523  Chrome        desktop                 NaN"
      ]
     },
     "execution_count": 2,
     "metadata": {},
     "output_type": "execute_result"
    }
   ],
   "source": [
    "visits = pd.read_csv('marketing_log.csv', sep='\\t')\n",
    "\n",
    "# изменим тип колонки с датой на время\n",
    "visits['date'] = pd.to_datetime(visits[\"date\"], format=\"%Y-%m-%d\")\n",
    "\n",
    "# отсортируем данные по дате \n",
    "visits.sort_values('date', inplace=True)\n",
    "\n",
    "# сбросим индексирование таблики\n",
    "visits.reset_index(drop=True, inplace=True)\n",
    "\n",
    "print(visits.shape)\n",
    "visits.head()"
   ]
  },
  {
   "cell_type": "markdown",
   "metadata": {
    "id": "9Ap5Q03xLwqa"
   },
   "source": [
    "## Число пользователей\n",
    "\n",
    "Сколько людей пользуются в день, неделю, месяц?"
   ]
  },
  {
   "cell_type": "code",
   "execution_count": null,
   "metadata": {
    "id": "2ELLuNX9Lwqb",
    "outputId": "641cb307-2d64-4f27-df80-ed3bb45c7909"
   },
   "outputs": [
    {
     "data": {
      "text/html": [
       "<div>\n",
       "<style scoped>\n",
       "    .dataframe tbody tr th:only-of-type {\n",
       "        vertical-align: middle;\n",
       "    }\n",
       "\n",
       "    .dataframe tbody tr th {\n",
       "        vertical-align: top;\n",
       "    }\n",
       "\n",
       "    .dataframe thead th {\n",
       "        text-align: right;\n",
       "    }\n",
       "</style>\n",
       "<table border=\"1\" class=\"dataframe\">\n",
       "  <thead>\n",
       "    <tr style=\"text-align: right;\">\n",
       "      <th></th>\n",
       "      <th>fullVisitorId</th>\n",
       "    </tr>\n",
       "    <tr>\n",
       "      <th>date</th>\n",
       "      <th></th>\n",
       "    </tr>\n",
       "  </thead>\n",
       "  <tbody>\n",
       "    <tr>\n",
       "      <th>2016-08-05</th>\n",
       "      <td>2492</td>\n",
       "    </tr>\n",
       "    <tr>\n",
       "      <th>2016-08-11</th>\n",
       "      <td>2446</td>\n",
       "    </tr>\n",
       "    <tr>\n",
       "      <th>2016-08-16</th>\n",
       "      <td>2619</td>\n",
       "    </tr>\n",
       "    <tr>\n",
       "      <th>2016-08-20</th>\n",
       "      <td>1555</td>\n",
       "    </tr>\n",
       "    <tr>\n",
       "      <th>2016-08-22</th>\n",
       "      <td>2352</td>\n",
       "    </tr>\n",
       "  </tbody>\n",
       "</table>\n",
       "</div>"
      ],
      "text/plain": [
       "            fullVisitorId\n",
       "date                     \n",
       "2016-08-05           2492\n",
       "2016-08-11           2446\n",
       "2016-08-16           2619\n",
       "2016-08-20           1555\n",
       "2016-08-22           2352"
      ]
     },
     "execution_count": 3,
     "metadata": {},
     "output_type": "execute_result"
    }
   ],
   "source": [
    "day = visits.groupby('date').agg({'fullVisitorId': 'nunique'})\n",
    "day.head()"
   ]
  },
  {
   "cell_type": "code",
   "execution_count": null,
   "metadata": {
    "id": "9WJFDKkoLwqd",
    "outputId": "d6c444bc-69fb-4fc7-b241-e2bfd7a6b8ed"
   },
   "outputs": [
    {
     "name": "stdout",
     "output_type": "stream",
     "text": [
      "Среднее число посетителей в день: 2355.8285714285716\n"
     ]
    },
    {
     "data": {
      "image/png": "[encoded data removed]",
      "text/plain": [
       "<Figure size 864x432 with 1 Axes>"
      ]
     },
     "metadata": {
      "needs_background": "light"
     },
     "output_type": "display_data"
    }
   ],
   "source": [
    "print(f\"Среднее число посетителей в день: {day.fullVisitorId.mean()}\")\n",
    "day.sort_index().plot(figsize=(12,6));"
   ]
  },
  {
   "cell_type": "markdown",
   "metadata": {
    "id": "V7Ook2DVLwqe"
   },
   "source": [
    "## Возвращаемость (retention)\n",
    "\n",
    "Первый показатель, который обычно интересует бизнес это возвращаемость (retention): \n",
    "\n",
    "* `retention_1`  - вернулся ли игрок после **первого** дня с момента посещения магазина?\n",
    "* `retention_7`  - вернулся ли игрок после **седьмого** дня с момента посещения магазина?"
   ]
  },
  {
   "cell_type": "markdown",
   "metadata": {
    "id": "n1LWkyY0Lwqf"
   },
   "source": [
    "Заведём новую колонку: дата первого появления юзера."
   ]
  },
  {
   "cell_type": "code",
   "execution_count": null,
   "metadata": {
    "id": "iq1lcb-8Lwqg",
    "outputId": "d55cf3e0-a329-4aa1-b0e4-17624a9f985c"
   },
   "outputs": [
    {
     "data": {
      "text/html": [
       "<div>\n",
       "<style scoped>\n",
       "    .dataframe tbody tr th:only-of-type {\n",
       "        vertical-align: middle;\n",
       "    }\n",
       "\n",
       "    .dataframe tbody tr th {\n",
       "        vertical-align: top;\n",
       "    }\n",
       "\n",
       "    .dataframe thead th {\n",
       "        text-align: right;\n",
       "    }\n",
       "</style>\n",
       "<table border=\"1\" class=\"dataframe\">\n",
       "  <thead>\n",
       "    <tr style=\"text-align: right;\">\n",
       "      <th></th>\n",
       "      <th>date</th>\n",
       "      <th>fullVisitorId</th>\n",
       "      <th>browser</th>\n",
       "      <th>deviceCategory</th>\n",
       "      <th>transactionRevenue</th>\n",
       "      <th>firstVisit</th>\n",
       "    </tr>\n",
       "  </thead>\n",
       "  <tbody>\n",
       "    <tr>\n",
       "      <th>0</th>\n",
       "      <td>2016-08-05</td>\n",
       "      <td>377595677869445136</td>\n",
       "      <td>Chrome</td>\n",
       "      <td>desktop</td>\n",
       "      <td>NaN</td>\n",
       "      <td>2016-08-05</td>\n",
       "    </tr>\n",
       "    <tr>\n",
       "      <th>1</th>\n",
       "      <td>2016-08-05</td>\n",
       "      <td>7669007915434203149</td>\n",
       "      <td>Chrome</td>\n",
       "      <td>desktop</td>\n",
       "      <td>NaN</td>\n",
       "      <td>2016-08-05</td>\n",
       "    </tr>\n",
       "    <tr>\n",
       "      <th>2</th>\n",
       "      <td>2016-08-05</td>\n",
       "      <td>8513048163701118333</td>\n",
       "      <td>Chrome</td>\n",
       "      <td>desktop</td>\n",
       "      <td>NaN</td>\n",
       "      <td>2016-08-05</td>\n",
       "    </tr>\n",
       "    <tr>\n",
       "      <th>3</th>\n",
       "      <td>2016-08-05</td>\n",
       "      <td>8678920290726866310</td>\n",
       "      <td>Chrome</td>\n",
       "      <td>desktop</td>\n",
       "      <td>NaN</td>\n",
       "      <td>2016-08-05</td>\n",
       "    </tr>\n",
       "    <tr>\n",
       "      <th>4</th>\n",
       "      <td>2016-08-05</td>\n",
       "      <td>6522495992404435523</td>\n",
       "      <td>Chrome</td>\n",
       "      <td>desktop</td>\n",
       "      <td>NaN</td>\n",
       "      <td>2016-08-05</td>\n",
       "    </tr>\n",
       "  </tbody>\n",
       "</table>\n",
       "</div>"
      ],
      "text/plain": [
       "        date        fullVisitorId browser deviceCategory  transactionRevenue  \\\n",
       "0 2016-08-05   377595677869445136  Chrome        desktop                 NaN   \n",
       "1 2016-08-05  7669007915434203149  Chrome        desktop                 NaN   \n",
       "2 2016-08-05  8513048163701118333  Chrome        desktop                 NaN   \n",
       "3 2016-08-05  8678920290726866310  Chrome        desktop                 NaN   \n",
       "4 2016-08-05  6522495992404435523  Chrome        desktop                 NaN   \n",
       "\n",
       "  firstVisit  \n",
       "0 2016-08-05  \n",
       "1 2016-08-05  \n",
       "2 2016-08-05  \n",
       "3 2016-08-05  \n",
       "4 2016-08-05  "
      ]
     },
     "execution_count": 5,
     "metadata": {},
     "output_type": "execute_result"
    }
   ],
   "source": [
    "first_visit = visits.groupby('fullVisitorId').agg({'date':'min'})\n",
    "first_visit.columns = ['firstVisit']\n",
    "\n",
    "visits = visits.join(first_visit, on='fullVisitorId')\n",
    "visits.head()"
   ]
  },
  {
   "cell_type": "markdown",
   "metadata": {
    "id": "moqj77YzLwqh"
   },
   "source": [
    "Ради интереса посмотрим на то, как распределено число дней между текущим и первым посещениями."
   ]
  },
  {
   "cell_type": "code",
   "execution_count": null,
   "metadata": {
    "id": "3YJvaDeGLwqh"
   },
   "outputs": [],
   "source": [
    "visits['daysFromFirstVisit'] = (visits.date - visits.firstVisit).apply(lambda w: w.days)"
   ]
  },
  {
   "cell_type": "code",
   "execution_count": null,
   "metadata": {
    "id": "WX1MUWkXLwqi",
    "outputId": "1f837a12-d804-4522-feef-5be2551f2b59"
   },
   "outputs": [
    {
     "data": {
      "image/png": "[encoded data removed]",
      "text/plain": [
       "<Figure size 432x288 with 1 Axes>"
      ]
     },
     "metadata": {
      "needs_background": "light"
     },
     "output_type": "display_data"
    }
   ],
   "source": [
    "visits['daysFromFirstVisit'].hist(bins=50);"
   ]
  },
  {
   "cell_type": "markdown",
   "metadata": {
    "id": "Ef-bAVgHLwqi"
   },
   "source": [
    "Видно, что чаще всего первое посещение оказывается последним."
   ]
  },
  {
   "cell_type": "code",
   "execution_count": null,
   "metadata": {
    "id": "Z8GkHsi6Lwqj",
    "outputId": "c6e03268-70b2-4f10-ace8-0eb3407ae9a9"
   },
   "outputs": [
    {
     "data": {
      "image/png": "[encoded data removed]",
      "text/plain": [
       "<Figure size 432x288 with 1 Axes>"
      ]
     },
     "metadata": {
      "needs_background": "light"
     },
     "output_type": "display_data"
    }
   ],
   "source": [
    "visits[visits['daysFromFirstVisit'] > 20]['daysFromFirstVisit'].hist(bins=50);"
   ]
  },
  {
   "cell_type": "markdown",
   "metadata": {
    "id": "oJjn4yLiLwqj"
   },
   "source": [
    "Найдём для каждого человека разность в днях между первым и последним посещениями: "
   ]
  },
  {
   "cell_type": "code",
   "execution_count": null,
   "metadata": {
    "id": "ySnNtO0kLwqj",
    "outputId": "d006d459-9d96-4743-c5d5-fd47b49f01b8",
    "scrolled": true
   },
   "outputs": [
    {
     "data": {
      "text/html": [
       "<div>\n",
       "<style scoped>\n",
       "    .dataframe tbody tr th:only-of-type {\n",
       "        vertical-align: middle;\n",
       "    }\n",
       "\n",
       "    .dataframe tbody tr th {\n",
       "        vertical-align: top;\n",
       "    }\n",
       "\n",
       "    .dataframe thead th {\n",
       "        text-align: right;\n",
       "    }\n",
       "</style>\n",
       "<table border=\"1\" class=\"dataframe\">\n",
       "  <thead>\n",
       "    <tr style=\"text-align: right;\">\n",
       "      <th></th>\n",
       "      <th>firstVisit</th>\n",
       "      <th>fullVisitorId</th>\n",
       "      <th>daysFromFirstVisit</th>\n",
       "    </tr>\n",
       "  </thead>\n",
       "  <tbody>\n",
       "    <tr>\n",
       "      <th>0</th>\n",
       "      <td>2016-08-05</td>\n",
       "      <td>1000971553963693366</td>\n",
       "      <td>0</td>\n",
       "    </tr>\n",
       "    <tr>\n",
       "      <th>1</th>\n",
       "      <td>2016-08-05</td>\n",
       "      <td>1006834109386002658</td>\n",
       "      <td>0</td>\n",
       "    </tr>\n",
       "    <tr>\n",
       "      <th>2</th>\n",
       "      <td>2016-08-05</td>\n",
       "      <td>101246539776970727</td>\n",
       "      <td>0</td>\n",
       "    </tr>\n",
       "    <tr>\n",
       "      <th>3</th>\n",
       "      <td>2016-08-05</td>\n",
       "      <td>1013171119747358712</td>\n",
       "      <td>0</td>\n",
       "    </tr>\n",
       "    <tr>\n",
       "      <th>4</th>\n",
       "      <td>2016-08-05</td>\n",
       "      <td>1015220001673280213</td>\n",
       "      <td>0</td>\n",
       "    </tr>\n",
       "  </tbody>\n",
       "</table>\n",
       "</div>"
      ],
      "text/plain": [
       "  firstVisit        fullVisitorId  daysFromFirstVisit\n",
       "0 2016-08-05  1000971553963693366                   0\n",
       "1 2016-08-05  1006834109386002658                   0\n",
       "2 2016-08-05   101246539776970727                   0\n",
       "3 2016-08-05  1013171119747358712                   0\n",
       "4 2016-08-05  1015220001673280213                   0"
      ]
     },
     "execution_count": 9,
     "metadata": {},
     "output_type": "execute_result"
    }
   ],
   "source": [
    "firsVisits = visits.groupby(['firstVisit', 'fullVisitorId']).agg({'daysFromFirstVisit': 'max'}).reset_index()\n",
    "firsVisits.head()"
   ]
  },
  {
   "cell_type": "code",
   "execution_count": null,
   "metadata": {
    "id": "FGVbnwyhLwqk",
    "outputId": "d7c71210-aca2-438f-c819-ec2f145ff44c"
   },
   "outputs": [
    {
     "data": {
      "text/plain": [
       "(177973, 7)"
      ]
     },
     "execution_count": 10,
     "metadata": {},
     "output_type": "execute_result"
    }
   ],
   "source": [
    "visits.shape"
   ]
  },
  {
   "cell_type": "code",
   "execution_count": null,
   "metadata": {
    "id": "-xp-txJKLwql",
    "outputId": "1ad3e3a3-86a0-429e-beaa-0e8937fbeead"
   },
   "outputs": [
    {
     "data": {
      "text/plain": [
       "(159518, 3)"
      ]
     },
     "execution_count": 11,
     "metadata": {},
     "output_type": "execute_result"
    }
   ],
   "source": [
    "firsVisits.shape"
   ]
  },
  {
   "cell_type": "markdown",
   "metadata": {
    "id": "vtIwb3tQLwqn"
   },
   "source": [
    "Как посчитать `retention_7`?  Если `daysFromFirstVisit` оказывается больше $7$, значит человек вернулся более, чем через $7$ дней после первого посещения. Такие люди нас и интересуют. Найдём их количество. "
   ]
  },
  {
   "cell_type": "code",
   "execution_count": null,
   "metadata": {
    "id": "k-6mznBrLwqo",
    "outputId": "27bc5091-02ca-4a09-dff8-2e3e22042212"
   },
   "outputs": [
    {
     "data": {
      "text/html": [
       "<div>\n",
       "<style scoped>\n",
       "    .dataframe tbody tr th:only-of-type {\n",
       "        vertical-align: middle;\n",
       "    }\n",
       "\n",
       "    .dataframe tbody tr th {\n",
       "        vertical-align: top;\n",
       "    }\n",
       "\n",
       "    .dataframe thead th {\n",
       "        text-align: right;\n",
       "    }\n",
       "</style>\n",
       "<table border=\"1\" class=\"dataframe\">\n",
       "  <thead>\n",
       "    <tr style=\"text-align: right;\">\n",
       "      <th></th>\n",
       "      <th>success</th>\n",
       "      <th>total</th>\n",
       "    </tr>\n",
       "    <tr>\n",
       "      <th>firstVisit</th>\n",
       "      <th></th>\n",
       "      <th></th>\n",
       "    </tr>\n",
       "  </thead>\n",
       "  <tbody>\n",
       "    <tr>\n",
       "      <th>2016-08-05</th>\n",
       "      <td>108</td>\n",
       "      <td>2492</td>\n",
       "    </tr>\n",
       "    <tr>\n",
       "      <th>2016-08-11</th>\n",
       "      <td>103</td>\n",
       "      <td>2413</td>\n",
       "    </tr>\n",
       "    <tr>\n",
       "      <th>2016-08-16</th>\n",
       "      <td>102</td>\n",
       "      <td>2543</td>\n",
       "    </tr>\n",
       "    <tr>\n",
       "      <th>2016-08-20</th>\n",
       "      <td>35</td>\n",
       "      <td>1532</td>\n",
       "    </tr>\n",
       "    <tr>\n",
       "      <th>2016-08-22</th>\n",
       "      <td>92</td>\n",
       "      <td>2234</td>\n",
       "    </tr>\n",
       "  </tbody>\n",
       "</table>\n",
       "</div>"
      ],
      "text/plain": [
       "            success  total\n",
       "firstVisit                \n",
       "2016-08-05      108   2492\n",
       "2016-08-11      103   2413\n",
       "2016-08-16      102   2543\n",
       "2016-08-20       35   1532\n",
       "2016-08-22       92   2234"
      ]
     },
     "execution_count": 23,
     "metadata": {},
     "output_type": "execute_result"
    }
   ],
   "source": [
    "retention = (\n",
    "    firsVisits.groupby('firstVisit')['daysFromFirstVisit']\n",
    "    .agg([ # больше 1 => вернулся хотябы через день\n",
    "        (\"success\", lambda w: sum(w >= 7)),\n",
    "        (\"total\", \"count\") # сколько всего людей зашли в эту дату\n",
    "    ])\n",
    ")\n",
    "\n",
    "retention.head()"
   ]
  },
  {
   "cell_type": "markdown",
   "metadata": {
    "id": "LQyKhwwmLwqp"
   },
   "source": [
    "Построим график. "
   ]
  },
  {
   "cell_type": "code",
   "execution_count": null,
   "metadata": {
    "id": "IR4_aHWdLwqq",
    "outputId": "f2f1d5e1-021f-49f4-b04c-769c8abdb938"
   },
   "outputs": [
    {
     "data": {
      "image/png": "[encoded data removed]",
      "text/plain": [
       "<Figure size 1008x432 with 1 Axes>"
      ]
     },
     "metadata": {
      "needs_background": "light"
     },
     "output_type": "display_data"
    }
   ],
   "source": [
    "retention['retention'] = retention['success']/retention['total']\n",
    "retention['retention'][30:120].plot(figsize=(14,6));"
   ]
  },
  {
   "cell_type": "markdown",
   "metadata": {
    "id": "I-I4DR-BLwqs"
   },
   "source": [
    "Есть много точечных оценок доли людей, которая возвращается для каждой даты. Но этого мало, каждая точка строится по разному числу наблюдений и нам хотелось бы понимать насколько оценка точная. Возвращаемость - это доля. Значит можно построить для неё доверителльный интервал с помощью ЦПТ:\n",
    "\n",
    "$$\n",
    "\\hat p \\pm z_{1 - \\frac{\\alpha}{2}} \\cdot \\sqrt{\\frac{\\hat p \\cdot (1 - \\hat p)}{n}} \n",
    "$$"
   ]
  },
  {
   "cell_type": "code",
   "execution_count": null,
   "metadata": {
    "id": "AEhVJo_NLwqt",
    "outputId": "a1733344-8971-419d-b26f-7b85f68ad165"
   },
   "outputs": [
    {
     "data": {
      "text/html": [
       "<div>\n",
       "<style scoped>\n",
       "    .dataframe tbody tr th:only-of-type {\n",
       "        vertical-align: middle;\n",
       "    }\n",
       "\n",
       "    .dataframe tbody tr th {\n",
       "        vertical-align: top;\n",
       "    }\n",
       "\n",
       "    .dataframe thead th {\n",
       "        text-align: right;\n",
       "    }\n",
       "</style>\n",
       "<table border=\"1\" class=\"dataframe\">\n",
       "  <thead>\n",
       "    <tr style=\"text-align: right;\">\n",
       "      <th></th>\n",
       "      <th>success</th>\n",
       "      <th>total</th>\n",
       "      <th>retention</th>\n",
       "    </tr>\n",
       "    <tr>\n",
       "      <th>firstVisit</th>\n",
       "      <th></th>\n",
       "      <th></th>\n",
       "      <th></th>\n",
       "    </tr>\n",
       "  </thead>\n",
       "  <tbody>\n",
       "    <tr>\n",
       "      <th>2016-08-05</th>\n",
       "      <td>108</td>\n",
       "      <td>2492</td>\n",
       "      <td>0.043339</td>\n",
       "    </tr>\n",
       "    <tr>\n",
       "      <th>2016-08-11</th>\n",
       "      <td>103</td>\n",
       "      <td>2413</td>\n",
       "      <td>0.042685</td>\n",
       "    </tr>\n",
       "    <tr>\n",
       "      <th>2016-08-16</th>\n",
       "      <td>102</td>\n",
       "      <td>2543</td>\n",
       "      <td>0.040110</td>\n",
       "    </tr>\n",
       "    <tr>\n",
       "      <th>2016-08-20</th>\n",
       "      <td>35</td>\n",
       "      <td>1532</td>\n",
       "      <td>0.022846</td>\n",
       "    </tr>\n",
       "    <tr>\n",
       "      <th>2016-08-22</th>\n",
       "      <td>92</td>\n",
       "      <td>2234</td>\n",
       "      <td>0.041182</td>\n",
       "    </tr>\n",
       "  </tbody>\n",
       "</table>\n",
       "</div>"
      ],
      "text/plain": [
       "            success  total  retention\n",
       "firstVisit                           \n",
       "2016-08-05      108   2492   0.043339\n",
       "2016-08-11      103   2413   0.042685\n",
       "2016-08-16      102   2543   0.040110\n",
       "2016-08-20       35   1532   0.022846\n",
       "2016-08-22       92   2234   0.041182"
      ]
     },
     "execution_count": 25,
     "metadata": {},
     "output_type": "execute_result"
    }
   ],
   "source": [
    "retention.head()"
   ]
  },
  {
   "cell_type": "code",
   "execution_count": null,
   "metadata": {
    "id": "t0ak_2BrLwqv",
    "outputId": "ee51d156-6bfb-4496-ee09-b37c8a889def"
   },
   "outputs": [
    {
     "data": {
      "text/html": [
       "<div>\n",
       "<style scoped>\n",
       "    .dataframe tbody tr th:only-of-type {\n",
       "        vertical-align: middle;\n",
       "    }\n",
       "\n",
       "    .dataframe tbody tr th {\n",
       "        vertical-align: top;\n",
       "    }\n",
       "\n",
       "    .dataframe thead th {\n",
       "        text-align: right;\n",
       "    }\n",
       "</style>\n",
       "<table border=\"1\" class=\"dataframe\">\n",
       "  <thead>\n",
       "    <tr style=\"text-align: right;\">\n",
       "      <th></th>\n",
       "      <th>success</th>\n",
       "      <th>total</th>\n",
       "      <th>retention</th>\n",
       "      <th>se</th>\n",
       "      <th>left</th>\n",
       "      <th>right</th>\n",
       "    </tr>\n",
       "    <tr>\n",
       "      <th>firstVisit</th>\n",
       "      <th></th>\n",
       "      <th></th>\n",
       "      <th></th>\n",
       "      <th></th>\n",
       "      <th></th>\n",
       "      <th></th>\n",
       "    </tr>\n",
       "  </thead>\n",
       "  <tbody>\n",
       "    <tr>\n",
       "      <th>2016-08-05</th>\n",
       "      <td>108</td>\n",
       "      <td>2492</td>\n",
       "      <td>0.043339</td>\n",
       "      <td>0.004079</td>\n",
       "      <td>0.035344</td>\n",
       "      <td>0.051333</td>\n",
       "    </tr>\n",
       "    <tr>\n",
       "      <th>2016-08-11</th>\n",
       "      <td>103</td>\n",
       "      <td>2413</td>\n",
       "      <td>0.042685</td>\n",
       "      <td>0.004115</td>\n",
       "      <td>0.034620</td>\n",
       "      <td>0.050751</td>\n",
       "    </tr>\n",
       "    <tr>\n",
       "      <th>2016-08-16</th>\n",
       "      <td>102</td>\n",
       "      <td>2543</td>\n",
       "      <td>0.040110</td>\n",
       "      <td>0.003891</td>\n",
       "      <td>0.032484</td>\n",
       "      <td>0.047736</td>\n",
       "    </tr>\n",
       "    <tr>\n",
       "      <th>2016-08-20</th>\n",
       "      <td>35</td>\n",
       "      <td>1532</td>\n",
       "      <td>0.022846</td>\n",
       "      <td>0.003817</td>\n",
       "      <td>0.015364</td>\n",
       "      <td>0.030328</td>\n",
       "    </tr>\n",
       "    <tr>\n",
       "      <th>2016-08-22</th>\n",
       "      <td>92</td>\n",
       "      <td>2234</td>\n",
       "      <td>0.041182</td>\n",
       "      <td>0.004204</td>\n",
       "      <td>0.032942</td>\n",
       "      <td>0.049422</td>\n",
       "    </tr>\n",
       "  </tbody>\n",
       "</table>\n",
       "</div>"
      ],
      "text/plain": [
       "            success  total  retention        se      left     right\n",
       "firstVisit                                                         \n",
       "2016-08-05      108   2492   0.043339  0.004079  0.035344  0.051333\n",
       "2016-08-11      103   2413   0.042685  0.004115  0.034620  0.050751\n",
       "2016-08-16      102   2543   0.040110  0.003891  0.032484  0.047736\n",
       "2016-08-20       35   1532   0.022846  0.003817  0.015364  0.030328\n",
       "2016-08-22       92   2234   0.041182  0.004204  0.032942  0.049422"
      ]
     },
     "execution_count": 26,
     "metadata": {},
     "output_type": "execute_result"
    }
   ],
   "source": [
    "alpha = 0.05\n",
    "\n",
    "# стандартная ошибка\n",
    "retention['se'] = np.sqrt(retention['retention'] * (1 - retention['retention']) / retention['total'])\n",
    "\n",
    "# границы интервалов\n",
    "q = stats.norm.ppf(1 - alpha/2)\n",
    "retention['left'] = retention['retention'] - q * retention['se']\n",
    "retention['right'] = retention['retention'] + q * retention['se']\n",
    "\n",
    "retention.head()"
   ]
  },
  {
   "cell_type": "code",
   "execution_count": null,
   "metadata": {
    "id": "zBU-YILYLwqx",
    "outputId": "789b9f01-a4c5-4f65-8b6e-38eb5bfa18b1"
   },
   "outputs": [
    {
     "data": {
      "image/png": "[encoded data removed]",
      "text/plain": [
       "<Figure size 1008x432 with 1 Axes>"
      ]
     },
     "metadata": {
      "needs_background": "light"
     },
     "output_type": "display_data"
    }
   ],
   "source": [
    "df = retention[30:120]\n",
    "\n",
    "df['retention'].plot(figsize=(14,6))\n",
    "plt.fill_between(df.index, df['left'], df['right'], facecolor='blue', alpha=0.2, interpolate=True)\n",
    "plt.show()"
   ]
  },
  {
   "cell_type": "markdown",
   "metadata": {
    "id": "T8AGpWtNLwqy"
   },
   "source": [
    "## Средний доход с пользователя (RPU)\n",
    "\n",
    "Посмотрим как часто люди покупают."
   ]
  },
  {
   "cell_type": "code",
   "execution_count": null,
   "metadata": {
    "id": "dkw3drdnLwqy",
    "outputId": "19a5fdf4-1c23-47ba-c5a1-13689e502081"
   },
   "outputs": [
    {
     "data": {
      "text/plain": [
       "1.3091873486427708"
      ]
     },
     "execution_count": 28,
     "metadata": {},
     "output_type": "execute_result"
    }
   ],
   "source": [
    "# Процент покупок \n",
    "100*(1 - visits['transactionRevenue'].isnull().sum()/visits.shape[0])"
   ]
  },
  {
   "cell_type": "markdown",
   "metadata": {
    "id": "9XL9XDYaLwqz"
   },
   "source": [
    "Всего лишь в $1\\%$ случаев. Это очень редко, но с этой правдой жизни ничего не поделаешь. Оставим только тех, кто правда что-то покупал."
   ]
  },
  {
   "cell_type": "code",
   "execution_count": null,
   "metadata": {
    "id": "Rinosc4cLwqz",
    "outputId": "734379f7-b4cd-4f9a-caa7-0c2e61233cfc"
   },
   "outputs": [
    {
     "data": {
      "text/plain": [
       "(2330, 8)"
      ]
     },
     "execution_count": 29,
     "metadata": {},
     "output_type": "execute_result"
    }
   ],
   "source": [
    "# будем строить RPU на месячной основе\n",
    "visits['month'] = visits['date'].apply(lambda w: w.strftime('%Y-%m'))\n",
    "\n",
    "purchases = visits.dropna(subset=['transactionRevenue'])\n",
    "purchases.shape"
   ]
  },
  {
   "cell_type": "markdown",
   "metadata": {
    "id": "LfSGPXU-Lwq0"
   },
   "source": [
    "Посмотрим на распределение стоимостей покупок."
   ]
  },
  {
   "cell_type": "code",
   "execution_count": null,
   "metadata": {
    "id": "wwUM2afrLwq0",
    "outputId": "5c8b2588-9a34-4946-a21f-f9f1d1f09d0a"
   },
   "outputs": [
    {
     "data": {
      "image/png": "[encoded data removed]",
      "text/plain": [
       "<Figure size 432x288 with 1 Axes>"
      ]
     },
     "metadata": {
      "needs_background": "light"
     },
     "output_type": "display_data"
    }
   ],
   "source": [
    "purchases['transactionRevenue'].hist(bins=50);"
   ]
  },
  {
   "cell_type": "markdown",
   "metadata": {
    "id": "-ea3pPO0Lwq0"
   },
   "source": [
    "Видим, что есть выбросы. Удалим их из выборки. Для того, что применять ЦПТ, мы предполагаем, что ни одна случайная величина из выборки не выделяется на фоне остальных. "
   ]
  },
  {
   "cell_type": "code",
   "execution_count": null,
   "metadata": {
    "id": "sLg-P56xLwq1",
    "outputId": "d40f5a8a-d527-4da2-afae-be2e89d0a881"
   },
   "outputs": [
    {
     "data": {
      "text/plain": [
       "1194364900.0000002"
      ]
     },
     "execution_count": 31,
     "metadata": {},
     "output_type": "execute_result"
    }
   ],
   "source": [
    "q99 = purchases['transactionRevenue'].quantile(0.99)\n",
    "q99"
   ]
  },
  {
   "cell_type": "code",
   "execution_count": null,
   "metadata": {
    "id": "JxqvSuapLwq1",
    "outputId": "cdc7e1a7-aff6-44b3-b959-f5e4286054fe"
   },
   "outputs": [
    {
     "data": {
      "image/png": "[encoded data removed]",
      "text/plain": [
       "<Figure size 432x288 with 1 Axes>"
      ]
     },
     "metadata": {
      "needs_background": "light"
     },
     "output_type": "display_data"
    }
   ],
   "source": [
    "purchases = purchases[purchases['transactionRevenue'] < q99]\n",
    "purchases['transactionRevenue'].hist(bins=50);"
   ]
  },
  {
   "cell_type": "markdown",
   "metadata": {
    "id": "n-leKXarLwq2"
   },
   "source": [
    "Посчитаем среднее, стандартное отклонение и число наблюдений для каждого месяца. "
   ]
  },
  {
   "cell_type": "code",
   "execution_count": null,
   "metadata": {
    "id": "gFQOXOA8Lwq2"
   },
   "outputs": [],
   "source": [
    "datePurchases = (\n",
    "    visits.groupby(['month'])['transactionRevenue']\n",
    "    .agg([('rpu', 'mean'),\n",
    "          ('count', 'count'),\n",
    "          ('se', 'std')])\n",
    "    .reset_index()\n",
    ")"
   ]
  },
  {
   "cell_type": "code",
   "execution_count": null,
   "metadata": {
    "id": "FQ4ZLub4Lwq3",
    "outputId": "d81895f3-1081-4298-c640-be449ac59bc4"
   },
   "outputs": [
    {
     "data": {
      "text/html": [
       "<div>\n",
       "<style scoped>\n",
       "    .dataframe tbody tr th:only-of-type {\n",
       "        vertical-align: middle;\n",
       "    }\n",
       "\n",
       "    .dataframe tbody tr th {\n",
       "        vertical-align: top;\n",
       "    }\n",
       "\n",
       "    .dataframe thead th {\n",
       "        text-align: right;\n",
       "    }\n",
       "</style>\n",
       "<table border=\"1\" class=\"dataframe\">\n",
       "  <thead>\n",
       "    <tr style=\"text-align: right;\">\n",
       "      <th></th>\n",
       "      <th>month</th>\n",
       "      <th>rpu</th>\n",
       "      <th>count</th>\n",
       "      <th>se</th>\n",
       "    </tr>\n",
       "  </thead>\n",
       "  <tbody>\n",
       "    <tr>\n",
       "      <th>0</th>\n",
       "      <td>2016-08</td>\n",
       "      <td>1.403108e+08</td>\n",
       "      <td>302</td>\n",
       "      <td>2.576639e+08</td>\n",
       "    </tr>\n",
       "    <tr>\n",
       "      <th>1</th>\n",
       "      <td>2016-09</td>\n",
       "      <td>1.596071e+08</td>\n",
       "      <td>63</td>\n",
       "      <td>2.466225e+08</td>\n",
       "    </tr>\n",
       "    <tr>\n",
       "      <th>2</th>\n",
       "      <td>2016-10</td>\n",
       "      <td>1.495286e+08</td>\n",
       "      <td>154</td>\n",
       "      <td>2.847047e+08</td>\n",
       "    </tr>\n",
       "    <tr>\n",
       "      <th>3</th>\n",
       "      <td>2016-11</td>\n",
       "      <td>1.582393e+08</td>\n",
       "      <td>298</td>\n",
       "      <td>3.637715e+08</td>\n",
       "    </tr>\n",
       "    <tr>\n",
       "      <th>4</th>\n",
       "      <td>2016-12</td>\n",
       "      <td>1.078180e+08</td>\n",
       "      <td>249</td>\n",
       "      <td>2.386044e+08</td>\n",
       "    </tr>\n",
       "  </tbody>\n",
       "</table>\n",
       "</div>"
      ],
      "text/plain": [
       "     month           rpu  count            se\n",
       "0  2016-08  1.403108e+08    302  2.576639e+08\n",
       "1  2016-09  1.596071e+08     63  2.466225e+08\n",
       "2  2016-10  1.495286e+08    154  2.847047e+08\n",
       "3  2016-11  1.582393e+08    298  3.637715e+08\n",
       "4  2016-12  1.078180e+08    249  2.386044e+08"
      ]
     },
     "execution_count": 34,
     "metadata": {},
     "output_type": "execute_result"
    }
   ],
   "source": [
    "datePurchases.head()"
   ]
  },
  {
   "cell_type": "markdown",
   "metadata": {
    "id": "1dkVZUXJLwq3"
   },
   "source": [
    "Наконец, воспользуемся формулой для строительства доверительного интервала для среднего: \n",
    "\n",
    "$$\n",
    "\\hat \\mu \\pm z_{1 - \\frac{\\alpha}{2}} \\cdot \\sqrt{\\frac{\\hat{\\sigma}^2}{n}} \n",
    "$$"
   ]
  },
  {
   "cell_type": "code",
   "execution_count": null,
   "metadata": {
    "id": "de8fYjr6Lwq4",
    "outputId": "277e9460-1f01-49a1-99ab-c8d77bb84641"
   },
   "outputs": [
    {
     "data": {
      "text/html": [
       "<div>\n",
       "<style scoped>\n",
       "    .dataframe tbody tr th:only-of-type {\n",
       "        vertical-align: middle;\n",
       "    }\n",
       "\n",
       "    .dataframe tbody tr th {\n",
       "        vertical-align: top;\n",
       "    }\n",
       "\n",
       "    .dataframe thead th {\n",
       "        text-align: right;\n",
       "    }\n",
       "</style>\n",
       "<table border=\"1\" class=\"dataframe\">\n",
       "  <thead>\n",
       "    <tr style=\"text-align: right;\">\n",
       "      <th></th>\n",
       "      <th>month</th>\n",
       "      <th>rpu</th>\n",
       "      <th>count</th>\n",
       "      <th>se</th>\n",
       "      <th>left</th>\n",
       "      <th>right</th>\n",
       "    </tr>\n",
       "  </thead>\n",
       "  <tbody>\n",
       "    <tr>\n",
       "      <th>8</th>\n",
       "      <td>2017-04</td>\n",
       "      <td>1.112212e+08</td>\n",
       "      <td>221</td>\n",
       "      <td>2.348075e+08</td>\n",
       "      <td>8.026381e+07</td>\n",
       "      <td>1.421785e+08</td>\n",
       "    </tr>\n",
       "    <tr>\n",
       "      <th>9</th>\n",
       "      <td>2017-05</td>\n",
       "      <td>9.395333e+07</td>\n",
       "      <td>216</td>\n",
       "      <td>1.220328e+08</td>\n",
       "      <td>7.767920e+07</td>\n",
       "      <td>1.102275e+08</td>\n",
       "    </tr>\n",
       "    <tr>\n",
       "      <th>10</th>\n",
       "      <td>2017-06</td>\n",
       "      <td>1.163418e+08</td>\n",
       "      <td>307</td>\n",
       "      <td>3.751088e+08</td>\n",
       "      <td>7.438173e+07</td>\n",
       "      <td>1.583019e+08</td>\n",
       "    </tr>\n",
       "    <tr>\n",
       "      <th>11</th>\n",
       "      <td>2017-07</td>\n",
       "      <td>5.428286e+07</td>\n",
       "      <td>7</td>\n",
       "      <td>1.379814e+07</td>\n",
       "      <td>4.406124e+07</td>\n",
       "      <td>6.450447e+07</td>\n",
       "    </tr>\n",
       "    <tr>\n",
       "      <th>12</th>\n",
       "      <td>2017-08</td>\n",
       "      <td>1.931381e+08</td>\n",
       "      <td>43</td>\n",
       "      <td>4.787008e+08</td>\n",
       "      <td>5.005845e+07</td>\n",
       "      <td>3.362178e+08</td>\n",
       "    </tr>\n",
       "  </tbody>\n",
       "</table>\n",
       "</div>"
      ],
      "text/plain": [
       "      month           rpu  count            se          left         right\n",
       "8   2017-04  1.112212e+08    221  2.348075e+08  8.026381e+07  1.421785e+08\n",
       "9   2017-05  9.395333e+07    216  1.220328e+08  7.767920e+07  1.102275e+08\n",
       "10  2017-06  1.163418e+08    307  3.751088e+08  7.438173e+07  1.583019e+08\n",
       "11  2017-07  5.428286e+07      7  1.379814e+07  4.406124e+07  6.450447e+07\n",
       "12  2017-08  1.931381e+08     43  4.787008e+08  5.005845e+07  3.362178e+08"
      ]
     },
     "execution_count": 35,
     "metadata": {},
     "output_type": "execute_result"
    }
   ],
   "source": [
    "alpha = 0.05\n",
    "\n",
    "# границы интервалов\n",
    "q = stats.norm.ppf(1 - alpha/2)\n",
    "datePurchases['left'] = datePurchases['rpu'] - q * datePurchases['se']/np.sqrt(datePurchases['count'])\n",
    "datePurchases['right'] = datePurchases['rpu'] + q * datePurchases['se']/np.sqrt(datePurchases['count'])\n",
    "\n",
    "datePurchases.tail()"
   ]
  },
  {
   "cell_type": "markdown",
   "metadata": {
    "id": "50fXdTX8Lwq5"
   },
   "source": [
    "Изобразим динамику RPU выручки на графике: "
   ]
  },
  {
   "cell_type": "code",
   "execution_count": null,
   "metadata": {
    "id": "07pNJDeELwq5",
    "outputId": "ecd759ab-6042-44d3-f7e5-9bab5d4242c4"
   },
   "outputs": [
    {
     "data": {
      "image/png": "[encoded data removed]",
      "text/plain": [
       "<Figure size 1008x432 with 1 Axes>"
      ]
     },
     "metadata": {
      "needs_background": "light"
     },
     "output_type": "display_data"
    }
   ],
   "source": [
    "datePurchases['rpu'].plot(figsize=(14,6))\n",
    "plt.fill_between(datePurchases['month'], datePurchases['left'], datePurchases['right'], \n",
    "                 facecolor='blue', alpha=0.2, interpolate=True)\n",
    "plt.show()"
   ]
  },
  {
   "cell_type": "markdown",
   "metadata": {
    "id": "VeYazPf2Lwq6"
   },
   "source": [
    " "
   ]
  }
 ],
 "metadata": {
  "colab": {
   "name": "15_python_productMetrics.ipynb",
   "provenance": []
  },
  "kernelspec": {
   "display_name": "Python 3",
   "language": "python",
   "name": "python3"
  },
  "language_info": {
   "codemirror_mode": {
    "name": "ipython",
    "version": 3
   },
   "file_extension": ".py",
   "mimetype": "text/x-python",
   "name": "python",
   "nbconvert_exporter": "python",
   "pygments_lexer": "ipython3",
   "version": "3.9.4"
  },
  "toc": {
   "base_numbering": 1,
   "nav_menu": {},
   "number_sections": true,
   "sideBar": true,
   "skip_h1_title": false,
   "title_cell": "Table of Contents",
   "title_sidebar": "Contents",
   "toc_cell": true,
   "toc_position": {},
   "toc_section_display": true,
   "toc_window_display": true
  }
 },
 "nbformat": 4,
 "nbformat_minor": 1
}
