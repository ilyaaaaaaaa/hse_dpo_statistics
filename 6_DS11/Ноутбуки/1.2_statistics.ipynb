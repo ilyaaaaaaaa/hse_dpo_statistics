{
 "cells": [
  {
   "cell_type": "markdown",
   "metadata": {
    "id": "aLry4ZhDGcjn",
    "toc": true
   },
   "source": [
    "<h1>Table of Contents<span class=\"tocSkip\"></span></h1>\n",
    "<div class=\"toc\"><ul class=\"toc-item\"><li><span><a href=\"#Описательные-статистики\" data-toc-modified-id=\"Описательные-статистики-1\">Описательные статистики</a></span></li><li><span><a href=\"#1.-Данные\" data-toc-modified-id=\"1.-Данные-2\">1. Данные</a></span></li><li><span><a href=\"#2.-Описательные-статистики\" data-toc-modified-id=\"2.-Описательные-статистики-3\">2. Описательные статистики</a></span><ul class=\"toc-item\"><li><ul class=\"toc-item\"><li><span><a href=\"#2.1-Максимальное-и-минимальное-значения\" data-toc-modified-id=\"2.1-Максимальное-и-минимальное-значения-3.0.1\">2.1 Максимальное и минимальное значения</a></span></li><li><span><a href=\"#2.2-Меры-центральной-тенденции-(среднего-уровня)\" data-toc-modified-id=\"2.2-Меры-центральной-тенденции-(среднего-уровня)-3.0.2\">2.2 Меры центральной тенденции (среднего уровня)</a></span></li><li><span><a href=\"#2.3-Меры-разброса\" data-toc-modified-id=\"2.3-Меры-разброса-3.0.3\">2.3 Меры разброса</a></span></li><li><span><a href=\"#2.4-Квантили\" data-toc-modified-id=\"2.4-Квантили-3.0.4\">2.4 Квантили</a></span></li><li><span><a href=\"#2.5-Хочу-всё-и-сразу\" data-toc-modified-id=\"2.5-Хочу-всё-и-сразу-3.0.5\">2.5 Хочу всё и сразу</a></span></li></ul></li></ul></li><li><span><a href=\"#3.-Группировка\" data-toc-modified-id=\"3.-Группировка-4\">3. Группировка</a></span></li><li><span><a href=\"#4.-Apply\" data-toc-modified-id=\"4.-Apply-5\">4. Apply</a></span></li><li><span><a href=\"#5.-Гистограммы\" data-toc-modified-id=\"5.-Гистограммы-6\">5. Гистограммы</a></span></li><li><span><a href=\"#6.-Усытые-ящики\" data-toc-modified-id=\"6.-Усытые-ящики-7\">6. Усытые ящики</a></span></li></ul></div>"
   ]
  },
  {
   "cell_type": "markdown",
   "metadata": {
    "id": "G2CUKpQaGcjp"
   },
   "source": [
    "\n",
    "\n",
    "#  Описательные статистики\n",
    "\n",
    "В этой тетрадке мы поговорим про описательные статистики и простые визуализации."
   ]
  },
  {
   "cell_type": "code",
   "execution_count": 10,
   "metadata": {
    "id": "_mz4ai_qGcjp"
   },
   "outputs": [],
   "source": [
    "import numpy as np         # библиотека для матриц и математики\n",
    "import pandas as pd        # библиотека для работы с табличками\n",
    "from scipy import stats    # модуль для работы со статистикой\n",
    "\n",
    "# библиотеки для визуализации\n",
    "import matplotlib.pyplot as plt\n",
    "import seaborn as sns\n",
    "\n",
    "plt.style.use('ggplot')    # стиль графиков"
   ]
  },
  {
   "cell_type": "markdown",
   "metadata": {
    "id": "McafYvR4Gcjq"
   },
   "source": [
    "Опция `matplotlib inline` - позволяет рисовать графики прямо в ноутбуке."
   ]
  },
  {
   "cell_type": "code",
   "execution_count": 11,
   "metadata": {
    "id": "np7DAS7vGcjq"
   },
   "outputs": [],
   "source": [
    "%matplotlib inline"
   ]
  },
  {
   "cell_type": "markdown",
   "metadata": {
    "id": "GKf78KOrGcjq"
   },
   "source": [
    "# 1. Данные"
   ]
  },
  {
   "cell_type": "code",
   "execution_count": 12,
   "metadata": {
    "id": "2VFi2b67Gcjq"
   },
   "outputs": [],
   "source": [
    "df = pd.read_csv(\"youtube_data_short.csv\", sep = \"\\t\")"
   ]
  },
  {
   "cell_type": "code",
   "execution_count": null,
   "metadata": {},
   "outputs": [],
   "source": [
    "sns.heatmap(df.isna().T);"
   ]
  },
  {
   "cell_type": "code",
   "execution_count": null,
   "metadata": {
    "id": "Ko8C0rVpGcjq",
    "outputId": "6c2b2971-ec61-4cc3-8e05-709cfc3e8300"
   },
   "outputs": [],
   "source": [
    "print(df.shape)"
   ]
  },
  {
   "cell_type": "code",
   "execution_count": 14,
   "metadata": {
    "id": "olB498AGGcjr",
    "outputId": "15af45e0-4d1f-40d9-fdd9-d6ad1a460ffa",
    "scrolled": false
   },
   "outputs": [
    {
     "data": {
      "text/html": [
       "<div>\n",
       "<style scoped>\n",
       "    .dataframe tbody tr th:only-of-type {\n",
       "        vertical-align: middle;\n",
       "    }\n",
       "\n",
       "    .dataframe tbody tr th {\n",
       "        vertical-align: top;\n",
       "    }\n",
       "\n",
       "    .dataframe thead th {\n",
       "        text-align: right;\n",
       "    }\n",
       "</style>\n",
       "<table border=\"1\" class=\"dataframe\">\n",
       "  <thead>\n",
       "    <tr style=\"text-align: right;\">\n",
       "      <th></th>\n",
       "      <th>title</th>\n",
       "      <th>commentCount</th>\n",
       "      <th>dislikeCount</th>\n",
       "      <th>likeCount</th>\n",
       "      <th>music_style</th>\n",
       "      <th>performer</th>\n",
       "      <th>viewCount</th>\n",
       "      <th>commentators_uniq</th>\n",
       "      <th>comments_obscene_cnt</th>\n",
       "      <th>video_age</th>\n",
       "    </tr>\n",
       "  </thead>\n",
       "  <tbody>\n",
       "    <tr>\n",
       "      <th>105</th>\n",
       "      <td>\"Первая четверть\" Юбилейный концерт в Олимпийс...</td>\n",
       "      <td>11.0</td>\n",
       "      <td>0.0</td>\n",
       "      <td>125.0</td>\n",
       "      <td>rock</td>\n",
       "      <td>арбенина</td>\n",
       "      <td>2225.0</td>\n",
       "      <td>NaN</td>\n",
       "      <td>NaN</td>\n",
       "      <td>8</td>\n",
       "    </tr>\n",
       "    <tr>\n",
       "      <th>106</th>\n",
       "      <td>\"Первая четверть\" юбилейный концерт Дианы Арбе...</td>\n",
       "      <td>43.0</td>\n",
       "      <td>3.0</td>\n",
       "      <td>399.0</td>\n",
       "      <td>rock</td>\n",
       "      <td>арбенина</td>\n",
       "      <td>3177.0</td>\n",
       "      <td>NaN</td>\n",
       "      <td>NaN</td>\n",
       "      <td>0</td>\n",
       "    </tr>\n",
       "    <tr>\n",
       "      <th>107</th>\n",
       "      <td>\"Перелётная птица\" [Москва, 2012г.]</td>\n",
       "      <td>2.0</td>\n",
       "      <td>3.0</td>\n",
       "      <td>56.0</td>\n",
       "      <td>shanson</td>\n",
       "      <td>ирина_круг</td>\n",
       "      <td>8325.0</td>\n",
       "      <td>2.0</td>\n",
       "      <td>0.0</td>\n",
       "      <td>1984</td>\n",
       "    </tr>\n",
       "    <tr>\n",
       "      <th>108</th>\n",
       "      <td>\"Пока ещё не поздно\". Михаил Круг. Жизнь и люб...</td>\n",
       "      <td>7.0</td>\n",
       "      <td>7.0</td>\n",
       "      <td>108.0</td>\n",
       "      <td>shanson</td>\n",
       "      <td>ирина_круг</td>\n",
       "      <td>29928.0</td>\n",
       "      <td>5.0</td>\n",
       "      <td>0.0</td>\n",
       "      <td>2148</td>\n",
       "    </tr>\n",
       "    <tr>\n",
       "      <th>109</th>\n",
       "      <td>\"Пока ещё не поздно\". Михаил Круг. Любовь и см...</td>\n",
       "      <td>15.0</td>\n",
       "      <td>11.0</td>\n",
       "      <td>158.0</td>\n",
       "      <td>shanson</td>\n",
       "      <td>ирина_круг</td>\n",
       "      <td>27185.0</td>\n",
       "      <td>9.0</td>\n",
       "      <td>0.0</td>\n",
       "      <td>2148</td>\n",
       "    </tr>\n",
       "    <tr>\n",
       "      <th>110</th>\n",
       "      <td>\"Последний герой\" с Дианой Арбениной - пре...</td>\n",
       "      <td>1.0</td>\n",
       "      <td>1.0</td>\n",
       "      <td>31.0</td>\n",
       "      <td>rock</td>\n",
       "      <td>арбенина</td>\n",
       "      <td>1953.0</td>\n",
       "      <td>1.0</td>\n",
       "      <td>0.0</td>\n",
       "      <td>892</td>\n",
       "    </tr>\n",
       "    <tr>\n",
       "      <th>111</th>\n",
       "      <td>\"Последний герой: Павел Кашин (тизер программы...</td>\n",
       "      <td>0.0</td>\n",
       "      <td>1.0</td>\n",
       "      <td>9.0</td>\n",
       "      <td>rock</td>\n",
       "      <td>арбенина</td>\n",
       "      <td>954.0</td>\n",
       "      <td>NaN</td>\n",
       "      <td>NaN</td>\n",
       "      <td>757</td>\n",
       "    </tr>\n",
       "  </tbody>\n",
       "</table>\n",
       "</div>"
      ],
      "text/plain": [
       "                                                 title  commentCount  \\\n",
       "105  \"Первая четверть\" Юбилейный концерт в Олимпийс...          11.0   \n",
       "106  \"Первая четверть\" юбилейный концерт Дианы Арбе...          43.0   \n",
       "107                \"Перелётная птица\" [Москва, 2012г.]           2.0   \n",
       "108  \"Пока ещё не поздно\". Михаил Круг. Жизнь и люб...           7.0   \n",
       "109  \"Пока ещё не поздно\". Михаил Круг. Любовь и см...          15.0   \n",
       "110  \"Последний герой\" с Дианой Арбениной - пре...           1.0   \n",
       "111  \"Последний герой: Павел Кашин (тизер программы...           0.0   \n",
       "\n",
       "     dislikeCount  likeCount music_style   performer  viewCount  \\\n",
       "105           0.0      125.0        rock    арбенина     2225.0   \n",
       "106           3.0      399.0        rock    арбенина     3177.0   \n",
       "107           3.0       56.0     shanson  ирина_круг     8325.0   \n",
       "108           7.0      108.0     shanson  ирина_круг    29928.0   \n",
       "109          11.0      158.0     shanson  ирина_круг    27185.0   \n",
       "110           1.0       31.0        rock    арбенина     1953.0   \n",
       "111           1.0        9.0        rock    арбенина      954.0   \n",
       "\n",
       "     commentators_uniq  comments_obscene_cnt  video_age  \n",
       "105                NaN                   NaN          8  \n",
       "106                NaN                   NaN          0  \n",
       "107                2.0                   0.0       1984  \n",
       "108                5.0                   0.0       2148  \n",
       "109                9.0                   0.0       2148  \n",
       "110                1.0                   0.0        892  \n",
       "111                NaN                   NaN        757  "
      ]
     },
     "execution_count": 14,
     "metadata": {},
     "output_type": "execute_result"
    }
   ],
   "source": [
    "df[105:112]"
   ]
  },
  {
   "cell_type": "code",
   "execution_count": null,
   "metadata": {
    "id": "xgxQRRxmGcjr",
    "outputId": "e2b530bf-ae1e-4dce-98af-144586a9d4c8"
   },
   "outputs": [],
   "source": [
    "df.dtypes"
   ]
  },
  {
   "cell_type": "markdown",
   "metadata": {
    "id": "WbBAQ5LbGcjr"
   },
   "source": [
    "__Описание колонок:__\n",
    "\n",
    "- `title` - название видео\n",
    "- `commentCount` - число комментариев\n",
    "- `dislikeCount` - число дизлайков\n",
    "- `likeCount`  - число лайков\n",
    "- `music_style` - музыкальный стиль\n",
    "- `performer` - исполнитель\n",
    "- `viewCount` - число просмотров\n",
    "- `commentators_uniq` - число уникальных комментаторов\n",
    "- `comments_obscene_cnt` - число комментариев\n",
    "- `video_age` - возраст видео в днях\n",
    "\n",
    "Возраст видео посчитан в днях относительно `2019-03-15` (момент, когда данные собирались)."
   ]
  },
  {
   "cell_type": "markdown",
   "metadata": {
    "id": "QQEH_D3xGcjs"
   },
   "source": [
    "# 2. Описательные статистики"
   ]
  },
  {
   "cell_type": "code",
   "execution_count": 13,
   "metadata": {},
   "outputs": [
    {
     "data": {
      "text/plain": [
       "nan"
      ]
     },
     "execution_count": 13,
     "metadata": {},
     "output_type": "execute_result"
    }
   ],
   "source": [
    "np.mean(df.likeCount.values)"
   ]
  },
  {
   "cell_type": "code",
   "execution_count": 15,
   "metadata": {
    "id": "FpEK3Z1QGcjs",
    "outputId": "9ee42769-5230-4bf9-b82f-37e8533b7738"
   },
   "outputs": [
    {
     "data": {
      "text/plain": [
       "5735.014482758621"
      ]
     },
     "execution_count": 15,
     "metadata": {},
     "output_type": "execute_result"
    }
   ],
   "source": [
    "np.nanmean(df.likeCount.values)"
   ]
  },
  {
   "cell_type": "code",
   "execution_count": 16,
   "metadata": {
    "id": "fPS1iL5hGcjs",
    "outputId": "5bd5d698-8d9c-4985-ed8f-9ce2ac50581f"
   },
   "outputs": [
    {
     "data": {
      "text/plain": [
       "5735.014482758621"
      ]
     },
     "execution_count": 16,
     "metadata": {},
     "output_type": "execute_result"
    }
   ],
   "source": [
    "df.likeCount.dropna().values.mean()"
   ]
  },
  {
   "cell_type": "markdown",
   "metadata": {
    "id": "AC31OZDSGcjs"
   },
   "source": [
    "### 2.1 Максимальное и минимальное значения\n",
    "\n",
    "Посмотрим, какое в таблице есть максимальное и минимальное количество лайков под видео."
   ]
  },
  {
   "cell_type": "code",
   "execution_count": 17,
   "metadata": {
    "id": "8XcdTGimGcjs",
    "outputId": "1c6d3e2d-d775-4391-88b9-17ac060099f2"
   },
   "outputs": [
    {
     "data": {
      "text/plain": [
       "1686810.0"
      ]
     },
     "execution_count": 17,
     "metadata": {},
     "output_type": "execute_result"
    }
   ],
   "source": [
    "df.likeCount.max()"
   ]
  },
  {
   "cell_type": "code",
   "execution_count": 18,
   "metadata": {
    "id": "CAHqZJnfGcjs",
    "outputId": "efd64180-8e8e-4398-f5a8-524804355adf"
   },
   "outputs": [
    {
     "data": {
      "text/plain": [
       "0.0"
      ]
     },
     "execution_count": 18,
     "metadata": {},
     "output_type": "execute_result"
    }
   ],
   "source": [
    "df['likeCount'].min()"
   ]
  },
  {
   "cell_type": "markdown",
   "metadata": {
    "id": "DFVbbWEtGcjs"
   },
   "source": [
    "Обратите внимание, что мы можем обращаться к столбцам ещё и через точку (только если имя столбца не содержит пробелов / точек / запятых / и т.д.). Давайте посмотрим кто накопил такое большое число лайков под своим клипом. "
   ]
  },
  {
   "cell_type": "code",
   "execution_count": 19,
   "metadata": {
    "id": "fjO4AB48Gcjs",
    "outputId": "28091c4e-ea93-4977-d0a6-fec4d9c80e74"
   },
   "outputs": [
    {
     "data": {
      "text/plain": [
       "1686810.0"
      ]
     },
     "execution_count": 19,
     "metadata": {},
     "output_type": "execute_result"
    }
   ],
   "source": [
    "mx = df.likeCount.max()\n",
    "mx"
   ]
  },
  {
   "cell_type": "code",
   "execution_count": 20,
   "metadata": {
    "id": "T1NF6cEOGcjt",
    "outputId": "05266fc3-47f1-4270-b8a2-9b1c403ab96d"
   },
   "outputs": [
    {
     "data": {
      "text/html": [
       "<div>\n",
       "<style scoped>\n",
       "    .dataframe tbody tr th:only-of-type {\n",
       "        vertical-align: middle;\n",
       "    }\n",
       "\n",
       "    .dataframe tbody tr th {\n",
       "        vertical-align: top;\n",
       "    }\n",
       "\n",
       "    .dataframe thead th {\n",
       "        text-align: right;\n",
       "    }\n",
       "</style>\n",
       "<table border=\"1\" class=\"dataframe\">\n",
       "  <thead>\n",
       "    <tr style=\"text-align: right;\">\n",
       "      <th></th>\n",
       "      <th>title</th>\n",
       "      <th>commentCount</th>\n",
       "      <th>dislikeCount</th>\n",
       "      <th>likeCount</th>\n",
       "      <th>music_style</th>\n",
       "      <th>performer</th>\n",
       "      <th>viewCount</th>\n",
       "      <th>commentators_uniq</th>\n",
       "      <th>comments_obscene_cnt</th>\n",
       "      <th>video_age</th>\n",
       "    </tr>\n",
       "  </thead>\n",
       "  <tbody>\n",
       "    <tr>\n",
       "      <th>18649</th>\n",
       "      <td>Элджей &amp; Feduk - Розовое вино</td>\n",
       "      <td>191702.0</td>\n",
       "      <td>151772.0</td>\n",
       "      <td>1686810.0</td>\n",
       "      <td>rap</td>\n",
       "      <td>feduk</td>\n",
       "      <td>208753182.0</td>\n",
       "      <td>3702.0</td>\n",
       "      <td>183.0</td>\n",
       "      <td>485</td>\n",
       "    </tr>\n",
       "  </tbody>\n",
       "</table>\n",
       "</div>"
      ],
      "text/plain": [
       "                               title  commentCount  dislikeCount  likeCount  \\\n",
       "18649  Элджей & Feduk - Розовое вино      191702.0      151772.0  1686810.0   \n",
       "\n",
       "      music_style performer    viewCount  commentators_uniq  \\\n",
       "18649         rap     feduk  208753182.0             3702.0   \n",
       "\n",
       "       comments_obscene_cnt  video_age  \n",
       "18649                 183.0        485  "
      ]
     },
     "execution_count": 20,
     "metadata": {},
     "output_type": "execute_result"
    }
   ],
   "source": [
    "df[df.likeCount == mx]"
   ]
  },
  {
   "cell_type": "markdown",
   "metadata": {
    "id": "WVXZa5VtGcjt"
   },
   "source": [
    "### 2.2 Меры центральной тенденции (среднего уровня)\n",
    "\n",
    "Меры центральной тенденции — показатели, представляющие собой ответ на вопрос: «На что похожа середина данных?». Середину можно описывать с помощью разных показателей! Давайте посмотрим на них. \n",
    "\n",
    "**Среднее**\n",
    "\n",
    "В случае со средним значением «серединой» будет среднее арифметическое. Среднее значение отражает типичный показатель в наборе данных. Если мы случайно выберем один из показателей, то, скорее всего, получим значение, близкое к среднему."
   ]
  },
  {
   "cell_type": "code",
   "execution_count": 21,
   "metadata": {
    "id": "6A9EEGXFGcjt",
    "outputId": "1fe263ef-92f4-4d41-e4fc-80b5013dac1f"
   },
   "outputs": [
    {
     "data": {
      "text/plain": [
       "5735.014482758621"
      ]
     },
     "execution_count": 21,
     "metadata": {},
     "output_type": "execute_result"
    }
   ],
   "source": [
    "df.likeCount.mean()"
   ]
  },
  {
   "cell_type": "markdown",
   "metadata": {
    "id": "brsUc6WMGcjt"
   },
   "source": [
    "**Медиана**\n",
    "\n",
    "Чтобы найти медиану, данные нужно расположить в порядке возрастания. Медианой будет значение, которое совпадает с серединой набора данных. Если количество значений чётное, то берётся среднее двух значений, которые «окружают» середину."
   ]
  },
  {
   "cell_type": "code",
   "execution_count": 22,
   "metadata": {
    "id": "VBYpv2stGcjt",
    "outputId": "4b714b29-a273-4b14-a1e8-0ba6a401a496"
   },
   "outputs": [
    {
     "data": {
      "text/plain": [
       "100.0"
      ]
     },
     "execution_count": 22,
     "metadata": {},
     "output_type": "execute_result"
    }
   ],
   "source": [
    "df.likeCount.median()"
   ]
  },
  {
   "cell_type": "markdown",
   "metadata": {
    "id": "p6nkr594Gcjt"
   },
   "source": [
    "Медиана сильно отличается от среднего это происходит из-за выбросов, характеризующихся очедь длинным хвостом распределения."
   ]
  },
  {
   "cell_type": "code",
   "execution_count": 23,
   "metadata": {
    "id": "R9A99ejnGcjt",
    "outputId": "b1b534d2-cf6b-48aa-8178-dacbfffc0b2e"
   },
   "outputs": [
    {
     "data": {
      "image/png": "[encoded data removed]",
      "text/plain": [
       "<Figure size 432x288 with 1 Axes>"
      ]
     },
     "metadata": {
      "needs_background": "light"
     },
     "output_type": "display_data"
    }
   ],
   "source": [
    "df.likeCount.hist(bins=50, density=True);"
   ]
  },
  {
   "cell_type": "code",
   "execution_count": 24,
   "metadata": {},
   "outputs": [
    {
     "data": {
      "image/png": "[encoded data removed]",
      "text/plain": [
       "<Figure size 432x288 with 1 Axes>"
      ]
     },
     "metadata": {
      "needs_background": "light"
     },
     "output_type": "display_data"
    }
   ],
   "source": [
    "plt.hist(df.likeCount, bins=50, density=True);"
   ]
  },
  {
   "cell_type": "markdown",
   "metadata": {
    "id": "bQJdwUA2Gcju"
   },
   "source": [
    "Сделаем по вертикале логарифмическую шкалу, чтобы лучше разглядеть выбросы в хвосте. "
   ]
  },
  {
   "cell_type": "code",
   "execution_count": 25,
   "metadata": {
    "id": "Ovoqysj9Gcju",
    "outputId": "4a6809ad-bd9e-4141-a4ef-be6459f58e26"
   },
   "outputs": [
    {
     "data": {
      "image/png": "[encoded data removed]",
      "text/plain": [
       "<Figure size 432x288 with 1 Axes>"
      ]
     },
     "metadata": {
      "needs_background": "light"
     },
     "output_type": "display_data"
    }
   ],
   "source": [
    "df.likeCount.hist(bins=100)#, density=True)\n",
    "plt.yscale('log')\n",
    "plt.show()"
   ]
  },
  {
   "cell_type": "code",
   "execution_count": 26,
   "metadata": {},
   "outputs": [
    {
     "name": "stderr",
     "output_type": "stream",
     "text": [
      "/var/folders/55/bhwblzw50zq_dtfl9p7kdbq00000gn/T/ipykernel_8460/2933082444.py:1: RuntimeWarning: divide by zero encountered in log\n",
      "  np.log(0)\n"
     ]
    },
    {
     "data": {
      "text/plain": [
       "-inf"
      ]
     },
     "execution_count": 26,
     "metadata": {},
     "output_type": "execute_result"
    }
   ],
   "source": [
    "np.log(0)"
   ]
  },
  {
   "cell_type": "code",
   "execution_count": 27,
   "metadata": {},
   "outputs": [
    {
     "data": {
      "text/plain": [
       "0.0"
      ]
     },
     "execution_count": 27,
     "metadata": {},
     "output_type": "execute_result"
    }
   ],
   "source": [
    "np.log(1)"
   ]
  },
  {
   "cell_type": "code",
   "execution_count": 28,
   "metadata": {},
   "outputs": [
    {
     "data": {
      "text/html": [
       "<div>\n",
       "<style scoped>\n",
       "    .dataframe tbody tr th:only-of-type {\n",
       "        vertical-align: middle;\n",
       "    }\n",
       "\n",
       "    .dataframe tbody tr th {\n",
       "        vertical-align: top;\n",
       "    }\n",
       "\n",
       "    .dataframe thead th {\n",
       "        text-align: right;\n",
       "    }\n",
       "</style>\n",
       "<table border=\"1\" class=\"dataframe\">\n",
       "  <thead>\n",
       "    <tr style=\"text-align: right;\">\n",
       "      <th></th>\n",
       "      <th>title</th>\n",
       "      <th>commentCount</th>\n",
       "      <th>dislikeCount</th>\n",
       "      <th>likeCount</th>\n",
       "      <th>music_style</th>\n",
       "      <th>performer</th>\n",
       "      <th>viewCount</th>\n",
       "      <th>commentators_uniq</th>\n",
       "      <th>comments_obscene_cnt</th>\n",
       "      <th>video_age</th>\n",
       "      <th>likeCount2</th>\n",
       "    </tr>\n",
       "  </thead>\n",
       "  <tbody>\n",
       "    <tr>\n",
       "      <th>0</th>\n",
       "      <td>\"#2Маши \"Свободные линии\"</td>\n",
       "      <td>34.0</td>\n",
       "      <td>43.0</td>\n",
       "      <td>1402.0</td>\n",
       "      <td>popsa</td>\n",
       "      <td>2маши</td>\n",
       "      <td>214301.0</td>\n",
       "      <td>24.0</td>\n",
       "      <td>0.0</td>\n",
       "      <td>1141</td>\n",
       "      <td>1403.0</td>\n",
       "    </tr>\n",
       "    <tr>\n",
       "      <th>1</th>\n",
       "      <td>\"ALARM\" СЕРГЕЙ ЛАЗАРЕВ ( SERGEY LAZAREV )</td>\n",
       "      <td>NaN</td>\n",
       "      <td>690.0</td>\n",
       "      <td>10532.0</td>\n",
       "      <td>popsa</td>\n",
       "      <td>лазарев</td>\n",
       "      <td>2221419.0</td>\n",
       "      <td>NaN</td>\n",
       "      <td>NaN</td>\n",
       "      <td>3217</td>\n",
       "      <td>10533.0</td>\n",
       "    </tr>\n",
       "    <tr>\n",
       "      <th>2</th>\n",
       "      <td>\"EARTH SONG\"  SERGEY LAZAREV. DEDICATED TO MIC...</td>\n",
       "      <td>26.0</td>\n",
       "      <td>10.0</td>\n",
       "      <td>269.0</td>\n",
       "      <td>popsa</td>\n",
       "      <td>лазарев</td>\n",
       "      <td>40327.0</td>\n",
       "      <td>23.0</td>\n",
       "      <td>0.0</td>\n",
       "      <td>3546</td>\n",
       "      <td>270.0</td>\n",
       "    </tr>\n",
       "    <tr>\n",
       "      <th>3</th>\n",
       "      <td>\"Earth song\" премия МУЗ-тВ 2010 (LIVE)</td>\n",
       "      <td>12.0</td>\n",
       "      <td>7.0</td>\n",
       "      <td>163.0</td>\n",
       "      <td>popsa</td>\n",
       "      <td>лазарев</td>\n",
       "      <td>11907.0</td>\n",
       "      <td>11.0</td>\n",
       "      <td>0.0</td>\n",
       "      <td>3189</td>\n",
       "      <td>164.0</td>\n",
       "    </tr>\n",
       "    <tr>\n",
       "      <th>4</th>\n",
       "      <td>\"FAKE\" СЕРГЕЙ ЛАЗАРЕВ (SERGEY)</td>\n",
       "      <td>46.0</td>\n",
       "      <td>19.0</td>\n",
       "      <td>597.0</td>\n",
       "      <td>popsa</td>\n",
       "      <td>лазарев</td>\n",
       "      <td>91483.0</td>\n",
       "      <td>33.0</td>\n",
       "      <td>1.0</td>\n",
       "      <td>3361</td>\n",
       "      <td>598.0</td>\n",
       "    </tr>\n",
       "  </tbody>\n",
       "</table>\n",
       "</div>"
      ],
      "text/plain": [
       "                                               title  commentCount  \\\n",
       "0                          \"#2Маши \"Свободные линии\"          34.0   \n",
       "1          \"ALARM\" СЕРГЕЙ ЛАЗАРЕВ ( SERGEY LAZAREV )           NaN   \n",
       "2  \"EARTH SONG\"  SERGEY LAZAREV. DEDICATED TO MIC...          26.0   \n",
       "3             \"Earth song\" премия МУЗ-тВ 2010 (LIVE)          12.0   \n",
       "4                     \"FAKE\" СЕРГЕЙ ЛАЗАРЕВ (SERGEY)          46.0   \n",
       "\n",
       "   dislikeCount  likeCount music_style performer  viewCount  \\\n",
       "0          43.0     1402.0       popsa     2маши   214301.0   \n",
       "1         690.0    10532.0       popsa   лазарев  2221419.0   \n",
       "2          10.0      269.0       popsa   лазарев    40327.0   \n",
       "3           7.0      163.0       popsa   лазарев    11907.0   \n",
       "4          19.0      597.0       popsa   лазарев    91483.0   \n",
       "\n",
       "   commentators_uniq  comments_obscene_cnt  video_age  likeCount2  \n",
       "0               24.0                   0.0       1141      1403.0  \n",
       "1                NaN                   NaN       3217     10533.0  \n",
       "2               23.0                   0.0       3546       270.0  \n",
       "3               11.0                   0.0       3189       164.0  \n",
       "4               33.0                   1.0       3361       598.0  "
      ]
     },
     "execution_count": 28,
     "metadata": {},
     "output_type": "execute_result"
    }
   ],
   "source": [
    "df.assign(likeCount2=df['likeCount']+1).head()"
   ]
  },
  {
   "cell_type": "code",
   "execution_count": 29,
   "metadata": {
    "id": "NmQEd6hyGcju",
    "outputId": "a4d11c89-47fb-4aa3-f707-f8cffa4a1c4d"
   },
   "outputs": [
    {
     "data": {
      "image/png": "[encoded data removed]",
      "text/plain": [
       "<Figure size 432x288 with 1 Axes>"
      ]
     },
     "metadata": {
      "needs_background": "light"
     },
     "output_type": "display_data"
    }
   ],
   "source": [
    "sns.histplot(data=df.assign(likeCount2=df['likeCount']+1), \n",
    "             x='likeCount2', bins=50, log_scale=True);"
   ]
  },
  {
   "cell_type": "code",
   "execution_count": 35,
   "metadata": {
    "id": "elJVG2x7Gcju"
   },
   "outputs": [],
   "source": [
    "np.set_printoptions(suppress=True)\n"
   ]
  },
  {
   "cell_type": "code",
   "execution_count": 37,
   "metadata": {},
   "outputs": [
    {
     "data": {
      "text/plain": [
       "count      18850.0\n",
       "mean        5735.0\n",
       "std        38903.0\n",
       "min            0.0\n",
       "25%           18.0\n",
       "50%          100.0\n",
       "75%          637.0\n",
       "max      1686810.0\n",
       "Name: likeCount, dtype: float64"
      ]
     },
     "execution_count": 37,
     "metadata": {},
     "output_type": "execute_result"
    }
   ],
   "source": [
    "df['likeCount'].describe().round()"
   ]
  },
  {
   "cell_type": "code",
   "execution_count": 30,
   "metadata": {
    "id": "Sq0NX4SmGcju",
    "outputId": "f8af619f-a1c3-4fbe-9113-25e940eb8cb5"
   },
   "outputs": [
    {
     "data": {
      "text/plain": [
       "(100.0, 5735.014482758621)"
      ]
     },
     "execution_count": 30,
     "metadata": {},
     "output_type": "execute_result"
    }
   ],
   "source": [
    "df['likeCount'].median(), df['likeCount'].mean()"
   ]
  },
  {
   "cell_type": "markdown",
   "metadata": {
    "id": "6Tncq0dnGcju"
   },
   "source": [
    "__Запомните на всю жизнь:__ выбросы - зло. Среднее значение чувствительно к выбросам, а медиана нет. "
   ]
  },
  {
   "cell_type": "markdown",
   "metadata": {
    "id": "30ZpBAhfGcju"
   },
   "source": [
    "### 2.3 Меры разброса\n",
    "\n",
    "Выше мы посмотрели на то насколько данные типичные. Кроме типичность интересно насколько в данных сильный разброс. Меры разброса отвечают на вопрос: «Как сильно мои данные могут отличаться от типичного значения?».\n",
    "\n",
    "**Дисперсия и стандартное отклонение**"
   ]
  },
  {
   "cell_type": "code",
   "execution_count": 39,
   "metadata": {
    "id": "X8q3CWUwGcju",
    "outputId": "9a859f18-0d86-46df-dc75-f4cfec71311c"
   },
   "outputs": [
    {
     "data": {
      "text/plain": [
       "1513365309.7446709"
      ]
     },
     "execution_count": 39,
     "metadata": {},
     "output_type": "execute_result"
    }
   ],
   "source": [
    "df.likeCount.var(ddof=0) # дисперсия, variance"
   ]
  },
  {
   "cell_type": "code",
   "execution_count": 40,
   "metadata": {
    "id": "_v7reEsNGcju",
    "outputId": "7c890a04-c7fb-4616-fdc1-7bb78d38a60d"
   },
   "outputs": [
    {
     "data": {
      "text/plain": [
       "1513445598.6358452"
      ]
     },
     "execution_count": 40,
     "metadata": {},
     "output_type": "execute_result"
    }
   ],
   "source": [
    "df.likeCount.var()"
   ]
  },
  {
   "cell_type": "code",
   "execution_count": 41,
   "metadata": {
    "id": "ceb1giZrGcju",
    "outputId": "c51b7d56-4e09-44d4-e591-4eb556b37d00"
   },
   "outputs": [
    {
     "data": {
      "text/plain": [
       "1513445598.6358452"
      ]
     },
     "execution_count": 41,
     "metadata": {},
     "output_type": "execute_result"
    }
   ],
   "source": [
    "df.likeCount.var(ddof=1) # несмещённый вариант"
   ]
  },
  {
   "cell_type": "code",
   "execution_count": 42,
   "metadata": {
    "id": "g3brkRvlGcjv",
    "outputId": "55e42c92-a9ee-4e36-9396-73a92f739a29"
   },
   "outputs": [
    {
     "data": {
      "text/plain": [
       "38901.99621799209"
      ]
     },
     "execution_count": 42,
     "metadata": {},
     "output_type": "execute_result"
    }
   ],
   "source": [
    "df.likeCount.std(ddof=0) # стандартное отклонение, standard deviation"
   ]
  },
  {
   "cell_type": "code",
   "execution_count": 43,
   "metadata": {
    "id": "c39NuB-zGcjv",
    "outputId": "36033859-1eb9-4eaf-a24a-56b7e652c183"
   },
   "outputs": [
    {
     "data": {
      "text/plain": [
       "38903.02814223907"
      ]
     },
     "execution_count": 43,
     "metadata": {},
     "output_type": "execute_result"
    }
   ],
   "source": [
    "df.likeCount.std(ddof=1) # несмещённый вариант"
   ]
  },
  {
   "cell_type": "markdown",
   "metadata": {
    "id": "JNBHfMEtGcjv"
   },
   "source": [
    "### 2.4 Квантили"
   ]
  },
  {
   "cell_type": "code",
   "execution_count": 44,
   "metadata": {
    "id": "79Ei3kHVGcjv",
    "outputId": "e64d0330-2fc6-4948-db17-3c0237659f84"
   },
   "outputs": [
    {
     "data": {
      "text/plain": [
       "128146.6499999979"
      ]
     },
     "execution_count": 44,
     "metadata": {},
     "output_type": "execute_result"
    }
   ],
   "source": [
    "alpha = 0.99\n",
    "df.likeCount.quantile(alpha)"
   ]
  },
  {
   "cell_type": "markdown",
   "metadata": {
    "id": "ENhOoDZDGcjv"
   },
   "source": [
    "Выходит, что у $99\\%$ видео из выборки меньше $128146$ лайков, и у $1\\%$ - больше. Выведем самых залайканные жанры из этого $1\\%$. "
   ]
  },
  {
   "cell_type": "code",
   "execution_count": 45,
   "metadata": {
    "id": "fo66GP5GGcjv"
   },
   "outputs": [
    {
     "data": {
      "text/plain": [
       "128146.6499999979"
      ]
     },
     "execution_count": 45,
     "metadata": {},
     "output_type": "execute_result"
    }
   ],
   "source": [
    "q = df.likeCount.quantile(alpha)\n",
    "q"
   ]
  },
  {
   "cell_type": "code",
   "execution_count": 47,
   "metadata": {
    "id": "SQd_YzGmGcjx",
    "outputId": "7f27b47e-3bf7-42b5-b698-33436e15c1ec"
   },
   "outputs": [
    {
     "name": "stdout",
     "output_type": "stream",
     "text": [
      "Элджей & Feduk - Розовое вино\n",
      "Miyagi & Эндшпиль feat. Рем Дигга - I Got Love (Official Video)\n",
      "Егор Крид feat. Филипп Киркоров - Цвет настроения черный (премьера клипа, 2018)\n",
      "Тимати feat. Егор Крид - Гучи (премьера клипа, 2018)\n",
      "Four Seasons ~ Vivaldi\n",
      "Ленинград — Экспонат\n",
      "Let It Go (Disney's \"Frozen\") Vivaldi's Winter - The Piano Guys\n",
      "Тимати feat. Егор Крид - Где ты, где я (премьера клипа, 2016)\n",
      "The Best of Mozart\n",
      "ЛСП - Тело\n"
     ]
    }
   ],
   "source": [
    "print(*df[df.likeCount > q].sort_values(by='likeCount', ascending=False)['title'][:10].values, \n",
    "      sep='\\n')"
   ]
  },
  {
   "cell_type": "code",
   "execution_count": 46,
   "metadata": {
    "id": "7Vh1wTK9Gcjx",
    "outputId": "8a2adc96-6fe6-4eff-d85e-c6969d077d2a"
   },
   "outputs": [
    {
     "data": {
      "text/plain": [
       "rap        108\n",
       "popsa       36\n",
       "rock        19\n",
       "classic     18\n",
       "indi         7\n",
       "estrada      1\n",
       "Name: music_style, dtype: int64"
      ]
     },
     "execution_count": 46,
     "metadata": {},
     "output_type": "execute_result"
    }
   ],
   "source": [
    "x = df[df.likeCount > q].music_style\n",
    "x.value_counts()"
   ]
  },
  {
   "cell_type": "markdown",
   "metadata": {
    "id": "OYXKyKNRGcjx"
   },
   "source": [
    "### 2.5 Хочу всё и сразу\n",
    "\n",
    "**Метод describe** считает всё и сразу! "
   ]
  },
  {
   "cell_type": "code",
   "execution_count": null,
   "metadata": {
    "id": "1saXkPb3Gcjx"
   },
   "outputs": [],
   "source": [
    "pd.set_option('display.float_format', lambda x: '%.2f' % x)"
   ]
  },
  {
   "cell_type": "code",
   "execution_count": null,
   "metadata": {
    "id": "aBe9NNyCGcjx",
    "outputId": "0baac56b-a588-4fc1-ee9e-42862ab415da"
   },
   "outputs": [],
   "source": [
    "df.describe()"
   ]
  },
  {
   "cell_type": "markdown",
   "metadata": {
    "id": "DQ6vE7FGGcjx"
   },
   "source": [
    "Для каждой переменной мы видим: \n",
    "\n",
    "* `count` - число наблюдений, которое есть без пропусков\n",
    "* `mean` - среднее значение\n",
    "* `std` - стандартное отклонение\n",
    "* `min` -  минимум\n",
    "* `max` -  максимум\n",
    "* `50%` -  медиана (половина выборки больше неё, половина меньше)\n",
    "* `25%` -  25% квантиль (четверть выборки меньше, 75% больше)\n",
    "* `75%` -  75% квантиль"
   ]
  },
  {
   "cell_type": "markdown",
   "metadata": {
    "id": "-QiIHeG0Gcjy"
   },
   "source": [
    "Можно построить такую же табличку только для категориальных переменных. \n"
   ]
  },
  {
   "cell_type": "code",
   "execution_count": null,
   "metadata": {
    "id": "lpP4dIE1Gcjy",
    "outputId": "182f1239-0166-4f7e-c82d-6e1c151be607"
   },
   "outputs": [],
   "source": [
    "df.dtypes"
   ]
  },
  {
   "cell_type": "code",
   "execution_count": null,
   "metadata": {
    "id": "2Xo0U4gdGcjy",
    "outputId": "60dfeff6-cc5a-4109-8944-6c273386162c"
   },
   "outputs": [],
   "source": [
    "df.describe(include='object')"
   ]
  },
  {
   "cell_type": "markdown",
   "metadata": {
    "id": "phStj3hYGcjy"
   },
   "source": [
    "* `count` -  число наблюдений, которое есть без пропусков\n",
    "* `unique` - число уникальных значений (категорий), которые принимает переменная\n",
    "* `top` - мода для каждой категории\n",
    "* `freq` - частота, с которой встречается мода"
   ]
  },
  {
   "cell_type": "markdown",
   "metadata": {
    "id": "_4oufhXWGcjy"
   },
   "source": [
    "# 3. Группировка\n",
    "\n",
    "Если бы нас попросили посчитать, какое среднее число лайков ставят под видео разных жанров, мы могли бы узнать ответ с помощью срезов. "
   ]
  },
  {
   "cell_type": "code",
   "execution_count": null,
   "metadata": {
    "id": "8RBmfqRXGcjy",
    "outputId": "62899083-4a7d-40ec-ac92-1f5632f7a186"
   },
   "outputs": [],
   "source": [
    "df[df.music_style == 'rap'].likeCount.mean()"
   ]
  },
  {
   "cell_type": "code",
   "execution_count": null,
   "metadata": {
    "id": "xa0MZENLGcjy",
    "outputId": "fc1bbba5-bb9b-4667-97e6-5c206795e419"
   },
   "outputs": [],
   "source": [
    "df[df.music_style == 'popsa'].likeCount.mean()"
   ]
  },
  {
   "cell_type": "markdown",
   "metadata": {
    "id": "vyDnFZyHGcjy"
   },
   "source": [
    "Такой код надо продублировать для каждого жанра. Это не очень эффективно. Чтобы так не делать, придумали группировки. Их обычно делают с помощью метода `groupby`."
   ]
  },
  {
   "cell_type": "code",
   "execution_count": null,
   "metadata": {
    "id": "ki5NX7GJGcjy",
    "outputId": "dedca9e1-4142-4615-aec8-2e8ba87a21fa"
   },
   "outputs": [],
   "source": [
    "df.groupby(['music_style'])[['likeCount', 'dislikeCount']].agg(['mean', 'median'])"
   ]
  },
  {
   "cell_type": "markdown",
   "metadata": {
    "id": "_QR7qYVDGcjy"
   },
   "source": [
    "В качестве аргумента в этой переменной нужно указать по каким переменным мы хотели бы осуществить группировку применяемой функции. В данной ситуации это жанр.\n",
    "\n",
    "Можно делать `groupby` по нескольким колонкам, получать результаты по нескольким колонкам и даже применять несколько функций за раз! "
   ]
  },
  {
   "cell_type": "code",
   "execution_count": null,
   "metadata": {
    "id": "Cr5l9lbmGcjy",
    "outputId": "b5705213-8ef2-4764-872b-0c6404597242"
   },
   "outputs": [],
   "source": [
    "(df['commentators_uniq'] > 0).sum()"
   ]
  },
  {
   "cell_type": "code",
   "execution_count": null,
   "metadata": {
    "id": "cxtlI577Gcjy",
    "outputId": "a6f94f97-873f-44b0-9d9d-0b35e589968d"
   },
   "outputs": [],
   "source": [
    "df['is_comment'] = 1*(df['commentators_uniq'] > 0)  # есть ли под видео комментарии \n",
    "df['is_comment'].value_counts()"
   ]
  },
  {
   "cell_type": "code",
   "execution_count": null,
   "metadata": {
    "id": "fQvjfiV9Gcjy",
    "outputId": "1d69d2c3-5a5b-47bb-8b25-2913238e5ff8"
   },
   "outputs": [],
   "source": [
    "df.groupby(['music_style', 'is_comment'])[['dislikeCount', 'likeCount']]\\\n",
    "    .agg(['count','min','max','mean'])"
   ]
  },
  {
   "cell_type": "markdown",
   "metadata": {
    "id": "dkbPT6hUGcjz"
   },
   "source": [
    "# 4. Apply \n",
    "\n",
    "Можно применить к каждому объекту ячейки одну и ту же функцию. Это можно сделать методом `apply`. Посчитаем число букв в названии каждого клипа из таблицы: "
   ]
  },
  {
   "cell_type": "code",
   "execution_count": null,
   "metadata": {
    "id": "fDANe6mEGcjz",
    "outputId": "87179a94-0f3b-49d5-ef0d-feba7546bd72"
   },
   "outputs": [],
   "source": [
    "name = 'NATASHA'\n",
    "len(name)"
   ]
  },
  {
   "cell_type": "code",
   "execution_count": null,
   "metadata": {
    "id": "cU000SuWGcjz",
    "outputId": "986db59f-a10e-456c-b988-5a77b8e55a19"
   },
   "outputs": [],
   "source": [
    "df.title.head()"
   ]
  },
  {
   "cell_type": "code",
   "execution_count": null,
   "metadata": {
    "id": "JKyVnJilGcjz",
    "outputId": "4a9fba03-65b2-4ab0-e327-f1efb1a839b9"
   },
   "outputs": [],
   "source": [
    "df.title.apply(len)[:10]"
   ]
  },
  {
   "cell_type": "code",
   "execution_count": null,
   "metadata": {
    "id": "Ihrz0bdwGcjz",
    "outputId": "7ed861d3-cf44-4545-9453-ea8349dc4ae4"
   },
   "outputs": [],
   "source": [
    "df.title.apply(len).mean() # средняя длина названия"
   ]
  },
  {
   "cell_type": "markdown",
   "metadata": {
    "id": "SPwhfIghGcjz"
   },
   "source": [
    "Можно написать свою функцию и применить её к колонке. Например, вот так можно достать первую букву каждого имени: "
   ]
  },
  {
   "cell_type": "code",
   "execution_count": null,
   "metadata": {
    "id": "W1ZjB6ryGcjz",
    "outputId": "e83afeab-0ce1-460b-b6f9-1bf2c77ec615"
   },
   "outputs": [],
   "source": [
    "def my_function(name):\n",
    "    return name[0]\n",
    "\n",
    "example = \"Настя\"\n",
    "\n",
    "my_function(example)"
   ]
  },
  {
   "cell_type": "code",
   "execution_count": null,
   "metadata": {
    "id": "zMpdS_ytGcjz",
    "outputId": "53def827-4fb9-4976-d627-baa0a94c4e02"
   },
   "outputs": [],
   "source": [
    "df.title.apply(my_function)[-10:]"
   ]
  },
  {
   "cell_type": "markdown",
   "metadata": {
    "id": "PKj2Tw0rGcjz"
   },
   "source": [
    "Ровно то же самое можно сделать в одну строчку с помощью лямбда-функций. Это как обычная функция, но её нигде не надо объявлять. "
   ]
  },
  {
   "cell_type": "code",
   "execution_count": null,
   "metadata": {
    "id": "c6quRzRNGcjz",
    "outputId": "b2dfb529-13d7-4e14-9652-d7ae1f22bcab"
   },
   "outputs": [],
   "source": [
    "df.title.apply(lambda x: x[0])[-10:]"
   ]
  },
  {
   "cell_type": "markdown",
   "metadata": {
    "id": "SjlY6qO2Gcjz"
   },
   "source": [
    "Преобразования можно делать сколь угодно сложными."
   ]
  },
  {
   "cell_type": "markdown",
   "metadata": {
    "id": "nK6YyaP_Gcjz"
   },
   "source": [
    "# 5. Гистограммы"
   ]
  },
  {
   "cell_type": "code",
   "execution_count": null,
   "metadata": {
    "id": "W1uwhWtOGcjz",
    "outputId": "1ef904d4-ece8-48f2-a9a3-69fff86e32f9"
   },
   "outputs": [],
   "source": [
    "df['video_age'].hist(bins=100);"
   ]
  },
  {
   "cell_type": "code",
   "execution_count": null,
   "metadata": {
    "id": "PLKbadCGGcj0",
    "outputId": "bdd83216-8008-460d-8fa0-2a16e82c3d72"
   },
   "outputs": [],
   "source": [
    "plt.hist(df['video_age'], bins=100);"
   ]
  },
  {
   "cell_type": "markdown",
   "metadata": {
    "id": "G505EKVPGcj0"
   },
   "source": [
    "Можно сгладить распределение."
   ]
  },
  {
   "cell_type": "code",
   "execution_count": null,
   "metadata": {
    "id": "HsyjAKVSGcj0",
    "outputId": "6f8884a9-4db8-4186-dd1b-e755bffac1f1"
   },
   "outputs": [],
   "source": [
    "df['video_age'].hist(bins=100, density=True)\n",
    "df['video_age'].plot(kind='kde', linewidth=4)\n",
    "plt.xlim(0, 4000)\n",
    "plt.title(\"Распределение возраста  видео\");"
   ]
  },
  {
   "cell_type": "code",
   "execution_count": null,
   "metadata": {
    "id": "oBSVMJH4Gcj0",
    "outputId": "f3ffdfbd-a590-4001-e12c-997a6212fe54"
   },
   "outputs": [],
   "source": [
    "sns.histplot(data=df, x='video_age', bins=100, kde=True);"
   ]
  },
  {
   "cell_type": "code",
   "execution_count": null,
   "metadata": {},
   "outputs": [],
   "source": [
    "sns.kdeplot(data=df, x='video_age');"
   ]
  },
  {
   "cell_type": "markdown",
   "metadata": {
    "id": "mpMrIuErGcj0"
   },
   "source": [
    "Можно построить сразу много гистограмм. "
   ]
  },
  {
   "cell_type": "code",
   "execution_count": null,
   "metadata": {
    "id": "YS46JsvBGcj0",
    "outputId": "fc04bf19-3830-4b44-b1bf-6dd754b4fa8b",
    "scrolled": false
   },
   "outputs": [],
   "source": [
    "columns = ['viewCount', 'likeCount', 'dislikeCount']\n",
    "df[columns].hist(figsize=(20, 8), log=True);"
   ]
  },
  {
   "cell_type": "markdown",
   "metadata": {
    "id": "eaksKthwGcj0"
   },
   "source": [
    "Можно построить гистограммы для логарифмов показателей. Обычно логарифмирование используют для того, чтобы сгладить выборосы и сделать данные более гладкими. Более того, на основе логарифма можно придумать преобразование, которое нормализует данные."
   ]
  },
  {
   "cell_type": "code",
   "execution_count": null,
   "metadata": {
    "id": "RuaLkybkGcj0",
    "outputId": "b8dfd99d-3faa-4f52-eb5b-f50f58ce2f02"
   },
   "outputs": [],
   "source": [
    "df[columns].apply(lambda x: np.log(x + 1)).hist(figsize=(20, 6), bins=25);"
   ]
  },
  {
   "cell_type": "code",
   "execution_count": null,
   "metadata": {
    "id": "AOyW4BEpGcj0",
    "outputId": "9caad485-83af-44a9-ad22-50319da186f5"
   },
   "outputs": [],
   "source": [
    "for i, col in enumerate(columns):\n",
    "    plt.subplot(3,1,i+1)\n",
    "    sns.histplot(data=df[col].apply(lambda x: np.log(1+x)), kde=True)\n",
    "    \n",
    "plt.tight_layout();"
   ]
  },
  {
   "cell_type": "markdown",
   "metadata": {
    "id": "2q2-LD8iGcj0"
   },
   "source": [
    "# 6. Усытые ящики"
   ]
  },
  {
   "cell_type": "code",
   "execution_count": null,
   "metadata": {
    "id": "m8KVDVHnGcj0",
    "outputId": "bb60d3fc-10ad-4a8b-9700-f44e4d818022"
   },
   "outputs": [],
   "source": [
    "df_log = df[columns].apply(lambda x: np.log(x + 1)) # снова прологарифмируем\n",
    "df_log['music_style'] = df['music_style']\n",
    "df_log.head()"
   ]
  },
  {
   "cell_type": "code",
   "execution_count": null,
   "metadata": {
    "id": "fHuppcuyGcj0",
    "outputId": "f9a97320-6b26-417e-8461-b358b8737260"
   },
   "outputs": [],
   "source": [
    "plt.subplot(211)\n",
    "sns.boxplot(data=df_log, x='likeCount')\n",
    "plt.subplot(212)\n",
    "sns.histplot(data=df.assign(likeCount2=df['likeCount']+1), \n",
    "             x='likeCount2', bins=50, log_scale=True);"
   ]
  },
  {
   "cell_type": "code",
   "execution_count": null,
   "metadata": {},
   "outputs": [],
   "source": [
    "order = df_log.groupby('music_style')['likeCount'].median().sort_values().index\n",
    "order"
   ]
  },
  {
   "cell_type": "code",
   "execution_count": null,
   "metadata": {
    "id": "VD2CW_2LGcj0",
    "outputId": "fd70feb7-d288-4102-bae4-eaf0f383ae17"
   },
   "outputs": [],
   "source": [
    "sns.boxplot(x='music_style', y='likeCount', data=df_log, order=order)\n",
    "\n",
    "plt.xlabel('музыкальный стиль')\n",
    "plt.ylabel('логарифм числа лайков');"
   ]
  },
  {
   "cell_type": "code",
   "execution_count": null,
   "metadata": {},
   "outputs": [],
   "source": [
    "sns.barplot(x='music_style', y='likeCount', data=df_log, order=order);"
   ]
  },
  {
   "cell_type": "markdown",
   "metadata": {
    "id": "lvEII36BGcj1"
   },
   "source": [
    "Можно построить похожую картинку под названием виалончель. Она отражает то же самое, что и ящики с усами, но выглядит более красиво. "
   ]
  },
  {
   "cell_type": "code",
   "execution_count": null,
   "metadata": {
    "id": "zzD-dXIdGcj1",
    "outputId": "5a13f87b-8192-4734-993c-5a226c07ed1d"
   },
   "outputs": [],
   "source": [
    "sns.violinplot(x='music_style', y='likeCount', \n",
    "               data=df_log, inner=\"quartile\", order=order)\n",
    "\n",
    "plt.xlabel('музыкальный стиль')\n",
    "plt.ylabel('логарифм числа лайков');"
   ]
  },
  {
   "cell_type": "markdown",
   "metadata": {
    "id": "xdTm0I7YGcj1"
   },
   "source": [
    " "
   ]
  }
 ],
 "metadata": {
  "colab": {
   "collapsed_sections": [],
   "name": "01.2_visual_and_statistics.ipynb",
   "provenance": [],
   "toc_visible": true
  },
  "kernelspec": {
   "display_name": "Python 3 (ipykernel)",
   "language": "python",
   "name": "python3"
  },
  "language_info": {
   "codemirror_mode": {
    "name": "ipython",
    "version": 3
   },
   "file_extension": ".py",
   "mimetype": "text/x-python",
   "name": "python",
   "nbconvert_exporter": "python",
   "pygments_lexer": "ipython3",
   "version": "3.10.4"
  },
  "toc": {
   "base_numbering": 1,
   "nav_menu": {},
   "number_sections": false,
   "sideBar": true,
   "skip_h1_title": false,
   "title_cell": "Table of Contents",
   "title_sidebar": "Contents",
   "toc_cell": true,
   "toc_position": {},
   "toc_section_display": true,
   "toc_window_display": true
  }
 },
 "nbformat": 4,
 "nbformat_minor": 1
}
