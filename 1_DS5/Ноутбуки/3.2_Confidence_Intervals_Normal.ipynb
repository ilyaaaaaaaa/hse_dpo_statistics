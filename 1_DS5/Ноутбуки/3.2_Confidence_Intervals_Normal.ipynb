{
 "cells": [
  {
   "cell_type": "markdown",
   "metadata": {
    "toc": true
   },
   "source": [
    "<h1>Table of Contents<span class=\"tocSkip\"></span></h1>\n",
    "<div class=\"toc\"><ul class=\"toc-item\"><li><span><a href=\"#Доверительные-интервалы.-Нормальное-распределение-с-неизвестным-средним-и-известной-дисперсией\" data-toc-modified-id=\"Доверительные-интервалы.-Нормальное-распределение-с-неизвестным-средним-и-известной-дисперсией-1\"><span class=\"toc-item-num\">1&nbsp;&nbsp;</span>Доверительные интервалы. Нормальное распределение с неизвестным средним и известной дисперсией</a></span><ul class=\"toc-item\"><li><ul class=\"toc-item\"><li><span><a href=\"#Теоретический-доверительный-интервал\" data-toc-modified-id=\"Теоретический-доверительный-интервал-1.0.1\"><span class=\"toc-item-num\">1.0.1&nbsp;&nbsp;</span>Теоретический доверительный интервал</a></span></li><li><span><a href=\"#Доверительный-интервал-на-основе-параметрического-бутстрэпа\" data-toc-modified-id=\"Доверительный-интервал-на-основе-параметрического-бутстрэпа-1.0.2\"><span class=\"toc-item-num\">1.0.2&nbsp;&nbsp;</span>Доверительный интервал на основе параметрического бутстрэпа</a></span></li><li><span><a href=\"#Доверительный-интервал-на-основе-непараметрического-бутстрэпа\" data-toc-modified-id=\"Доверительный-интервал-на-основе-непараметрического-бутстрэпа-1.0.3\"><span class=\"toc-item-num\">1.0.3&nbsp;&nbsp;</span>Доверительный интервал на основе непараметрического бутстрэпа</a></span></li><li><span><a href=\"#Как-сравнить-полученные-доверительные-интервалы?\" data-toc-modified-id=\"Как-сравнить-полученные-доверительные-интервалы?-1.0.4\"><span class=\"toc-item-num\">1.0.4&nbsp;&nbsp;</span>Как сравнить полученные доверительные интервалы?</a></span></li></ul></li></ul></li></ul></div>"
   ]
  },
  {
   "cell_type": "markdown",
   "metadata": {},
   "source": [
    "# Доверительные интервалы. Нормальное распределение с неизвестным средним и известной дисперсией"
   ]
  },
  {
   "cell_type": "markdown",
   "metadata": {},
   "source": [
    "**Задача.** Сравнить на выборках размера 50 для $\\mathcal{N}(\\theta,4)$ доверительные интервалы:\n",
    "(1) теоретический, (2) на основе параметрического бутстрэпа, (3) на основе непараметрического бутстрэпа. Сам параметр $\\theta$ сгенерировать из равномерного распределения на $[-5,5]$. "
   ]
  },
  {
   "cell_type": "code",
   "execution_count": 1,
   "metadata": {},
   "outputs": [],
   "source": [
    "import numpy as np # для генерации случайных величин и работы с массивами\n",
    "from scipy import stats # чтобы считать квантили"
   ]
  },
  {
   "cell_type": "code",
   "execution_count": 2,
   "metadata": {},
   "outputs": [],
   "source": [
    "np.random.seed(123) # фиксируем seed"
   ]
  },
  {
   "cell_type": "code",
   "execution_count": 3,
   "metadata": {},
   "outputs": [],
   "source": [
    "# Фиксируем параметры задачи\n",
    "\n",
    "n = 50 # размер выборки \n",
    "alpha = 0.05 # параметр ошибки\n",
    "\n",
    "theta = np.random.uniform(-5,5) # неизвестное среднее нормального распределения\n",
    "sigma = 2 # известная sigma нормального распределения"
   ]
  },
  {
   "cell_type": "code",
   "execution_count": 4,
   "metadata": {
    "scrolled": true
   },
   "outputs": [
    {
     "name": "stdout",
     "output_type": "stream",
     "text": [
      "Значение theta равно 1.9646918559786162\n"
     ]
    }
   ],
   "source": [
    "print(\"Значение theta равно\",theta)"
   ]
  },
  {
   "cell_type": "code",
   "execution_count": 5,
   "metadata": {},
   "outputs": [
    {
     "data": {
      "text/plain": [
       "array([ 6.04974423e-02,  4.73809737e-01,  5.44143212e+00,  2.77760005e+00,\n",
       "        2.60890399e+00,  1.86165641e+00,  1.55628993e+00,  5.92338872e+00,\n",
       "       -1.27390827e+00, -2.63236978e-01,  1.06981042e+00,  5.30149508e+00,\n",
       "        1.67794691e+00,  7.26310055e-01,  4.25824913e-01,  3.11818390e+00,\n",
       "        2.21774370e+00, -6.38286093e-01,  6.37954673e+00,  3.01017679e+00,\n",
       "        2.89598137e+00,  3.41452231e+00,  4.95634491e+00,  3.45785304e+00,\n",
       "       -2.37278654e-01, -8.55910552e-01,  4.69389222e-01, -5.04335563e-03,\n",
       "        4.67554494e-01,  2.44542641e+00, -1.74658308e+00, -1.59421775e+00,\n",
       "       -3.53575667e+00,  1.49637675e+00,  5.72729504e-01, -1.58357626e+00,\n",
       "        6.68789438e+00,  2.03467802e+00,  1.27540848e+00,  5.14627272e-01,\n",
       "        4.04390420e+00,  1.48123577e+00,  1.73888114e+00, -1.35669971e+00,\n",
       "        1.99176895e+00,  2.63944010e+00,  1.11445903e-01,  2.51618667e+00,\n",
       "        2.70639651e+00,  4.31330615e+00])"
      ]
     },
     "execution_count": 5,
     "metadata": {},
     "output_type": "execute_result"
    }
   ],
   "source": [
    "# Сгенерируем выборку из нужного распределения\n",
    "sample = np.random.normal(theta, sigma, size=n)\n",
    "\n",
    "sample"
   ]
  },
  {
   "cell_type": "markdown",
   "metadata": {},
   "source": [
    "### Теоретический доверительный интервал"
   ]
  },
  {
   "cell_type": "markdown",
   "metadata": {},
   "source": [
    "Напомним, что теоретический доверительный интервал вычисляется следующим образом: \n",
    "\n",
    "$$\n",
    "\\mathbb{P}\\left( \\bar{X} - \\frac{c_{1-\\alpha/2}\\sigma}{\\sqrt{n}} < \\mu < \\bar{X} + \\frac{c_{1-\\alpha/2}\\sigma}{\\sqrt{n}} \\right) = 1-\\alpha,\n",
    "$$\n",
    "где $c_{\\alpha}$ — квантиль распределения $\\mathcal{N}(0,1)$ уровня $\\alpha$."
   ]
  },
  {
   "cell_type": "code",
   "execution_count": 6,
   "metadata": {},
   "outputs": [
    {
     "data": {
      "text/plain": [
       "1.959963984540054"
      ]
     },
     "execution_count": 6,
     "metadata": {},
     "output_type": "execute_result"
    }
   ],
   "source": [
    "x_q = stats.norm.ppf(q=0.975)\n",
    "x_q"
   ]
  },
  {
   "cell_type": "code",
   "execution_count": 7,
   "metadata": {},
   "outputs": [
    {
     "data": {
      "text/plain": [
       "-1.9599639845400545"
      ]
     },
     "execution_count": 7,
     "metadata": {},
     "output_type": "execute_result"
    }
   ],
   "source": [
    "stats.norm.ppf(q=0.025)"
   ]
  },
  {
   "cell_type": "code",
   "execution_count": 8,
   "metadata": {},
   "outputs": [
    {
     "data": {
      "text/plain": [
       "0.0"
      ]
     },
     "execution_count": 8,
     "metadata": {},
     "output_type": "execute_result"
    }
   ],
   "source": [
    "stats.norm.ppf(q=1/2)"
   ]
  },
  {
   "cell_type": "code",
   "execution_count": 9,
   "metadata": {},
   "outputs": [
    {
     "name": "stdout",
     "output_type": "stream",
     "text": [
      "Теоретический доверительный интервал равен [1.1210678915076362, 2.2297909509873786]\n"
     ]
    }
   ],
   "source": [
    "# Вычисляем теоретический доверительный интервал\n",
    "\n",
    "CI_Theoretical = [\n",
    "    np.mean(sample) - stats.norm.ppf(1-alpha/2)*sigma/np.sqrt(n), \n",
    "    np.mean(sample) + stats.norm.ppf(1-alpha/2)*sigma/np.sqrt(n)]\n",
    "\n",
    "print(\"Теоретический доверительный интервал равен\", CI_Theoretical)"
   ]
  },
  {
   "cell_type": "code",
   "execution_count": 10,
   "metadata": {},
   "outputs": [
    {
     "name": "stdout",
     "output_type": "stream",
     "text": [
      "Теоретический доверительный интервал равен [1.6362301415567062, 1.7146287009383085]\n"
     ]
    }
   ],
   "source": [
    "# Вычисляем теоретический доверительный интервал\n",
    "\n",
    "n=10000\n",
    "CI_Theoretical = [\n",
    "    np.mean(sample) - stats.norm.ppf(1-alpha/2)*sigma/np.sqrt(n), \n",
    "    np.mean(sample) + stats.norm.ppf(1-alpha/2)*sigma/np.sqrt(n)]\n",
    "\n",
    "print(\"Теоретический доверительный интервал равен\", CI_Theoretical)"
   ]
  },
  {
   "cell_type": "code",
   "execution_count": 11,
   "metadata": {},
   "outputs": [
    {
     "name": "stdout",
     "output_type": "stream",
     "text": [
      "Теоретический доверительный интервал равен [1.6547007534576317, 1.696158089037383]\n"
     ]
    }
   ],
   "source": [
    "alpha=0.30\n",
    "# Вычисляем теоретический доверительный интервал\n",
    "\n",
    "CI_Theoretical = [\n",
    "    np.mean(sample) - stats.norm.ppf(1-alpha/2)*sigma/np.sqrt(n), \n",
    "    np.mean(sample) + stats.norm.ppf(1-alpha/2)*sigma/np.sqrt(n)]\n",
    "\n",
    "print(\"Теоретический доверительный интервал равен\", CI_Theoretical)"
   ]
  },
  {
   "cell_type": "code",
   "execution_count": 12,
   "metadata": {},
   "outputs": [
    {
     "name": "stdout",
     "output_type": "stream",
     "text": [
      "Значение theta равно 1.9646918559786162\n"
     ]
    }
   ],
   "source": [
    "print(\"Значение theta равно\",theta)"
   ]
  },
  {
   "cell_type": "markdown",
   "metadata": {},
   "source": [
    "### Доверительный интервал на основе параметрического бутстрэпа"
   ]
  },
  {
   "cell_type": "code",
   "execution_count": 13,
   "metadata": {},
   "outputs": [],
   "source": [
    "# Параметры для бутстрэпа\n",
    "number_of_bootstrap_samples = 10 # количество бутстрэп-выборок\n",
    "size_of_bootstrap_samples = 20 # размер бутстрэп-выборок"
   ]
  },
  {
   "cell_type": "code",
   "execution_count": 14,
   "metadata": {},
   "outputs": [],
   "source": [
    "# Оцениваем неизвестный параметр theta \n",
    "mean = np.mean(sample) "
   ]
  },
  {
   "cell_type": "code",
   "execution_count": 15,
   "metadata": {},
   "outputs": [],
   "source": [
    "# Генерируем выборку из распределения N(sample_mean, sigma)\n",
    "bootstrap_samples = np.random.normal(mean,sigma,\n",
    "                                     size=[number_of_bootstrap_samples,\n",
    "                                           size_of_bootstrap_samples]) "
   ]
  },
  {
   "cell_type": "code",
   "execution_count": 16,
   "metadata": {},
   "outputs": [],
   "source": [
    "# Считаем среднее для каждой выборки \n",
    "bootstrap_estimates = np.apply_along_axis(np.mean, 1, bootstrap_samples)"
   ]
  },
  {
   "cell_type": "code",
   "execution_count": 17,
   "metadata": {},
   "outputs": [],
   "source": [
    "# Вычисляем параметрический бутстрэп доверительный интервал\n",
    "CI_Bootstrap_Parametric = [\n",
    "    np.quantile(bootstrap_estimates,alpha/2), \n",
    "    np.quantile(bootstrap_estimates,1-alpha/2)]"
   ]
  },
  {
   "cell_type": "code",
   "execution_count": 18,
   "metadata": {},
   "outputs": [
    {
     "name": "stdout",
     "output_type": "stream",
     "text": [
      "Доверительный интервал на основе парметрического бустрэпа равен [1.25758817433375, 1.9082231003559107]\n"
     ]
    }
   ],
   "source": [
    "print(\"Доверительный интервал на основе парметрического бустрэпа равен\", CI_Bootstrap_Parametric)"
   ]
  },
  {
   "cell_type": "markdown",
   "metadata": {},
   "source": [
    "### Доверительный интервал на основе непараметрического бутстрэпа"
   ]
  },
  {
   "cell_type": "code",
   "execution_count": 19,
   "metadata": {},
   "outputs": [],
   "source": [
    "# Будем использовать те же параметры\n",
    "number_of_bootstrap_samples = 10 # количество бутстрэп-выборок\n",
    "size_of_bootstrap_samples = 20 # размер бутстрэп-выборок"
   ]
  },
  {
   "cell_type": "code",
   "execution_count": 20,
   "metadata": {},
   "outputs": [],
   "source": [
    "# Генерируем выборку из распределения N(bootstrap_mean, sigma)\n",
    "bootstrap_samples = np.random.choice(sample,\n",
    "                        size=[number_of_bootstrap_samples,size_of_bootstrap_samples]) "
   ]
  },
  {
   "cell_type": "code",
   "execution_count": 21,
   "metadata": {},
   "outputs": [],
   "source": [
    "# Считаем среднее для каждой выборки \n",
    "bootstrap_estimates = np.apply_along_axis(np.mean, 1, bootstrap_samples)"
   ]
  },
  {
   "cell_type": "code",
   "execution_count": 22,
   "metadata": {},
   "outputs": [],
   "source": [
    "# Вычисляем непараметрический бутстрэп доверительный интервал\n",
    "CI_Bootstrap_Nonparametric = [\n",
    "    np.quantile(bootstrap_estimates,alpha/2), \n",
    "    np.quantile(bootstrap_estimates,1-alpha/2)]"
   ]
  },
  {
   "cell_type": "code",
   "execution_count": 23,
   "metadata": {},
   "outputs": [
    {
     "name": "stdout",
     "output_type": "stream",
     "text": [
      "Доверительный интервал на основе (непарметрического) бустрэпа равен [1.2140624664220405, 2.5162606355397874]\n"
     ]
    }
   ],
   "source": [
    "print(\"Доверительный интервал на основе (непарметрического) бустрэпа равен\", CI_Bootstrap_Nonparametric)"
   ]
  },
  {
   "cell_type": "markdown",
   "metadata": {},
   "source": [
    "### Как сравнить полученные доверительные интервалы? "
   ]
  },
  {
   "cell_type": "markdown",
   "metadata": {},
   "source": [
    "Можно попробовать сравнить длину полученных доверительных интервалов. \n",
    "Будет ли длина хорошей оценкой качества интервалов?"
   ]
  },
  {
   "cell_type": "code",
   "execution_count": 24,
   "metadata": {},
   "outputs": [
    {
     "name": "stdout",
     "output_type": "stream",
     "text": [
      "Длина теоретического доверительного интервала:  0.0414573355797514\n",
      "Длина доверительного интервала на основе парметрического бустрэпа:  0.6506349260221607\n",
      "Длина доверительного интервала на основе непарметрического бустрэпа:  1.3021981691177469\n"
     ]
    }
   ],
   "source": [
    "print(\"Длина теоретического доверительного интервала: \", CI_Theoretical[1]-CI_Theoretical[0])\n",
    "print(\"Длина доверительного интервала на основе парметрического бустрэпа: \", CI_Bootstrap_Parametric[1]-CI_Bootstrap_Parametric[0])\n",
    "print(\"Длина доверительного интервала на основе непарметрического бустрэпа: \", CI_Bootstrap_Nonparametric[1]-CI_Bootstrap_Nonparametric[0])"
   ]
  },
  {
   "cell_type": "markdown",
   "metadata": {},
   "source": [
    "Проверим, с какой частотой истинное значение параметра попадает в данные доверительные интервалы"
   ]
  },
  {
   "cell_type": "code",
   "execution_count": 25,
   "metadata": {},
   "outputs": [],
   "source": [
    "N_samples = 10000 # количество \"экспериентов\" по вычислению доверительных интервалов\n",
    "\n",
    "theoretical = np.zeros(N_samples) # здесь будем хранить результаты для теоретического доверительного интервала\n",
    "parametric_bootstrap = np.zeros(N_samples) # здесь будем хранить результаты для параметрического бутстрэпа \n",
    "nonparametric_bootstrap = np.zeros(N_samples) # здесь будем хранить результаты для непараметрического бутстрэпа "
   ]
  },
  {
   "cell_type": "code",
   "execution_count": 26,
   "metadata": {},
   "outputs": [],
   "source": [
    "# Вычисляем теоретический доверительный интервал\n",
    "\n",
    "def Theoretical(sample,alpha):\n",
    "    n = len(sample)\n",
    "    mean = np.mean(sample)\n",
    "    return [\n",
    "        mean - stats.norm.ppf(1-alpha/2)*sigma/np.sqrt(n), \n",
    "        mean + stats.norm.ppf(1-alpha/2)*sigma/np.sqrt(n)]"
   ]
  },
  {
   "cell_type": "code",
   "execution_count": 27,
   "metadata": {},
   "outputs": [],
   "source": [
    "# Вычисляем доверительный интервал на основе параметрического бутстрэпа\n",
    "\n",
    "def Parametric_bootstrap(sample,alpha,\n",
    "                         number_of_bootstrap_samples,size_of_bootstrap_samples):\n",
    "    n = len(sample)\n",
    "    mean = np.mean(sample)\n",
    "    bootstrap_samples = np.random.normal(mean,sigma,\n",
    "            size=[number_of_bootstrap_samples,size_of_bootstrap_samples]) \n",
    "    bootstrap_estimates = np.apply_along_axis(np.mean, 1, bootstrap_samples)\n",
    "    return [\n",
    "        np.quantile(bootstrap_estimates,alpha/2), \n",
    "        np.quantile(bootstrap_estimates,1-alpha/2)]"
   ]
  },
  {
   "cell_type": "code",
   "execution_count": 28,
   "metadata": {},
   "outputs": [],
   "source": [
    "# Вычисляем доверительный интервал на основе непараметрического бутстрэпа\n",
    "\n",
    "def Nonparametric_bootstrap(sample,alpha,number_of_bootstrap_samples,size_of_bootstrap_samples):\n",
    "    bootstrap_samples = np.random.choice(sample,size=[number_of_bootstrap_samples,size_of_bootstrap_samples]) \n",
    "    bootstrap_estimates = np.apply_along_axis(np.mean, 1, bootstrap_samples)\n",
    "    return [np.quantile(bootstrap_estimates,alpha/2), np.quantile(bootstrap_estimates,1-alpha/2)]"
   ]
  },
  {
   "cell_type": "code",
   "execution_count": 29,
   "metadata": {},
   "outputs": [],
   "source": [
    "# Проведем N_samples экспериментов\n",
    "for i in range(N_samples):\n",
    "    sample = np.random.normal(theta, sigma, size=n)\n",
    "    # теоретические интервалы\n",
    "    CI_Theoretical = Theoretical(sample,alpha)\n",
    "    theoretical[i] = (theta >= CI_Theoretical[0]) and (theta <= CI_Theoretical[1])\n",
    "    \n",
    "    CI_parametric_bootstrap = Parametric_bootstrap(sample,alpha,number_of_bootstrap_samples,size_of_bootstrap_samples)\n",
    "    parametric_bootstrap[i] = (theta >= CI_parametric_bootstrap[0]) and (theta <= CI_parametric_bootstrap[1])\n",
    "    \n",
    "    CI_nonparametric_bootstrap = Nonparametric_bootstrap(sample,alpha,number_of_bootstrap_samples,size_of_bootstrap_samples)\n",
    "    nonparametric_bootstrap[i] = (theta >= CI_nonparametric_bootstrap[0]) and (theta <= CI_nonparametric_bootstrap[1])"
   ]
  },
  {
   "cell_type": "code",
   "execution_count": 30,
   "metadata": {},
   "outputs": [
    {
     "name": "stdout",
     "output_type": "stream",
     "text": [
      "Частота попадания истинного параметра в доверительный интервал:\n",
      "- для теоретического доверительного интервала  0.6959\n",
      "- для параметрического бутстрэп доверительного интервала  0.9674\n",
      "- для непараметрического бутстрэп доверительного интервала  0.9657\n"
     ]
    }
   ],
   "source": [
    "print(\"Частота попадания истинного параметра в доверительный интервал:\")\n",
    "print(\"- для теоретического доверительного интервала \", np.mean(theoretical))\n",
    "print(\"- для параметрического бутстрэп доверительного интервала \", np.mean(parametric_bootstrap))\n",
    "print(\"- для непараметрического бутстрэп доверительного интервала \", np.mean(nonparametric_bootstrap))"
   ]
  }
 ],
 "metadata": {
  "kernelspec": {
   "display_name": "Python 3",
   "language": "python",
   "name": "python3"
  },
  "language_info": {
   "codemirror_mode": {
    "name": "ipython",
    "version": 3
   },
   "file_extension": ".py",
   "mimetype": "text/x-python",
   "name": "python",
   "nbconvert_exporter": "python",
   "pygments_lexer": "ipython3",
   "version": "3.9.4"
  },
  "toc": {
   "base_numbering": 1,
   "nav_menu": {},
   "number_sections": true,
   "sideBar": true,
   "skip_h1_title": false,
   "title_cell": "Table of Contents",
   "title_sidebar": "Contents",
   "toc_cell": true,
   "toc_position": {},
   "toc_section_display": true,
   "toc_window_display": true
  }
 },
 "nbformat": 4,
 "nbformat_minor": 2
}
