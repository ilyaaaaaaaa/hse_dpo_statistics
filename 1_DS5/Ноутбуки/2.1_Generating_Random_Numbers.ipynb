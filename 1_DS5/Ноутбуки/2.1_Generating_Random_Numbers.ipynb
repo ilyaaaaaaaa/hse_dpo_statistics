{
 "cells": [
  {
   "cell_type": "markdown",
   "metadata": {
    "id": "U5i7QlA7TU-B",
    "toc": true
   },
   "source": [
    "<h1>Table of Contents<span class=\"tocSkip\"></span></h1>\n",
    "<div class=\"toc\"><ul class=\"toc-item\"><li><span><a href=\"#Генерация-случайных-величин\" data-toc-modified-id=\"Генерация-случайных-величин-1\"><span class=\"toc-item-num\">1&nbsp;&nbsp;</span>Генерация случайных величин</a></span><ul class=\"toc-item\"><li><span><a href=\"#Seed\" data-toc-modified-id=\"Seed-1.1\"><span class=\"toc-item-num\">1.1&nbsp;&nbsp;</span>Seed</a></span></li><li><span><a href=\"#Равномерное-распределение\" data-toc-modified-id=\"Равномерное-распределение-1.2\"><span class=\"toc-item-num\">1.2&nbsp;&nbsp;</span>Равномерное распределение</a></span></li><li><span><a href=\"#Случайные-перестановки-и-случайный-выбор\" data-toc-modified-id=\"Случайные-перестановки-и-случайный-выбор-1.3\"><span class=\"toc-item-num\">1.3&nbsp;&nbsp;</span>Случайные перестановки и случайный выбор</a></span></li><li><span><a href=\"#Нормальное-распределение\" data-toc-modified-id=\"Нормальное-распределение-1.4\"><span class=\"toc-item-num\">1.4&nbsp;&nbsp;</span>Нормальное распределение</a></span></li><li><span><a href=\"#Другие-распределения\" data-toc-modified-id=\"Другие-распределения-1.5\"><span class=\"toc-item-num\">1.5&nbsp;&nbsp;</span>Другие распределения</a></span></li></ul></li></ul></div>"
   ]
  },
  {
   "cell_type": "markdown",
   "metadata": {
    "id": "d_U3Rov5TU-W"
   },
   "source": [
    "## Генерация случайных величин"
   ]
  },
  {
   "cell_type": "markdown",
   "metadata": {
    "id": "GEzu0bUJTU-Y"
   },
   "source": [
    "Python (и все другое програмное обеспечение) генерирует случайные числа с помощью формул, так что они не на самом деле случайные, а, как говорят, псевдослучайные. Этот способ удобен для большинства приложений. Генерировать случайные числа мы будем с помощью numpy."
   ]
  },
  {
   "cell_type": "code",
   "execution_count": 1,
   "metadata": {
    "id": "0edMLDHMTU-b"
   },
   "outputs": [],
   "source": [
    "import numpy as np"
   ]
  },
  {
   "cell_type": "markdown",
   "metadata": {
    "id": "jBKneXOFTU-i"
   },
   "source": [
    "### Seed"
   ]
  },
  {
   "cell_type": "markdown",
   "metadata": {
    "id": "zZG3n1VsTU-j"
   },
   "source": [
    "Для того, чтобы каждый раз при использовании генератора псевдослучайных чисел получать идентичные последовательности, используется функция set.seed (от set - задать, установить, и seed - начальное число). Как следует из названия, эта функция фиксирует число, служащее начальной точкой для запуска алгоритма генерации псевдослучайных чисел. В качестве аргумента функции указывают любое целое число (не важно, какое именно). "
   ]
  },
  {
   "cell_type": "markdown",
   "metadata": {
    "id": "8Qqz8D-NTU-k"
   },
   "source": [
    "* **np.random.seed(<число>)** —\n",
    "настраивает генератор случайных чисел на новую последовательность. Если данная функция в программе не вызывается, по умолчанию используется системное время. "
   ]
  },
  {
   "cell_type": "code",
   "execution_count": 2,
   "metadata": {
    "colab": {
     "base_uri": "https://localhost:8080/"
    },
    "executionInfo": {
     "elapsed": 53,
     "status": "ok",
     "timestamp": 1634223468414,
     "user": {
      "displayName": "Ilya A",
      "photoUrl": "https://lh3.googleusercontent.com/a-/AOh14GiSa8oddSgsU03OOnvGn7Dk96PjoJwbTrHh_f7oDw=s64",
      "userId": "17148912465935982955"
     },
     "user_tz": -180
    },
    "id": "MsscicZWTU-l",
    "outputId": "04610389-e04e-4738-85a1-3c51fa753a1f"
   },
   "outputs": [
    {
     "name": "stdout",
     "output_type": "stream",
     "text": [
      "0.417022004702574\n",
      "0.7203244934421581\n"
     ]
    }
   ],
   "source": [
    "np.random.seed(1) # Зафиксируем seed\n",
    "print(np.random.rand()) # первое случайное число\n",
    "print(np.random.rand()) # второе случайное число; оно будет отличаться от предыдущего"
   ]
  },
  {
   "cell_type": "code",
   "execution_count": 3,
   "metadata": {
    "colab": {
     "base_uri": "https://localhost:8080/"
    },
    "executionInfo": {
     "elapsed": 50,
     "status": "ok",
     "timestamp": 1634223468415,
     "user": {
      "displayName": "Ilya A",
      "photoUrl": "https://lh3.googleusercontent.com/a-/AOh14GiSa8oddSgsU03OOnvGn7Dk96PjoJwbTrHh_f7oDw=s64",
      "userId": "17148912465935982955"
     },
     "user_tz": -180
    },
    "id": "br5frhZDTU-o",
    "outputId": "110ca08d-cad0-43fc-f613-862c5e730497"
   },
   "outputs": [
    {
     "name": "stdout",
     "output_type": "stream",
     "text": [
      "0.417022004702574\n",
      "0.7203244934421581\n"
     ]
    }
   ],
   "source": [
    "# Но если мы обновим seed, то наша случайная последовательность будет генерироваться <<сначала>>\n",
    "np.random.seed(1) \n",
    "print(np.random.rand())\n",
    "print(np.random.rand())"
   ]
  },
  {
   "cell_type": "markdown",
   "metadata": {
    "id": "Cv7EG0p7TU-r"
   },
   "source": [
    "### Равномерное распределение"
   ]
  },
  {
   "cell_type": "markdown",
   "metadata": {
    "id": "NmAO4G-0TU-s"
   },
   "source": [
    "* **np.random.rand($\\,\\mathbf{d_0, d_1, \\ldots, d_n}$)**  — генерирует массив размера $d_0\\times d_1 \\times \\ldots \\times d_n$ из равномерно распределенных на [0,1] случайных величин."
   ]
  },
  {
   "cell_type": "code",
   "execution_count": 4,
   "metadata": {
    "colab": {
     "base_uri": "https://localhost:8080/"
    },
    "executionInfo": {
     "elapsed": 42,
     "status": "ok",
     "timestamp": 1634223468417,
     "user": {
      "displayName": "Ilya A",
      "photoUrl": "https://lh3.googleusercontent.com/a-/AOh14GiSa8oddSgsU03OOnvGn7Dk96PjoJwbTrHh_f7oDw=s64",
      "userId": "17148912465935982955"
     },
     "user_tz": -180
    },
    "id": "fXj496egTU-u",
    "outputId": "32d79fe8-8ad5-416a-a7ae-b7503b8621e8"
   },
   "outputs": [
    {
     "data": {
      "text/plain": [
       "0.00011437481734488664"
      ]
     },
     "execution_count": 4,
     "metadata": {},
     "output_type": "execute_result"
    }
   ],
   "source": [
    "np.random.rand() # просто одно число"
   ]
  },
  {
   "cell_type": "code",
   "execution_count": null,
   "metadata": {
    "colab": {
     "base_uri": "https://localhost:8080/"
    },
    "executionInfo": {
     "elapsed": 38,
     "status": "ok",
     "timestamp": 1634223468418,
     "user": {
      "displayName": "Ilya A",
      "photoUrl": "https://lh3.googleusercontent.com/a-/AOh14GiSa8oddSgsU03OOnvGn7Dk96PjoJwbTrHh_f7oDw=s64",
      "userId": "17148912465935982955"
     },
     "user_tz": -180
    },
    "id": "rBby7GOhTU-v",
    "outputId": "217c3c39-e3bc-4389-935d-aa6ea8c6e61a"
   },
   "outputs": [
    {
     "data": {
      "text/plain": [
       "array([0.30233257, 0.14675589, 0.09233859, 0.18626021, 0.34556073,\n",
       "       0.39676747, 0.53881673, 0.41919451, 0.6852195 , 0.20445225])"
      ]
     },
     "execution_count": 5,
     "metadata": {},
     "output_type": "execute_result"
    }
   ],
   "source": [
    "np.random.rand(10) # одномерный массив из 10 чисел"
   ]
  },
  {
   "cell_type": "code",
   "execution_count": 5,
   "metadata": {
    "colab": {
     "base_uri": "https://localhost:8080/"
    },
    "executionInfo": {
     "elapsed": 35,
     "status": "ok",
     "timestamp": 1634223468419,
     "user": {
      "displayName": "Ilya A",
      "photoUrl": "https://lh3.googleusercontent.com/a-/AOh14GiSa8oddSgsU03OOnvGn7Dk96PjoJwbTrHh_f7oDw=s64",
      "userId": "17148912465935982955"
     },
     "user_tz": -180
    },
    "id": "v2ErglLCTU-w",
    "outputId": "8e4e0f37-78fb-4710-ad87-2d48bbc6dd01"
   },
   "outputs": [
    {
     "data": {
      "text/plain": [
       "array([[0.30233257, 0.14675589],\n",
       "       [0.09233859, 0.18626021],\n",
       "       [0.34556073, 0.39676747],\n",
       "       [0.53881673, 0.41919451],\n",
       "       [0.6852195 , 0.20445225]])"
      ]
     },
     "execution_count": 5,
     "metadata": {},
     "output_type": "execute_result"
    }
   ],
   "source": [
    "np.random.rand(5,2) # двумерный массив размера [5,2]"
   ]
  },
  {
   "cell_type": "markdown",
   "metadata": {
    "id": "_0UvsTcOTU-x"
   },
   "source": [
    "Для генерации из равномерного распределения на произвольном интервале можно использовать функцию:   \n",
    "* **np.random.uniform([low, high, size])** — герирует массив размера [size] из равномерного распределения на $[low,high]$.\n",
    "\n",
    "П.С. Альтернативно можно сгенерировать равномерно распределенные на $[0,1]$ случайные величины и применить к ним линейное преобразование"
   ]
  },
  {
   "cell_type": "code",
   "execution_count": null,
   "metadata": {},
   "outputs": [],
   "source": [
    "np.random.normal"
   ]
  },
  {
   "cell_type": "code",
   "execution_count": null,
   "metadata": {
    "colab": {
     "base_uri": "https://localhost:8080/"
    },
    "executionInfo": {
     "elapsed": 32,
     "status": "ok",
     "timestamp": 1634223468419,
     "user": {
      "displayName": "Ilya A",
      "photoUrl": "https://lh3.googleusercontent.com/a-/AOh14GiSa8oddSgsU03OOnvGn7Dk96PjoJwbTrHh_f7oDw=s64",
      "userId": "17148912465935982955"
     },
     "user_tz": -180
    },
    "id": "HaUivo6CTU-y",
    "outputId": "6918e602-ec27-4109-ae22-424ef178a515"
   },
   "outputs": [
    {
     "data": {
      "text/plain": [
       "array([[8.46161308, 9.38194576],\n",
       "       [9.47303332, 5.42522106],\n",
       "       [5.19527392, 5.8491521 ],\n",
       "       [9.39071252, 5.49173417],\n",
       "       [7.10553813, 9.78944765]])"
      ]
     },
     "execution_count": 7,
     "metadata": {},
     "output_type": "execute_result"
    }
   ],
   "source": [
    "np.random.uniform(5,10, size=[5,2])"
   ]
  },
  {
   "cell_type": "markdown",
   "metadata": {
    "id": "22EDtW9PTU-z"
   },
   "source": [
    "Все следующие фукнции герерируют одномерный массив размера [size] из равномерно распределенных на [0,1] случайных величин. Но лучше пользоваться функциями **np.random.rand** или **np.random.uniform**, они чаще используются исследователями и программистами.\n",
    "\n",
    "* **np.random.random_sample([size])**  \n",
    "* **np.random.random([size])**  \n",
    "* **np.random.ranf([size])**  \n",
    "* **np.random.sample([size])**    "
   ]
  },
  {
   "cell_type": "code",
   "execution_count": 6,
   "metadata": {
    "colab": {
     "base_uri": "https://localhost:8080/"
    },
    "executionInfo": {
     "elapsed": 568,
     "status": "ok",
     "timestamp": 1634223468966,
     "user": {
      "displayName": "Ilya A",
      "photoUrl": "https://lh3.googleusercontent.com/a-/AOh14GiSa8oddSgsU03OOnvGn7Dk96PjoJwbTrHh_f7oDw=s64",
      "userId": "17148912465935982955"
     },
     "user_tz": -180
    },
    "id": "K6DgAtO7TU-1",
    "outputId": "921a217f-d6a5-4ec4-802a-77aa86ca8e2b"
   },
   "outputs": [
    {
     "data": {
      "text/plain": [
       "array([0.87811744, 0.02738759, 0.67046751, 0.4173048 , 0.55868983,\n",
       "       0.14038694, 0.19810149, 0.80074457, 0.96826158, 0.31342418])"
      ]
     },
     "execution_count": 6,
     "metadata": {},
     "output_type": "execute_result"
    }
   ],
   "source": [
    "np.random.ranf(10)"
   ]
  },
  {
   "cell_type": "markdown",
   "metadata": {
    "id": "Gzh7TxbATU-2"
   },
   "source": [
    "Следующие функции генерируют случайные числа из равномерного распределения на целых числах:  \n",
    "* **np.random.randint(low[, high, size, dtype])** — здесь вернхнее значение не включается в диапазон.  \n",
    "* **np.random.random_integers(low[, high, size])** — здесь вернхнее значение включается в диапазон (но эта функция устарела, лучше использовать предыдущую).  "
   ]
  },
  {
   "cell_type": "code",
   "execution_count": null,
   "metadata": {
    "colab": {
     "base_uri": "https://localhost:8080/"
    },
    "executionInfo": {
     "elapsed": 67,
     "status": "ok",
     "timestamp": 1634223468968,
     "user": {
      "displayName": "Ilya A",
      "photoUrl": "https://lh3.googleusercontent.com/a-/AOh14GiSa8oddSgsU03OOnvGn7Dk96PjoJwbTrHh_f7oDw=s64",
      "userId": "17148912465935982955"
     },
     "user_tz": -180
    },
    "id": "ucUkZTDeTU-2",
    "outputId": "952cb5f2-1315-4049-d099-dd5ba3036e33"
   },
   "outputs": [
    {
     "data": {
      "text/plain": [
       "array([[ 6,  6,  9,  8,  7,  5,  8,  2,  6,  6],\n",
       "       [ 3,  4,  8,  2,  5,  7, -1,  1,  9,  6]])"
      ]
     },
     "execution_count": 9,
     "metadata": {},
     "output_type": "execute_result"
    }
   ],
   "source": [
    "np.random.randint(-1, 10, size = [2,10])"
   ]
  },
  {
   "cell_type": "code",
   "execution_count": null,
   "metadata": {
    "colab": {
     "base_uri": "https://localhost:8080/"
    },
    "executionInfo": {
     "elapsed": 68,
     "status": "ok",
     "timestamp": 1634223468970,
     "user": {
      "displayName": "Ilya A",
      "photoUrl": "https://lh3.googleusercontent.com/a-/AOh14GiSa8oddSgsU03OOnvGn7Dk96PjoJwbTrHh_f7oDw=s64",
      "userId": "17148912465935982955"
     },
     "user_tz": -180
    },
    "id": "dzYbbxBATU-4",
    "outputId": "3bd14629-8bdb-49f1-98ca-59146b5c92c6"
   },
   "outputs": [
    {
     "name": "stderr",
     "output_type": "stream",
     "text": [
      "/usr/local/lib/python3.7/dist-packages/ipykernel_launcher.py:1: DeprecationWarning: This function is deprecated. Please call randint(-1, 10 + 1) instead\n",
      "  \"\"\"Entry point for launching an IPython kernel.\n"
     ]
    },
    {
     "data": {
      "text/plain": [
       "array([[ 6,  8,  6,  2,  9, -1,  7,  6,  6,  0],\n",
       "       [ 0,  2, -1,  7,  5,  3,  4,  5,  1, 10]])"
      ]
     },
     "execution_count": 10,
     "metadata": {},
     "output_type": "execute_result"
    }
   ],
   "source": [
    "np.random.random_integers(-1, 10, size= [2,10])"
   ]
  },
  {
   "cell_type": "markdown",
   "metadata": {
    "id": "omN557ZxTU-4"
   },
   "source": [
    "### Случайные перестановки и случайный выбор"
   ]
  },
  {
   "cell_type": "markdown",
   "metadata": {
    "id": "oqGdKlrUTU-5"
   },
   "source": [
    "Везде далее в качестве **x** можно использовать различные объекты: строку, список, кортеж..."
   ]
  },
  {
   "cell_type": "markdown",
   "metadata": {
    "id": "AZsnDuunTU-5"
   },
   "source": [
    "* **np.random.shuffle(x)** — случайная перестановка последовательности **x** (меняет сам **x**, ничего не возвращает).  \n",
    "* **np.random.permutation(x)** — случайная перестановка последовательности **x** (не меняет **x**, возвращает перестановку).\n"
   ]
  },
  {
   "cell_type": "code",
   "execution_count": 7,
   "metadata": {
    "colab": {
     "base_uri": "https://localhost:8080/"
    },
    "executionInfo": {
     "elapsed": 60,
     "status": "ok",
     "timestamp": 1634223468971,
     "user": {
      "displayName": "Ilya A",
      "photoUrl": "https://lh3.googleusercontent.com/a-/AOh14GiSa8oddSgsU03OOnvGn7Dk96PjoJwbTrHh_f7oDw=s64",
      "userId": "17148912465935982955"
     },
     "user_tz": -180
    },
    "id": "DwT_l54CTU-7",
    "outputId": "37c903c3-2968-4206-af02-3bb86e5854a6"
   },
   "outputs": [
    {
     "name": "stdout",
     "output_type": "stream",
     "text": [
      "[0 1 2 3 4]\n",
      "[3 2 0 4 1]\n"
     ]
    }
   ],
   "source": [
    "# для np.random.permutation следующий код имеет смысл\n",
    "a = np.arange(5)\n",
    "b = np.random.permutation(a)\n",
    "print(a)\n",
    "print(b)"
   ]
  },
  {
   "cell_type": "code",
   "execution_count": 8,
   "metadata": {
    "colab": {
     "base_uri": "https://localhost:8080/"
    },
    "executionInfo": {
     "elapsed": 59,
     "status": "ok",
     "timestamp": 1634223468974,
     "user": {
      "displayName": "Ilya A",
      "photoUrl": "https://lh3.googleusercontent.com/a-/AOh14GiSa8oddSgsU03OOnvGn7Dk96PjoJwbTrHh_f7oDw=s64",
      "userId": "17148912465935982955"
     },
     "user_tz": -180
    },
    "id": "3fFNqrtrTU-8",
    "outputId": "073f5809-6307-4914-f2fb-2fe527a05fbe"
   },
   "outputs": [
    {
     "name": "stdout",
     "output_type": "stream",
     "text": [
      "[2 4 3 0 1]\n",
      "None\n"
     ]
    }
   ],
   "source": [
    "# для np.random.shuffle — нет, так как мы поменяем a, и ничего не присвоим b\n",
    "a = np.arange(5)\n",
    "b = np.random.shuffle(a) \n",
    "print(a)\n",
    "print(b)"
   ]
  },
  {
   "cell_type": "markdown",
   "metadata": {
    "id": "KBjStmwzTU-9"
   },
   "source": [
    "* **random.choince(x)** — возвращает случайный элемент из последовательности **x**."
   ]
  },
  {
   "cell_type": "code",
   "execution_count": 9,
   "metadata": {
    "colab": {
     "base_uri": "https://localhost:8080/"
    },
    "executionInfo": {
     "elapsed": 57,
     "status": "ok",
     "timestamp": 1634223468975,
     "user": {
      "displayName": "Ilya A",
      "photoUrl": "https://lh3.googleusercontent.com/a-/AOh14GiSa8oddSgsU03OOnvGn7Dk96PjoJwbTrHh_f7oDw=s64",
      "userId": "17148912465935982955"
     },
     "user_tz": -180
    },
    "id": "W3miSzHVTU--",
    "outputId": "cbbd5861-4f6e-4f38-edf0-035d9c26a23b"
   },
   "outputs": [
    {
     "data": {
      "text/plain": [
       "7"
      ]
     },
     "execution_count": 9,
     "metadata": {},
     "output_type": "execute_result"
    }
   ],
   "source": [
    "np.random.choice([1,2,3,7,0,88], )"
   ]
  },
  {
   "cell_type": "markdown",
   "metadata": {
    "id": "4Yvw7ro3TU-_"
   },
   "source": [
    "### Нормальное распределение"
   ]
  },
  {
   "cell_type": "markdown",
   "metadata": {
    "id": "8fYXj3irTU-_"
   },
   "source": [
    "* **np.random.randn($\\,\\mathbf{d_0, d_1, \\ldots, d_n}$)**  — генерирует массив размера $d_0\\times d_1 \\times \\ldots \\times d_n$ из стандартного нормального распределения $\\mathcal{N}(0,1)$. "
   ]
  },
  {
   "cell_type": "code",
   "execution_count": 10,
   "metadata": {
    "colab": {
     "base_uri": "https://localhost:8080/"
    },
    "executionInfo": {
     "elapsed": 53,
     "status": "ok",
     "timestamp": 1634223468976,
     "user": {
      "displayName": "Ilya A",
      "photoUrl": "https://lh3.googleusercontent.com/a-/AOh14GiSa8oddSgsU03OOnvGn7Dk96PjoJwbTrHh_f7oDw=s64",
      "userId": "17148912465935982955"
     },
     "user_tz": -180
    },
    "id": "ii5-s-g0TU_A",
    "outputId": "6c56fc79-19cd-434a-d812-0966f6c2f841"
   },
   "outputs": [
    {
     "data": {
      "text/plain": [
       "-0.17242820755043575"
      ]
     },
     "execution_count": 10,
     "metadata": {},
     "output_type": "execute_result"
    }
   ],
   "source": [
    "np.random.randn() # генерируем одно число"
   ]
  },
  {
   "cell_type": "code",
   "execution_count": 11,
   "metadata": {},
   "outputs": [],
   "source": [
    "x = np.random.randn(1000)"
   ]
  },
  {
   "cell_type": "code",
   "execution_count": 12,
   "metadata": {},
   "outputs": [
    {
     "data": {
      "text/plain": [
       "(0.03916848830707233, 0.9603155052082382)"
      ]
     },
     "execution_count": 12,
     "metadata": {},
     "output_type": "execute_result"
    }
   ],
   "source": [
    "x.mean(), x.var()"
   ]
  },
  {
   "cell_type": "code",
   "execution_count": null,
   "metadata": {
    "colab": {
     "base_uri": "https://localhost:8080/"
    },
    "executionInfo": {
     "elapsed": 47,
     "status": "ok",
     "timestamp": 1634223468976,
     "user": {
      "displayName": "Ilya A",
      "photoUrl": "https://lh3.googleusercontent.com/a-/AOh14GiSa8oddSgsU03OOnvGn7Dk96PjoJwbTrHh_f7oDw=s64",
      "userId": "17148912465935982955"
     },
     "user_tz": -180
    },
    "id": "uLqoF3PmTU_A",
    "outputId": "842e8da9-ac0b-4177-e93f-22ee30178f24"
   },
   "outputs": [
    {
     "data": {
      "text/plain": [
       "array([[ 0.52647831,  0.983809  , -1.92220001],\n",
       "       [-0.89482523,  0.33006282,  1.048591  ]])"
      ]
     },
     "execution_count": 15,
     "metadata": {},
     "output_type": "execute_result"
    }
   ],
   "source": [
    "np.random.randn(2,3) # генерируем массив нужного размера"
   ]
  },
  {
   "cell_type": "markdown",
   "metadata": {
    "id": "8UippxdlTU_B"
   },
   "source": [
    "Следующая функция делает то же самое, но у нее немного другой синтаксис. Лучше пользоваться **np.random.randn**.   \n",
    "* **np.random.standard_normal([size])** — генерирует массив размера [size] из стандартного нормального распределения $\\mathcal{N}(0,1)$.\n",
    "\n"
   ]
  },
  {
   "cell_type": "code",
   "execution_count": null,
   "metadata": {
    "colab": {
     "base_uri": "https://localhost:8080/"
    },
    "executionInfo": {
     "elapsed": 44,
     "status": "ok",
     "timestamp": 1634223468977,
     "user": {
      "displayName": "Ilya A",
      "photoUrl": "https://lh3.googleusercontent.com/a-/AOh14GiSa8oddSgsU03OOnvGn7Dk96PjoJwbTrHh_f7oDw=s64",
      "userId": "17148912465935982955"
     },
     "user_tz": -180
    },
    "id": "Ly5uIBfFTU_B",
    "outputId": "5d369091-bc4d-4e95-ccb5-60ddd816dd1d"
   },
   "outputs": [
    {
     "data": {
      "text/plain": [
       "array([[ 1.34989935,  1.24567511, -0.69119147,  1.28107338, -0.72706431],\n",
       "       [-0.79916869, -0.00354562,  0.51259464, -0.16786086,  1.34633628]])"
      ]
     },
     "execution_count": 16,
     "metadata": {},
     "output_type": "execute_result"
    }
   ],
   "source": [
    "np.random.standard_normal([2,5])"
   ]
  },
  {
   "cell_type": "markdown",
   "metadata": {
    "id": "58b-LndqTU_C"
   },
   "source": [
    "Для нормального распредления с произвольными параметрами можно использовать следующую функцию:   \n",
    "* **np.random.normal([loc, scale, size])** — генерируют массив размера [size] из нормального распределения $\\mathcal{N}\\bigl(loc,(scale)^2\\bigr)$."
   ]
  },
  {
   "cell_type": "code",
   "execution_count": null,
   "metadata": {
    "colab": {
     "base_uri": "https://localhost:8080/"
    },
    "executionInfo": {
     "elapsed": 36,
     "status": "ok",
     "timestamp": 1634223468977,
     "user": {
      "displayName": "Ilya A",
      "photoUrl": "https://lh3.googleusercontent.com/a-/AOh14GiSa8oddSgsU03OOnvGn7Dk96PjoJwbTrHh_f7oDw=s64",
      "userId": "17148912465935982955"
     },
     "user_tz": -180
    },
    "id": "gdWdcFhGTU_C",
    "outputId": "d4fef3db-c1c2-46e0-8a3d-6b3781cc6c54"
   },
   "outputs": [
    {
     "data": {
      "text/plain": [
       "array([[3.76901604, 3.51392661],\n",
       "       [7.03187226, 3.88968917],\n",
       "       [5.87251872, 4.70662057],\n",
       "       [5.04698565, 4.48339563],\n",
       "       [8.67831238, 4.61202082]])"
      ]
     },
     "execution_count": 17,
     "metadata": {},
     "output_type": "execute_result"
    }
   ],
   "source": [
    "np.random.normal(5,2, size = [5,2])"
   ]
  },
  {
   "cell_type": "markdown",
   "metadata": {
    "id": "cph6ExVkTU_D"
   },
   "source": [
    "Чтобы сгенерировать многомерное нормальное распределение, можно воспользоваться следующей функцией:\n",
    "* **np.random.multivariate_normal(mean, cov, [size])** — генерируют массив размера [size] из многомерного нормального распределения $\\mathcal{N}(mean,cov)$."
   ]
  },
  {
   "cell_type": "code",
   "execution_count": 15,
   "metadata": {
    "colab": {
     "base_uri": "https://localhost:8080/"
    },
    "executionInfo": {
     "elapsed": 31,
     "status": "ok",
     "timestamp": 1634223468978,
     "user": {
      "displayName": "Ilya A",
      "photoUrl": "https://lh3.googleusercontent.com/a-/AOh14GiSa8oddSgsU03OOnvGn7Dk96PjoJwbTrHh_f7oDw=s64",
      "userId": "17148912465935982955"
     },
     "user_tz": -180
    },
    "id": "jmEw3ZFPTU_D",
    "outputId": "690b5b9d-d699-4193-f097-b9a6bac107d9"
   },
   "outputs": [],
   "source": [
    "d = 5 \n",
    "mean = np.ones(d)\n",
    "cov = 5*np.eye(d)\n",
    "\n",
    "X = np.random.multivariate_normal(mean, cov, size = 100)"
   ]
  },
  {
   "cell_type": "code",
   "execution_count": 19,
   "metadata": {},
   "outputs": [
    {
     "data": {
      "text/plain": [
       "array([1.30181969, 1.20713245, 1.19821665, 0.80067716, 1.43167876])"
      ]
     },
     "execution_count": 19,
     "metadata": {},
     "output_type": "execute_result"
    }
   ],
   "source": [
    "X.mean(axis=0)"
   ]
  },
  {
   "cell_type": "markdown",
   "metadata": {
    "id": "8tmFbpJBTU_E"
   },
   "source": [
    "### Другие распределения"
   ]
  },
  {
   "cell_type": "markdown",
   "metadata": {
    "id": "ymztayKHTU_F"
   },
   "source": [
    "В качестве примера приведем еще фукции для распределений, которые мы упоминали в курсе по теории вероятностей:\n",
    "* **np.random.binomial(n, p[, size])** — биномиальное распределение  \n",
    "* **np.random.exponential([scale, size])** — экспоненциальное распределение  \n",
    "* **np.random.poisson([lam, size])** — распределение Пуассона  \n",
    "* **np.random.standard_cauchy([size])** — распределение Коши  "
   ]
  },
  {
   "cell_type": "markdown",
   "metadata": {
    "id": "mXeuY_utTU_G"
   },
   "source": [
    "Полный список распределений можно посмотреть на: https://docs.scipy.org/doc/numpy-1.15.0/reference/routines.random.html"
   ]
  },
  {
   "cell_type": "code",
   "execution_count": 20,
   "metadata": {},
   "outputs": [],
   "source": [
    "import scipy.stats as st"
   ]
  },
  {
   "cell_type": "code",
   "execution_count": 22,
   "metadata": {},
   "outputs": [
    {
     "data": {
      "text/plain": [
       "-1.814727087567263"
      ]
     },
     "execution_count": 22,
     "metadata": {},
     "output_type": "execute_result"
    }
   ],
   "source": [
    "st.norm().rvs()"
   ]
  },
  {
   "cell_type": "code",
   "execution_count": 24,
   "metadata": {},
   "outputs": [
    {
     "data": {
      "text/plain": [
       "0.5"
      ]
     },
     "execution_count": 24,
     "metadata": {},
     "output_type": "execute_result"
    }
   ],
   "source": [
    "st.norm().cdf(0)"
   ]
  }
 ],
 "metadata": {
  "colab": {
   "collapsed_sections": [],
   "name": "2_sem_pt1_Generating_Random_Numbers.ipynb",
   "provenance": []
  },
  "kernelspec": {
   "display_name": "Python 3",
   "language": "python",
   "name": "python3"
  },
  "language_info": {
   "codemirror_mode": {
    "name": "ipython",
    "version": 3
   },
   "file_extension": ".py",
   "mimetype": "text/x-python",
   "name": "python",
   "nbconvert_exporter": "python",
   "pygments_lexer": "ipython3",
   "version": "3.9.4"
  },
  "toc": {
   "base_numbering": 1,
   "nav_menu": {},
   "number_sections": true,
   "sideBar": true,
   "skip_h1_title": false,
   "title_cell": "Table of Contents",
   "title_sidebar": "Contents",
   "toc_cell": true,
   "toc_position": {},
   "toc_section_display": true,
   "toc_window_display": true
  }
 },
 "nbformat": 4,
 "nbformat_minor": 1
}
