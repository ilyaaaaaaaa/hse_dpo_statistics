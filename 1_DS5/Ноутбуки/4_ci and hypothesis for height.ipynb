{
 "cells": [
  {
   "cell_type": "markdown",
   "id": "e6cac136",
   "metadata": {
    "toc": true
   },
   "source": [
    "<h1>Table of Contents<span class=\"tocSkip\"></span></h1>\n",
    "<div class=\"toc\"><ul class=\"toc-item\"><li><span><a href=\"#нормальное-распределение\" data-toc-modified-id=\"нормальное-распределение-1\"><span class=\"toc-item-num\">1&nbsp;&nbsp;</span>нормальное распределение</a></span><ul class=\"toc-item\"><li><span><a href=\"#точный-доверительный-интервал\" data-toc-modified-id=\"точный-доверительный-интервал-1.1\"><span class=\"toc-item-num\">1.1&nbsp;&nbsp;</span>точный доверительный интервал</a></span><ul class=\"toc-item\"><li><span><a href=\"#mu---мат.-ожидание\" data-toc-modified-id=\"mu---мат.-ожидание-1.1.1\"><span class=\"toc-item-num\">1.1.1&nbsp;&nbsp;</span>mu - мат. ожидание</a></span></li><li><span><a href=\"#sigma2---дисперсия\" data-toc-modified-id=\"sigma2---дисперсия-1.1.2\"><span class=\"toc-item-num\">1.1.2&nbsp;&nbsp;</span>sigma2 - дисперсия</a></span></li></ul></li><li><span><a href=\"#непараметрический-бутстрэп\" data-toc-modified-id=\"непараметрический-бутстрэп-1.2\"><span class=\"toc-item-num\">1.2&nbsp;&nbsp;</span>непараметрический бутстрэп</a></span></li></ul></li><li><span><a href=\"#экспоненциальное-распределение\" data-toc-modified-id=\"экспоненциальное-распределение-2\"><span class=\"toc-item-num\">2&nbsp;&nbsp;</span>экспоненциальное распределение</a></span><ul class=\"toc-item\"><li><span><a href=\"#непараметрический-бутстреп\" data-toc-modified-id=\"непараметрический-бутстреп-2.1\"><span class=\"toc-item-num\">2.1&nbsp;&nbsp;</span>непараметрический бутстреп</a></span><ul class=\"toc-item\"><li><span><a href=\"#для-beta\" data-toc-modified-id=\"для-beta-2.1.1\"><span class=\"toc-item-num\">2.1.1&nbsp;&nbsp;</span>для beta</a></span></li><li><span><a href=\"#для-lambda\" data-toc-modified-id=\"для-lambda-2.1.2\"><span class=\"toc-item-num\">2.1.2&nbsp;&nbsp;</span>для lambda</a></span></li></ul></li></ul></li><li><span><a href=\"#Гипотеза-о-среднем-росте\" data-toc-modified-id=\"Гипотеза-о-среднем-росте-3\"><span class=\"toc-item-num\">3&nbsp;&nbsp;</span>Гипотеза о среднем росте</a></span></li></ul></div>"
   ]
  },
  {
   "cell_type": "code",
   "execution_count": 1,
   "id": "50a47f3c",
   "metadata": {},
   "outputs": [],
   "source": [
    "from scipy import stats\n",
    "import numpy as np\n",
    "\n",
    "import seaborn as sns\n",
    "import pandas as pd"
   ]
  },
  {
   "cell_type": "markdown",
   "id": "fd7e90d8",
   "metadata": {},
   "source": [
    "# нормальное распределение "
   ]
  },
  {
   "cell_type": "code",
   "execution_count": 2,
   "id": "49033f61",
   "metadata": {},
   "outputs": [
    {
     "data": {
      "text/plain": [
       "array([139.51173496, 148.53311484, 157.48185697, 172.28600816,\n",
       "       179.70386131, 172.37478948, 163.43709365, 145.82208226,\n",
       "       174.8358769 , 139.21525988, 133.44886924, 190.33958668,\n",
       "       158.58891212, 149.77390878, 172.86616409, 171.21754945,\n",
       "       140.50441688, 158.20469428, 159.64874441, 157.60460452,\n",
       "       162.41928078, 157.73892954, 150.9621215 , 151.244821  ,\n",
       "       173.41619216, 149.82274033, 150.99742022, 171.76804239,\n",
       "       164.80518421, 147.84268127, 180.22833876, 126.93729099,\n",
       "       162.88876225, 153.80278126, 155.91207915, 178.20522725,\n",
       "       159.41330351, 164.73827022, 154.17148452, 178.42083998,\n",
       "       145.75965663, 170.33024599, 164.87403932, 148.98602823,\n",
       "       150.94094416, 152.48868322, 172.38493565, 174.24400582,\n",
       "       150.76190969, 150.3073423 , 154.918342  , 160.75331535,\n",
       "       177.35100935, 159.14958141, 153.23027101, 153.90892761,\n",
       "       183.43438785, 179.48943512, 133.89147724, 172.62824396,\n",
       "       141.33345018, 173.16376561, 189.61457145, 153.83836418,\n",
       "       158.16417729, 156.9886359 , 186.08136693, 149.39840817,\n",
       "       163.37888464, 186.87024002, 160.82493774, 137.92543567,\n",
       "       148.5214059 , 161.78453993, 164.06323111, 154.52461622,\n",
       "       152.34043439, 161.90883359, 156.02606442, 194.00124025,\n",
       "       159.80231553, 155.58599341, 152.81609266, 151.80418891,\n",
       "       145.7791396 , 154.3308819 , 163.90492772, 163.86988529,\n",
       "       155.88877454, 166.86361783, 151.45376916, 137.28250247,\n",
       "       159.12288409, 149.76032481, 133.42777857, 165.96122596,\n",
       "       156.47063289, 169.79176488, 179.49263372, 149.69562958])"
      ]
     },
     "execution_count": 2,
     "metadata": {},
     "output_type": "execute_result"
    }
   ],
   "source": [
    "# как бы неизвестные параметры (придумали сами)\n",
    "mu = 160\n",
    "sigma = 15\n",
    "\n",
    "# уровень значимости и размер выборки\n",
    "alpha = 0.05\n",
    "n = 100\n",
    "\n",
    "# сгенерировали выборку\n",
    "x = np.random.normal(loc=mu, scale=sigma, size=n)\n",
    "x_height = x.copy()\n",
    "x"
   ]
  },
  {
   "cell_type": "code",
   "execution_count": 3,
   "id": "9d207467",
   "metadata": {},
   "outputs": [
    {
     "data": {
      "image/png": "[encoded data removed]",
      "text/plain": [
       "<Figure size 432x288 with 1 Axes>"
      ]
     },
     "metadata": {
      "needs_background": "light"
     },
     "output_type": "display_data"
    }
   ],
   "source": [
    "# предположим, что это нормальное распределение\n",
    "# построим разные дов. интервалы для неизвестных параметров mu и sigma\n",
    "sns.histplot(x, bins=10, kde=True);"
   ]
  },
  {
   "cell_type": "markdown",
   "id": "a6b5c4e1",
   "metadata": {},
   "source": [
    "## точный доверительный интервал"
   ]
  },
  {
   "cell_type": "code",
   "execution_count": 4,
   "id": "606a918b",
   "metadata": {},
   "outputs": [
    {
     "data": {
      "text/plain": [
       "(159.64825269129605, 183.38054147534368)"
      ]
     },
     "execution_count": 4,
     "metadata": {},
     "output_type": "execute_result"
    }
   ],
   "source": [
    "# точечные оценки методом моментов / макс. правдоподобия\n",
    "# просто выборочные среднее и дисперсия\n",
    "x.mean(), x.var()"
   ]
  },
  {
   "cell_type": "markdown",
   "id": "100fb1e6",
   "metadata": {},
   "source": [
    "### mu - мат. ожидание"
   ]
  },
  {
   "cell_type": "markdown",
   "id": "a0661527",
   "metadata": {},
   "source": [
    "![](https://dataz4s.com/wp-content/uploads/2020/03/03.-Confidence-intervals-formula.jpg)\n",
    "\n",
    "![](https://media.geeksforgeeks.org/wp-content/uploads/20200525113955/f126.png)"
   ]
  },
  {
   "cell_type": "code",
   "execution_count": 5,
   "id": "e9d486e4",
   "metadata": {},
   "outputs": [
    {
     "data": {
      "text/plain": [
       "(156.96159671759827, 162.33490866499383)"
      ]
     },
     "execution_count": 5,
     "metadata": {},
     "output_type": "execute_result"
    }
   ],
   "source": [
    "# квантиль уровня 1-alpha\n",
    "t = stats.t(100).ppf(1-0.05/2)\n",
    "\n",
    "# ТОЧНЫЙ дов. интервал для mu\n",
    "CI_mu_lower, CI_mu_upper = x.mean() - t*x.std()/n**0.5, x.mean() + t*x.std()/n**0.5\n",
    "CI_mu_lower, CI_mu_upper\n",
    "\n",
    "# грубо говоря, mu лежит в нем с вероятностью 95%"
   ]
  },
  {
   "cell_type": "code",
   "execution_count": 6,
   "id": "ef80053e",
   "metadata": {},
   "outputs": [
    {
     "data": {
      "text/plain": [
       "160"
      ]
     },
     "execution_count": 6,
     "metadata": {},
     "output_type": "execute_result"
    }
   ],
   "source": [
    "mu\n",
    "# настоящее mu действительно в дов. интервале"
   ]
  },
  {
   "cell_type": "markdown",
   "id": "55e84a0d",
   "metadata": {},
   "source": [
    "### sigma2 - дисперсия"
   ]
  },
  {
   "cell_type": "markdown",
   "id": "5905293a",
   "metadata": {},
   "source": [
    "![](https://knowledgehills.com/content/images/Six-Sigma/Six-Sigma-t-Confidence-Interval-Variance-Chart.gif)"
   ]
  },
  {
   "cell_type": "code",
   "execution_count": 7,
   "id": "03fa603b",
   "metadata": {},
   "outputs": [
    {
     "data": {
      "text/plain": [
       "(73.36108019128368, 128.4219886438403)"
      ]
     },
     "execution_count": 7,
     "metadata": {},
     "output_type": "execute_result"
    }
   ],
   "source": [
    "chi2_lower = stats.chi2(n-1).ppf(0.05/2)\n",
    "chi2_upper = stats.chi2(n-1).ppf(1-0.05/2)\n",
    "\n",
    "# квантили хи-квадрата\n",
    "chi2_lower, chi2_upper"
   ]
  },
  {
   "cell_type": "code",
   "execution_count": 8,
   "id": "072bfa45",
   "metadata": {},
   "outputs": [
    {
     "data": {
      "text/plain": [
       "(142.7952824994191, 249.9697946066119)"
      ]
     },
     "execution_count": 8,
     "metadata": {},
     "output_type": "execute_result"
    }
   ],
   "source": [
    "# дов. интервал для sigma\n",
    "x.var(ddof=1)*(n-1)/chi2_upper, x.var(ddof=1)*(n-1)/chi2_lower"
   ]
  },
  {
   "cell_type": "code",
   "execution_count": 9,
   "id": "b175d57f",
   "metadata": {},
   "outputs": [
    {
     "data": {
      "text/plain": [
       "225"
      ]
     },
     "execution_count": 9,
     "metadata": {},
     "output_type": "execute_result"
    }
   ],
   "source": [
    "# настоящая sigma^2\n",
    "sigma**2"
   ]
  },
  {
   "cell_type": "markdown",
   "id": "d4f36910",
   "metadata": {},
   "source": [
    "## непараметрический бутстрэп"
   ]
  },
  {
   "cell_type": "markdown",
   "id": "dd4c9faf",
   "metadata": {},
   "source": [
    "![](https://hsto.org/webt/n0/dg/du/n0dgduav1ygc3iylumtwjcn15mu.png)"
   ]
  },
  {
   "cell_type": "code",
   "execution_count": 10,
   "id": "d4e91b29",
   "metadata": {},
   "outputs": [
    {
     "data": {
      "text/plain": [
       "(100, 100000)"
      ]
     },
     "execution_count": 10,
     "metadata": {},
     "output_type": "execute_result"
    }
   ],
   "source": [
    "m = 100000\n",
    "\n",
    "# сгенерируем m псевдовыборок\n",
    "X_bootstrapped = np.random.choice(x, size=(n, m), replace=True)\n",
    "X_bootstrapped.shape"
   ]
  },
  {
   "cell_type": "code",
   "execution_count": 11,
   "id": "114d226a",
   "metadata": {},
   "outputs": [
    {
     "data": {
      "text/plain": [
       "(100000,)"
      ]
     },
     "execution_count": 11,
     "metadata": {},
     "output_type": "execute_result"
    }
   ],
   "source": [
    "mu_bootstrapped = X_bootstrapped.mean(axis=0)\n",
    "mu_bootstrapped.shape"
   ]
  },
  {
   "cell_type": "code",
   "execution_count": 12,
   "id": "c4b04dac",
   "metadata": {},
   "outputs": [
    {
     "data": {
      "image/png": "[encoded data removed]",
      "text/plain": [
       "<Figure size 432x288 with 1 Axes>"
      ]
     },
     "metadata": {
      "needs_background": "light"
     },
     "output_type": "display_data"
    }
   ],
   "source": [
    "sns.histplot(mu_bootstrapped, bins=30, kde=True);"
   ]
  },
  {
   "cell_type": "code",
   "execution_count": 13,
   "id": "8267d0b6",
   "metadata": {},
   "outputs": [
    {
     "data": {
      "text/plain": [
       "(100000,)"
      ]
     },
     "execution_count": 13,
     "metadata": {},
     "output_type": "execute_result"
    }
   ],
   "source": [
    "var_bootstrapped = X_bootstrapped.var(axis=0, ddof=1)\n",
    "var_bootstrapped.shape"
   ]
  },
  {
   "cell_type": "code",
   "execution_count": 14,
   "id": "67433c04",
   "metadata": {},
   "outputs": [
    {
     "data": {
      "image/png": "[encoded data removed]",
      "text/plain": [
       "<Figure size 432x288 with 1 Axes>"
      ]
     },
     "metadata": {
      "needs_background": "light"
     },
     "output_type": "display_data"
    }
   ],
   "source": [
    "sns.histplot(var_bootstrapped, bins=30, kde=True);"
   ]
  },
  {
   "cell_type": "code",
   "execution_count": 15,
   "id": "6fe578f9",
   "metadata": {},
   "outputs": [
    {
     "data": {
      "text/plain": [
       "(157.0194068081845, 162.30210798076686)"
      ]
     },
     "execution_count": 15,
     "metadata": {},
     "output_type": "execute_result"
    }
   ],
   "source": [
    "np.quantile(mu_bootstrapped, alpha/2), np.quantile(mu_bootstrapped, 1-alpha/2)\n"
   ]
  },
  {
   "cell_type": "code",
   "execution_count": 16,
   "id": "0627a0bc",
   "metadata": {},
   "outputs": [
    {
     "data": {
      "text/plain": [
       "(156.96159671759827, 162.33490866499383)"
      ]
     },
     "execution_count": 16,
     "metadata": {},
     "output_type": "execute_result"
    }
   ],
   "source": [
    "# ТОЧНЫЙ дов. интервал для mu\n",
    "CI_mu_lower, CI_mu_upper\n",
    "# интервалы почти совпали!"
   ]
  },
  {
   "cell_type": "markdown",
   "id": "3b233eee",
   "metadata": {},
   "source": [
    "# экспоненциальное распределение"
   ]
  },
  {
   "cell_type": "markdown",
   "id": "12a26737",
   "metadata": {},
   "source": [
    "## непараметрический бутстреп "
   ]
  },
  {
   "cell_type": "markdown",
   "id": "fe25f35d",
   "metadata": {},
   "source": [
    "### для beta\n",
    "\n",
    "![](https://numpy.org/doc/1.16/_images/math/8840abeb74cea46293b944971a4cac7f0db924f6.svg)"
   ]
  },
  {
   "cell_type": "code",
   "execution_count": 17,
   "id": "bc6ff21e",
   "metadata": {},
   "outputs": [],
   "source": [
    "scale = 10\n",
    "x = np.random.exponential(scale=scale, size=n)"
   ]
  },
  {
   "cell_type": "code",
   "execution_count": 18,
   "id": "347841ee",
   "metadata": {},
   "outputs": [
    {
     "data": {
      "text/plain": [
       "(8.480173792917585, 12.750814632093768)"
      ]
     },
     "execution_count": 18,
     "metadata": {},
     "output_type": "execute_result"
    }
   ],
   "source": [
    "X_bootstrapped = np.random.choice(x, size=(n, m), replace=True)\n",
    "mu_bootstrapped = X_bootstrapped.mean(axis=0)\n",
    "np.quantile(mu_bootstrapped, alpha/2), np.quantile(mu_bootstrapped, 1-alpha/2)"
   ]
  },
  {
   "cell_type": "code",
   "execution_count": 19,
   "id": "39511015",
   "metadata": {},
   "outputs": [
    {
     "data": {
      "text/plain": [
       "10"
      ]
     },
     "execution_count": 19,
     "metadata": {},
     "output_type": "execute_result"
    }
   ],
   "source": [
    "scale"
   ]
  },
  {
   "cell_type": "code",
   "execution_count": 20,
   "id": "9cd54632",
   "metadata": {},
   "outputs": [
    {
     "data": {
      "image/png": "[encoded data removed]",
      "text/plain": [
       "<Figure size 432x288 with 1 Axes>"
      ]
     },
     "metadata": {
      "needs_background": "light"
     },
     "output_type": "display_data"
    }
   ],
   "source": [
    "sns.histplot(mu_bootstrapped, bins=30, kde=True);"
   ]
  },
  {
   "cell_type": "markdown",
   "id": "a45843c2",
   "metadata": {},
   "source": [
    "### для lambda"
   ]
  },
  {
   "cell_type": "markdown",
   "id": "d4b3bd33",
   "metadata": {},
   "source": [
    "![](https://www.gstatic.com/education/formulas2/397133473/en/exponential_distribution.svg)"
   ]
  },
  {
   "cell_type": "code",
   "execution_count": 21,
   "id": "f5f60593",
   "metadata": {},
   "outputs": [],
   "source": [
    "# методом моментов - lambda = 1/x.mean()\n",
    "lambda_bootstrapped = 1/X_bootstrapped.mean(axis=0)"
   ]
  },
  {
   "cell_type": "code",
   "execution_count": 22,
   "id": "1829ce7f",
   "metadata": {},
   "outputs": [
    {
     "data": {
      "text/plain": [
       "(0.07842636167668537, 0.11792211156757608)"
      ]
     },
     "execution_count": 22,
     "metadata": {},
     "output_type": "execute_result"
    }
   ],
   "source": [
    "np.quantile(lambda_bootstrapped, alpha/2), np.quantile(lambda_bootstrapped, 1-alpha/2)"
   ]
  },
  {
   "cell_type": "code",
   "execution_count": 23,
   "id": "01c51ed3",
   "metadata": {},
   "outputs": [
    {
     "data": {
      "text/plain": [
       "0.1"
      ]
     },
     "execution_count": 23,
     "metadata": {},
     "output_type": "execute_result"
    }
   ],
   "source": [
    "1/scale"
   ]
  },
  {
   "cell_type": "code",
   "execution_count": 24,
   "id": "189f2264",
   "metadata": {},
   "outputs": [
    {
     "data": {
      "image/png": "[encoded data removed]",
      "text/plain": [
       "<Figure size 432x288 with 1 Axes>"
      ]
     },
     "metadata": {
      "needs_background": "light"
     },
     "output_type": "display_data"
    }
   ],
   "source": [
    "sns.histplot(lambda_bootstrapped, bins=30, kde=True);"
   ]
  },
  {
   "cell_type": "markdown",
   "id": "334a6bae",
   "metadata": {},
   "source": [
    "# Гипотеза о среднем росте"
   ]
  },
  {
   "cell_type": "code",
   "execution_count": 25,
   "id": "d2073eea",
   "metadata": {},
   "outputs": [
    {
     "data": {
      "text/plain": [
       "array([139.51173496, 148.53311484, 157.48185697, 172.28600816,\n",
       "       179.70386131, 172.37478948, 163.43709365, 145.82208226,\n",
       "       174.8358769 , 139.21525988, 133.44886924, 190.33958668,\n",
       "       158.58891212, 149.77390878, 172.86616409, 171.21754945,\n",
       "       140.50441688, 158.20469428, 159.64874441, 157.60460452,\n",
       "       162.41928078, 157.73892954, 150.9621215 , 151.244821  ,\n",
       "       173.41619216, 149.82274033, 150.99742022, 171.76804239,\n",
       "       164.80518421, 147.84268127, 180.22833876, 126.93729099,\n",
       "       162.88876225, 153.80278126, 155.91207915, 178.20522725,\n",
       "       159.41330351, 164.73827022, 154.17148452, 178.42083998,\n",
       "       145.75965663, 170.33024599, 164.87403932, 148.98602823,\n",
       "       150.94094416, 152.48868322, 172.38493565, 174.24400582,\n",
       "       150.76190969, 150.3073423 , 154.918342  , 160.75331535,\n",
       "       177.35100935, 159.14958141, 153.23027101, 153.90892761,\n",
       "       183.43438785, 179.48943512, 133.89147724, 172.62824396,\n",
       "       141.33345018, 173.16376561, 189.61457145, 153.83836418,\n",
       "       158.16417729, 156.9886359 , 186.08136693, 149.39840817,\n",
       "       163.37888464, 186.87024002, 160.82493774, 137.92543567,\n",
       "       148.5214059 , 161.78453993, 164.06323111, 154.52461622,\n",
       "       152.34043439, 161.90883359, 156.02606442, 194.00124025,\n",
       "       159.80231553, 155.58599341, 152.81609266, 151.80418891,\n",
       "       145.7791396 , 154.3308819 , 163.90492772, 163.86988529,\n",
       "       155.88877454, 166.86361783, 151.45376916, 137.28250247,\n",
       "       159.12288409, 149.76032481, 133.42777857, 165.96122596,\n",
       "       156.47063289, 169.79176488, 179.49263372, 149.69562958])"
      ]
     },
     "execution_count": 25,
     "metadata": {},
     "output_type": "execute_result"
    }
   ],
   "source": [
    "# сгенерировали выборку\n",
    "x = x_height\n",
    "x"
   ]
  },
  {
   "cell_type": "markdown",
   "id": "bab934a5",
   "metadata": {},
   "source": [
    "- H_0 : mu = 162\n",
    "- H_1 : mu ≠ 162"
   ]
  },
  {
   "cell_type": "code",
   "execution_count": 26,
   "id": "ba7c8858",
   "metadata": {},
   "outputs": [
    {
     "data": {
      "text/plain": [
       "-1.567831539135966"
      ]
     },
     "execution_count": 26,
     "metadata": {},
     "output_type": "execute_result"
    }
   ],
   "source": [
    "mu_0 = 162\n",
    "\n",
    "z_obs = (x.mean() - mu_0)/(sigma/n**0.5)\n",
    "z_obs"
   ]
  },
  {
   "cell_type": "code",
   "execution_count": 27,
   "id": "290c5209",
   "metadata": {},
   "outputs": [
    {
     "data": {
      "text/plain": [
       "1.959963984540054"
      ]
     },
     "execution_count": 27,
     "metadata": {},
     "output_type": "execute_result"
    }
   ],
   "source": [
    "z_crit = stats.norm.ppf(1-alpha/2)\n",
    "z_crit"
   ]
  },
  {
   "cell_type": "code",
   "execution_count": 28,
   "id": "1928b717",
   "metadata": {},
   "outputs": [
    {
     "data": {
      "text/plain": [
       "'H_0 approved'"
      ]
     },
     "execution_count": 28,
     "metadata": {},
     "output_type": "execute_result"
    }
   ],
   "source": [
    "# через сравнение стратистик\n",
    "'H_0 approved'if np.abs(z_obs) <= z_crit else 'H_0 rejected'"
   ]
  },
  {
   "cell_type": "code",
   "execution_count": 29,
   "id": "39e68083",
   "metadata": {},
   "outputs": [
    {
     "data": {
      "text/plain": [
       "'H_0 approved'"
      ]
     },
     "execution_count": 29,
     "metadata": {},
     "output_type": "execute_result"
    }
   ],
   "source": [
    "# через сравнение с интервалом\n",
    "'H_0 approved'if CI_mu_lower <= mu_0 <= CI_mu_upper else 'H_0 rejected'"
   ]
  },
  {
   "cell_type": "code",
   "execution_count": 30,
   "id": "23137770",
   "metadata": {},
   "outputs": [
    {
     "data": {
      "text/plain": [
       "1.567831539135966"
      ]
     },
     "execution_count": 30,
     "metadata": {},
     "output_type": "execute_result"
    }
   ],
   "source": [
    "np.abs(z_obs)"
   ]
  },
  {
   "cell_type": "code",
   "execution_count": 31,
   "id": "903f89de",
   "metadata": {},
   "outputs": [
    {
     "data": {
      "text/plain": [
       "0.8830795476953996"
      ]
     },
     "execution_count": 31,
     "metadata": {},
     "output_type": "execute_result"
    }
   ],
   "source": [
    "p_value = stats.norm.cdf(np.abs(z_obs))-stats.norm.cdf(-np.abs(z_obs))\n",
    "p_value"
   ]
  },
  {
   "cell_type": "code",
   "execution_count": 32,
   "id": "6164c5fa",
   "metadata": {},
   "outputs": [
    {
     "data": {
      "text/plain": [
       "0.8830795476953996"
      ]
     },
     "execution_count": 32,
     "metadata": {},
     "output_type": "execute_result"
    }
   ],
   "source": [
    "p_value = 2*stats.norm.cdf(np.abs(z_obs))-1\n",
    "p_value"
   ]
  },
  {
   "cell_type": "code",
   "execution_count": null,
   "id": "1fb747cb",
   "metadata": {},
   "outputs": [],
   "source": []
  }
 ],
 "metadata": {
  "kernelspec": {
   "display_name": "Python 3",
   "language": "python",
   "name": "python3"
  },
  "language_info": {
   "codemirror_mode": {
    "name": "ipython",
    "version": 3
   },
   "file_extension": ".py",
   "mimetype": "text/x-python",
   "name": "python",
   "nbconvert_exporter": "python",
   "pygments_lexer": "ipython3",
   "version": "3.9.4"
  },
  "toc": {
   "base_numbering": 1,
   "nav_menu": {},
   "number_sections": true,
   "sideBar": true,
   "skip_h1_title": false,
   "title_cell": "Table of Contents",
   "title_sidebar": "Contents",
   "toc_cell": true,
   "toc_position": {},
   "toc_section_display": true,
   "toc_window_display": true
  }
 },
 "nbformat": 4,
 "nbformat_minor": 5
}
