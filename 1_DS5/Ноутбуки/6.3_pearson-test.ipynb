{
 "cells": [
  {
   "cell_type": "markdown",
   "id": "b4009bdc",
   "metadata": {
    "toc": true
   },
   "source": [
    "<h1>Table of Contents<span class=\"tocSkip\"></span></h1>\n",
    "<div class=\"toc\"><ul class=\"toc-item\"></ul></div>"
   ]
  },
  {
   "cell_type": "code",
   "execution_count": 1,
   "id": "2a0d5deb",
   "metadata": {},
   "outputs": [],
   "source": [
    "import numpy as np\n",
    "import seaborn as sns\n",
    "from scipy.special import binom\n",
    "from scipy import stats\n",
    "import matplotlib.pyplot as plt"
   ]
  },
  {
   "cell_type": "markdown",
   "id": "e21bc614",
   "metadata": {},
   "source": [
    "- проверяем гипотезу, что выборка ниже из экспоненциального распределения"
   ]
  },
  {
   "cell_type": "code",
   "execution_count": 6,
   "id": "539844bd",
   "metadata": {},
   "outputs": [
    {
     "data": {
      "image/png": "[encoded data removed]",
      "text/plain": [
       "<Figure size 432x288 with 1 Axes>"
      ]
     },
     "metadata": {
      "needs_background": "light"
     },
     "output_type": "display_data"
    }
   ],
   "source": [
    "X = np.array([1,1,7,16,8,8,11,7,5,45,13,0,36,15,4,15,7,39,6,91,28,7,0,2, \n",
    "              9,2,6,1,4,83,2,3,5,34,1,1,2,0,11,79,2,2,4,1,3,0,2,2,17,55,8, \n",
    "              9,20,23,16,3,5,5,4,84,1,20,1,1,20,0,19,17,5,66,0,2,5,1,26, \n",
    "              14,1,0,9,88,4,11,4,2,1,32,21,2,15,76,44,8,16,12,1,9])\n",
    "scale_mle = X.mean()\n",
    "n = X.size\n",
    "\n",
    "sns.histplot(X, stat='density', label='empirical');\n",
    "\n",
    "xs = np.arange(X.min(),X.max(),0.1)\n",
    "plt.plot(xs, stats.expon.pdf(xs, scale=scale_mle), 'red', label='theoretical');\n",
    "\n",
    "plt.show()"
   ]
  },
  {
   "cell_type": "code",
   "execution_count": 7,
   "id": "c7068ae5",
   "metadata": {},
   "outputs": [
    {
     "name": "stdout",
     "output_type": "stream",
     "text": [
      "P(-inf ≤ X < 3.333) \t= 0.200, \t Expected=19.2, \t Observed=34\n",
      "P(3.333 ≤ X < 7.630) \t= 0.200, \t Expected=19.2, \t Observed=18\n",
      "P(7.630 ≤ X < 13.687) \t= 0.200, \t Expected=19.2, \t Observed=13\n",
      "P(13.687 ≤ X < 24.041) \t= 0.200, \t Expected=19.2, \t Observed=15\n",
      "P(24.041 ≤ X < inf) \t= 0.200, \t Expected=19.2, \t Observed=16\n"
     ]
    }
   ],
   "source": [
    "# для разбиения на интервалы выберем в качестве границ теор. квантиили\n",
    "Q = [0.2,0.4,0.6,0.8]\n",
    "qs_ = [stats.expon.ppf(q, scale=scale_mle) for q in Q]\n",
    "qs = np.array([-np.inf]+qs_+[np.inf])\n",
    "\n",
    "E_ = []\n",
    "O_ = []\n",
    "\n",
    "for i in range(5):\n",
    "    a,b = qs[i], qs[i+1]\n",
    "    prob = stats.expon.cdf(b, scale=scale_mle) - stats.expon.cdf(a, scale=scale_mle)\n",
    "    E = n*prob\n",
    "    O = sum([a<x<=b for x in X])\n",
    "    \n",
    "    print(f'P({a:.3f} ≤ X < {b:.3f}) \\t= {prob:.3f}, \\t Expected={E:.1f}, \\t Observed={O}')\n",
    "    \n",
    "    E_.append(E)\n",
    "    O_.append(O)\n",
    "\n",
    "E_ = np.array(E_)\n",
    "O_ = np.array(O_)\n",
    "\n",
    "assert O_.sum() == n"
   ]
  },
  {
   "cell_type": "code",
   "execution_count": 8,
   "id": "3a759745",
   "metadata": {},
   "outputs": [
    {
     "name": "stdout",
     "output_type": "stream",
     "text": [
      "stat_crit\t 7.814727903251179\n",
      "stat_obs\t 14.937500000000004\n",
      "p-value \t 0.0018708459755163442\n"
     ]
    }
   ],
   "source": [
    "df = 5-1-1\n",
    "alpha = 0.05\n",
    "\n",
    "stat_obs = np.sum((O_-E_)**2/E)\n",
    "pval = 1-stats.chi2.cdf(stat_obs,df=df)\n",
    "\n",
    "\n",
    "print('stat_crit\\t',stats.chi2.ppf(1-alpha,df))\n",
    "print('stat_obs\\t',stat_obs)\n",
    "print('p-value \\t',pval)\n",
    "\n",
    "# гипотеза отвергается на уровне значимости 5%"
   ]
  },
  {
   "cell_type": "code",
   "execution_count": null,
   "id": "9c02fce6",
   "metadata": {},
   "outputs": [],
   "source": []
  },
  {
   "cell_type": "code",
   "execution_count": null,
   "id": "8c96d259",
   "metadata": {},
   "outputs": [],
   "source": []
  }
 ],
 "metadata": {
  "kernelspec": {
   "display_name": "Python 3",
   "language": "python",
   "name": "python3"
  },
  "language_info": {
   "codemirror_mode": {
    "name": "ipython",
    "version": 3
   },
   "file_extension": ".py",
   "mimetype": "text/x-python",
   "name": "python",
   "nbconvert_exporter": "python",
   "pygments_lexer": "ipython3",
   "version": "3.9.4"
  },
  "toc": {
   "base_numbering": 1,
   "nav_menu": {},
   "number_sections": true,
   "sideBar": true,
   "skip_h1_title": false,
   "title_cell": "Table of Contents",
   "title_sidebar": "Contents",
   "toc_cell": true,
   "toc_position": {},
   "toc_section_display": true,
   "toc_window_display": false
  }
 },
 "nbformat": 4,
 "nbformat_minor": 5
}
