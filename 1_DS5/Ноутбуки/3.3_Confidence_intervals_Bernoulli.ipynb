{
 "cells": [
  {
   "cell_type": "markdown",
   "metadata": {
    "toc": true
   },
   "source": [
    "<h1>Table of Contents<span class=\"tocSkip\"></span></h1>\n",
    "<div class=\"toc\"><ul class=\"toc-item\"><li><span><a href=\"#Доверительные-интервалы.-Распределение-Бернулли-с-неизвестной-вероятностью-успеха\" data-toc-modified-id=\"Доверительные-интервалы.-Распределение-Бернулли-с-неизвестной-вероятностью-успеха-1\"><span class=\"toc-item-num\">1&nbsp;&nbsp;</span>Доверительные интервалы. Распределение Бернулли с неизвестной вероятностью успеха</a></span></li><li><span><a href=\"#пример-с-выборами\" data-toc-modified-id=\"пример-с-выборами-2\"><span class=\"toc-item-num\">2&nbsp;&nbsp;</span>пример с выборами</a></span></li></ul></div>"
   ]
  },
  {
   "cell_type": "markdown",
   "metadata": {},
   "source": [
    "## Доверительные интервалы. Распределение Бернулли с неизвестной вероятностью успеха"
   ]
  },
  {
   "cell_type": "markdown",
   "metadata": {},
   "source": [
    "**Задача.** Пусть дана выборка из распределения Бернулли (можно считать, например, это это клики по рекламному баннеру в Интернете) длины $n=290$ и вероятностью успеха, равномерно распределенной на $[0.01,0.05]$. Оценить параметр успеха. Построить для него доверительные интервалы: (1) асимптотический, основанный на центральной предельной теореме, (2) доверительный интервал Уилсона. "
   ]
  },
  {
   "cell_type": "code",
   "execution_count": 1,
   "metadata": {},
   "outputs": [],
   "source": [
    "import numpy as np # для генерации случайных величин и работы с массивами\n",
    "import statsmodels.stats.proportion # для построения доверительных интервалов в модели Бернулли "
   ]
  },
  {
   "cell_type": "code",
   "execution_count": 2,
   "metadata": {},
   "outputs": [],
   "source": [
    "np.random.seed(123) # фиксируем seed"
   ]
  },
  {
   "cell_type": "code",
   "execution_count": 3,
   "metadata": {},
   "outputs": [],
   "source": [
    "# Фиксируем параметры задачи\n",
    "\n",
    "n = 290 # размер выборки \n",
    "alpha = 0.05 # параметр ошибки\n",
    "\n",
    "p = np.random.uniform(0.01,0.05) # неизвестный параметр успеха"
   ]
  },
  {
   "cell_type": "code",
   "execution_count": 4,
   "metadata": {},
   "outputs": [],
   "source": [
    "# Сгенерируем выборку из нужного распределения\n",
    "sample = np.random.binomial(1,p, size=n)"
   ]
  },
  {
   "cell_type": "code",
   "execution_count": 5,
   "metadata": {},
   "outputs": [
    {
     "name": "stdout",
     "output_type": "stream",
     "text": [
      "Истинное значение параметра:  0.03785876742391447\n",
      "Оценка вероятности успеха:  0.04827586206896552\n"
     ]
    }
   ],
   "source": [
    "print(\"Истинное значение параметра: \",p)\n",
    "print(\"Оценка вероятности успеха: \",np.mean(sample))"
   ]
  },
  {
   "cell_type": "markdown",
   "metadata": {},
   "source": [
    "Для того, чтобы построить доверительный интервал в модели Бернулли, можно воспользоваться методом proportion_confint  класса statsmodels.stats.proportion. Подробнее можно прочитать тут: https://www.statsmodels.org/stable/generated/statsmodels.stats.proportion.proportion_confint.html\n",
    "\n",
    "В целом, про доверительные интервалы в модели Бернулли можно почитать либо в английской Википедии: \n",
    "https://en.wikipedia.org/wiki/Binomial_proportion_confidence_interval  \n",
    "либо в этой статье:  \n",
    "http://medstatistic.ru/articles/doveritelnye-intervaly-dlya-chastot-i-doley.pdf"
   ]
  },
  {
   "cell_type": "code",
   "execution_count": 6,
   "metadata": {},
   "outputs": [
    {
     "name": "stdout",
     "output_type": "stream",
     "text": [
      "Асимптотический доверительный интервал на основе ЦПТ равен  (0.02360583346469502, 0.07294589067323601)\n"
     ]
    }
   ],
   "source": [
    "CI_Normal = statsmodels.stats.proportion.proportion_confint(sum(sample), n, alpha, method = 'normal')\n",
    "print(\"Асимптотический доверительный интервал на основе ЦПТ равен \", CI_Normal)"
   ]
  },
  {
   "cell_type": "code",
   "execution_count": 7,
   "metadata": {},
   "outputs": [
    {
     "name": "stdout",
     "output_type": "stream",
     "text": [
      "Доверительный интервал Уилсона равен  (0.02897166404273002, 0.07939105287436846)\n"
     ]
    }
   ],
   "source": [
    "CI_Wilson = statsmodels.stats.proportion.proportion_confint(sum(sample), n, alpha, method = 'wilson')\n",
    "print(\"Доверительный интервал Уилсона равен \", CI_Wilson)"
   ]
  },
  {
   "cell_type": "markdown",
   "metadata": {},
   "source": [
    "## пример с выборами"
   ]
  },
  {
   "cell_type": "code",
   "execution_count": 8,
   "metadata": {},
   "outputs": [
    {
     "data": {
      "text/plain": [
       "0.6475087688364488"
      ]
     },
     "execution_count": 8,
     "metadata": {},
     "output_type": "execute_result"
    }
   ],
   "source": [
    "0.55 + 1.96*(0.55*0.45/100)**0.5"
   ]
  },
  {
   "cell_type": "code",
   "execution_count": 9,
   "metadata": {},
   "outputs": [
    {
     "data": {
      "text/plain": [
       "0.4524912311635513"
      ]
     },
     "execution_count": 9,
     "metadata": {},
     "output_type": "execute_result"
    }
   ],
   "source": [
    "0.55 - 1.96*(0.55*0.45/100)**0.5"
   ]
  },
  {
   "cell_type": "code",
   "execution_count": 10,
   "metadata": {},
   "outputs": [
    {
     "data": {
      "text/plain": [
       "380.3183999999994"
      ]
     },
     "execution_count": 10,
     "metadata": {},
     "output_type": "execute_result"
    }
   ],
   "source": [
    "z = 1.96\n",
    "p_win = 0.5\n",
    "mean = 0.55\n",
    "\n",
    "((z*(mean*(1-mean))**0.5)/(mean-p_win))**2"
   ]
  },
  {
   "cell_type": "code",
   "execution_count": 11,
   "metadata": {},
   "outputs": [
    {
     "name": "stdout",
     "output_type": "stream",
     "text": [
      "0.4524912311635513\n",
      "0.6475087688364488\n"
     ]
    }
   ],
   "source": [
    "n = 100 \n",
    "print(0.55 - 1.96*(0.55*0.45/n)**0.5)\n",
    "print(0.55 + 1.96*(0.55*0.45/n)**0.5)"
   ]
  },
  {
   "cell_type": "code",
   "execution_count": 12,
   "metadata": {},
   "outputs": [
    {
     "name": "stdout",
     "output_type": "stream",
     "text": [
      "0.5484202761130327\n",
      "0.5515797238869674\n"
     ]
    }
   ],
   "source": [
    "n = 381000\n",
    "print(0.55 - 1.96*(0.55*0.45/n)**0.5)\n",
    "print(0.55 + 1.96*(0.55*0.45/n)**0.5)"
   ]
  },
  {
   "cell_type": "code",
   "execution_count": 13,
   "metadata": {},
   "outputs": [],
   "source": [
    "import matplotlib.pyplot as plt"
   ]
  },
  {
   "cell_type": "code",
   "execution_count": 14,
   "metadata": {},
   "outputs": [
    {
     "data": {
      "image/png": "[encoded data removed]",
      "text/plain": [
       "<Figure size 432x288 with 1 Axes>"
      ]
     },
     "metadata": {
      "needs_background": "light"
     },
     "output_type": "display_data"
    }
   ],
   "source": [
    "xr = range(10,100000,10)\n",
    "plt.plot(xr,[0.55 - 1.96*(0.55*0.45/x)**0.5 for x in xr])\n",
    "plt.plot(xr,[0.55 + 1.96*(0.55*0.45/x)**0.5 for x in xr])\n",
    "plt.show()"
   ]
  }
 ],
 "metadata": {
  "kernelspec": {
   "display_name": "Python 3",
   "language": "python",
   "name": "python3"
  },
  "language_info": {
   "codemirror_mode": {
    "name": "ipython",
    "version": 3
   },
   "file_extension": ".py",
   "mimetype": "text/x-python",
   "name": "python",
   "nbconvert_exporter": "python",
   "pygments_lexer": "ipython3",
   "version": "3.9.4"
  },
  "toc": {
   "base_numbering": 1,
   "nav_menu": {},
   "number_sections": true,
   "sideBar": true,
   "skip_h1_title": false,
   "title_cell": "Table of Contents",
   "title_sidebar": "Contents",
   "toc_cell": true,
   "toc_position": {},
   "toc_section_display": true,
   "toc_window_display": true
  }
 },
 "nbformat": 4,
 "nbformat_minor": 2
}
