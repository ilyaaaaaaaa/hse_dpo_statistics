{
 "cells": [
  {
   "cell_type": "markdown",
   "metadata": {
    "id": "ZNAx9EvhTV4s"
   },
   "source": [
    "## Теория оценивания"
   ]
  },
  {
   "cell_type": "markdown",
   "metadata": {
    "id": "zXVXbzYdTV44"
   },
   "source": [
    "**Задача.** Пусть $x_1,\\ldots,x_n$ — реализация из модели сдвига показательного закона\n",
    "\tс плотностью распределения \n",
    "\t$$\n",
    "\t\tf_\\theta(u) = e^{-\\lambda(u-\\theta)}\\cdot I_{\\{u\\geq\\theta\\}} \n",
    "\t\t= \n",
    "\t\t\\begin{cases}\n",
    "\t\t \te^{-\\lambda(u-\\theta)}, & u\\geq\\theta,\\\\\n",
    "\t\t\t0, & u<\\theta.\n",
    "\t\t\\end{cases}\n",
    "\t$$\t\n",
    "Оценить $\\theta$ с помощью метода моментов и метода максимального правдоподобия. Реализуйте эту задачу в Python:\n",
    "\n",
    "* сгенерируйте $\\theta$ из равномерного распределения на  $[1,10]$ и возьмите $\\lambda=1/5$;\n",
    "* сгенерируйте выборку из распределения с плотностью $f_\\theta(u)$ размера  $n=1\\,000$; \n",
    "* найдите значения оценок метода моментов и метода максимального правдоподобия."
   ]
  },
  {
   "cell_type": "code",
   "execution_count": 1,
   "metadata": {
    "executionInfo": {
     "elapsed": 26,
     "status": "ok",
     "timestamp": 1634223407880,
     "user": {
      "displayName": "Ilya A",
      "photoUrl": "https://lh3.googleusercontent.com/a-/AOh14GiSa8oddSgsU03OOnvGn7Dk96PjoJwbTrHh_f7oDw=s64",
      "userId": "17148912465935982955"
     },
     "user_tz": -180
    },
    "id": "VmdOAyIxTV48"
   },
   "outputs": [],
   "source": [
    "import numpy as np\n"
   ]
  },
  {
   "cell_type": "code",
   "execution_count": 2,
   "metadata": {
    "executionInfo": {
     "elapsed": 26,
     "status": "ok",
     "timestamp": 1634223407881,
     "user": {
      "displayName": "Ilya A",
      "photoUrl": "https://lh3.googleusercontent.com/a-/AOh14GiSa8oddSgsU03OOnvGn7Dk96PjoJwbTrHh_f7oDw=s64",
      "userId": "17148912465935982955"
     },
     "user_tz": -180
    },
    "id": "j-NoMUy1TV5F"
   },
   "outputs": [],
   "source": [
    "np.random.seed(100) # зафиксируем seed"
   ]
  },
  {
   "cell_type": "markdown",
   "metadata": {
    "id": "rgqO5zWfTV5G"
   },
   "source": [
    "Обратите внимание на то, что в np.random.exponential параметр scale = 1/$\\lambda$."
   ]
  },
  {
   "cell_type": "code",
   "execution_count": 21,
   "metadata": {
    "executionInfo": {
     "elapsed": 26,
     "status": "ok",
     "timestamp": 1634223407882,
     "user": {
      "displayName": "Ilya A",
      "photoUrl": "https://lh3.googleusercontent.com/a-/AOh14GiSa8oddSgsU03OOnvGn7Dk96PjoJwbTrHh_f7oDw=s64",
      "userId": "17148912465935982955"
     },
     "user_tz": -180
    },
    "id": "7EvvHjyaTV5H"
   },
   "outputs": [],
   "source": [
    "n = 1000 # размер выборки\n",
    "\n",
    "scale = 5 # параметр показательного распределения (scale)\n",
    "drift = np.random.uniform(1,10) # а это сдвиг, который нам неизвестен и который мы будем оценивать\n",
    "\n",
    "drift = 10"
   ]
  },
  {
   "cell_type": "code",
   "execution_count": 22,
   "metadata": {
    "executionInfo": {
     "elapsed": 26,
     "status": "ok",
     "timestamp": 1634223407883,
     "user": {
      "displayName": "Ilya A",
      "photoUrl": "https://lh3.googleusercontent.com/a-/AOh14GiSa8oddSgsU03OOnvGn7Dk96PjoJwbTrHh_f7oDw=s64",
      "userId": "17148912465935982955"
     },
     "user_tz": -180
    },
    "id": "vzACoqwpTV5I"
   },
   "outputs": [],
   "source": [
    "sample = drift + np.random.exponential(scale, size = n) # генерируем выборку размера n"
   ]
  },
  {
   "cell_type": "code",
   "execution_count": 23,
   "metadata": {},
   "outputs": [],
   "source": [
    "import seaborn as sns"
   ]
  },
  {
   "cell_type": "code",
   "execution_count": 26,
   "metadata": {},
   "outputs": [
    {
     "data": {
      "image/png": "[encoded data removed]",
      "text/plain": [
       "<Figure size 432x288 with 1 Axes>"
      ]
     },
     "metadata": {
      "needs_background": "light"
     },
     "output_type": "display_data"
    }
   ],
   "source": [
    "sns.histplot(sample, bins=20, kde=True);"
   ]
  },
  {
   "cell_type": "code",
   "execution_count": 27,
   "metadata": {
    "executionInfo": {
     "elapsed": 26,
     "status": "ok",
     "timestamp": 1634223407884,
     "user": {
      "displayName": "Ilya A",
      "photoUrl": "https://lh3.googleusercontent.com/a-/AOh14GiSa8oddSgsU03OOnvGn7Dk96PjoJwbTrHh_f7oDw=s64",
      "userId": "17148912465935982955"
     },
     "user_tz": -180
    },
    "id": "Iwf9mU1zTV5I"
   },
   "outputs": [],
   "source": [
    "esimate_mme = np.mean(sample) - scale  # оценка метода моментов\n",
    "esimate_mle = np.min(sample) # оценка метода максимального правдоподобия"
   ]
  },
  {
   "cell_type": "code",
   "execution_count": 28,
   "metadata": {
    "colab": {
     "base_uri": "https://localhost:8080/"
    },
    "executionInfo": {
     "elapsed": 26,
     "status": "ok",
     "timestamp": 1634223407885,
     "user": {
      "displayName": "Ilya A",
      "photoUrl": "https://lh3.googleusercontent.com/a-/AOh14GiSa8oddSgsU03OOnvGn7Dk96PjoJwbTrHh_f7oDw=s64",
      "userId": "17148912465935982955"
     },
     "user_tz": -180
    },
    "id": "xxH6xkjwTV5I",
    "outputId": "370f53a5-ca1b-4798-9c43-be411563a29e"
   },
   "outputs": [
    {
     "name": "stdout",
     "output_type": "stream",
     "text": [
      "Истинное значение параметра:  10\n",
      "Оценка метода моментов:  10.191333299962844\n",
      "Оценка метода максимального правдоподобия:  10.005093801445872\n"
     ]
    }
   ],
   "source": [
    "print(\"Истинное значение параметра: \", drift)\n",
    "print(\"Оценка метода моментов: \", esimate_mme)\n",
    "print(\"Оценка метода максимального правдоподобия: \", esimate_mle)"
   ]
  },
  {
   "cell_type": "code",
   "execution_count": 29,
   "metadata": {},
   "outputs": [
    {
     "data": {
      "text/plain": [
       "15.191333299962844"
      ]
     },
     "execution_count": 29,
     "metadata": {},
     "output_type": "execute_result"
    }
   ],
   "source": [
    "sample.mean()"
   ]
  },
  {
   "cell_type": "code",
   "execution_count": 31,
   "metadata": {},
   "outputs": [
    {
     "data": {
      "text/plain": [
       "13.81753592503825"
      ]
     },
     "execution_count": 31,
     "metadata": {},
     "output_type": "execute_result"
    }
   ],
   "source": [
    "np.median(sample)"
   ]
  },
  {
   "cell_type": "code",
   "execution_count": 44,
   "metadata": {},
   "outputs": [
    {
     "data": {
      "text/plain": [
       "0.2657573335924682"
      ]
     },
     "execution_count": 44,
     "metadata": {},
     "output_type": "execute_result"
    }
   ],
   "source": [
    "(sample.mean() - np.median(sample))/sample.std()"
   ]
  },
  {
   "cell_type": "code",
   "execution_count": 52,
   "metadata": {},
   "outputs": [],
   "source": [
    "sample = np.random.gamma(shape=2, scale=3, size=10000)"
   ]
  },
  {
   "cell_type": "code",
   "execution_count": 54,
   "metadata": {},
   "outputs": [
    {
     "data": {
      "image/png": "[encoded data removed]",
      "text/plain": [
       "<Figure size 432x288 with 1 Axes>"
      ]
     },
     "metadata": {
      "needs_background": "light"
     },
     "output_type": "display_data"
    }
   ],
   "source": [
    "sns.histplot(sample, bins=30, kde=True);"
   ]
  },
  {
   "cell_type": "code",
   "execution_count": 59,
   "metadata": {},
   "outputs": [
    {
     "data": {
      "image/png": "[encoded data removed]",
      "text/plain": [
       "<Figure size 432x288 with 1 Axes>"
      ]
     },
     "metadata": {
      "needs_background": "light"
     },
     "output_type": "display_data"
    }
   ],
   "source": [
    "sns.histplot(np.log1p(sample), bins=30, kde=True);"
   ]
  },
  {
   "cell_type": "code",
   "execution_count": 69,
   "metadata": {},
   "outputs": [
    {
     "data": {
      "text/plain": [
       "(10000, 1)"
      ]
     },
     "execution_count": 69,
     "metadata": {},
     "output_type": "execute_result"
    }
   ],
   "source": [
    "sample.reshape(-1,1).shape"
   ]
  },
  {
   "cell_type": "code",
   "execution_count": 61,
   "metadata": {},
   "outputs": [],
   "source": [
    "from sklearn.preprocessing import PowerTransformer\n",
    "pt = PowerTransformer(method='box-cox', standardize=True)"
   ]
  },
  {
   "cell_type": "code",
   "execution_count": 70,
   "metadata": {},
   "outputs": [],
   "source": [
    "sample_transformed = pt.fit_transform(sample.reshape(-1,1))"
   ]
  },
  {
   "cell_type": "code",
   "execution_count": 72,
   "metadata": {},
   "outputs": [
    {
     "data": {
      "image/png": "[encoded data removed]",
      "text/plain": [
       "<Figure size 432x288 with 1 Axes>"
      ]
     },
     "metadata": {
      "needs_background": "light"
     },
     "output_type": "display_data"
    }
   ],
   "source": [
    "sns.histplot(sample_transformed, bins=30, kde=True);"
   ]
  },
  {
   "cell_type": "code",
   "execution_count": 73,
   "metadata": {},
   "outputs": [
    {
     "data": {
      "text/plain": [
       "-2.6556534749033743e-16"
      ]
     },
     "execution_count": 73,
     "metadata": {},
     "output_type": "execute_result"
    }
   ],
   "source": [
    "sample_transformed.mean()"
   ]
  },
  {
   "cell_type": "code",
   "execution_count": 74,
   "metadata": {},
   "outputs": [
    {
     "data": {
      "text/plain": [
       "1.0"
      ]
     },
     "execution_count": 74,
     "metadata": {},
     "output_type": "execute_result"
    }
   ],
   "source": [
    "sample_transformed.std()"
   ]
  },
  {
   "cell_type": "code",
   "execution_count": 39,
   "metadata": {},
   "outputs": [],
   "source": [
    "sample.sort()"
   ]
  },
  {
   "cell_type": "code",
   "execution_count": 40,
   "metadata": {},
   "outputs": [],
   "source": [
    "from scipy.stats import mode"
   ]
  },
  {
   "cell_type": "code",
   "execution_count": 42,
   "metadata": {},
   "outputs": [
    {
     "data": {
      "text/plain": [
       "ModeResult(mode=array([11.]), count=array([152]))"
      ]
     },
     "execution_count": 42,
     "metadata": {},
     "output_type": "execute_result"
    }
   ],
   "source": [
    "mode(sample.round())"
   ]
  }
 ],
 "metadata": {
  "colab": {
   "name": "2_sem_pt2_Point_Estimates.ipynb",
   "provenance": []
  },
  "kernelspec": {
   "display_name": "Python 3",
   "language": "python",
   "name": "python3"
  },
  "language_info": {
   "codemirror_mode": {
    "name": "ipython",
    "version": 3
   },
   "file_extension": ".py",
   "mimetype": "text/x-python",
   "name": "python",
   "nbconvert_exporter": "python",
   "pygments_lexer": "ipython3",
   "version": "3.9.4"
  },
  "toc": {
   "base_numbering": 1,
   "nav_menu": {},
   "number_sections": true,
   "sideBar": true,
   "skip_h1_title": false,
   "title_cell": "Table of Contents",
   "title_sidebar": "Contents",
   "toc_cell": true,
   "toc_position": {},
   "toc_section_display": true,
   "toc_window_display": true
  }
 },
 "nbformat": 4,
 "nbformat_minor": 1
}
