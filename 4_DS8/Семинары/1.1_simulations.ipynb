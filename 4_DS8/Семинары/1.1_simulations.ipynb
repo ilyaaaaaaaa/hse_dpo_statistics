{
 "cells": [
  {
   "cell_type": "markdown",
   "metadata": {
    "id": "5vfSWkpGGcik",
    "toc": true
   },
   "source": [
    "<h1>Table of Contents<span class=\"tocSkip\"></span></h1>\n",
    "<div class=\"toc\"><ul class=\"toc-item\"><li><span><a href=\"#Симуляции-случайных-величин\" data-toc-modified-id=\"Симуляции-случайных-величин-1\">Симуляции случайных величин</a></span><ul class=\"toc-item\"><li><span><a href=\"#Генерация-случайных-величин-в-python\" data-toc-modified-id=\"Генерация-случайных-величин-в-python-1.1\">Генерация случайных величин в python</a></span></li><li><span><a href=\"#Плотность-и-функция-распределения\" data-toc-modified-id=\"Плотность-и-функция-распределения-1.2\">Плотность и функция распределения</a></span></li><li><span><a href=\"#Эмпирическое-распределение\" data-toc-modified-id=\"Эмпирическое-распределение-1.3\">Эмпирическое распределение</a></span></li><li><span><a href=\"#Генерация-выборок\" data-toc-modified-id=\"Генерация-выборок-1.4\">Генерация выборок</a></span></li><li><span><a href=\"#Зёрна\" data-toc-modified-id=\"Зёрна-1.5\">Зёрна</a></span></li></ul></li></ul></div>"
   ]
  },
  {
   "cell_type": "markdown",
   "metadata": {
    "id": "RpX0ujhuGcin"
   },
   "source": [
    "\n",
    "#  Симуляции случайных величин\n",
    "\n",
    "В этой тетрадке мы поговорим как в python можно симулировать разные случайные величины и смотреть как они выглядят."
   ]
  },
  {
   "cell_type": "code",
   "execution_count": 1,
   "metadata": {
    "id": "hT_bNpzkGcio"
   },
   "outputs": [],
   "source": [
    "import numpy as np         # библиотека для матриц и математики\n",
    "import pandas as pd        # библиотека дл работы с табличками\n",
    "from scipy import stats    # модуль для работы со статистикой\n",
    "\n",
    "# библиотеки для визуализации\n",
    "import matplotlib.pyplot as plt\n",
    "import seaborn as sns\n",
    "\n",
    "plt.style.use('ggplot')    # стиль графиков"
   ]
  },
  {
   "cell_type": "markdown",
   "metadata": {
    "id": "w__dqjx8Gcir"
   },
   "source": [
    "## Генерация случайных величин в python\n",
    "\n",
    "\n",
    "Иногда для решения задач по теории вероятностей или исследования свойств статистических алгоритмов нужно сгенерировать случайную выборку из какого-нибудь распределения. Чтобы сгенерировать в `python` любую случайную величину, нужно сделать две вещи: \n",
    "\n",
    "* Выбрать генератор. \n",
    "\n",
    "Внутри пакета `scipy.stats` есть [много разных распределений.](https://docs.scipy.org/doc/scipy-0.14.0/reference/stats.html) Среди всего этого обилия нужно найти нужное распределение и задать его параметры. Давайте сделаем это  на примере **нормального распределения**, $X \\sim N(\\mu, \\sigma^2)$. Того самого распределения, плотность которого выглядит как: \n",
    "\n",
    "$$\n",
    "f(x) = \\frac{1}{\\sigma \\sqrt{2 \\pi}} \\cdot  e^{-\\frac{(x - \\mu)^2}{2 \\sigma^2}}\n",
    "$$\n",
    "\n",
    "\n",
    "Параметр ```loc``` задаёт $\\mu$, ```scale``` — среднеквадратичное отклонение $\\sigma$."
   ]
  },
  {
   "cell_type": "code",
   "execution_count": 23,
   "metadata": {
    "id": "2Gv_KDbyGcis"
   },
   "outputs": [
    {
     "data": {
      "text/plain": [
       "<scipy.stats._distn_infrastructure.rv_frozen at 0x1692d56c0>"
      ]
     },
     "execution_count": 23,
     "metadata": {},
     "output_type": "execute_result"
    }
   ],
   "source": [
    "norm_rv = stats.norm(loc=0, scale=1)  # задали генератор \n",
    "norm_rv"
   ]
  },
  {
   "cell_type": "markdown",
   "metadata": {
    "id": "WovdWejdGcis"
   },
   "source": [
    "Когда конкретный генератор готов, у него можно вызывать разные методы: \n",
    "\n",
    "* `rvs` сгенерирует нам выборку из распределения объёма `size`\n",
    "* `cdf` вычислит для нас значение функции распределения (`cumulative distribution function`) в указанной точке\n",
    "* `pdf` вычислит значение плотности распредеелния (`probability density function`) в указанной точке \n",
    "* `ppf` вычислит квантиль, указанного уровня\n",
    "\n",
    "[В документации](https://docs.scipy.org/doc/scipy-0.14.0/reference/stats.html) можно найти и другие методы, но мы с ними практически не будем встречаться в течение нашего курса (см. разел statistical functions)."
   ]
  },
  {
   "cell_type": "code",
   "execution_count": 24,
   "metadata": {
    "id": "o_fKaPG9Gcit",
    "outputId": "3df66801-cab5-4496-c880-3dc9780e94ff"
   },
   "outputs": [
    {
     "data": {
      "text/plain": [
       "array([ 1.62434536, -0.61175641, -0.52817175, -1.07296862,  0.86540763,\n",
       "       -2.3015387 ,  1.74481176, -0.7612069 ,  0.3190391 , -0.24937038])"
      ]
     },
     "execution_count": 24,
     "metadata": {},
     "output_type": "execute_result"
    }
   ],
   "source": [
    "# сгенерируем 1000 значений\n",
    "sample = norm_rv.rvs(size=1000, random_state=1)\n",
    "sample[:10]"
   ]
  },
  {
   "cell_type": "code",
   "execution_count": 25,
   "metadata": {},
   "outputs": [
    {
     "data": {
      "text/plain": [
       "0.902290002740676"
      ]
     },
     "execution_count": 25,
     "metadata": {},
     "output_type": "execute_result"
    }
   ],
   "source": [
    "# класс не обязательно инициализировать\n",
    "stats.norm(loc=2, scale=1).rvs()"
   ]
  },
  {
   "cell_type": "code",
   "execution_count": 26,
   "metadata": {
    "id": "EMwzTcuLGciu",
    "outputId": "88a76ed0-11ae-4799-a1b0-7a27b1c84c81"
   },
   "outputs": [
    {
     "data": {
      "text/plain": [
       "(1000,)"
      ]
     },
     "execution_count": 26,
     "metadata": {},
     "output_type": "execute_result"
    }
   ],
   "source": [
    "sample.shape"
   ]
  },
  {
   "cell_type": "code",
   "execution_count": 27,
   "metadata": {
    "id": "i9jJ25zJGciu",
    "outputId": "1f5da437-6588-4d7b-b704-03e534a0a4ad"
   },
   "outputs": [
    {
     "data": {
      "text/plain": [
       "(0.03881247615960185, 0.9810041339322116)"
      ]
     },
     "execution_count": 27,
     "metadata": {},
     "output_type": "execute_result"
    }
   ],
   "source": [
    "sample.mean(), sample.std()"
   ]
  },
  {
   "cell_type": "markdown",
   "metadata": {
    "id": "NHRl6TSoGciv"
   },
   "source": [
    "## Плотность и функция распределения\n"
   ]
  },
  {
   "cell_type": "markdown",
   "metadata": {
    "id": "V9VnW4ENGciv"
   },
   "source": [
    "Теперь мы можем немного поэкспериментировать с нашей случайной величиной. Например, __мы можем узнать $f(1)$__."
   ]
  },
  {
   "cell_type": "code",
   "execution_count": 28,
   "metadata": {
    "id": "y51ktcXUGciv",
    "outputId": "c645469e-285e-43ab-a22f-ac183efc4b13"
   },
   "outputs": [
    {
     "data": {
      "text/plain": [
       "0.24197072451914337"
      ]
     },
     "execution_count": 28,
     "metadata": {},
     "output_type": "execute_result"
    }
   ],
   "source": [
    "norm_rv.pdf(1)"
   ]
  },
  {
   "cell_type": "markdown",
   "metadata": {
    "id": "_84y3E0TGciw"
   },
   "source": [
    "Можем построить картинку для плотности распределения, $f(x)$. "
   ]
  },
  {
   "cell_type": "code",
   "execution_count": 29,
   "metadata": {
    "id": "2ipum9WyGciw"
   },
   "outputs": [],
   "source": [
    "x = np.linspace(-3, 3, 100)\n",
    "pdf = norm_rv.pdf(x)"
   ]
  },
  {
   "cell_type": "code",
   "execution_count": 32,
   "metadata": {
    "id": "KNQ2fGfOGciw",
    "outputId": "c9433eb6-8bd5-407b-c2bc-3f57bb081c09"
   },
   "outputs": [
    {
     "data": {
      "image/png": "[encoded data removed]",
      "text/plain": [
       "<Figure size 432x288 with 1 Axes>"
      ]
     },
     "metadata": {},
     "output_type": "display_data"
    }
   ],
   "source": [
    "plt.plot(x, pdf)\n",
    "plt.ylabel('$f(x)$')\n",
    "plt.xlabel('$x$')\n",
    "\n",
    "# На ней же нарисуем f(1)\n",
    "plt.scatter([1,2], \n",
    "            [norm_rv.pdf(1), \n",
    "             norm_rv.pdf(2)], color=\"blue\");"
   ]
  },
  {
   "cell_type": "markdown",
   "metadata": {
    "id": "rZ-1RILcGcix"
   },
   "source": [
    "Теперь узнаем значение функции распределения в точке $1$: $$F(1) = P(X \\le 1) = \\int_{-\\infty}^1 f(x)dx$$"
   ]
  },
  {
   "cell_type": "code",
   "execution_count": 33,
   "metadata": {
    "id": "ejOaWK53Gcix",
    "outputId": "b038190f-4e66-4624-ddfb-4800f0658aa0"
   },
   "outputs": [
    {
     "data": {
      "text/plain": [
       "0.8413447460685429"
      ]
     },
     "execution_count": 33,
     "metadata": {},
     "output_type": "execute_result"
    }
   ],
   "source": [
    "norm_rv.cdf(1)"
   ]
  },
  {
   "cell_type": "markdown",
   "metadata": {
    "id": "-CJmbjANGcix"
   },
   "source": [
    "На плотности распределения это выглядит как площадь до точки $1$, то есть вероятность того, что $X \\le 1$."
   ]
  },
  {
   "cell_type": "code",
   "execution_count": 36,
   "metadata": {
    "id": "Me0TbXPRGcix",
    "outputId": "10c4884a-593e-43ca-e25d-7de65bf57a54"
   },
   "outputs": [
    {
     "data": {
      "image/png": "[encoded data removed]",
      "text/plain": [
       "<Figure size 432x288 with 1 Axes>"
      ]
     },
     "metadata": {},
     "output_type": "display_data"
    }
   ],
   "source": [
    "x = np.linspace(-3, 3, 100)\n",
    "pdf = norm_rv.pdf(x)\n",
    "\n",
    "plt.plot(x, pdf)\n",
    "plt.ylabel('$f(x)$')\n",
    "plt.xlabel('$x$')\n",
    "\n",
    "# На ней же нарисуем f(1)\n",
    "plt.scatter([1], [norm_rv.pdf(1)], color=\"blue\");\n",
    "\n",
    "# на ту же картинку добавили новую часть, штриховку\n",
    "xq = np.linspace(-3, 1, 100)\n",
    "yq = norm_rv.pdf(xq)\n",
    "plt.fill_between(xq, 0, yq, color='blue', alpha=0.2)\n",
    "\n",
    "plt.axvline(1, color='blue', linestyle=\"--\", lw=2);"
   ]
  },
  {
   "cell_type": "code",
   "execution_count": null,
   "metadata": {
    "id": "inSwYVlYGcix",
    "outputId": "ef9777e3-d013-4dfa-c7f7-48d4bfe2e20f"
   },
   "outputs": [],
   "source": [
    "# правило 3 сигм\n",
    "for x in [1,2,3]:\n",
    "    print(f'P({-x} < X < {x}) = Ф({x})-Ф({-x}) = ', norm_rv.cdf(x)-norm_rv.cdf(-x))"
   ]
  },
  {
   "cell_type": "markdown",
   "metadata": {
    "id": "1F3W8FGfGciy"
   },
   "source": [
    "Можем построить картинку для функции распределения."
   ]
  },
  {
   "cell_type": "code",
   "execution_count": 37,
   "metadata": {
    "id": "V3_nx5DOGciy",
    "outputId": "e1fce052-c645-43cf-fed9-4a45ccf8a96f"
   },
   "outputs": [
    {
     "data": {
      "image/png": "[encoded data removed]",
      "text/plain": [
       "<Figure size 432x288 with 1 Axes>"
      ]
     },
     "metadata": {},
     "output_type": "display_data"
    }
   ],
   "source": [
    "x = np.linspace(-3, 3, 100)\n",
    "cdf = norm_rv.cdf(x)\n",
    "\n",
    "plt.plot(x, cdf)\n",
    "plt.ylabel('$f(x)$')\n",
    "plt.xlabel('$x$')\n",
    "\n",
    "# На ней же нарисуем F(1)\n",
    "plt.scatter([1], [norm_rv.cdf(1)], color=\"blue\");"
   ]
  },
  {
   "cell_type": "markdown",
   "metadata": {
    "id": "z8Hp-EOzGciy"
   },
   "source": [
    "А теперь найдём ещё одну вероятность:\n",
    "\n",
    "$$ P(1 < X < 3) = \\int_1^3 f(x) dx = F(3) - F(1)$$"
   ]
  },
  {
   "cell_type": "markdown",
   "metadata": {
    "id": "Y-2LnHSVGciz"
   },
   "source": [
    "Это уже вероятность попасть в конкретный отрезок, изобразим её на плотности распределения. "
   ]
  },
  {
   "cell_type": "code",
   "execution_count": 38,
   "metadata": {
    "id": "ojnf-OOeGciz",
    "outputId": "8f725408-ef06-4f1d-c740-b501fd19999e"
   },
   "outputs": [
    {
     "data": {
      "image/png": "[encoded data removed]",
      "text/plain": [
       "<Figure size 432x288 with 1 Axes>"
      ]
     },
     "metadata": {},
     "output_type": "display_data"
    }
   ],
   "source": [
    "x = np.linspace(-5, 5, 100)\n",
    "pdf = norm_rv.pdf(x)\n",
    "\n",
    "plt.plot(x, pdf)\n",
    "plt.ylabel('$f(x)$')\n",
    "plt.xlabel('$x$')\n",
    "\n",
    "# На ней же нарисуем f(1)\n",
    "plt.scatter([1, 3], [norm_rv.pdf(1), norm_rv.pdf(3)], color=\"blue\");\n",
    "\n",
    "# на ту же картинку добавили новую часть, штриховку\n",
    "xq = np.linspace(1, 3)\n",
    "yq = norm_rv.pdf(xq)\n",
    "plt.fill_between(xq, 0, yq, color='blue', alpha=0.2)\n",
    "\n",
    "plt.axvline(1, color='blue', linestyle=\"--\", lw=2)\n",
    "plt.axvline(3, color='blue', linestyle=\"--\", lw=2);"
   ]
  },
  {
   "cell_type": "code",
   "execution_count": 40,
   "metadata": {
    "id": "LK0X4h-bGciy",
    "outputId": "57c383aa-0302-4bae-9336-4fa5fadeb647"
   },
   "outputs": [
    {
     "data": {
      "text/plain": [
       "0.15730535589982697"
      ]
     },
     "execution_count": 40,
     "metadata": {},
     "output_type": "execute_result"
    }
   ],
   "source": [
    "norm_rv.cdf(3) - norm_rv.cdf(1)"
   ]
  },
  {
   "cell_type": "code",
   "execution_count": 41,
   "metadata": {},
   "outputs": [
    {
     "data": {
      "text/plain": [
       "2.4197073567044924e-08"
      ]
     },
     "execution_count": 41,
     "metadata": {},
     "output_type": "execute_result"
    }
   ],
   "source": [
    "# почти ноль\n",
    "norm_rv.cdf(1) - norm_rv.cdf(1-1/10000000)"
   ]
  },
  {
   "cell_type": "markdown",
   "metadata": {
    "id": "YPkLo0JqGciz"
   },
   "source": [
    "Для полноты картины осталось только найти какой-нибудь квантиль. Квантиль уровня $\\gamma$ это такое число $q$, что \n",
    "\n",
    "$$P(X \\le q) = \\gamma$$\n",
    "\n",
    "- ppf возвращает $q$ для некоторого заданного $\\gamma$\n",
    "\n",
    "Найдём $5\\%$ и нарисуем его на картинке с плотностью:"
   ]
  },
  {
   "cell_type": "code",
   "execution_count": 48,
   "metadata": {
    "id": "h1fmhjtdGciz",
    "outputId": "94067599-1b98-4b3b-abba-62a8280b9b73"
   },
   "outputs": [
    {
     "data": {
      "text/plain": [
       "2.3263478740408408"
      ]
     },
     "execution_count": 48,
     "metadata": {},
     "output_type": "execute_result"
    }
   ],
   "source": [
    "q = norm_rv.ppf(0.5)  # медиана\n",
    "q = norm_rv.ppf(0.99)\n",
    "q"
   ]
  },
  {
   "cell_type": "code",
   "execution_count": 49,
   "metadata": {
    "id": "BHArVYUCGciz",
    "outputId": "c7898220-f183-4dc9-f3ff-adc17a86b718"
   },
   "outputs": [
    {
     "data": {
      "image/png": "[encoded data removed]",
      "text/plain": [
       "<Figure size 432x288 with 1 Axes>"
      ]
     },
     "metadata": {},
     "output_type": "display_data"
    }
   ],
   "source": [
    "x = np.linspace(-3, 3, 100)\n",
    "pdf = norm_rv.pdf(x)\n",
    "\n",
    "plt.plot(x, pdf)\n",
    "plt.ylabel('$f(x)$')\n",
    "plt.xlabel('$x$')\n",
    "\n",
    "xq = np.linspace(-3, q)\n",
    "yq = norm_rv.pdf(xq)\n",
    "plt.fill_between(xq, 0, yq, color='blue', alpha=0.2)\n",
    "\n",
    "plt.axvline(q, color='blue', linestyle=\"--\", lw=2)\n",
    "\n",
    "y_max = plt.ylim()[1]\n",
    "plt.text(q + 0.1, 0.8*y_max, round(q,2), color='blue', fontsize=16);"
   ]
  },
  {
   "cell_type": "markdown",
   "metadata": {
    "id": "vCKolAwBGciz"
   },
   "source": [
    "Обратите внимание, что всё, что мы сейчас делали - мы делали с теоретическим распределением. По аналогии можно работать с любым другим распределением. Например, с экспоненциальным: "
   ]
  },
  {
   "cell_type": "code",
   "execution_count": 50,
   "metadata": {
    "id": "7Tam3cwLGciz",
    "outputId": "f54a4b67-9c22-4a4e-9a8b-7ab427236442"
   },
   "outputs": [
    {
     "data": {
      "text/plain": [
       "array([ 0.83352719, 16.41942477,  1.69873873,  2.66920636,  2.14688794])"
      ]
     },
     "execution_count": 50,
     "metadata": {},
     "output_type": "execute_result"
    }
   ],
   "source": [
    "exp_rv = stats.expon(scale=5)\n",
    "exp_rv.rvs(5)"
   ]
  },
  {
   "cell_type": "markdown",
   "metadata": {
    "id": "-TF5ShtxGciz"
   },
   "source": [
    "## Эмпирическое распределение \n",
    "\n",
    "Давайте теперь поработаем с выборкой. Обычно мы не знаем из какого распределения она пришла к нам в руки. Мы можем посчитать какие-нибудь характеристики для нашей случайной величины."
   ]
  },
  {
   "cell_type": "code",
   "execution_count": 51,
   "metadata": {
    "id": "wdRnMWIIGciz",
    "outputId": "b48907d8-0df1-4c27-f077-86ae21ac6ec3"
   },
   "outputs": [
    {
     "data": {
      "text/plain": [
       "array([ 1.62434536, -0.61175641, -0.52817175, -1.07296862,  0.86540763,\n",
       "       -2.3015387 ,  1.74481176, -0.7612069 ,  0.3190391 , -0.24937038])"
      ]
     },
     "execution_count": 51,
     "metadata": {},
     "output_type": "execute_result"
    }
   ],
   "source": [
    "sample[:10]"
   ]
  },
  {
   "cell_type": "code",
   "execution_count": 52,
   "metadata": {
    "id": "L-Xw6pPtGci0",
    "outputId": "d6227c42-fd1d-4669-8927-c0d23e05101d"
   },
   "outputs": [
    {
     "data": {
      "text/plain": [
       "(1000,)"
      ]
     },
     "execution_count": 52,
     "metadata": {},
     "output_type": "execute_result"
    }
   ],
   "source": [
    "sample.shape"
   ]
  },
  {
   "cell_type": "code",
   "execution_count": 53,
   "metadata": {
    "id": "CUqFB_5PGci0",
    "outputId": "f651daf5-32f3-4a0d-c5a0-8c9c5ad55247"
   },
   "outputs": [
    {
     "data": {
      "text/plain": [
       "0.03881247615960185"
      ]
     },
     "execution_count": 53,
     "metadata": {},
     "output_type": "execute_result"
    }
   ],
   "source": [
    "np.mean(sample)  # выборочное среднее(при больших n похоже на математическое ожидание)"
   ]
  },
  {
   "cell_type": "code",
   "execution_count": 54,
   "metadata": {
    "id": "Oq-jjvdrGci0",
    "outputId": "9679b024-421e-498c-c8be-49a7eda66b34"
   },
   "outputs": [
    {
     "data": {
      "text/plain": [
       "0.9623691107920885"
      ]
     },
     "execution_count": 54,
     "metadata": {},
     "output_type": "execute_result"
    }
   ],
   "source": [
    "np.var(sample)   # выборочная дисперсия"
   ]
  },
  {
   "cell_type": "code",
   "execution_count": 55,
   "metadata": {
    "id": "KUJS81F-Gci0",
    "outputId": "b5d4f0c0-17df-466c-eb66-c8bc184f820f"
   },
   "outputs": [
    {
     "data": {
      "text/plain": [
       "0.9810041339322116"
      ]
     },
     "execution_count": 55,
     "metadata": {},
     "output_type": "execute_result"
    }
   ],
   "source": [
    "np.std(sample)   # выборочное стандартное отклонение"
   ]
  },
  {
   "cell_type": "code",
   "execution_count": 56,
   "metadata": {
    "id": "2Tc8yZq7Gci0",
    "outputId": "80ce617b-f159-4ee8-c004-0fd93563d524"
   },
   "outputs": [
    {
     "data": {
      "text/plain": [
       "0.04129258886921605"
      ]
     },
     "execution_count": 56,
     "metadata": {},
     "output_type": "execute_result"
    }
   ],
   "source": [
    "np.median(sample) # выборочная медиана"
   ]
  },
  {
   "cell_type": "markdown",
   "metadata": {
    "id": "xv-JgiTzGci0"
   },
   "source": [
    "Построим гистограмму. Гистограмма - это эмпирическая оценка для плотности распределения. "
   ]
  },
  {
   "cell_type": "code",
   "execution_count": 59,
   "metadata": {
    "id": "ZfBaGGiVGci0",
    "outputId": "a709971f-a419-4924-c426-78d55f0c9aa3"
   },
   "outputs": [
    {
     "data": {
      "image/png": "[encoded data removed]",
      "text/plain": [
       "<Figure size 432x288 with 1 Axes>"
      ]
     },
     "metadata": {},
     "output_type": "display_data"
    }
   ],
   "source": [
    "sns.histplot(sample, bins=20);  # bins отвечает за число столбцов"
   ]
  },
  {
   "cell_type": "code",
   "execution_count": 62,
   "metadata": {},
   "outputs": [
    {
     "data": {
      "image/png": "[encoded data removed]",
      "text/plain": [
       "<Figure size 432x288 with 1 Axes>"
      ]
     },
     "metadata": {},
     "output_type": "display_data"
    }
   ],
   "source": [
    "plt.hist(sample, bins=20);"
   ]
  },
  {
   "cell_type": "code",
   "execution_count": 58,
   "metadata": {
    "id": "Qs8uoCOCGci0",
    "outputId": "cc6172b1-5510-4628-e2bf-590ae7798481",
    "scrolled": true
   },
   "outputs": [
    {
     "data": {
      "image/png": "[encoded data removed]",
      "text/plain": [
       "<Figure size 432x288 with 1 Axes>"
      ]
     },
     "metadata": {},
     "output_type": "display_data"
    }
   ],
   "source": [
    "sns.histplot(sample, bins=1000);  # bins отвечает за число столбцов"
   ]
  },
  {
   "cell_type": "markdown",
   "metadata": {
    "id": "9zJb0M-CGci0"
   },
   "source": [
    "Нарисуем гистограмму и плотность на одной картинке. "
   ]
  },
  {
   "cell_type": "code",
   "execution_count": 63,
   "metadata": {
    "id": "TVemyyk8Gci0",
    "outputId": "f42a661f-cccf-456d-bf48-54163fa1a2c7"
   },
   "outputs": [
    {
     "data": {
      "image/png": "[encoded data removed]",
      "text/plain": [
       "<Figure size 432x288 with 1 Axes>"
      ]
     },
     "metadata": {},
     "output_type": "display_data"
    }
   ],
   "source": [
    "x = np.linspace(-3, 3, 100)\n",
    "pdf = norm_rv.pdf(x)\n",
    "\n",
    "# плотность \n",
    "plt.plot(x, pdf, lw=3)\n",
    "\n",
    "# гистограмма, параметр density отнормировал её. \n",
    "sns.histplot(sample, bins=30, stat='density');\n",
    "\n",
    "plt.ylabel('$f(x)$')\n",
    "plt.xlabel('$x$');"
   ]
  },
  {
   "cell_type": "code",
   "execution_count": 69,
   "metadata": {},
   "outputs": [
    {
     "data": {
      "image/png": "[encoded data removed]",
      "text/plain": [
       "<Figure size 432x288 with 1 Axes>"
      ]
     },
     "metadata": {},
     "output_type": "display_data"
    }
   ],
   "source": [
    "sns.kdeplot(sample);"
   ]
  },
  {
   "cell_type": "code",
   "execution_count": 70,
   "metadata": {},
   "outputs": [
    {
     "data": {
      "image/png": "[encoded data removed]",
      "text/plain": [
       "<Figure size 432x288 with 1 Axes>"
      ]
     },
     "metadata": {},
     "output_type": "display_data"
    }
   ],
   "source": [
    "sns.kdeplot(sample, bw_adjust=0.1);"
   ]
  },
  {
   "cell_type": "code",
   "execution_count": 73,
   "metadata": {},
   "outputs": [
    {
     "data": {
      "text/plain": [
       "<AxesSubplot:>"
      ]
     },
     "execution_count": 73,
     "metadata": {},
     "output_type": "execute_result"
    },
    {
     "data": {
      "image/png": "[encoded data removed]",
      "text/plain": [
       "<Figure size 432x288 with 1 Axes>"
      ]
     },
     "metadata": {},
     "output_type": "display_data"
    }
   ],
   "source": [
    "sns.boxplot(x=sample)"
   ]
  },
  {
   "cell_type": "markdown",
   "metadata": {
    "id": "dPCMOGiYGci1"
   },
   "source": [
    "Построим по выборке эмпирическую функцию распределения. "
   ]
  },
  {
   "cell_type": "code",
   "execution_count": 74,
   "metadata": {
    "id": "AxtCg1_vGci1",
    "outputId": "d78a70fa-d47d-4b92-8a2a-3e3555c1c04a"
   },
   "outputs": [
    {
     "data": {
      "image/png": "[encoded data removed]",
      "text/plain": [
       "<Figure size 432x288 with 1 Axes>"
      ]
     },
     "metadata": {},
     "output_type": "display_data"
    }
   ],
   "source": [
    "sns.ecdfplot(sample); # строим эмпирическую функцию по выборке\n",
    "plt.ylabel('$F(x)$', fontsize=20)\n",
    "plt.xlabel('$x$', fontsize=20);"
   ]
  },
  {
   "cell_type": "markdown",
   "metadata": {
    "id": "9wh-c0ciGci1"
   },
   "source": [
    "Можно нарисовать её на одной картинке с теоретической:"
   ]
  },
  {
   "cell_type": "code",
   "execution_count": 82,
   "metadata": {
    "id": "JiSlmk2kGci1",
    "outputId": "21c00779-9bb0-4cd3-d03c-9c8cab753a81"
   },
   "outputs": [
    {
     "data": {
      "image/png": "[encoded data removed]",
      "text/plain": [
       "<Figure size 432x288 with 1 Axes>"
      ]
     },
     "metadata": {},
     "output_type": "display_data"
    }
   ],
   "source": [
    "x = np.linspace(-3, 3, 100)\n",
    "\n",
    "sns.ecdfplot(sample, label='empirical CDF'); # строим эмпирическую функцию по выборке\n",
    "plt.ylabel('$F(x)$', fontsize=20)\n",
    "plt.xlabel('$x$', fontsize=20);\n",
    "\n",
    "# теоретическа сdf\n",
    "x_range = np.linspace(sample.min(), sample.max(), 10000)\n",
    "cdf = stats.norm(sample.mean(), sample.std()).cdf(x_range)\n",
    "plt.step(x_range,cdf, label='theoretical CDF')\n",
    "\n",
    "plt.ylabel('$F(x)$')\n",
    "plt.xlabel('$x$')\n",
    "plt.legend(loc='upper left');"
   ]
  },
  {
   "cell_type": "markdown",
   "metadata": {
    "id": "PQlfTv3vGci1"
   },
   "source": [
    "## Генерация выборок\n",
    "\n",
    "С помощью таких же нехитрых манипуляций можно симулировать различные события. Например, можно сгенерировать выборку без повторений из вектора `1:10` размера `5`. Все элементы будут выбираться равновероятно.\n",
    "\n",
    "Мы это будем делать [с помощью `np.random`.](https://docs.scipy.org/doc/numpy-1.15.0/reference/routines.random.html) Внутри numpy реализованы самые простые генераторы, и их, обычно, использовать довольно удобно. "
   ]
  },
  {
   "cell_type": "code",
   "execution_count": 83,
   "metadata": {
    "id": "ntA1JH4MGci1",
    "outputId": "18243955-ec88-4e4f-afaf-a92ceba9dedb"
   },
   "outputs": [
    {
     "data": {
      "text/plain": [
       "array([1, 2, 3, 4, 5, 6])"
      ]
     },
     "execution_count": 83,
     "metadata": {},
     "output_type": "execute_result"
    }
   ],
   "source": [
    "dice = np.arange(1,7)\n",
    "dice"
   ]
  },
  {
   "cell_type": "code",
   "execution_count": 84,
   "metadata": {
    "id": "_Vj7ItL5Gci1",
    "outputId": "df51eda3-70b1-4ec9-a91e-1d5ddd54c185"
   },
   "outputs": [
    {
     "data": {
      "text/plain": [
       "array([6, 1, 5])"
      ]
     },
     "execution_count": 84,
     "metadata": {},
     "output_type": "execute_result"
    }
   ],
   "source": [
    "np.random.choice(dice, \n",
    "                 size=3,\n",
    "                 replace=False) # выборка без повторений"
   ]
  },
  {
   "cell_type": "markdown",
   "metadata": {
    "id": "coCn-QWIGci1"
   },
   "source": [
    "Можно делать генерации с повторениями, параметр `replace` базово равен `True`."
   ]
  },
  {
   "cell_type": "code",
   "execution_count": 85,
   "metadata": {
    "id": "MjBs_SXGGci1",
    "outputId": "7864a136-f4d8-490f-ef73-e48587ad8802"
   },
   "outputs": [
    {
     "data": {
      "text/plain": [
       "array([6, 5, 5])"
      ]
     },
     "execution_count": 85,
     "metadata": {},
     "output_type": "execute_result"
    }
   ],
   "source": [
    "np.random.choice(dice, \n",
    "                 size=3,\n",
    "                replace=True) # с повторениями"
   ]
  },
  {
   "cell_type": "markdown",
   "metadata": {
    "id": "GqXGbQpjGci1"
   },
   "source": [
    "А ещё можно самостоятельно расставить вероятности событий. Давайте, например устроим симуляцию рыбалки! "
   ]
  },
  {
   "cell_type": "code",
   "execution_count": 86,
   "metadata": {
    "id": "PdKF6lcSGci1",
    "outputId": "c61c2cc4-6286-4168-d6c5-fc7fe1679e8b"
   },
   "outputs": [
    {
     "data": {
      "text/plain": [
       "array(['карась', 'карась', 'карась', 'щука', 'карась', 'плотва', 'щука',\n",
       "       'карась', 'карась', 'карась'], dtype='<U6')"
      ]
     },
     "execution_count": 86,
     "metadata": {},
     "output_type": "execute_result"
    }
   ],
   "source": [
    "np.random.choice(['карась', 'плотва', 'щука'], \n",
    "                 size=10, \n",
    "                 p=[0.5, 0.2, 0.3]) # с повторениями"
   ]
  },
  {
   "cell_type": "markdown",
   "metadata": {
    "id": "k4FPT_a9Gci1"
   },
   "source": [
    "## Зёрна \n",
    "\n",
    "Если выполнить команду `stats.norm(loc=3, scale=2).rvs(5)` на двух разных компьютерах или два раза на одном и том же, то результат будет разный. Не зря же они случайные :)"
   ]
  },
  {
   "cell_type": "code",
   "execution_count": 87,
   "metadata": {
    "id": "bpKmUFYPGci2",
    "outputId": "cecabe21-fad7-4982-e80f-660c487388a9"
   },
   "outputs": [
    {
     "data": {
      "text/plain": [
       "array([ 0.63556143,  2.26443534, -1.43624812,  2.7735331 ,  3.93402007])"
      ]
     },
     "execution_count": 87,
     "metadata": {},
     "output_type": "execute_result"
    }
   ],
   "source": [
    "rv = stats.norm(loc=3, scale=2)\n",
    "rv.rvs(5)"
   ]
  },
  {
   "cell_type": "code",
   "execution_count": 88,
   "metadata": {
    "id": "a2vD-lbCGci2",
    "outputId": "6ef8adf4-5a32-425d-fff0-ca338ed6343d"
   },
   "outputs": [
    {
     "data": {
      "text/plain": [
       "array([ 2.75088074,  2.01634515, -1.39647102,  2.19944144, -0.59292467])"
      ]
     },
     "execution_count": 88,
     "metadata": {},
     "output_type": "execute_result"
    }
   ],
   "source": [
    "stats.norm(loc=3, scale=2).rvs(5)"
   ]
  },
  {
   "cell_type": "markdown",
   "metadata": {
    "id": "dmHDdI5RGci2"
   },
   "source": [
    "Однако генерирование случайных величин никак не противоречит идее абсолютно точной воспроизводимости исследований. Для того, чтобы получились одинаковые результаты, необходимо синхронизировать генераторы случайных чисел на этих двух компьютерах. Делается это путём задания зерна генератора случайных чисел (seed). Зерно также называют стартовым значением. В качестве зерна подойдёт любое целое число."
   ]
  },
  {
   "cell_type": "code",
   "execution_count": 89,
   "metadata": {
    "id": "1hh5HIUzGci2",
    "outputId": "0f9470e3-65d5-43ee-e828-b66592f8189c"
   },
   "outputs": [
    {
     "data": {
      "text/plain": [
       "array([0.73232333, 3.76863839, 5.99310755, 2.28923541, 1.42493292])"
      ]
     },
     "execution_count": 89,
     "metadata": {},
     "output_type": "execute_result"
    }
   ],
   "source": [
    "stats.norm(loc=3, scale=2).rvs(5, random_state=111)"
   ]
  },
  {
   "cell_type": "code",
   "execution_count": 90,
   "metadata": {
    "id": "etkWoeajGci2",
    "outputId": "ebd25e55-1aa1-4ece-b9c1-55e2915cedd7"
   },
   "outputs": [
    {
     "data": {
      "text/plain": [
       "array([0.73232333, 3.76863839, 5.99310755, 2.28923541, 1.42493292])"
      ]
     },
     "execution_count": 90,
     "metadata": {},
     "output_type": "execute_result"
    }
   ],
   "source": [
    "stats.norm(loc=3, scale=2).rvs(5, random_state=111)"
   ]
  },
  {
   "cell_type": "markdown",
   "metadata": {
    "id": "z3SmSPJ_Gci2"
   },
   "source": [
    "__Угадайте, какие числа чаще всего используют для зёрен?__\n",
    "\n",
    "Многие алгоритмы в анализе данных в какой-то степени основаны на случайности (например в самом начале обучения веса берутся из какого-то распределения или обучение идёт на случайной подвыборке). Чтобы добиться воспроизводимых, одинаковых результатов, не зависящих от запуска, нужно устанавливать зерно генерации. "
   ]
  },
  {
   "cell_type": "markdown",
   "metadata": {
    "id": "stUafopVGci2"
   },
   "source": [
    "  "
   ]
  }
 ],
 "metadata": {
  "colab": {
   "collapsed_sections": [],
   "name": "01.1_simulation.ipynb",
   "provenance": [],
   "toc_visible": true
  },
  "kernelspec": {
   "display_name": "Python 3 (ipykernel)",
   "language": "python",
   "name": "python3"
  },
  "language_info": {
   "codemirror_mode": {
    "name": "ipython",
    "version": 3
   },
   "file_extension": ".py",
   "mimetype": "text/x-python",
   "name": "python",
   "nbconvert_exporter": "python",
   "pygments_lexer": "ipython3",
   "version": "3.10.4"
  },
  "toc": {
   "base_numbering": 1,
   "nav_menu": {},
   "number_sections": false,
   "sideBar": true,
   "skip_h1_title": false,
   "title_cell": "Table of Contents",
   "title_sidebar": "Contents",
   "toc_cell": true,
   "toc_position": {},
   "toc_section_display": true,
   "toc_window_display": true
  }
 },
 "nbformat": 4,
 "nbformat_minor": 1
}
