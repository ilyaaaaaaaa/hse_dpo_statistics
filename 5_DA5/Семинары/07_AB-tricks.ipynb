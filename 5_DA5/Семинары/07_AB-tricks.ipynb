{
 "cells": [
  {
   "cell_type": "markdown",
   "metadata": {
    "id": "On00JvTOGfXv",
    "toc": true
   },
   "source": [
    "<h1>Table of Contents<span class=\"tocSkip\"></span></h1>\n",
    "<div class=\"toc\"><ul class=\"toc-item\"><li><span><a href=\"#Береги-уровень-значимости-с-молоду\" data-toc-modified-id=\"Береги-уровень-значимости-с-молоду-1\">Береги уровень значимости с молоду</a></span><ul class=\"toc-item\"><li><span><a href=\"#Песнь-льда-и-пламени\" data-toc-modified-id=\"Песнь-льда-и-пламени-1.1\">Песнь льда и пламени</a></span></li><li><span><a href=\"#Формализация-задачи:\" data-toc-modified-id=\"Формализация-задачи:-1.2\">Формализация задачи:</a></span><ul class=\"toc-item\"><li><span><a href=\"#Коррекция-Бонферрони\" data-toc-modified-id=\"Коррекция-Бонферрони-1.2.1\">Коррекция Бонферрони</a></span></li><li><span><a href=\"#Метод-Холма\" data-toc-modified-id=\"Метод-Холма-1.2.2\">Метод Холма</a></span></li><li><span><a href=\"#Метод-Бенджамини-Хохберга\" data-toc-modified-id=\"Метод-Бенджамини-Хохберга-1.2.3\">Метод Бенджамини-Хохберга</a></span></li></ul></li></ul></li><li><span><a href=\"#Сколько-нужно-наблюдений\" data-toc-modified-id=\"Сколько-нужно-наблюдений-2\">Сколько нужно наблюдений</a></span><ul class=\"toc-item\"><li><span><a href=\"#Гипотеза-о-кнопке\" data-toc-modified-id=\"Гипотеза-о-кнопке-2.1\">Гипотеза о кнопке</a></span></li><li><span><a href=\"#Другие-тесты\" data-toc-modified-id=\"Другие-тесты-2.2\">Другие тесты</a></span></li><li><span><a href=\"#Кривые-мощности\" data-toc-modified-id=\"Кривые-мощности-2.3\">Кривые мощности</a></span></li></ul></li><li><span><a href=\"#Бутстрап\" data-toc-modified-id=\"Бутстрап-3\">Бутстрап</a></span><ul class=\"toc-item\"><li><span><a href=\"#Д.И.-для-среднего-(пример-про-копилку)\" data-toc-modified-id=\"Д.И.-для-среднего-(пример-про-копилку)-3.1\">Д.И. для среднего (пример про копилку)</a></span><ul class=\"toc-item\"><li><span><a href=\"#Д.И.-Эфрона\" data-toc-modified-id=\"Д.И.-Эфрона-3.1.1\">Д.И. Эфрона</a></span></li><li><span><a href=\"#Д.И.-Холла\" data-toc-modified-id=\"Д.И.-Холла-3.1.2\">Д.И. Холла</a></span></li><li><span><a href=\"#t-процентильный-Д.И.\" data-toc-modified-id=\"t-процентильный-Д.И.-3.1.3\">t-процентильный Д.И.</a></span></li></ul></li><li><span><a href=\"#Д.И.-для-медианы-(цитаты-и-репосты)\" data-toc-modified-id=\"Д.И.-для-медианы-(цитаты-и-репосты)-3.2\">Д.И. для медианы (цитаты и репосты)</a></span></li></ul></li></ul></div>"
   ]
  },
  {
   "cell_type": "markdown",
   "metadata": {
    "id": "Ul3PmAZ4GfYy"
   },
   "source": [
    "#  Береги уровень значимости с молоду"
   ]
  },
  {
   "cell_type": "code",
   "execution_count": 1,
   "metadata": {
    "id": "w1BuFQb5GfY3"
   },
   "outputs": [],
   "source": [
    "import numpy as np\n",
    "import pandas as pd\n",
    "\n",
    "import seaborn as sns\n",
    "import matplotlib.pyplot as plt\n",
    "\n",
    "from scipy import stats\n",
    "from tqdm import tqdm as tqdm_botebook\n",
    "\n",
    "plt.style.use('ggplot')"
   ]
  },
  {
   "cell_type": "markdown",
   "metadata": {
    "id": "LssVtJPCGfY9"
   },
   "source": [
    "## Песнь льда и пламени\n",
    "\n",
    "Говорят, Джордж Р.Р. Мартин, автор цикла \"Песнь Льда и Пламени\", истребляет Старков: чаще убивает персонажей, относящихся к этому дому, чем персонажей других домов. В таблице ниже приведено количество персонажей, относящихся к тому или иному дому, упомянутых за первые $4$ книги, а так же количество погибших персонажей.\n",
    "\n",
    "| Дом | Упомянутые персонажи | Погибшие персонажи |\n",
    "|-----|---------------------|------|\n",
    "|House Stark\t| 70 | 25 |\n",
    "|House Lannister | 38 | 7 |\n",
    "|House Greyjoy | 41 | 12 |\n",
    "|Night's Watch |105 | 41 |\n",
    "\n",
    "Нужно проверить гипотезу об этом на $5\\%$ уровне значимости. "
   ]
  },
  {
   "cell_type": "markdown",
   "metadata": {
    "id": "X0vgQkyeGfY-"
   },
   "source": [
    "## Формализация задачи:\n",
    "\n",
    "Нам нужно проверить гипотезу о том, что доля смертей среди Старков совпадает со всеми остальными долями против альтернативы, что хотя бы в одной из ситуаций смертность в доме Старков больше:\n",
    "\n",
    "\\begin{equation*}\n",
    "\\begin{aligned} \n",
    "& H_0: p_S = p_L = p_G = p_{NW}  \\\\\n",
    "& H_1: \\text{хотя бы одна вероятность отличается}  \n",
    "\\end{aligned}\n",
    "\\end{equation*}\n",
    "\n",
    "Протестируем все гипотезы без коррекции на множественное тестирование, а потом введём её. "
   ]
  },
  {
   "cell_type": "code",
   "execution_count": 2,
   "metadata": {
    "id": "TjHtvfEOGfY_"
   },
   "outputs": [],
   "source": [
    "n_st = 70 \n",
    "m_st = 25\n",
    "\n",
    "n_lan = 38\n",
    "m_lan = 7\n",
    "\n",
    "n_gr = 41\n",
    "m_gr = 12 \n",
    "\n",
    "n_nw = 105\n",
    "m_nw = 41 \n",
    "\n",
    "alpha = 0.05"
   ]
  },
  {
   "cell_type": "code",
   "execution_count": 3,
   "metadata": {
    "id": "U76Ot8oFGfZA",
    "outputId": "07c0141b-82f8-497d-8de3-0225414ce56f"
   },
   "outputs": [
    {
     "data": {
      "text/plain": [
       "(0.35714285714285715,\n",
       " 0.18421052631578946,\n",
       " 0.2926829268292683,\n",
       " 0.3904761904761905)"
      ]
     },
     "execution_count": 3,
     "metadata": {},
     "output_type": "execute_result"
    }
   ],
   "source": [
    "m_st/n_st, m_lan/n_lan, m_gr/n_gr, m_nw/n_nw"
   ]
  },
  {
   "cell_type": "markdown",
   "metadata": {
    "id": "CkwZmECmGfZD"
   },
   "source": [
    "Проверяем три гипотезы!"
   ]
  },
  {
   "cell_type": "code",
   "execution_count": 4,
   "metadata": {
    "id": "RwNOQ66RGfZE",
    "outputId": "da102509-8fbf-47b2-94e4-57b6bfa2f4cf"
   },
   "outputs": [
    {
     "data": {
      "text/plain": [
       "array([0.03008672, 0.24343199, 0.67209806])"
      ]
     },
     "execution_count": 4,
     "metadata": {},
     "output_type": "execute_result"
    }
   ],
   "source": [
    "from statsmodels.stats.proportion import proportions_ztest\n",
    "\n",
    "_, p1 =  proportions_ztest((m_st, m_lan), \n",
    "                           (n_st, n_lan), \n",
    "                           value=0, \n",
    "                           alternative='larger')\n",
    "\n",
    "\n",
    "_, p2 =  proportions_ztest((m_st, m_gr), \n",
    "                           (n_st, n_gr), \n",
    "                           value=0, \n",
    "                           alternative='larger')\n",
    "\n",
    "_, p3 =  proportions_ztest((m_st, m_nw),\n",
    "                           (n_st, n_nw), \n",
    "                           value=0,\n",
    "                           alternative='larger')\n",
    "\n",
    "pval = np.array([p1, p2, p3])\n",
    "pval"
   ]
  },
  {
   "cell_type": "code",
   "execution_count": 5,
   "metadata": {
    "id": "nC92-RU1GfZG",
    "outputId": "f43e0b44-fc99-445a-ca38-b690ea8e7168"
   },
   "outputs": [
    {
     "data": {
      "text/plain": [
       "array([False,  True,  True])"
      ]
     },
     "execution_count": 5,
     "metadata": {},
     "output_type": "execute_result"
    }
   ],
   "source": [
    "pval > alpha # без коррекции, TRUE - не отвергается"
   ]
  },
  {
   "cell_type": "markdown",
   "metadata": {
    "id": "kZ1_Mf64GfZH"
   },
   "source": [
    "Самая первая гипотеза отвергается. Отсюда делаем вывод, что смертность значимо различается. Помним, что ошибка первого рода - ошибочный выбор альтернативы. В случае, когда мы никак не контролируем уровень значимости она оказывается завышена. Посмотрим, что будет происходить при корекции. "
   ]
  },
  {
   "cell_type": "markdown",
   "metadata": {
    "id": "DsBDyBVrGfZJ"
   },
   "source": [
    "### Коррекция Бонферрони"
   ]
  },
  {
   "cell_type": "code",
   "execution_count": 6,
   "metadata": {
    "id": "iP1GHGTiGfZK",
    "outputId": "e5754911-6a71-4a01-a68d-0ab9d8130ffb"
   },
   "outputs": [
    {
     "data": {
      "text/plain": [
       "array([ True,  True,  True])"
      ]
     },
     "execution_count": 6,
     "metadata": {},
     "output_type": "execute_result"
    }
   ],
   "source": [
    "pval > alpha/3  # поделили уровень значимости на число гипотез :) "
   ]
  },
  {
   "cell_type": "code",
   "execution_count": 7,
   "metadata": {
    "id": "tcZHR9dmGfZL",
    "outputId": "5699a8f8-f81e-4bdb-fa1a-a052b4e6b41d"
   },
   "outputs": [
    {
     "data": {
      "text/plain": [
       "array([0.09026015, 0.73029598, 1.        ])"
      ]
     },
     "execution_count": 7,
     "metadata": {},
     "output_type": "execute_result"
    }
   ],
   "source": [
    "from statsmodels.sandbox.stats.multicomp import multipletests \n",
    "\n",
    "rejected, p_corrected, _, _ = multipletests(pval, \n",
    "                                            alpha = alpha, \n",
    "                                            method = 'bonferroni') \n",
    "p_corrected"
   ]
  },
  {
   "cell_type": "code",
   "execution_count": 8,
   "metadata": {
    "id": "m0-2lL11GfZM",
    "outputId": "8ee825a3-545e-4b80-8c2c-0832c27a5c1a"
   },
   "outputs": [
    {
     "data": {
      "text/plain": [
       "array([ True,  True,  True])"
      ]
     },
     "execution_count": 8,
     "metadata": {},
     "output_type": "execute_result"
    }
   ],
   "source": [
    "# ~rejected\n",
    "p_corrected > alpha # TRUE - не отвергается"
   ]
  },
  {
   "cell_type": "markdown",
   "metadata": {
    "id": "5wedm8RgGfZN"
   },
   "source": [
    "Все три гипотезы о равенстве смертностей не отвергаются."
   ]
  },
  {
   "cell_type": "markdown",
   "metadata": {
    "id": "GovUJsJ8GfZO"
   },
   "source": [
    "### Метод Холма"
   ]
  },
  {
   "cell_type": "code",
   "execution_count": 9,
   "metadata": {
    "id": "CUFmEz4qGfZO",
    "outputId": "9bd6f1d6-688d-4566-b3d7-cc0bc9b41a70"
   },
   "outputs": [
    {
     "data": {
      "text/plain": [
       "array([0.09026015, 0.48686399, 0.67209806])"
      ]
     },
     "execution_count": 9,
     "metadata": {},
     "output_type": "execute_result"
    }
   ],
   "source": [
    "rejected, p_corrected, _, _ = multipletests(pval, \n",
    "                                            alpha = alpha, \n",
    "                                            method = 'holm') \n",
    "p_corrected"
   ]
  },
  {
   "cell_type": "code",
   "execution_count": 10,
   "metadata": {
    "id": "JUOkzPTvGfZP",
    "outputId": "298608a5-e068-4ead-b2d0-be9adba6a7c4"
   },
   "outputs": [
    {
     "data": {
      "text/plain": [
       "array([ True,  True,  True])"
      ]
     },
     "execution_count": 10,
     "metadata": {},
     "output_type": "execute_result"
    }
   ],
   "source": [
    "p_corrected > alpha # TRUE - не отвергается"
   ]
  },
  {
   "cell_type": "code",
   "execution_count": 11,
   "metadata": {
    "id": "Zoxb2ftbIi8D",
    "outputId": "da5f9a7b-dce3-4abf-bb19-61829f83eb3a"
   },
   "outputs": [
    {
     "data": {
      "text/plain": [
       "array([0.09026015, 0.48686399, 0.67209806])"
      ]
     },
     "execution_count": 11,
     "metadata": {},
     "output_type": "execute_result"
    }
   ],
   "source": [
    "correction = np.arange(3,0,-1)\n",
    "pval * correction"
   ]
  },
  {
   "cell_type": "code",
   "execution_count": 12,
   "metadata": {
    "id": "JDrAukJSIi8E",
    "outputId": "db18c33a-07bc-450b-fd7e-b18fbbd286dd"
   },
   "outputs": [
    {
     "data": {
      "text/plain": [
       "array([3, 2, 1])"
      ]
     },
     "execution_count": 12,
     "metadata": {},
     "output_type": "execute_result"
    }
   ],
   "source": [
    "correction"
   ]
  },
  {
   "cell_type": "code",
   "execution_count": 13,
   "metadata": {
    "id": "maO0YjVVIi8E",
    "outputId": "2659b146-584f-4bf7-bf6e-09f79e4776c2"
   },
   "outputs": [
    {
     "data": {
      "image/png": "[encoded data removed]",
      "text/plain": [
       "<Figure size 432x288 with 1 Axes>"
      ]
     },
     "metadata": {},
     "output_type": "display_data"
    }
   ],
   "source": [
    "plt.plot(pval, 'o-',label='p-value')\n",
    "plt.plot(alpha/correction, 'o-', label='holm significance value')\n",
    "plt.legend()\n",
    "plt.show()"
   ]
  },
  {
   "cell_type": "markdown",
   "metadata": {
    "id": "YdYwJI9kGfZQ"
   },
   "source": [
    "Все три гипотезы о равенстве смертностей не отвергаются."
   ]
  },
  {
   "cell_type": "markdown",
   "metadata": {
    "id": "vp5Pm0HGGfZS"
   },
   "source": [
    "### Метод Бенджамини-Хохберга"
   ]
  },
  {
   "cell_type": "code",
   "execution_count": 14,
   "metadata": {
    "id": "BovKs4SJGfZW",
    "outputId": "e932cf7f-416c-467c-9979-2070011b769b"
   },
   "outputs": [
    {
     "data": {
      "text/plain": [
       "array([0.09026015, 0.36514799, 0.67209806])"
      ]
     },
     "execution_count": 14,
     "metadata": {},
     "output_type": "execute_result"
    }
   ],
   "source": [
    "rejected, p_corrected, _, _ = multipletests(pval, \n",
    "                                            alpha = alpha,\n",
    "                                            method = 'fdr_bh') \n",
    "p_corrected"
   ]
  },
  {
   "cell_type": "code",
   "execution_count": 15,
   "metadata": {
    "id": "8XPcUf9uIi8F",
    "outputId": "0b0431ae-aca7-4af9-9c05-ca7e71f8383b"
   },
   "outputs": [
    {
     "data": {
      "text/plain": [
       "array([0.03008672, 0.24343199, 0.67209806])"
      ]
     },
     "execution_count": 15,
     "metadata": {},
     "output_type": "execute_result"
    }
   ],
   "source": [
    "pval"
   ]
  },
  {
   "cell_type": "code",
   "execution_count": 16,
   "metadata": {
    "id": "mJy2KGdlGfZX",
    "outputId": "d0c2441c-8897-4779-87d1-fdbf94dd83b8"
   },
   "outputs": [
    {
     "data": {
      "text/plain": [
       "array([ True,  True,  True])"
      ]
     },
     "execution_count": 16,
     "metadata": {},
     "output_type": "execute_result"
    }
   ],
   "source": [
    "p_corrected > 0.05 # TRUE - не отвергается"
   ]
  },
  {
   "cell_type": "code",
   "execution_count": 17,
   "metadata": {
    "id": "In6dLVcNIi8F",
    "outputId": "3a984cb0-37b5-4c63-9ff3-3babae9f5708"
   },
   "outputs": [
    {
     "data": {
      "text/plain": [
       "array([0.09026015, 0.36514799, 0.67209806])"
      ]
     },
     "execution_count": 17,
     "metadata": {},
     "output_type": "execute_result"
    }
   ],
   "source": [
    "correction = np.arange(1,4,1)/3\n",
    "pval / correction"
   ]
  },
  {
   "cell_type": "code",
   "execution_count": 18,
   "metadata": {
    "id": "bbZTluVIIi8F",
    "outputId": "a0d163e8-eba6-4f6c-eb70-213a9ec20d97"
   },
   "outputs": [
    {
     "data": {
      "text/plain": [
       "array([0.33333333, 0.66666667, 1.        ])"
      ]
     },
     "execution_count": 18,
     "metadata": {},
     "output_type": "execute_result"
    }
   ],
   "source": [
    "correction"
   ]
  },
  {
   "cell_type": "markdown",
   "metadata": {
    "id": "LBJpyVbwGfZd"
   },
   "source": [
    "Все три гипотезы о равенстве смертностей не отвергаются. В пакете есть и другие методы коррекции."
   ]
  },
  {
   "cell_type": "markdown",
   "metadata": {
    "id": "-KvIVxsaGfZd"
   },
   "source": [
    "https://xkcd.com/882/\n",
    "\n",
    "![](https://imgs.xkcd.com/comics/significant.png)"
   ]
  },
  {
   "cell_type": "markdown",
   "metadata": {
    "id": "aORmBLc8GfZe"
   },
   "source": [
    " "
   ]
  },
  {
   "cell_type": "markdown",
   "metadata": {
    "id": "GZNlyqhYGf6C"
   },
   "source": [
    "#  Сколько нужно наблюдений\n",
    "\n",
    "Посмотрим на то, как для конкретных критериев можно расчитывать число наблюдений питоновскими средствами. "
   ]
  },
  {
   "cell_type": "markdown",
   "metadata": {
    "id": "yu4NVn8FGf6G"
   },
   "source": [
    "## Гипотеза о кнопке\n",
    "\n",
    "Посмотрим на пример с долями. У нас есть две кнопки: старая и новая. Мы хотим проверить гипотезу о том, что доля нажатий по обеим кнопкам совпадает. В качестве альтернативы рассматриваем вариант, что новый дизайн кнопки оказался лучше и нажать на неё хочется больше.\n",
    "\n",
    "$$\n",
    "\\begin{aligned}\n",
    "&H_0: \\hspace{2mm} p_0 = p_a \\\\\n",
    "&H_1: \\hspace{2mm} p_0 < p_a  \n",
    "\\end{aligned}\n",
    "$$\n",
    "\n",
    "Величины $p_0$ и $p_a$ мы оцениваем, как отношение кликов на кнопку к показам в контрольной группе и в тестовой группе. Число наблюдений, которое нам необходимо, в таком случае, можно найти по формуле: \n",
    "\n",
    "$$\n",
    "n = \\left( \\frac{\\sqrt{p_0 \\cdot (1 - p_0) } \\cdot z_{1 - \\alpha} + \\sqrt{p_a \\cdot (1 - p_a) } \\cdot z_{1 - \\beta} }{p_a - p_0}  \\right)^2,\n",
    "$$\n",
    "\n",
    "где $n$- число наблюдений, $\\alpha$ - ошибка первого рода, $\\beta$ - ошибка второго рода, $z_{1 - \\alpha}, z_{1 - \\beta}$ - квантили нормального распределения. \n"
   ]
  },
  {
   "cell_type": "code",
   "execution_count": 19,
   "metadata": {
    "id": "hAgfwZkNGf6H",
    "outputId": "992c0f26-1273-436d-fa0e-0cc73f1b7af9"
   },
   "outputs": [
    {
     "data": {
      "text/plain": [
       "468"
      ]
     },
     "execution_count": 19,
     "metadata": {},
     "output_type": "execute_result"
    }
   ],
   "source": [
    "def get_size(p0, pa, alpha, beta):\n",
    "    za = stats.norm.ppf(1 - alpha)\n",
    "    zb = stats.norm.ppf(1 - beta)    \n",
    "    n = za * np.sqrt(p0*(1 - p0)) + zb * np.sqrt(pa*(1-pa))\n",
    "    n /= (pa - p0)\n",
    "    return int(np.ceil(n*n))\n",
    "\n",
    "alpha = 0.05\n",
    "beta = 0.05\n",
    "\n",
    "# сколько наблюдений надо, чтобы получить ошибки alpha и beta и уловить минимальный эффект pa - p0\n",
    "get_size(0.10, 0.15, alpha, beta) "
   ]
  },
  {
   "cell_type": "markdown",
   "metadata": {
    "id": "syxLHIIVGf6I"
   },
   "source": [
    "Теперь посчитаем тоже самое с помощью пакета `statsmodels`. Внутри него есть функция `zt_ind_solve_power`. Она может использоваться, чтобы найти любой из параметров: мощность, число наблюдений, эффект, уровень значимости. Три известные части информации подставляются в функцию. Вместо неизвестной пишется `None`. "
   ]
  },
  {
   "cell_type": "markdown",
   "metadata": {
    "id": "4MBgq2HTGf6K"
   },
   "source": [
    "Обратите внимание, что в качестве размера эффекта в функцию подаётся стандартизированный эффект, а не оригинальный (отнормированный на стандартное отклонение)\n",
    "\n",
    "$$\n",
    "effect = \\frac{p_0 - p_a}{se},\n",
    "$$\n",
    "\n",
    "при этом стандартная ошибка считается как \n",
    "\n",
    "$$\n",
    "se = \\sqrt{\\frac{(n_1 - 1)\\cdot s_1^2 + (n_2 - 1) \\cdot s_2^2 }{n_1 + n_2 - 2}}.\n",
    "$$"
   ]
  },
  {
   "cell_type": "code",
   "execution_count": 20,
   "metadata": {
    "id": "Spn1FMAuGf6L",
    "outputId": "5529aac1-ef54-4d1c-f3b9-8b2239f4fef4"
   },
   "outputs": [
    {
     "data": {
      "text/plain": [
       "0.15161960871578062"
      ]
     },
     "execution_count": 20,
     "metadata": {},
     "output_type": "execute_result"
    }
   ],
   "source": [
    "n_0, n_a = 468, 468   # размеры выборок\n",
    "p_0, p_a = 0.1, 0.15  # доли \n",
    "\n",
    "# дисперсии\n",
    "var_0 = p_0 * (1 - p_0)\n",
    "var_a = p_a * (1 - p_a)\n",
    "\n",
    "# стандартизированный размер эффекта\n",
    "standartized_effect = \\\n",
    "    (p_a - p_0) / \\\n",
    "    np.sqrt(( (n_0-1) * var_0 + (n_a-1) * var_a) / (n_0 + n_a - 2))\n",
    "\n",
    "standartized_effect"
   ]
  },
  {
   "cell_type": "code",
   "execution_count": 21,
   "metadata": {
    "id": "IdIyktCOGf6M",
    "outputId": "9c21a9b1-8f5e-40cd-aa36-1500db6e9cd5"
   },
   "outputs": [
    {
     "name": "stdout",
     "output_type": "stream",
     "text": [
      "941.5291210637375\n"
     ]
    }
   ],
   "source": [
    "from statsmodels.stats.power import zt_ind_solve_power\n",
    "\n",
    "alpha = 0.05\n",
    "beta = 0.05\n",
    "\n",
    "# параметр ratio отвечает за то в какой из двух выборок больше наблюдений\n",
    "sample_size = zt_ind_solve_power(\n",
    "                    effect_size=standartized_effect,  # стандартизованный размер эффекта\n",
    "                    nobs1=None,           # число наблюдений None, тк их хотим найти \n",
    "                    alpha=alpha,          # уровень значимости \n",
    "                    power=(1 - beta),     # мощность\n",
    "                    ratio=1,              # перекос в выборках, если 0, тогда выборка только одна\n",
    "                    alternative='larger'  # альтернатива\n",
    "                )\n",
    "\n",
    "print(sample_size) # у нас две выборки, на каждую поровну"
   ]
  },
  {
   "cell_type": "markdown",
   "metadata": {
    "id": "C4VTexdkGf6O"
   },
   "source": [
    "Подставив `None` вместо другого аргумента функции, можем рассчитать что-нибудь ещё. Например, мощность теста."
   ]
  },
  {
   "cell_type": "code",
   "execution_count": 22,
   "metadata": {
    "id": "WpM0dcsvGf6P",
    "outputId": "eb26afbf-47ae-4805-b3f6-0b0dd113a7b5"
   },
   "outputs": [
    {
     "data": {
      "text/plain": [
       "0.9511696099123256"
      ]
     },
     "execution_count": 22,
     "metadata": {},
     "output_type": "execute_result"
    }
   ],
   "source": [
    "zt_ind_solve_power(effect_size=0.15219, \n",
    "                   nobs1=941, \n",
    "                   alpha=alpha,\n",
    "                   power=None, \n",
    "                   ratio=1,\n",
    "                   alternative='larger')"
   ]
  },
  {
   "cell_type": "markdown",
   "metadata": {
    "id": "jZH_rssBGf6Q"
   },
   "source": [
    "Или размер эффекта. "
   ]
  },
  {
   "cell_type": "code",
   "execution_count": 23,
   "metadata": {
    "id": "9vjV6QeYGf6R",
    "outputId": "9bfe232b-4758-4a6f-92bf-21c09c208368"
   },
   "outputs": [
    {
     "data": {
      "text/plain": [
       "0.1522295561785361"
      ]
     },
     "execution_count": 23,
     "metadata": {},
     "output_type": "execute_result"
    }
   ],
   "source": [
    "zt_ind_solve_power(effect_size=None, \n",
    "                   nobs1=2*467, \n",
    "                   alpha=alpha, \n",
    "                   power=1-beta, \n",
    "                   ratio=1, \n",
    "                   alternative='larger')"
   ]
  },
  {
   "cell_type": "markdown",
   "metadata": {
    "id": "VVbwEsomGf6R"
   },
   "source": [
    "По аналогии можно работать с любой асимптотически нормальной статистикой. "
   ]
  },
  {
   "cell_type": "markdown",
   "metadata": {
    "id": "sFfr8KlXGf6S"
   },
   "source": [
    "## Другие тесты\n",
    "\n",
    "По аналогии реализованы [многие другие тесты.](https://www.statsmodels.org/stable/stats.html) Например, тест Стьюдента. Рассмотрим тест для равенства средних при неизвестных, но равных дисперсиях. \n",
    "\n",
    "Класс `TTestIndPower` предназначен для анализа мощности для t-теста Стьюдента с независимыми выборками (`TTestPower` для обычного либо с зависимыми выборками).\n",
    "\n",
    "У каждого объекта этого класса есть метод `solve_power`. Он может использоваться, чтобы найти любой из параметров: мощность, число наблюдений, эффект, уровень значимости. Три известные части информации подставляются в функцию. Вместо неизвестной ствится `None`. \n",
    "\n",
    "Снова в качестве эффекта на вход идёт стандартизованный эффект: \n",
    "\n",
    "$$\n",
    "effect = \\frac{\\bar{x_1} - \\bar{x_2}}{se},\n",
    "$$\n"
   ]
  },
  {
   "cell_type": "code",
   "execution_count": 24,
   "metadata": {
    "id": "BnDdnyC_Gf6S",
    "outputId": "cd998192-b0e2-4aa0-c03c-23f2c27fd07d"
   },
   "outputs": [
    {
     "data": {
      "text/plain": [
       "104.9279466344438"
      ]
     },
     "execution_count": 24,
     "metadata": {},
     "output_type": "execute_result"
    }
   ],
   "source": [
    "from statsmodels.stats.power import TTestIndPower\n",
    "\n",
    "effect = 0.5\n",
    "alpha = 0.05\n",
    "power = 0.95\n",
    "\n",
    "analysis = TTestIndPower()\n",
    "analysis.solve_power(effect, \n",
    "                     nobs1=None, \n",
    "                     power=power, \n",
    "                     alpha=alpha, \n",
    "                     ratio=1)"
   ]
  },
  {
   "cell_type": "markdown",
   "metadata": {
    "id": "rkznpRsgGf6U"
   },
   "source": [
    "## Кривые мощности\n",
    "\n",
    "Построим для мощностей кривые. Они будут показывать размер эффекта и размер выборки влияют на мощность теста. "
   ]
  },
  {
   "cell_type": "code",
   "execution_count": 25,
   "metadata": {
    "id": "OIlxn0M6Gf6U",
    "outputId": "e7bf5cb9-5586-4459-fd68-5478d4f7d090"
   },
   "outputs": [
    {
     "data": {
      "image/png": "[encoded data removed]",
      "text/plain": [
       "<Figure size 864x504 with 1 Axes>"
      ]
     },
     "metadata": {},
     "output_type": "display_data"
    }
   ],
   "source": [
    "effect_sizes = np.array([0.2, 0.5, 0.8])\n",
    "sample_sizes = np.array(range(5, 100))\n",
    "\n",
    "analysis = TTestIndPower()\n",
    "\n",
    "_, axes = plt.subplots(1, 1, figsize=(12,7))\n",
    "\n",
    "analysis.plot_power(\n",
    "    dep_var='nobs',\n",
    "    nobs=sample_sizes, \n",
    "    effect_size=effect_sizes,\n",
    "    ax=axes\n",
    ")\n",
    "\n",
    "axes.set_title(\"Мощность теста при разном размере эффекта\", fontsize=20)\n",
    "axes.set_xlabel(\"Размер выборки\", fontsize=14)\n",
    "axes.set_ylabel(\"Мощность\", fontsize=14)\n",
    "plt.legend(fontsize=16);"
   ]
  },
  {
   "cell_type": "markdown",
   "metadata": {
    "id": "JUQ8U5axGf6W"
   },
   "source": [
    "На графике мы видим как меняется мощность критерия при трёх разных размерах эффекта. Если нас интересует большой эффект, то мы выходим к единице при примерно $60$ наблюдениях."
   ]
  },
  {
   "cell_type": "markdown",
   "metadata": {
    "id": "3zcA8sA24ryv"
   },
   "source": [
    "# Бутстрап\n",
    "\n",
    "В этой тетрадке речь пойдёт про бустрап.\n",
    "\n",
    "* [Статья про бустрэп от Станислава Анатольева](http://quantile.ru/03/03-SA.pdf)\n",
    "* [Неплохая статья про бутстрап в R, на основе которой делалась тетрадка](https://moderndive.com/8-confidence-intervals.html)"
   ]
  },
  {
   "cell_type": "code",
   "execution_count": 26,
   "metadata": {
    "id": "PVY2zu-u4ryy"
   },
   "outputs": [],
   "source": [
    "import numpy as np\n",
    "import pandas as pd\n",
    "from scipy import stats\n",
    "import seaborn as sns\n",
    "import matplotlib.pyplot as plt\n",
    "\n",
    "plt.style.use('ggplot')\n",
    "%matplotlib inline"
   ]
  },
  {
   "cell_type": "markdown",
   "metadata": {
    "id": "rVPohbZD4ry0"
   },
   "source": [
    "## Д.И. для среднего (пример про копилку)\n",
    "\n"
   ]
  },
  {
   "cell_type": "markdown",
   "metadata": {
    "id": "x6aDeepK4ry0"
   },
   "source": [
    "![](https://d33wubrfki0l68.cloudfront.net/fe3d13cf8652057fd5ea97fc4d7db1f00b2b1f34/62975/images/sampling/pennies/deliverable/3.jpg)"
   ]
  },
  {
   "cell_type": "markdown",
   "metadata": {
    "id": "awfKrasd4ry0"
   },
   "source": [
    "Мой отец завёл себе копилку и собирает десятирублёвые монеты. Мне стало интересно как именно распределён возраст этих монет.\n",
    "\n",
    "Я сделал из копилки случайную выборку из сотни десятирублёвых монет и записал дату с каждой в файл `money.csv`.\n",
    "\n"
   ]
  },
  {
   "cell_type": "code",
   "execution_count": 27,
   "metadata": {
    "id": "MySqYxz24ry1",
    "outputId": "a8a94b44-0510-4172-ea0d-2ed9f411973e"
   },
   "outputs": [
    {
     "data": {
      "text/plain": [
       "array([2011, 2017, 2016, 2012, 2017, 2015, 2011, 2015, 2017, 2012, 2019,\n",
       "       2019, 2012, 2018, 2018, 2018, 2018, 2017, 2018, 2012, 2010, 2012,\n",
       "       2012, 2011, 2011, 2012, 2011, 2017, 2017, 2016, 2012, 2012, 2017,\n",
       "       2017, 2012, 2010, 2018, 2016, 2011, 2017, 2012, 2017, 2013, 2017,\n",
       "       2010, 2011, 2018, 2015, 2011, 2018, 2012, 2013, 2009, 2017, 2017,\n",
       "       2018, 2019, 2018, 2011, 2013, 2011, 2013, 2017, 2018, 2011, 2012,\n",
       "       2018, 2012, 2019, 2018, 2011, 2017, 2019, 2019, 2019, 2012, 2011,\n",
       "       2013, 2011, 2017, 2013, 2013, 2017, 2017, 2017, 2011, 2019, 2013,\n",
       "       2017, 2012, 2009, 2010, 2010, 2020, 2019, 2020, 2020, 2019, 2018,\n",
       "       2020])"
      ]
     },
     "execution_count": 27,
     "metadata": {},
     "output_type": "execute_result"
    }
   ],
   "source": [
    "x = pd.read_csv('../data/money.csv').fielddate.values\n",
    "x"
   ]
  },
  {
   "cell_type": "code",
   "execution_count": 28,
   "metadata": {
    "id": "d5xn-6w_4ry2",
    "outputId": "8bdba4b6-e1a0-4d80-acdd-3c77821d7c4e"
   },
   "outputs": [
    {
     "data": {
      "text/plain": [
       "array([11,  5,  6, 10,  5,  7, 11,  7,  5, 10,  3,  3, 10,  4,  4,  4,  4,\n",
       "        5,  4, 10, 12, 10, 10, 11, 11, 10, 11,  5,  5,  6, 10, 10,  5,  5,\n",
       "       10, 12,  4,  6, 11,  5, 10,  5,  9,  5, 12, 11,  4,  7, 11,  4, 10,\n",
       "        9, 13,  5,  5,  4,  3,  4, 11,  9, 11,  9,  5,  4, 11, 10,  4, 10,\n",
       "        3,  4, 11,  5,  3,  3,  3, 10, 11,  9, 11,  5,  9,  9,  5,  5,  5,\n",
       "       11,  3,  9,  5, 10, 13, 12, 12,  2,  3,  2,  2,  3,  4,  2])"
      ]
     },
     "execution_count": 28,
     "metadata": {},
     "output_type": "execute_result"
    }
   ],
   "source": [
    "x = 2022 - x # перешли к возрасту\n",
    "x"
   ]
  },
  {
   "cell_type": "markdown",
   "metadata": {
    "id": "PkNtZU9i4ry2"
   },
   "source": [
    "Посмотрим как распределён возраст. "
   ]
  },
  {
   "cell_type": "code",
   "execution_count": 29,
   "metadata": {
    "id": "lXvUZ-H_4ry3",
    "outputId": "0091be25-3e46-41a7-9971-7bc1a8db1d1b"
   },
   "outputs": [
    {
     "data": {
      "image/png": "[encoded data removed]",
      "text/plain": [
       "<Figure size 432x288 with 1 Axes>"
      ]
     },
     "metadata": {
      "needs_background": "light"
     },
     "output_type": "display_data"
    }
   ],
   "source": [
    "sns.countplot(x=x);"
   ]
  },
  {
   "cell_type": "code",
   "execution_count": 30,
   "metadata": {
    "id": "SquGg_AYIi8I",
    "outputId": "a7e6ced6-8102-4228-84cd-3f10a2eb8709"
   },
   "outputs": [
    {
     "data": {
      "image/png": "[encoded data removed]",
      "text/plain": [
       "<Figure size 432x288 with 1 Axes>"
      ]
     },
     "metadata": {
      "needs_background": "light"
     },
     "output_type": "display_data"
    }
   ],
   "source": [
    "sns.histplot(x, bins=12);"
   ]
  },
  {
   "cell_type": "markdown",
   "metadata": {
    "id": "m8q5KfGN4ry3"
   },
   "source": [
    "Распределение оказывается нестандартным. Видно, что у него есть две моды. Посмотрим на средний возраст монет."
   ]
  },
  {
   "cell_type": "code",
   "execution_count": 31,
   "metadata": {
    "id": "N2N_eW584ry4",
    "outputId": "885b3e03-c74d-49a4-9eac-d47be8bbe0ec"
   },
   "outputs": [
    {
     "data": {
      "text/plain": [
       "7.16"
      ]
     },
     "execution_count": 31,
     "metadata": {},
     "output_type": "execute_result"
    }
   ],
   "source": [
    "x.mean()"
   ]
  },
  {
   "cell_type": "code",
   "execution_count": 32,
   "metadata": {
    "id": "o12YY3xu4ry4",
    "outputId": "50c9f56f-a2d2-4a7e-cf4a-c4e939ae6cb3"
   },
   "outputs": [
    {
     "data": {
      "text/plain": [
       "6.0"
      ]
     },
     "execution_count": 32,
     "metadata": {},
     "output_type": "execute_result"
    }
   ],
   "source": [
    "np.median(x)"
   ]
  },
  {
   "cell_type": "markdown",
   "metadata": {
    "id": "kUrrjrGJ4ry4"
   },
   "source": [
    "Интересно было бы построить для этого среднего доверительный интервал. Сделаем это с помощью бустрапа."
   ]
  },
  {
   "cell_type": "markdown",
   "metadata": {
    "id": "uQ447hH-4ry4"
   },
   "source": [
    "Напишем функцию для бустрапирования."
   ]
  },
  {
   "cell_type": "code",
   "execution_count": 33,
   "metadata": {
    "id": "K3t_reKX4ry5",
    "outputId": "62306286-082f-4049-a896-6a9df7eeda56"
   },
   "outputs": [],
   "source": [
    "def get_bootstrap_sample(x, B_sample=1):\n",
    "    if B_sample == 1:\n",
    "        sample = x.ravel()\n",
    "    else:\n",
    "        N = x.size\n",
    "        sample = np.random.choice(x, size=(N, B_sample), replace=True)\n",
    "    return sample\n",
    "    \n",
    "x_boot = get_bootstrap_sample(x, B_sample=2)\n",
    "x_boot = x_boot[:,0]"
   ]
  },
  {
   "cell_type": "code",
   "execution_count": 34,
   "metadata": {
    "id": "pC-M9gOD4ry5",
    "outputId": "160c1fd6-601c-4b3a-c6fa-fc65a0509d46"
   },
   "outputs": [
    {
     "data": {
      "image/png": "[encoded data removed]",
      "text/plain": [
       "<Figure size 864x288 with 2 Axes>"
      ]
     },
     "metadata": {
      "needs_background": "light"
     },
     "output_type": "display_data"
    }
   ],
   "source": [
    "_, axes = plt.subplots(1, 2, figsize=(12,4))\n",
    "\n",
    "sns.countplot(x=x, ax=axes[0])\n",
    "sns.countplot(x=x_boot, ax=axes[1])\n",
    "axes[0].set_title(\"Исходная выборка\")\n",
    "axes[1].set_title(\"Сбутстрапированная выборка\");"
   ]
  },
  {
   "cell_type": "markdown",
   "metadata": {
    "id": "3xHuaWk_4ry6"
   },
   "source": [
    "Сгенерируем выборку из средних."
   ]
  },
  {
   "cell_type": "code",
   "execution_count": 35,
   "metadata": {
    "id": "f1OOlyQJ4ry6",
    "outputId": "2342a8cd-2132-484e-ccd6-1c1e38c10879"
   },
   "outputs": [
    {
     "data": {
      "text/plain": [
       "(100, 1000000)"
      ]
     },
     "execution_count": 35,
     "metadata": {},
     "output_type": "execute_result"
    }
   ],
   "source": [
    "# генерируем 1 миллион выборок размера 100\n",
    "x_boot = get_bootstrap_sample(x, B_sample=10**6)\n",
    "x_boot.shape"
   ]
  },
  {
   "cell_type": "code",
   "execution_count": 36,
   "metadata": {
    "id": "1Xsw7Uua4ry6",
    "outputId": "40fae1b0-db9b-41d7-a193-a50c339dcd90"
   },
   "outputs": [
    {
     "data": {
      "text/plain": [
       "array([6.95, 6.71, 6.71, ..., 7.52, 6.87, 6.64])"
      ]
     },
     "execution_count": 36,
     "metadata": {},
     "output_type": "execute_result"
    }
   ],
   "source": [
    "x_boot_m = np.mean(x_boot, axis=0)\n",
    "x_boot_m"
   ]
  },
  {
   "cell_type": "code",
   "execution_count": 37,
   "metadata": {
    "id": "ha9ZEgXV4ry6",
    "outputId": "62fa7019-c9cd-4aa0-ec66-abecdccf1363"
   },
   "outputs": [
    {
     "data": {
      "text/plain": [
       "(1000000,)"
      ]
     },
     "execution_count": 37,
     "metadata": {},
     "output_type": "execute_result"
    }
   ],
   "source": [
    "x_boot_m.shape"
   ]
  },
  {
   "cell_type": "code",
   "execution_count": 38,
   "metadata": {
    "id": "DkGCHIfi4ry6",
    "outputId": "67f8ea75-bec9-4d37-f76a-4c61f19225d8"
   },
   "outputs": [
    {
     "data": {
      "image/png": "[encoded data removed]",
      "text/plain": [
       "<Figure size 432x288 with 1 Axes>"
      ]
     },
     "metadata": {
      "needs_background": "light"
     },
     "output_type": "display_data"
    }
   ],
   "source": [
    "sns.histplot(x_boot_m, bins=20, kde=True);"
   ]
  },
  {
   "cell_type": "markdown",
   "metadata": {
    "id": "9rVcATm14ry7"
   },
   "source": [
    "Сравним получившееся распределение с нормальным. Они оказываются похожи. Это связано с тем, что мы бустрапируем среднее, в возрасте монет нет выбросов, поэтому тут хорошо работает ЦПТ. "
   ]
  },
  {
   "cell_type": "code",
   "execution_count": 39,
   "metadata": {
    "id": "Lvoax-S-4ry7",
    "outputId": "85cb4275-5406-4bf3-d9f1-1b9128dc45f8"
   },
   "outputs": [
    {
     "data": {
      "image/png": "[encoded data removed]",
      "text/plain": [
       "<Figure size 432x288 with 1 Axes>"
      ]
     },
     "metadata": {
      "needs_background": "light"
     },
     "output_type": "display_data"
    }
   ],
   "source": [
    "x_scale = (x_boot_m - x_boot_m.mean())/x_boot_m.std()\n",
    "stats.probplot(x_scale, dist=\"norm\", plot=plt);"
   ]
  },
  {
   "cell_type": "markdown",
   "metadata": {
    "id": "U-8pAvjo5Atx"
   },
   "source": [
    "### Д.И. Эфрона"
   ]
  },
  {
   "cell_type": "markdown",
   "metadata": {
    "id": "0YeyzFn44ry7"
   },
   "source": [
    "Построим доверительный интервал для среднего. "
   ]
  },
  {
   "cell_type": "code",
   "execution_count": 40,
   "metadata": {
    "id": "lMcnafEk4ry7",
    "outputId": "7bc34b3e-71c2-4a84-e9fb-5b03ebf58062"
   },
   "outputs": [
    {
     "data": {
      "text/plain": [
       "(6.52, 7.8)"
      ]
     },
     "execution_count": 40,
     "metadata": {},
     "output_type": "execute_result"
    }
   ],
   "source": [
    "alpha = 0.05\n",
    "\n",
    "# посчитали 1 миллион средних по каждой из бутстраппированных выборок\n",
    "x_boot_m = np.mean(x_boot, axis=0)\n",
    "\n",
    "lower = np.quantile(x_boot_m, alpha/2)\n",
    "upper = np.quantile(x_boot_m, 1-alpha/2)\n",
    "lower, upper"
   ]
  },
  {
   "cell_type": "code",
   "execution_count": 41,
   "metadata": {
    "id": "SSptsx324ry7",
    "outputId": "f097476e-cd03-439e-dd58-32d46aa403ea"
   },
   "outputs": [
    {
     "data": {
      "text/plain": [
       "1.2800000000000002"
      ]
     },
     "execution_count": 41,
     "metadata": {},
     "output_type": "execute_result"
    }
   ],
   "source": [
    "upper-lower"
   ]
  },
  {
   "cell_type": "code",
   "execution_count": 42,
   "metadata": {
    "id": "-MGtbBg7Ii8K",
    "outputId": "9c914037-1659-4812-a39e-f023cb240bec"
   },
   "outputs": [
    {
     "data": {
      "text/plain": [
       "(6.512801163677365, 7.807198836322636)"
      ]
     },
     "execution_count": 42,
     "metadata": {},
     "output_type": "execute_result"
    }
   ],
   "source": [
    "d = 1.96*(x.var(ddof=1)/x.size)**0.5\n",
    "x.mean() - d, x.mean() + d"
   ]
  },
  {
   "cell_type": "code",
   "execution_count": 43,
   "metadata": {
    "id": "Y4eW-bSvIi8K",
    "outputId": "7b9f904f-092d-436b-fe76-e2eae57a9420"
   },
   "outputs": [
    {
     "data": {
      "text/plain": [
       "1.2943976726452715"
      ]
     },
     "execution_count": 43,
     "metadata": {},
     "output_type": "execute_result"
    }
   ],
   "source": [
    "2*d"
   ]
  },
  {
   "cell_type": "code",
   "execution_count": 44,
   "metadata": {
    "id": "S1MsPvAK4ry7",
    "outputId": "25155b01-1eeb-4e40-f720-e96a253c5730"
   },
   "outputs": [
    {
     "data": {
      "image/png": "[encoded data removed]",
      "text/plain": [
       "<Figure size 864x288 with 1 Axes>"
      ]
     },
     "metadata": {
      "needs_background": "light"
     },
     "output_type": "display_data"
    }
   ],
   "source": [
    "fig = plt.figure(figsize=(12,4))\n",
    "plt.hist(x_boot_m, bins=30, density=True)\n",
    "plt.axvline(lower, color='b')\n",
    "plt.axvline(upper, color='b');\n",
    "\n",
    "plt.xlabel('Возраст монеты')\n",
    "plt.ylabel('Плотность распределения');"
   ]
  },
  {
   "cell_type": "markdown",
   "metadata": {
    "id": "fJYcVy2g4ry7"
   },
   "source": [
    "### Д.И. Холла"
   ]
  },
  {
   "cell_type": "code",
   "execution_count": 45,
   "metadata": {
    "id": "fyStiqbm4ry8",
    "outputId": "2849df94-0412-45ba-94e5-5f11bd277692"
   },
   "outputs": [
    {
     "data": {
      "text/plain": [
       "(6.520000000000001, 7.800000000000003)"
      ]
     },
     "execution_count": 45,
     "metadata": {},
     "output_type": "execute_result"
    }
   ],
   "source": [
    "alpha = 0.05\n",
    "\n",
    "# сначала фиксируем глобальное среднее по всей выборке\n",
    "theta_hat = np.mean(x)\n",
    "\n",
    "x_boot = get_bootstrap_sample(x, B_sample=10**6)\n",
    "\n",
    "# центрируем с помощью глобального среднего\n",
    "x_boot_centered = x_boot - theta_hat\n",
    "\n",
    "# снова считаем статистику по центрированным бутстраппированным выборкам\n",
    "bias_boot = np.mean(x_boot_centered, axis=0)\n",
    "\n",
    "\n",
    "# считаем квантили и вычитаем/прибавляем от глобальгого среднего\n",
    "lower = theta_hat - np.abs(np.quantile(bias_boot, alpha/2))\n",
    "upper = theta_hat + np.abs(np.quantile(bias_boot, 1-alpha/2))\n",
    "\n",
    "lower, upper"
   ]
  },
  {
   "cell_type": "code",
   "execution_count": 46,
   "metadata": {
    "id": "3tkiLrtZ4ry8",
    "outputId": "d88c125c-2c0f-4a61-dd53-dac541e38727"
   },
   "outputs": [
    {
     "data": {
      "text/plain": [
       "1.280000000000002"
      ]
     },
     "execution_count": 46,
     "metadata": {},
     "output_type": "execute_result"
    }
   ],
   "source": [
    "upper - lower"
   ]
  },
  {
   "cell_type": "code",
   "execution_count": 47,
   "metadata": {},
   "outputs": [
    {
     "data": {
      "image/png": "[encoded data removed]",
      "text/plain": [
       "<Figure size 432x288 with 1 Axes>"
      ]
     },
     "metadata": {
      "needs_background": "light"
     },
     "output_type": "display_data"
    }
   ],
   "source": [
    "sns.histplot(bias_boot, bins=20);"
   ]
  },
  {
   "cell_type": "markdown",
   "metadata": {
    "id": "9GtoorwR4ry8"
   },
   "source": [
    "###  t-процентильный Д.И."
   ]
  },
  {
   "cell_type": "code",
   "execution_count": 48,
   "metadata": {
    "id": "T0v7yJG64ry8",
    "outputId": "fdebcc4c-f3ab-4035-aff6-19a6c43ea14a",
    "scrolled": true
   },
   "outputs": [
    {
     "data": {
      "text/plain": [
       "(6.500632872035695, 7.810220870924735)"
      ]
     },
     "execution_count": 48,
     "metadata": {},
     "output_type": "execute_result"
    }
   ],
   "source": [
    "# сначала фиксируем глобальное среднее и выборочную дисперсию по всей выборке\n",
    "theta_hat = np.mean(x)\n",
    "std_hat = np.std(x)\n",
    "\n",
    "# делаем бутстрап-выборки\n",
    "x_boot = get_bootstrap_sample(x, B_sample=10**6)\n",
    "\n",
    "# центрируем (вычитаем глобальное среднее)\n",
    "x_boot_centered = x_boot - theta_hat\n",
    "x_boot_t = np.mean(x_boot_centered, axis=0)\n",
    "\n",
    "# считаем ст. отклонение по каждой бутстрап-выборке\n",
    "x_boot_std = np.std(x_boot, axis=0)\n",
    "# стандартизуем\n",
    "x_boot_t /= x_boot_std\n",
    "\n",
    "\n",
    "lower = theta_hat - np.abs(np.quantile(x_boot_t, alpha/2))*std_hat\n",
    "upper = theta_hat + np.abs(np.quantile(x_boot_t, 1-alpha/2))*std_hat\n",
    "lower, upper"
   ]
  },
  {
   "cell_type": "code",
   "execution_count": 49,
   "metadata": {
    "id": "fHvxNLCL4ry8",
    "outputId": "b26739d9-9729-4e20-ba8a-6443afd58af0"
   },
   "outputs": [
    {
     "data": {
      "text/plain": [
       "1.3095879988890404"
      ]
     },
     "execution_count": 49,
     "metadata": {},
     "output_type": "execute_result"
    }
   ],
   "source": [
    "upper - lower"
   ]
  },
  {
   "cell_type": "code",
   "execution_count": 50,
   "metadata": {},
   "outputs": [
    {
     "data": {
      "image/png": "[encoded data removed]",
      "text/plain": [
       "<Figure size 432x288 with 1 Axes>"
      ]
     },
     "metadata": {
      "needs_background": "light"
     },
     "output_type": "display_data"
    }
   ],
   "source": [
    "sns.histplot(x_boot_t, bins=20);"
   ]
  },
  {
   "cell_type": "markdown",
   "metadata": {
    "id": "dON3NbiO4ry8"
   },
   "source": [
    "Последний доверительный интервал получился пошире. [Теория показывает,](http://quantile.ru/03/03-SA.pdf) что последний способ даёт более низкую ошибку в плане асимптотики. "
   ]
  },
  {
   "cell_type": "markdown",
   "metadata": {
    "id": "dvmM7c324ry8"
   },
   "source": [
    "## Д.И. для медианы (цитаты и репосты)\n",
    "\n",
    "> Помните, что для человека звук его имени является самым сладким и самым важным звуком человеческой речи. (Дейл Карнеги)\n",
    "\n",
    "Доверяй, но проверяй. Решим задачку по психологии! Все цитаты в пабликах вконтакте делятся на два вида: мудрые и недостаточно мудрые. Если цитата мудрая, то её не грех репостнуть на стеночку. Поговаривают, что если в цитате есть личные местоимения, то пользователь автоматически сопоставляет себя автору этой цитаты и вероятность того, что она получит лайк повышается. Например, цитату \n",
    "\n",
    "> Можно простить человеку все, кроме отсутствия. (Экзюпери) \n",
    "\n",
    "мне не очень хотелось бы лайкать. А вот цитата \n",
    "\n",
    "> Мне наплевать, что вы обо мне думаете. Я о вас вообще не думаю. (Булгаков) \n",
    "\n",
    "совершенно другое дело. \n",
    "\n",
    "В табличке `df_vk_wise` лежат даныне о мудрых цитатах из [мудрого паблика.](https://vk.com/ooioioioioioo) В колонке `I` находится переменная, которая принимает значение `True`, когда в тексте цитаты было личное местоимение \"Я\".\n",
    "\n",
    "Срежем первые $50$ постов, так как под ними количество репостов и лайков ещё окончательно не выставлено и будем работать с остатками. "
   ]
  },
  {
   "cell_type": "code",
   "execution_count": 51,
   "metadata": {
    "id": "FVIbm-yF4ry9",
    "outputId": "0b2c9bac-69b7-4b6a-a24d-3bbd9f420619"
   },
   "outputs": [
    {
     "data": {
      "text/html": [
       "<div>\n",
       "<style scoped>\n",
       "    .dataframe tbody tr th:only-of-type {\n",
       "        vertical-align: middle;\n",
       "    }\n",
       "\n",
       "    .dataframe tbody tr th {\n",
       "        vertical-align: top;\n",
       "    }\n",
       "\n",
       "    .dataframe thead th {\n",
       "        text-align: right;\n",
       "    }\n",
       "</style>\n",
       "<table border=\"1\" class=\"dataframe\">\n",
       "  <thead>\n",
       "    <tr style=\"text-align: right;\">\n",
       "      <th></th>\n",
       "      <th>likes</th>\n",
       "      <th>reposts</th>\n",
       "      <th>text</th>\n",
       "      <th>I</th>\n",
       "      <th>likes1</th>\n",
       "    </tr>\n",
       "  </thead>\n",
       "  <tbody>\n",
       "    <tr>\n",
       "      <th>0</th>\n",
       "      <td>7</td>\n",
       "      <td>0</td>\n",
       "      <td>Кому удобнее следить за новостями М. в инстагр...</td>\n",
       "      <td>False</td>\n",
       "      <td>8</td>\n",
       "    </tr>\n",
       "    <tr>\n",
       "      <th>1</th>\n",
       "      <td>575</td>\n",
       "      <td>25</td>\n",
       "      <td>Если девушка невероятно хороша в юности, но ра...</td>\n",
       "      <td>False</td>\n",
       "      <td>576</td>\n",
       "    </tr>\n",
       "    <tr>\n",
       "      <th>2</th>\n",
       "      <td>509</td>\n",
       "      <td>57</td>\n",
       "      <td>То была очень обычная узость мышления - те, кт...</td>\n",
       "      <td>False</td>\n",
       "      <td>510</td>\n",
       "    </tr>\n",
       "    <tr>\n",
       "      <th>3</th>\n",
       "      <td>542</td>\n",
       "      <td>15</td>\n",
       "      <td>Когда он знакомил меня с Сергеем, тот спросил:...</td>\n",
       "      <td>False</td>\n",
       "      <td>543</td>\n",
       "    </tr>\n",
       "    <tr>\n",
       "      <th>4</th>\n",
       "      <td>949</td>\n",
       "      <td>59</td>\n",
       "      <td>- Общепризнано, сэр, что физические упражнения...</td>\n",
       "      <td>False</td>\n",
       "      <td>950</td>\n",
       "    </tr>\n",
       "  </tbody>\n",
       "</table>\n",
       "</div>"
      ],
      "text/plain": [
       "   likes  reposts                                               text      I  \\\n",
       "0      7        0  Кому удобнее следить за новостями М. в инстагр...  False   \n",
       "1    575       25  Если девушка невероятно хороша в юности, но ра...  False   \n",
       "2    509       57  То была очень обычная узость мышления - те, кт...  False   \n",
       "3    542       15  Когда он знакомил меня с Сергеем, тот спросил:...  False   \n",
       "4    949       59  - Общепризнано, сэр, что физические упражнения...  False   \n",
       "\n",
       "   likes1  \n",
       "0       8  \n",
       "1     576  \n",
       "2     510  \n",
       "3     543  \n",
       "4     950  "
      ]
     },
     "execution_count": 51,
     "metadata": {},
     "output_type": "execute_result"
    }
   ],
   "source": [
    "df = pd.read_csv('../data/df_vk_wise.csv')\n",
    "df['likes1'] = df['likes'] + 1\n",
    "df.head()"
   ]
  },
  {
   "cell_type": "markdown",
   "metadata": {
    "id": "2vw9w4534ry9"
   },
   "source": [
    "Построим гистограмму для числа репостов постов, содержащих личные местоимения и не содержащих."
   ]
  },
  {
   "cell_type": "code",
   "execution_count": 52,
   "metadata": {
    "id": "XB5_IvFR4ry9",
    "outputId": "772fd01f-b0fb-4bd9-d67e-9967cf8055cc"
   },
   "outputs": [
    {
     "data": {
      "image/png": "[encoded data removed]",
      "text/plain": [
       "<Figure size 720x360 with 1 Axes>"
      ]
     },
     "metadata": {
      "needs_background": "light"
     },
     "output_type": "display_data"
    }
   ],
   "source": [
    "plt.figure(figsize=(10,5))\n",
    "sns.histplot(df.query('likes<10000'), \n",
    "             x='likes', \n",
    "             hue='I', \n",
    "             bins=30,\n",
    "             common_norm=False, \n",
    "             stat='density',\n",
    "            );"
   ]
  },
  {
   "cell_type": "code",
   "execution_count": 53,
   "metadata": {
    "id": "1t8pmSokIi8L",
    "outputId": "434141c8-6761-4eb8-cfd5-461c324247c4"
   },
   "outputs": [
    {
     "data": {
      "image/png": "[encoded data removed]",
      "text/plain": [
       "<Figure size 432x288 with 1 Axes>"
      ]
     },
     "metadata": {
      "needs_background": "light"
     },
     "output_type": "display_data"
    }
   ],
   "source": [
    "sns.histplot(df.query('likes<10000'), \n",
    "             x='likes1', \n",
    "             hue='I', \n",
    "             bins=25,\n",
    "             common_norm=False, \n",
    "             stat='density',\n",
    "             log_scale=True\n",
    "            );"
   ]
  },
  {
   "cell_type": "code",
   "execution_count": 54,
   "metadata": {
    "id": "Kx8YQkJOIi8L",
    "outputId": "5d9f1dae-b44a-4c79-cf95-cb3678aafde8"
   },
   "outputs": [
    {
     "data": {
      "image/png": "[encoded data removed]",
      "text/plain": [
       "<Figure size 432x288 with 1 Axes>"
      ]
     },
     "metadata": {
      "needs_background": "light"
     },
     "output_type": "display_data"
    }
   ],
   "source": [
    "sns.boxplot(data=df.query('likes<10000'), \n",
    "             x='likes1', \n",
    "             y='I', orient='h'\n",
    "            );"
   ]
  },
  {
   "cell_type": "code",
   "execution_count": 55,
   "metadata": {
    "id": "tWaRj1u9Ii8L"
   },
   "outputs": [],
   "source": [
    "x = df[df['I']== True]['likes'].values\n",
    "y = df[df['I']== False]['likes'].values"
   ]
  },
  {
   "cell_type": "code",
   "execution_count": 56,
   "metadata": {
    "id": "Eq-PBTB34ry9",
    "outputId": "e0f532e4-db3c-436f-8528-e707eabd267e"
   },
   "outputs": [
    {
     "data": {
      "text/plain": [
       "(2580.5, 2490.0)"
      ]
     },
     "execution_count": 56,
     "metadata": {},
     "output_type": "execute_result"
    }
   ],
   "source": [
    "np.median(x), np.median(y)"
   ]
  },
  {
   "cell_type": "markdown",
   "metadata": {
    "id": "Ccbbs6UG4ry9"
   },
   "source": [
    "Хвосты на гистограммах оказываются очень длинными. У нас есть выбросы. Смотреть на средние, чтобы сравнить между собой разные цитаты, будет некорректно. Будем смотреть на медианы. Построим доверительный интервал для разности медиан."
   ]
  },
  {
   "cell_type": "code",
   "execution_count": 57,
   "metadata": {
    "id": "zH_RPSgA4ry9"
   },
   "outputs": [],
   "source": [
    "x_boot = get_bootstrap_sample(x, B_sample=10**4)\n",
    "x_boot = np.median(x_boot, axis=0)\n",
    "\n",
    "y_boot = get_bootstrap_sample(y, B_sample=10**4)\n",
    "y_boot = np.median(y_boot, axis=0)"
   ]
  },
  {
   "cell_type": "code",
   "execution_count": 58,
   "metadata": {
    "id": "uVrvhOWW4ry9"
   },
   "outputs": [],
   "source": [
    "def stat_intervals(boot, alpha=0.05):\n",
    "    lower = np.quantile(boot, alpha/2)\n",
    "    upper = np.quantile(boot, 1-alpha/2)\n",
    "    return lower, upper"
   ]
  },
  {
   "cell_type": "code",
   "execution_count": 59,
   "metadata": {
    "id": "WYMtLIlb4ry9",
    "outputId": "b48d6ed3-3471-4901-d34e-95c26aab1ee4"
   },
   "outputs": [
    {
     "data": {
      "text/plain": [
       "(2516.0, 2658.0)"
      ]
     },
     "execution_count": 59,
     "metadata": {},
     "output_type": "execute_result"
    }
   ],
   "source": [
    "stat_intervals(x_boot)"
   ]
  },
  {
   "cell_type": "code",
   "execution_count": 60,
   "metadata": {
    "id": "YNE_G9iL4ry9",
    "outputId": "ef20c902-e382-4ea7-80c5-58e7fee058db"
   },
   "outputs": [
    {
     "data": {
      "text/plain": [
       "(2457.0, 2526.0)"
      ]
     },
     "execution_count": 60,
     "metadata": {},
     "output_type": "execute_result"
    }
   ],
   "source": [
    "stat_intervals(y_boot)"
   ]
  },
  {
   "cell_type": "markdown",
   "metadata": {
    "id": "c3rCYEzU4ry-"
   },
   "source": [
    "Доверительные интервалы пересекаются. Но делать вывод лучше по доверительному интервалу для разности. Такая процедура будет мощнее. "
   ]
  },
  {
   "cell_type": "code",
   "execution_count": 61,
   "metadata": {
    "id": "J2IRWllw4ry-",
    "outputId": "592f3de1-2bb9-484f-be0e-2665718b516e"
   },
   "outputs": [
    {
     "data": {
      "image/png": "[encoded data removed]",
      "text/plain": [
       "<Figure size 432x288 with 1 Axes>"
      ]
     },
     "metadata": {
      "needs_background": "light"
     },
     "output_type": "display_data"
    }
   ],
   "source": [
    "sns.kdeplot(x_boot - y_boot);"
   ]
  },
  {
   "cell_type": "code",
   "execution_count": 62,
   "metadata": {
    "id": "6D9ncwOM4ry-",
    "outputId": "bb24f3ae-5fea-45ab-e624-afd374d348a5"
   },
   "outputs": [
    {
     "data": {
      "text/plain": [
       "(14.0, 174.0)"
      ]
     },
     "execution_count": 62,
     "metadata": {},
     "output_type": "execute_result"
    }
   ],
   "source": [
    "stat_intervals(x_boot - y_boot)"
   ]
  },
  {
   "cell_type": "markdown",
   "metadata": {
    "id": "WIRpJJR94ry-"
   },
   "source": [
    "Ноль не попадает в доверительный интервал, значит на уровне значимость $5\\%$ разница есть. На последок посмотрим на вероятность того, что разность больше нуля."
   ]
  },
  {
   "cell_type": "code",
   "execution_count": 63,
   "metadata": {
    "id": "6krX3Kpi4ry-",
    "outputId": "75705ae2-e7f6-4a9d-8d6d-6407cf2101b3"
   },
   "outputs": [
    {
     "data": {
      "text/plain": [
       "0.9904"
      ]
     },
     "execution_count": 63,
     "metadata": {},
     "output_type": "execute_result"
    }
   ],
   "source": [
    "np.mean(x_boot - y_boot > 0)"
   ]
  },
  {
   "cell_type": "code",
   "execution_count": 64,
   "metadata": {
    "id": "6KzrGlp3Ii8M",
    "outputId": "1e323e4f-64c6-47a6-c2af-4863b018f8b0"
   },
   "outputs": [
    {
     "data": {
      "text/plain": [
       "0.0093"
      ]
     },
     "execution_count": 64,
     "metadata": {},
     "output_type": "execute_result"
    }
   ],
   "source": [
    "np.mean(x_boot - y_boot < 0)"
   ]
  },
  {
   "cell_type": "markdown",
   "metadata": {
    "id": "gp9bxsHR4ry-"
   },
   "source": [
    "<center>\n",
    "<img src=\"https://i.ibb.co/9GWXGh4/image.png\" height=\"300\" width=\"700\"> \n",
    "</center>"
   ]
  },
  {
   "cell_type": "markdown",
   "metadata": {
    "id": "P4HOMQEv4ry-"
   },
   "source": [
    " "
   ]
  }
 ],
 "metadata": {
  "colab": {
   "collapsed_sections": [],
   "name": "7_AB-tricks.ipynb",
   "provenance": [],
   "toc_visible": true
  },
  "kernelspec": {
   "display_name": "Python 3 (ipykernel)",
   "language": "python",
   "name": "python3"
  },
  "language_info": {
   "codemirror_mode": {
    "name": "ipython",
    "version": 3
   },
   "file_extension": ".py",
   "mimetype": "text/x-python",
   "name": "python",
   "nbconvert_exporter": "python",
   "pygments_lexer": "ipython3",
   "version": "3.10.4"
  },
  "toc": {
   "base_numbering": 1,
   "nav_menu": {},
   "number_sections": false,
   "sideBar": true,
   "skip_h1_title": false,
   "title_cell": "Table of Contents",
   "title_sidebar": "Contents",
   "toc_cell": true,
   "toc_position": {
    "height": "calc(100% - 180px)",
    "left": "10px",
    "top": "150px",
    "width": "288px"
   },
   "toc_section_display": true,
   "toc_window_display": true
  }
 },
 "nbformat": 4,
 "nbformat_minor": 1
}
