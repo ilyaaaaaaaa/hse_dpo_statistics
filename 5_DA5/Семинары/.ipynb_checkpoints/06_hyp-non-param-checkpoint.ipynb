{
 "cells": [
  {
   "cell_type": "markdown",
   "metadata": {
    "toc": true
   },
   "source": [
    "<h1>Table of Contents<span class=\"tocSkip\"></span></h1>\n",
    "<div class=\"toc\"><ul class=\"toc-item\"><li><span><a href=\"#Непараметрические-критерии\" data-toc-modified-id=\"Непараметрические-критерии-1\">Непараметрические критерии</a></span><ul class=\"toc-item\"><li><span><a href=\"#Одновыборочные-критерии\" data-toc-modified-id=\"Одновыборочные-критерии-1.1\">Одновыборочные критерии</a></span><ul class=\"toc-item\"><li><span><a href=\"#Критерий-знаков\" data-toc-modified-id=\"Критерий-знаков-1.1.1\">Критерий знаков</a></span></li><li><span><a href=\"#Критерий-Уилкоксона-(ранговый)\" data-toc-modified-id=\"Критерий-Уилкоксона-(ранговый)-1.1.2\">Критерий Уилкоксона (ранговый)</a></span></li></ul></li><li><span><a href=\"#Двухвыборочные-(связные-выборки)\" data-toc-modified-id=\"Двухвыборочные-(связные-выборки)-1.2\">Двухвыборочные (связные выборки)</a></span><ul class=\"toc-item\"><li><span><a href=\"#Критерий-знаков\" data-toc-modified-id=\"Критерий-знаков-1.2.1\">Критерий знаков</a></span></li><li><span><a href=\"#Критерий-Уилкоксона--(ранговый)\" data-toc-modified-id=\"Критерий-Уилкоксона--(ранговый)-1.2.2\">Критерий Уилкоксона  (ранговый)</a></span></li></ul></li><li><span><a href=\"#Двухвыборочные-(несвязанные-выборки)\" data-toc-modified-id=\"Двухвыборочные-(несвязанные-выборки)-1.3\">Двухвыборочные (несвязанные выборки)</a></span><ul class=\"toc-item\"><li><span><a href=\"#Критерий-Манна-Уитни--(ранговый)\" data-toc-modified-id=\"Критерий-Манна-Уитни--(ранговый)-1.3.1\">Критерий Манна-Уитни  (ранговый)</a></span></li><li><span><a href=\"#Откуда-берется-табличное-распределение\" data-toc-modified-id=\"Откуда-берется-табличное-распределение-1.3.2\">Откуда берется табличное распределение</a></span></li></ul></li></ul></li><li><span><a href=\"#Критерии-согласия-и-однородности\" data-toc-modified-id=\"Критерии-согласия-и-однородности-2\">Критерии согласия и однородности</a></span><ul class=\"toc-item\"><li><span><a href=\"#Критерий-Колмогорова\" data-toc-modified-id=\"Критерий-Колмогорова-2.1\">Критерий Колмогорова</a></span><ul class=\"toc-item\"><li><span><a href=\"#Искусственные-примеры\" data-toc-modified-id=\"Искусственные-примеры-2.1.1\">Искусственные примеры</a></span></li></ul></li><li><span><a href=\"#Андерсон-Дарлинг-и-нормальность-распределения-акций\" data-toc-modified-id=\"Андерсон-Дарлинг-и-нормальность-распределения-акций-2.2\">Андерсон-Дарлинг и нормальность распределения акций</a></span></li><li><span><a href=\"#Однородность-выборок\" data-toc-modified-id=\"Однородность-выборок-2.3\">Однородность выборок</a></span></li><li><span><a href=\"#Критерий-Пирсона\" data-toc-modified-id=\"Критерий-Пирсона-2.4\">Критерий Пирсона</a></span><ul class=\"toc-item\"><li><span><a href=\"#Число-пи,-дискретное-распределение\" data-toc-modified-id=\"Число-пи,-дискретное-распределение-2.4.1\">Число пи, дискретное распределение</a></span></li><li><span><a href=\"#Экспоненциальное-распределение-(непрерывное)\" data-toc-modified-id=\"Экспоненциальное-распределение-(непрерывное)-2.4.2\">Экспоненциальное распределение (непрерывное)</a></span></li><li><span><a href=\"#Снова-однородность\" data-toc-modified-id=\"Снова-однородность-2.4.3\">Снова однородность</a></span></li><li><span><a href=\"#Пример-с-именами-котов-и-существительными\" data-toc-modified-id=\"Пример-с-именами-котов-и-существительными-2.4.4\">Пример с именами котов и существительными</a></span></li></ul></li></ul></li></ul></div>"
   ]
  },
  {
   "cell_type": "markdown",
   "metadata": {
    "id": "S_EhkxBUJu5k"
   },
   "source": [
    "\n",
    "\n",
    "# Непараметрические критерии\n",
    "\n",
    "В этой тетрадке речь пойдёт про непараметрические критерии."
   ]
  },
  {
   "cell_type": "code",
   "execution_count": 1,
   "metadata": {
    "id": "oaZYGp2HJu5m"
   },
   "outputs": [],
   "source": [
    "import numpy as np\n",
    "import pandas as pd\n",
    "from scipy import stats\n",
    "import seaborn as sns\n",
    "import matplotlib.pyplot as plt\n",
    "\n",
    "plt.style.use('ggplot')\n",
    "%matplotlib inline"
   ]
  },
  {
   "cell_type": "markdown",
   "metadata": {
    "id": "8tHmNiTUJu5o"
   },
   "source": [
    "Будем исследовать данные про счастье :) "
   ]
  },
  {
   "cell_type": "code",
   "execution_count": 2,
   "metadata": {
    "id": "MpoKghuZJu5p",
    "outputId": "051a304b-456f-472b-9ab2-c6e369b5c134"
   },
   "outputs": [
    {
     "data": {
      "text/html": [
       "<div>\n",
       "<style scoped>\n",
       "    .dataframe tbody tr th:only-of-type {\n",
       "        vertical-align: middle;\n",
       "    }\n",
       "\n",
       "    .dataframe tbody tr th {\n",
       "        vertical-align: top;\n",
       "    }\n",
       "\n",
       "    .dataframe thead th {\n",
       "        text-align: right;\n",
       "    }\n",
       "</style>\n",
       "<table border=\"1\" class=\"dataframe\">\n",
       "  <thead>\n",
       "    <tr style=\"text-align: right;\">\n",
       "      <th></th>\n",
       "      <th>Country</th>\n",
       "      <th>Region</th>\n",
       "      <th>Happiness Rank</th>\n",
       "      <th>Happiness Score</th>\n",
       "      <th>Standard Error</th>\n",
       "      <th>Economy (GDP per Capita)</th>\n",
       "      <th>Family</th>\n",
       "      <th>Health (Life Expectancy)</th>\n",
       "      <th>Freedom</th>\n",
       "      <th>Trust (Government Corruption)</th>\n",
       "      <th>Generosity</th>\n",
       "      <th>Dystopia Residual</th>\n",
       "    </tr>\n",
       "  </thead>\n",
       "  <tbody>\n",
       "    <tr>\n",
       "      <th>0</th>\n",
       "      <td>Switzerland</td>\n",
       "      <td>Western Europe</td>\n",
       "      <td>1</td>\n",
       "      <td>7.587</td>\n",
       "      <td>0.03411</td>\n",
       "      <td>1.39651</td>\n",
       "      <td>1.34951</td>\n",
       "      <td>0.94143</td>\n",
       "      <td>0.66557</td>\n",
       "      <td>0.41978</td>\n",
       "      <td>0.29678</td>\n",
       "      <td>2.51738</td>\n",
       "    </tr>\n",
       "    <tr>\n",
       "      <th>1</th>\n",
       "      <td>Iceland</td>\n",
       "      <td>Western Europe</td>\n",
       "      <td>2</td>\n",
       "      <td>7.561</td>\n",
       "      <td>0.04884</td>\n",
       "      <td>1.30232</td>\n",
       "      <td>1.40223</td>\n",
       "      <td>0.94784</td>\n",
       "      <td>0.62877</td>\n",
       "      <td>0.14145</td>\n",
       "      <td>0.43630</td>\n",
       "      <td>2.70201</td>\n",
       "    </tr>\n",
       "    <tr>\n",
       "      <th>2</th>\n",
       "      <td>Denmark</td>\n",
       "      <td>Western Europe</td>\n",
       "      <td>3</td>\n",
       "      <td>7.527</td>\n",
       "      <td>0.03328</td>\n",
       "      <td>1.32548</td>\n",
       "      <td>1.36058</td>\n",
       "      <td>0.87464</td>\n",
       "      <td>0.64938</td>\n",
       "      <td>0.48357</td>\n",
       "      <td>0.34139</td>\n",
       "      <td>2.49204</td>\n",
       "    </tr>\n",
       "    <tr>\n",
       "      <th>3</th>\n",
       "      <td>Norway</td>\n",
       "      <td>Western Europe</td>\n",
       "      <td>4</td>\n",
       "      <td>7.522</td>\n",
       "      <td>0.03880</td>\n",
       "      <td>1.45900</td>\n",
       "      <td>1.33095</td>\n",
       "      <td>0.88521</td>\n",
       "      <td>0.66973</td>\n",
       "      <td>0.36503</td>\n",
       "      <td>0.34699</td>\n",
       "      <td>2.46531</td>\n",
       "    </tr>\n",
       "    <tr>\n",
       "      <th>4</th>\n",
       "      <td>Canada</td>\n",
       "      <td>North America</td>\n",
       "      <td>5</td>\n",
       "      <td>7.427</td>\n",
       "      <td>0.03553</td>\n",
       "      <td>1.32629</td>\n",
       "      <td>1.32261</td>\n",
       "      <td>0.90563</td>\n",
       "      <td>0.63297</td>\n",
       "      <td>0.32957</td>\n",
       "      <td>0.45811</td>\n",
       "      <td>2.45176</td>\n",
       "    </tr>\n",
       "  </tbody>\n",
       "</table>\n",
       "</div>"
      ],
      "text/plain": [
       "       Country          Region  Happiness Rank  Happiness Score  \\\n",
       "0  Switzerland  Western Europe               1            7.587   \n",
       "1      Iceland  Western Europe               2            7.561   \n",
       "2      Denmark  Western Europe               3            7.527   \n",
       "3       Norway  Western Europe               4            7.522   \n",
       "4       Canada   North America               5            7.427   \n",
       "\n",
       "   Standard Error  Economy (GDP per Capita)   Family  \\\n",
       "0         0.03411                   1.39651  1.34951   \n",
       "1         0.04884                   1.30232  1.40223   \n",
       "2         0.03328                   1.32548  1.36058   \n",
       "3         0.03880                   1.45900  1.33095   \n",
       "4         0.03553                   1.32629  1.32261   \n",
       "\n",
       "   Health (Life Expectancy)  Freedom  Trust (Government Corruption)  \\\n",
       "0                   0.94143  0.66557                        0.41978   \n",
       "1                   0.94784  0.62877                        0.14145   \n",
       "2                   0.87464  0.64938                        0.48357   \n",
       "3                   0.88521  0.66973                        0.36503   \n",
       "4                   0.90563  0.63297                        0.32957   \n",
       "\n",
       "   Generosity  Dystopia Residual  \n",
       "0     0.29678            2.51738  \n",
       "1     0.43630            2.70201  \n",
       "2     0.34139            2.49204  \n",
       "3     0.34699            2.46531  \n",
       "4     0.45811            2.45176  "
      ]
     },
     "execution_count": 2,
     "metadata": {},
     "output_type": "execute_result"
    }
   ],
   "source": [
    "df_2015 = pd.read_csv(\"../data/2015.csv\")\n",
    "df_2015.head()"
   ]
  },
  {
   "cell_type": "code",
   "execution_count": 3,
   "metadata": {
    "id": "_ESXEMREkwqI",
    "outputId": "1cde5898-3c1d-4ed3-86b1-9240e13f05c5"
   },
   "outputs": [
    {
     "data": {
      "text/plain": [
       "(158, 12)"
      ]
     },
     "execution_count": 3,
     "metadata": {},
     "output_type": "execute_result"
    }
   ],
   "source": [
    "df_2015.shape"
   ]
  },
  {
   "cell_type": "code",
   "execution_count": 4,
   "metadata": {
    "id": "iB8pl2UTJu5r",
    "outputId": "b46c5ec4-8af2-46e1-fc14-1fb5bdfd09d6"
   },
   "outputs": [
    {
     "data": {
      "image/png": "[encoded data removed]",
      "text/plain": [
       "<Figure size 864x576 with 9 Axes>"
      ]
     },
     "metadata": {
      "needs_background": "light"
     },
     "output_type": "display_data"
    }
   ],
   "source": [
    "df_2015[['Happiness Score', 'Economy (GDP per Capita)',\n",
    "         'Health (Life Expectancy)', 'Freedom',\n",
    "         'Trust (Government Corruption)','Generosity', \n",
    "         'Dystopia Residual']].hist(density=True, figsize=(12,8));"
   ]
  },
  {
   "cell_type": "markdown",
   "metadata": {
    "id": "6WEcR4TUJu5u"
   },
   "source": [
    "## Одновыборочные критерии\n",
    "\n"
   ]
  },
  {
   "cell_type": "code",
   "execution_count": 5,
   "metadata": {
    "id": "aCmd93wrJu5u",
    "outputId": "f0b5f65f-af89-4af9-98c9-2ffcabb19424"
   },
   "outputs": [
    {
     "data": {
      "text/plain": [
       "count    158.000000\n",
       "mean       5.375734\n",
       "std        1.145010\n",
       "min        2.839000\n",
       "25%        4.526000\n",
       "50%        5.232500\n",
       "75%        6.243750\n",
       "max        7.587000\n",
       "Name: Happiness Score, dtype: float64"
      ]
     },
     "execution_count": 5,
     "metadata": {},
     "output_type": "execute_result"
    }
   ],
   "source": [
    "df_2015['Happiness Score'].describe()"
   ]
  },
  {
   "cell_type": "markdown",
   "metadata": {
    "id": "0W6lKPznkwqU"
   },
   "source": [
    "Как можно визуализировать распределения :"
   ]
  },
  {
   "cell_type": "code",
   "execution_count": 6,
   "metadata": {},
   "outputs": [
    {
     "data": {
      "text/html": [
       "<div>\n",
       "<style scoped>\n",
       "    .dataframe tbody tr th:only-of-type {\n",
       "        vertical-align: middle;\n",
       "    }\n",
       "\n",
       "    .dataframe tbody tr th {\n",
       "        vertical-align: top;\n",
       "    }\n",
       "\n",
       "    .dataframe thead th {\n",
       "        text-align: right;\n",
       "    }\n",
       "</style>\n",
       "<table border=\"1\" class=\"dataframe\">\n",
       "  <thead>\n",
       "    <tr style=\"text-align: right;\">\n",
       "      <th></th>\n",
       "      <th>Country</th>\n",
       "      <th>Region</th>\n",
       "      <th>Happiness Rank</th>\n",
       "      <th>Happiness Score</th>\n",
       "      <th>Standard Error</th>\n",
       "      <th>Economy (GDP per Capita)</th>\n",
       "      <th>Family</th>\n",
       "      <th>Health (Life Expectancy)</th>\n",
       "      <th>Freedom</th>\n",
       "      <th>Trust (Government Corruption)</th>\n",
       "      <th>Generosity</th>\n",
       "      <th>Dystopia Residual</th>\n",
       "    </tr>\n",
       "  </thead>\n",
       "  <tbody>\n",
       "    <tr>\n",
       "      <th>4</th>\n",
       "      <td>Canada</td>\n",
       "      <td>North America</td>\n",
       "      <td>5</td>\n",
       "      <td>7.427</td>\n",
       "      <td>0.03553</td>\n",
       "      <td>1.32629</td>\n",
       "      <td>1.32261</td>\n",
       "      <td>0.90563</td>\n",
       "      <td>0.63297</td>\n",
       "      <td>0.32957</td>\n",
       "      <td>0.45811</td>\n",
       "      <td>2.45176</td>\n",
       "    </tr>\n",
       "    <tr>\n",
       "      <th>3</th>\n",
       "      <td>Norway</td>\n",
       "      <td>Western Europe</td>\n",
       "      <td>4</td>\n",
       "      <td>7.522</td>\n",
       "      <td>0.03880</td>\n",
       "      <td>1.45900</td>\n",
       "      <td>1.33095</td>\n",
       "      <td>0.88521</td>\n",
       "      <td>0.66973</td>\n",
       "      <td>0.36503</td>\n",
       "      <td>0.34699</td>\n",
       "      <td>2.46531</td>\n",
       "    </tr>\n",
       "    <tr>\n",
       "      <th>2</th>\n",
       "      <td>Denmark</td>\n",
       "      <td>Western Europe</td>\n",
       "      <td>3</td>\n",
       "      <td>7.527</td>\n",
       "      <td>0.03328</td>\n",
       "      <td>1.32548</td>\n",
       "      <td>1.36058</td>\n",
       "      <td>0.87464</td>\n",
       "      <td>0.64938</td>\n",
       "      <td>0.48357</td>\n",
       "      <td>0.34139</td>\n",
       "      <td>2.49204</td>\n",
       "    </tr>\n",
       "    <tr>\n",
       "      <th>1</th>\n",
       "      <td>Iceland</td>\n",
       "      <td>Western Europe</td>\n",
       "      <td>2</td>\n",
       "      <td>7.561</td>\n",
       "      <td>0.04884</td>\n",
       "      <td>1.30232</td>\n",
       "      <td>1.40223</td>\n",
       "      <td>0.94784</td>\n",
       "      <td>0.62877</td>\n",
       "      <td>0.14145</td>\n",
       "      <td>0.43630</td>\n",
       "      <td>2.70201</td>\n",
       "    </tr>\n",
       "    <tr>\n",
       "      <th>0</th>\n",
       "      <td>Switzerland</td>\n",
       "      <td>Western Europe</td>\n",
       "      <td>1</td>\n",
       "      <td>7.587</td>\n",
       "      <td>0.03411</td>\n",
       "      <td>1.39651</td>\n",
       "      <td>1.34951</td>\n",
       "      <td>0.94143</td>\n",
       "      <td>0.66557</td>\n",
       "      <td>0.41978</td>\n",
       "      <td>0.29678</td>\n",
       "      <td>2.51738</td>\n",
       "    </tr>\n",
       "  </tbody>\n",
       "</table>\n",
       "</div>"
      ],
      "text/plain": [
       "       Country          Region  Happiness Rank  Happiness Score  \\\n",
       "4       Canada   North America               5            7.427   \n",
       "3       Norway  Western Europe               4            7.522   \n",
       "2      Denmark  Western Europe               3            7.527   \n",
       "1      Iceland  Western Europe               2            7.561   \n",
       "0  Switzerland  Western Europe               1            7.587   \n",
       "\n",
       "   Standard Error  Economy (GDP per Capita)   Family  \\\n",
       "4         0.03553                   1.32629  1.32261   \n",
       "3         0.03880                   1.45900  1.33095   \n",
       "2         0.03328                   1.32548  1.36058   \n",
       "1         0.04884                   1.30232  1.40223   \n",
       "0         0.03411                   1.39651  1.34951   \n",
       "\n",
       "   Health (Life Expectancy)  Freedom  Trust (Government Corruption)  \\\n",
       "4                   0.90563  0.63297                        0.32957   \n",
       "3                   0.88521  0.66973                        0.36503   \n",
       "2                   0.87464  0.64938                        0.48357   \n",
       "1                   0.94784  0.62877                        0.14145   \n",
       "0                   0.94143  0.66557                        0.41978   \n",
       "\n",
       "   Generosity  Dystopia Residual  \n",
       "4     0.45811            2.45176  \n",
       "3     0.34699            2.46531  \n",
       "2     0.34139            2.49204  \n",
       "1     0.43630            2.70201  \n",
       "0     0.29678            2.51738  "
      ]
     },
     "execution_count": 6,
     "metadata": {},
     "output_type": "execute_result"
    }
   ],
   "source": [
    "df_2015.sort_values('Happiness Score').tail()"
   ]
  },
  {
   "cell_type": "code",
   "execution_count": 7,
   "metadata": {
    "id": "0uzZ0nLMkwqV",
    "outputId": "0c6a741a-3eaa-4e41-ca7a-f842af48738d"
   },
   "outputs": [
    {
     "data": {
      "image/png": "[encoded data removed]",
      "text/plain": [
       "<Figure size 432x288 with 1 Axes>"
      ]
     },
     "metadata": {
      "needs_background": "light"
     },
     "output_type": "display_data"
    }
   ],
   "source": [
    "sns.histplot(data=df_2015, x='Happiness Score', bins=9, kde=True);"
   ]
  },
  {
   "cell_type": "code",
   "execution_count": 8,
   "metadata": {
    "id": "4ELpdHtWkwqY",
    "outputId": "a1e32efb-71e9-40d9-d8c2-b4e6d3624ad2"
   },
   "outputs": [
    {
     "data": {
      "image/png": "[encoded data removed]",
      "text/plain": [
       "<Figure size 432x288 with 1 Axes>"
      ]
     },
     "metadata": {
      "needs_background": "light"
     },
     "output_type": "display_data"
    }
   ],
   "source": [
    "sns.boxplot(data=df_2015, x='Happiness Score');"
   ]
  },
  {
   "cell_type": "markdown",
   "metadata": {
    "id": "bk_FqU1hJu5v"
   },
   "source": [
    "### Критерий знаков"
   ]
  },
  {
   "cell_type": "markdown",
   "metadata": {
    "id": "bXnRswl3kwqa"
   },
   "source": [
    "Проверим гипотезу о том, что медиана уровнея счастья равна $5$. \n",
    "\n",
    "$H_0\\colon Med(X) = 5$\n",
    "\n",
    "$H_1\\colon Med(X) \\ne 5$"
   ]
  },
  {
   "cell_type": "code",
   "execution_count": 9,
   "metadata": {
    "id": "Cjy5-8TlJu5v",
    "outputId": "9aea4d9e-d6c7-4d3e-a120-af6236f8ae3d"
   },
   "outputs": [
    {
     "data": {
      "text/plain": [
       "(14.0, 0.03138663605336963)"
      ]
     },
     "execution_count": 9,
     "metadata": {},
     "output_type": "execute_result"
    }
   ],
   "source": [
    "from statsmodels.stats.descriptivestats import sign_test\n",
    "\n",
    "x = df_2015['Happiness Score'].values\n",
    "n = x.shape[0]\n",
    "med_0 = 5\n",
    "\n",
    "T, pvalue = sign_test(x, mu0=med_0)\n",
    "T, pvalue\n",
    "\n",
    "\n",
    "# The signs test returns\n",
    "# M = (N(+) - N(-))/2\n",
    "# pvalue < 0.05 => гипотеза отвергается на уровне значимости 5%"
   ]
  },
  {
   "cell_type": "code",
   "execution_count": 10,
   "metadata": {
    "id": "176SsS7sJu5w",
    "outputId": "3f95ea64-f4e7-44e9-ddc2-7865ae407ee8"
   },
   "outputs": [
    {
     "data": {
      "text/plain": [
       "93"
      ]
     },
     "execution_count": 10,
     "metadata": {},
     "output_type": "execute_result"
    }
   ],
   "source": [
    "# наблюдаемая статистика\n",
    "T = np.sum(x>med_0)\n",
    "T"
   ]
  },
  {
   "cell_type": "code",
   "execution_count": 11,
   "metadata": {
    "id": "m7Mghc5dkwqe",
    "outputId": "41e2c9a0-5b52-4458-edfb-6f5fc71eaaaf"
   },
   "outputs": [
    {
     "data": {
      "text/plain": [
       "14.0"
      ]
     },
     "execution_count": 11,
     "metadata": {},
     "output_type": "execute_result"
    }
   ],
   "source": [
    "# M = (N(+) - N(-))/2\n",
    "(T - (n - T))/2"
   ]
  },
  {
   "cell_type": "code",
   "execution_count": 12,
   "metadata": {
    "id": "YvKHGYTgJu5w"
   },
   "outputs": [],
   "source": [
    "from scipy import stats"
   ]
  },
  {
   "cell_type": "code",
   "execution_count": 13,
   "metadata": {
    "id": "_8htPBuqJu5x",
    "outputId": "a4b0d506-48ed-4685-b943-7300be5e8864"
   },
   "outputs": [
    {
     "data": {
      "text/plain": [
       "0.010376869583876847"
      ]
     },
     "execution_count": 13,
     "metadata": {},
     "output_type": "execute_result"
    }
   ],
   "source": [
    "# p-value\n",
    "1-stats.binom.cdf(T, p=0.5, n=n)"
   ]
  },
  {
   "cell_type": "markdown",
   "metadata": {
    "id": "g3PvxS-fJu5z"
   },
   "source": [
    "Гипотеза отвергается. "
   ]
  },
  {
   "cell_type": "markdown",
   "metadata": {
    "id": "jEJ29ExtJu5z"
   },
   "source": [
    "### Критерий Уилкоксона (ранговый)"
   ]
  },
  {
   "cell_type": "code",
   "execution_count": 14,
   "metadata": {
    "id": "n4XWvg5rJu50",
    "outputId": "f60b7928-9cc7-4686-b911-36f3b87ed9e7"
   },
   "outputs": [
    {
     "data": {
      "text/plain": [
       "WilcoxonResult(statistic=4232.0, pvalue=0.0003762684243784701)"
      ]
     },
     "execution_count": 14,
     "metadata": {},
     "output_type": "execute_result"
    }
   ],
   "source": [
    "stats.wilcoxon(x - med_0)"
   ]
  },
  {
   "cell_type": "markdown",
   "metadata": {
    "id": "iyPIPJd8Ju50"
   },
   "source": [
    "Гипотеза отвергается. "
   ]
  },
  {
   "cell_type": "markdown",
   "metadata": {
    "id": "1wVdn3D2Ju55"
   },
   "source": [
    "## Двухвыборочные (связные выборки) \n",
    "\n",
    "\n",
    "Правда ли, что к 2019 году уровень счастья в мире вырос?"
   ]
  },
  {
   "cell_type": "code",
   "execution_count": 15,
   "metadata": {
    "id": "15jSPuhDJu55",
    "outputId": "12ffd554-508e-43ea-ef35-4e08f7274076"
   },
   "outputs": [
    {
     "data": {
      "text/html": [
       "<div>\n",
       "<style scoped>\n",
       "    .dataframe tbody tr th:only-of-type {\n",
       "        vertical-align: middle;\n",
       "    }\n",
       "\n",
       "    .dataframe tbody tr th {\n",
       "        vertical-align: top;\n",
       "    }\n",
       "\n",
       "    .dataframe thead th {\n",
       "        text-align: right;\n",
       "    }\n",
       "</style>\n",
       "<table border=\"1\" class=\"dataframe\">\n",
       "  <thead>\n",
       "    <tr style=\"text-align: right;\">\n",
       "      <th></th>\n",
       "      <th>Happiness_2019</th>\n",
       "      <th>Happiness_2015</th>\n",
       "    </tr>\n",
       "    <tr>\n",
       "      <th>Country</th>\n",
       "      <th></th>\n",
       "      <th></th>\n",
       "    </tr>\n",
       "  </thead>\n",
       "  <tbody>\n",
       "    <tr>\n",
       "      <th>Finland</th>\n",
       "      <td>7.769</td>\n",
       "      <td>7.406</td>\n",
       "    </tr>\n",
       "    <tr>\n",
       "      <th>Denmark</th>\n",
       "      <td>7.600</td>\n",
       "      <td>7.527</td>\n",
       "    </tr>\n",
       "    <tr>\n",
       "      <th>Norway</th>\n",
       "      <td>7.554</td>\n",
       "      <td>7.522</td>\n",
       "    </tr>\n",
       "    <tr>\n",
       "      <th>Iceland</th>\n",
       "      <td>7.494</td>\n",
       "      <td>7.561</td>\n",
       "    </tr>\n",
       "    <tr>\n",
       "      <th>Netherlands</th>\n",
       "      <td>7.488</td>\n",
       "      <td>7.378</td>\n",
       "    </tr>\n",
       "  </tbody>\n",
       "</table>\n",
       "</div>"
      ],
      "text/plain": [
       "             Happiness_2019  Happiness_2015\n",
       "Country                                    \n",
       "Finland               7.769           7.406\n",
       "Denmark               7.600           7.527\n",
       "Norway                7.554           7.522\n",
       "Iceland               7.494           7.561\n",
       "Netherlands           7.488           7.378"
      ]
     },
     "execution_count": 15,
     "metadata": {},
     "output_type": "execute_result"
    }
   ],
   "source": [
    "df_2015 = pd.read_csv(\"../data/2015.csv\")\n",
    "df_2015 = df_2015[['Country','Happiness Score']]\n",
    "df_2015.columns = ['Country', 'Happiness_2015']\n",
    "df_2015.set_index('Country', inplace=True)\n",
    "\n",
    "df_2019 = pd.read_csv(\"../data/2019.csv\")\n",
    "df_2019 = df_2019[['Country or region','Score']]\n",
    "df_2019.columns = ['Country', 'Happiness_2019']\n",
    "df_2019.set_index('Country', inplace=True)\n",
    "\n",
    "df = df_2019.join(df_2015).dropna()\n",
    "df.head()"
   ]
  },
  {
   "cell_type": "code",
   "execution_count": 16,
   "metadata": {
    "id": "7CptMUQ0Ju56",
    "outputId": "a3ef3310-7c21-4f2c-98a5-fddecdc83611"
   },
   "outputs": [
    {
     "data": {
      "text/html": [
       "<div>\n",
       "<style scoped>\n",
       "    .dataframe tbody tr th:only-of-type {\n",
       "        vertical-align: middle;\n",
       "    }\n",
       "\n",
       "    .dataframe tbody tr th {\n",
       "        vertical-align: top;\n",
       "    }\n",
       "\n",
       "    .dataframe thead th {\n",
       "        text-align: right;\n",
       "    }\n",
       "</style>\n",
       "<table border=\"1\" class=\"dataframe\">\n",
       "  <thead>\n",
       "    <tr style=\"text-align: right;\">\n",
       "      <th></th>\n",
       "      <th>Happiness_2019</th>\n",
       "      <th>Happiness_2015</th>\n",
       "    </tr>\n",
       "  </thead>\n",
       "  <tbody>\n",
       "    <tr>\n",
       "      <th>count</th>\n",
       "      <td>149.000000</td>\n",
       "      <td>149.000000</td>\n",
       "    </tr>\n",
       "    <tr>\n",
       "      <th>mean</th>\n",
       "      <td>5.433872</td>\n",
       "      <td>5.378289</td>\n",
       "    </tr>\n",
       "    <tr>\n",
       "      <th>std</th>\n",
       "      <td>1.111243</td>\n",
       "      <td>1.157782</td>\n",
       "    </tr>\n",
       "    <tr>\n",
       "      <th>min</th>\n",
       "      <td>3.083000</td>\n",
       "      <td>2.839000</td>\n",
       "    </tr>\n",
       "    <tr>\n",
       "      <th>25%</th>\n",
       "      <td>4.548000</td>\n",
       "      <td>4.518000</td>\n",
       "    </tr>\n",
       "    <tr>\n",
       "      <th>50%</th>\n",
       "      <td>5.425000</td>\n",
       "      <td>5.253000</td>\n",
       "    </tr>\n",
       "    <tr>\n",
       "      <th>75%</th>\n",
       "      <td>6.198000</td>\n",
       "      <td>6.295000</td>\n",
       "    </tr>\n",
       "    <tr>\n",
       "      <th>max</th>\n",
       "      <td>7.769000</td>\n",
       "      <td>7.587000</td>\n",
       "    </tr>\n",
       "  </tbody>\n",
       "</table>\n",
       "</div>"
      ],
      "text/plain": [
       "       Happiness_2019  Happiness_2015\n",
       "count      149.000000      149.000000\n",
       "mean         5.433872        5.378289\n",
       "std          1.111243        1.157782\n",
       "min          3.083000        2.839000\n",
       "25%          4.548000        4.518000\n",
       "50%          5.425000        5.253000\n",
       "75%          6.198000        6.295000\n",
       "max          7.769000        7.587000"
      ]
     },
     "execution_count": 16,
     "metadata": {},
     "output_type": "execute_result"
    }
   ],
   "source": [
    "df.describe()"
   ]
  },
  {
   "cell_type": "code",
   "execution_count": 17,
   "metadata": {
    "id": "ct9Z8bM7Ju56",
    "outputId": "836dd6da-b6ef-4e79-a32c-b408a92dbea0"
   },
   "outputs": [
    {
     "data": {
      "image/png": "[encoded data removed]",
      "text/plain": [
       "<Figure size 864x288 with 2 Axes>"
      ]
     },
     "metadata": {
      "needs_background": "light"
     },
     "output_type": "display_data"
    }
   ],
   "source": [
    "df.hist(figsize=(12,4), bins=8);"
   ]
  },
  {
   "cell_type": "code",
   "execution_count": 18,
   "metadata": {
    "id": "X61zWPaLkwr5",
    "outputId": "c042504c-bce5-4a03-faac-429d563b01e2"
   },
   "outputs": [
    {
     "data": {
      "image/png": "[encoded data removed]",
      "text/plain": [
       "<Figure size 432x288 with 1 Axes>"
      ]
     },
     "metadata": {
      "needs_background": "light"
     },
     "output_type": "display_data"
    }
   ],
   "source": [
    "sns.boxplot(data=df);"
   ]
  },
  {
   "cell_type": "code",
   "execution_count": 19,
   "metadata": {
    "id": "cBJpiijCkwr6",
    "outputId": "c1aa17f7-368e-4d01-b528-8537ce439957"
   },
   "outputs": [
    {
     "data": {
      "image/png": "[encoded data removed]",
      "text/plain": [
       "<Figure size 432x288 with 1 Axes>"
      ]
     },
     "metadata": {
      "needs_background": "light"
     },
     "output_type": "display_data"
    }
   ],
   "source": [
    "sns.histplot(data=df, stat='density');"
   ]
  },
  {
   "cell_type": "code",
   "execution_count": 20,
   "metadata": {},
   "outputs": [
    {
     "data": {
      "image/png": "[encoded data removed]",
      "text/plain": [
       "<Figure size 432x288 with 1 Axes>"
      ]
     },
     "metadata": {
      "needs_background": "light"
     },
     "output_type": "display_data"
    }
   ],
   "source": [
    "sns.histplot(df.Happiness_2019 - df.Happiness_2015, bins=11);"
   ]
  },
  {
   "cell_type": "markdown",
   "metadata": {
    "id": "zqBEHmhZJu56"
   },
   "source": [
    "### Критерий знаков\n",
    "\n",
    "$H_0\\colon P(X > Y) = 0.5$\n",
    "\n",
    "$H_1\\colon P(X > Y) \\ne 0.5$"
   ]
  },
  {
   "cell_type": "code",
   "execution_count": 21,
   "metadata": {
    "id": "Z50_SQovJu56",
    "outputId": "e29f191c-36be-4287-de16-2791048be53f"
   },
   "outputs": [
    {
     "name": "stdout",
     "output_type": "stream",
     "text": [
      "2.5 0.7432690217670563\n"
     ]
    }
   ],
   "source": [
    "x = df.Happiness_2019\n",
    "y = df.Happiness_2015\n",
    "\n",
    "T, pvalue = sign_test(x, y)\n",
    "print(T, pvalue)\n",
    "\n"
   ]
  },
  {
   "cell_type": "markdown",
   "metadata": {
    "id": "65dhl6yFJu57"
   },
   "source": [
    "Гипотеза об о том, что уровень счастья не изменился, не отвергается. "
   ]
  },
  {
   "cell_type": "markdown",
   "metadata": {
    "id": "MCLXRbNIJu57"
   },
   "source": [
    "### Критерий Уилкоксона  (ранговый)\n",
    "\n",
    "$H_0\\colon Med(X - Y) = 0$\n",
    "\n",
    "$H_1\\colon Med(X - Y) \\ne 0$"
   ]
  },
  {
   "cell_type": "code",
   "execution_count": 22,
   "metadata": {
    "id": "WdCmpFgjJu57",
    "outputId": "bcd4af10-6cec-49c5-bfaf-4997898051ed"
   },
   "outputs": [
    {
     "data": {
      "text/plain": [
       "WilcoxonResult(statistic=4948.0, pvalue=0.22554445938820344)"
      ]
     },
     "execution_count": 22,
     "metadata": {},
     "output_type": "execute_result"
    }
   ],
   "source": [
    "stats.wilcoxon(x, y)"
   ]
  },
  {
   "cell_type": "code",
   "execution_count": 23,
   "metadata": {
    "id": "RO8zzILCJu57",
    "outputId": "2d68de41-95bf-40f9-a813-eecc4bb15df3"
   },
   "outputs": [
    {
     "data": {
      "text/plain": [
       "WilcoxonResult(statistic=4948.0, pvalue=0.22554445938820344)"
      ]
     },
     "execution_count": 23,
     "metadata": {},
     "output_type": "execute_result"
    }
   ],
   "source": [
    "# поменял местами года, и pvalue то же самое\n",
    "stats.wilcoxon(y, x)"
   ]
  },
  {
   "cell_type": "markdown",
   "metadata": {
    "id": "iN0dRPNqJu57"
   },
   "source": [
    "Гипотеза об о том, что уровень счастья не изменился, не отвергается. "
   ]
  },
  {
   "cell_type": "markdown",
   "metadata": {
    "id": "SdXFknQ8Ju57"
   },
   "source": [
    " "
   ]
  },
  {
   "cell_type": "markdown",
   "metadata": {
    "id": "SL_CVLrNJu50"
   },
   "source": [
    "## Двухвыборочные (несвязанные выборки) \n",
    "\n",
    "Правда ли, что в Европе уровень счастья выше, чем в Азии? \n"
   ]
  },
  {
   "cell_type": "code",
   "execution_count": 24,
   "metadata": {},
   "outputs": [],
   "source": [
    "df_2015 = pd.read_csv(\"../data/2015.csv\")\n",
    "df_2019 = pd.read_csv(\"../data/2019.csv\")\n"
   ]
  },
  {
   "cell_type": "code",
   "execution_count": 25,
   "metadata": {
    "id": "GSTqHPJGJu51",
    "outputId": "608df8a5-22b1-4cca-da8b-5847f09891e1"
   },
   "outputs": [
    {
     "data": {
      "text/plain": [
       "Sub-Saharan Africa                 40\n",
       "Central and Eastern Europe         29\n",
       "Latin America and Caribbean        22\n",
       "Western Europe                     21\n",
       "Middle East and Northern Africa    20\n",
       "Southeastern Asia                   9\n",
       "Southern Asia                       7\n",
       "Eastern Asia                        6\n",
       "North America                       2\n",
       "Australia and New Zealand           2\n",
       "Name: Region, dtype: int64"
      ]
     },
     "execution_count": 25,
     "metadata": {},
     "output_type": "execute_result"
    }
   ],
   "source": [
    "df_2015.Region.value_counts()"
   ]
  },
  {
   "cell_type": "code",
   "execution_count": 26,
   "metadata": {
    "id": "vq7xsh5nJu51"
   },
   "outputs": [
    {
     "data": {
      "text/plain": [
       "22"
      ]
     },
     "execution_count": 26,
     "metadata": {},
     "output_type": "execute_result"
    }
   ],
   "source": [
    "usl = df_2015.Region.apply(lambda w: 'Asia' in w)\n",
    "x_asia = df_2015[usl]['Happiness Score']\n",
    "x_asia.size"
   ]
  },
  {
   "cell_type": "code",
   "execution_count": 27,
   "metadata": {
    "id": "0Y33W6D6Ju51"
   },
   "outputs": [
    {
     "data": {
      "text/plain": [
       "50"
      ]
     },
     "execution_count": 27,
     "metadata": {},
     "output_type": "execute_result"
    }
   ],
   "source": [
    "usl = df_2015.Region.apply(lambda w: 'Europe' in w)\n",
    "x_eur = df_2015[usl]['Happiness Score']\n",
    "x_eur.size"
   ]
  },
  {
   "cell_type": "code",
   "execution_count": 28,
   "metadata": {
    "id": "XIIvrcD7Ju52"
   },
   "outputs": [
    {
     "data": {
      "image/png": "[encoded data removed]",
      "text/plain": [
       "<Figure size 432x288 with 1 Axes>"
      ]
     },
     "metadata": {
      "needs_background": "light"
     },
     "output_type": "display_data"
    }
   ],
   "source": [
    "sns.histplot(data=pd.concat([x_asia, x_eur], axis=0, keys=['asia','europe']).reset_index(),\n",
    "             x='Happiness Score', hue='level_0', \n",
    "             stat='density', common_norm=False\n",
    "            );\n",
    "\n",
    "# видно сдвиг размером в 1 бин"
   ]
  },
  {
   "cell_type": "code",
   "execution_count": 29,
   "metadata": {
    "id": "_xucTF-jkwsT"
   },
   "outputs": [
    {
     "data": {
      "image/png": "[encoded data removed]",
      "text/plain": [
       "<Figure size 432x288 with 1 Axes>"
      ]
     },
     "metadata": {
      "needs_background": "light"
     },
     "output_type": "display_data"
    }
   ],
   "source": [
    "sns.kdeplot(data=pd.concat([x_asia, x_eur], axis=0, keys=['asia','europe']).reset_index(),\n",
    "             x='Happiness Score', hue='level_0', \n",
    "              common_norm=False\n",
    "            );\n",
    "# также наблюдается сдвиг, форма распределения одинаковая"
   ]
  },
  {
   "cell_type": "code",
   "execution_count": 30,
   "metadata": {
    "id": "YxYRblUQkwsT"
   },
   "outputs": [
    {
     "data": {
      "image/png": "[encoded data removed]",
      "text/plain": [
       "<Figure size 432x288 with 1 Axes>"
      ]
     },
     "metadata": {
      "needs_background": "light"
     },
     "output_type": "display_data"
    }
   ],
   "source": [
    "sns.boxplot(data=pd.concat([x_asia, x_eur], axis=0, keys=['asia','europe']).reset_index(),\n",
    "             x='Happiness Score', y='level_0', \n",
    "            );\n",
    "# синий бокс сдвинут"
   ]
  },
  {
   "cell_type": "markdown",
   "metadata": {
    "id": "M9WvodoeJu52"
   },
   "source": [
    "### Критерий Манна-Уитни  (ранговый)\n",
    "\n",
    "$H_0\\colon f_{X}(x) = f_{Y}(x), \\Delta= 0$\n",
    "\n",
    "$H_1\\colon f_{X}(x) = f_{Y}(x + \\Delta), \\Delta > 0$"
   ]
  },
  {
   "cell_type": "code",
   "execution_count": 31,
   "metadata": {
    "id": "VsqOEwkEJu52"
   },
   "outputs": [
    {
     "data": {
      "text/plain": [
       "MannwhitneyuResult(statistic=774.0, pvalue=0.0031457735731103722)"
      ]
     },
     "execution_count": 31,
     "metadata": {},
     "output_type": "execute_result"
    }
   ],
   "source": [
    "stats.mannwhitneyu(x_eur, x_asia, alternative='greater')"
   ]
  },
  {
   "cell_type": "code",
   "execution_count": 32,
   "metadata": {
    "id": "mPxaOf4FJu53"
   },
   "outputs": [
    {
     "data": {
      "text/plain": [
       "Ttest_indResult(statistic=3.112555403882886, pvalue=0.002685378854280552)"
      ]
     },
     "execution_count": 32,
     "metadata": {},
     "output_type": "execute_result"
    }
   ],
   "source": [
    "# а какие результаты у параметрического критерия?\n",
    "stats.ttest_ind(x_eur, x_asia)"
   ]
  },
  {
   "cell_type": "markdown",
   "metadata": {
    "id": "_uAhhOG4Ju53"
   },
   "source": [
    "Гипотеза отвергается. По этим данным, в Европе люди счастливее."
   ]
  },
  {
   "cell_type": "markdown",
   "metadata": {},
   "source": [
    "### Откуда берется табличное распределение"
   ]
  },
  {
   "cell_type": "code",
   "execution_count": 33,
   "metadata": {},
   "outputs": [],
   "source": [
    "from collections import Counter\n",
    "import itertools\n",
    "\n",
    "# предположим все числа иксов и игреков различные\n",
    "# тогда все ранги будут разные\n",
    "x_and_y = [1,2,3,4,5]\n",
    "n_x = 2\n",
    "n_y = 3\n",
    "\n",
    "perm = list(itertools.permutations(x_and_y))"
   ]
  },
  {
   "cell_type": "code",
   "execution_count": 34,
   "metadata": {},
   "outputs": [
    {
     "data": {
      "text/plain": [
       "120"
      ]
     },
     "execution_count": 34,
     "metadata": {},
     "output_type": "execute_result"
    }
   ],
   "source": [
    "len(perm)"
   ]
  },
  {
   "cell_type": "code",
   "execution_count": 35,
   "metadata": {},
   "outputs": [
    {
     "data": {
      "text/plain": [
       "array([[ 3, 12],\n",
       "       [ 4, 12],\n",
       "       [ 5, 24],\n",
       "       [ 6, 24],\n",
       "       [ 7, 24],\n",
       "       [ 8, 12],\n",
       "       [ 9, 12]])"
      ]
     },
     "execution_count": 35,
     "metadata": {},
     "output_type": "execute_result"
    }
   ],
   "source": [
    "all_possible_x_ranks = [sum(r[:n_x]) for r in perm]\n",
    "frequency_of_sum_of_ranks = Counter(all_possible_x_ranks)\n",
    "counts = np.array(list(frequency_of_sum_of_ranks.items()))\n",
    "counts"
   ]
  },
  {
   "cell_type": "code",
   "execution_count": 36,
   "metadata": {},
   "outputs": [
    {
     "data": {
      "text/plain": [
       "dict_items([(3, 12), (4, 12), (5, 24), (6, 24), (7, 24), (8, 12), (9, 12)])"
      ]
     },
     "execution_count": 36,
     "metadata": {},
     "output_type": "execute_result"
    }
   ],
   "source": [
    "frequency_of_sum_of_ranks.items()"
   ]
  },
  {
   "cell_type": "code",
   "execution_count": 37,
   "metadata": {},
   "outputs": [
    {
     "data": {
      "image/png": "[encoded data removed]",
      "text/plain": [
       "<Figure size 432x288 with 1 Axes>"
      ]
     },
     "metadata": {
      "needs_background": "light"
     },
     "output_type": "display_data"
    }
   ],
   "source": [
    "plt.bar(counts[:,0],counts[:,1]);"
   ]
  },
  {
   "cell_type": "code",
   "execution_count": 38,
   "metadata": {},
   "outputs": [
    {
     "data": {
      "text/plain": [
       "array([[3. , 0.1],\n",
       "       [4. , 0.1],\n",
       "       [5. , 0.2],\n",
       "       [6. , 0.2],\n",
       "       [7. , 0.2],\n",
       "       [8. , 0.1],\n",
       "       [9. , 0.1]])"
      ]
     },
     "execution_count": 38,
     "metadata": {},
     "output_type": "execute_result"
    }
   ],
   "source": [
    "counts = counts.astype(float)\n",
    "counts[:,1] = counts[:,1] / counts.sum(axis=0)[1]\n",
    "counts "
   ]
  },
  {
   "cell_type": "markdown",
   "metadata": {
    "id": "arEcCXPHkwpY"
   },
   "source": [
    "#  Критерии согласия и однородности"
   ]
  },
  {
   "cell_type": "markdown",
   "metadata": {
    "id": "PK70FV-lkwp1"
   },
   "source": [
    "## Критерий Колмогорова\n",
    "\n",
    "\n",
    "__Гипотеза о неизвестном законе распределения:__ \n",
    "\n",
    "$$\n",
    "\\begin{aligned}\n",
    "H_0 : X \\sim F_0 \\\\\n",
    "H_1 : X \\nsim F_0\n",
    "\\end{aligned}\n",
    "$$\n",
    "\n",
    "__Статистика:__ \n",
    "\n",
    "$$\n",
    "K_n = \\sqrt{n} \\cdot \\sup_{x} \\mid \\hat F_n(x) - F(x) \\mid \n",
    "$$\n",
    "\n",
    "При справедливости нулевой гипотезы распределение статистики $K_n$ одинаково для любого исходного непрерывного распределения."
   ]
  },
  {
   "cell_type": "markdown",
   "metadata": {
    "id": "Ih1LEhMmkwp3"
   },
   "source": [
    "### Искусственные примеры\n",
    "\n",
    "Попробуем провести тест Колмогорова на нескольких искуственных примерах. "
   ]
  },
  {
   "cell_type": "code",
   "execution_count": 39,
   "metadata": {
    "id": "xYYOecYvkwp5",
    "outputId": "4ba965d8-171d-4820-83be-b90aa51a2aac"
   },
   "outputs": [
    {
     "data": {
      "text/plain": [
       "(4.82018326803313, 3.0790954528417696)"
      ]
     },
     "execution_count": 39,
     "metadata": {},
     "output_type": "execute_result"
    }
   ],
   "source": [
    "# выборка с мат. ожиданием 5 и ст. отклоением 3\n",
    "x = stats.norm(loc=5, scale=3).rvs(30, random_state=1)\n",
    "\n",
    "# наши оценки мат. ожиданияи и ст. отклонения\n",
    "mu, sigma = x.mean(), x.std(ddof=1)\n",
    "\n",
    "mu, sigma"
   ]
  },
  {
   "cell_type": "code",
   "execution_count": 40,
   "metadata": {
    "id": "ooNnAnMjkwp9",
    "outputId": "c98755b3-2d13-4ea4-8728-d7275212c6a1"
   },
   "outputs": [
    {
     "data": {
      "text/plain": [
       "KstestResult(statistic=0.09112015088048397, pvalue=0.9452056783317769)"
      ]
     },
     "execution_count": 40,
     "metadata": {},
     "output_type": "execute_result"
    }
   ],
   "source": [
    "stats.kstest(x, 'norm', args=(mu, sigma))\n",
    "# pvalue > 0.05 \n",
    "# => гипотеза о принадлежности к норм. распределнию с параметрами 4.8 и 3.1 не отвергается"
   ]
  },
  {
   "cell_type": "code",
   "execution_count": 41,
   "metadata": {
    "id": "5UlQTjBbkwqC",
    "outputId": "37a4e95d-e624-4368-92a6-e9337d54c563"
   },
   "outputs": [
    {
     "data": {
      "image/png": "[encoded data removed]",
      "text/plain": [
       "<Figure size 432x288 with 1 Axes>"
      ]
     },
     "metadata": {
      "needs_background": "light"
     },
     "output_type": "display_data"
    }
   ],
   "source": [
    "sns.kdeplot(x, cumulative=True, label='observed');\n",
    "\n",
    "xs = np.arange(-10, 15, 0.1)\n",
    "cdf = stats.norm.cdf(xs, loc=mu, scale=sigma)\n",
    "plt.plot(xs, cdf, label='theoretical')\n",
    "\n",
    "plt.legend();"
   ]
  },
  {
   "cell_type": "code",
   "execution_count": 42,
   "metadata": {
    "id": "FDR1BprmkwqE",
    "outputId": "2753793a-bd78-4395-bdc1-f6ba1ff7513c"
   },
   "outputs": [
    {
     "data": {
      "image/png": "[encoded data removed]",
      "text/plain": [
       "<Figure size 432x288 with 1 Axes>"
      ]
     },
     "metadata": {
      "needs_background": "light"
     },
     "output_type": "display_data"
    }
   ],
   "source": [
    "sns.histplot(x, kde=True, bins=5);"
   ]
  },
  {
   "cell_type": "markdown",
   "metadata": {
    "id": "FpXApyYxkwqn"
   },
   "source": [
    "Гипотеза о нормальности для выборки, сгенерированной из нормального распределения не отвергается. Сгенерируем выборку из равномерного распределения, а после протестируем гипотезу о нормальности.  "
   ]
  },
  {
   "cell_type": "code",
   "execution_count": 43,
   "metadata": {
    "id": "W2CKyFiVkwqu",
    "outputId": "7427e2d0-3871-48a4-9e5f-3d14d8a4e061"
   },
   "outputs": [
    {
     "data": {
      "image/png": "[encoded data removed]",
      "text/plain": [
       "<Figure size 432x288 with 1 Axes>"
      ]
     },
     "metadata": {
      "needs_background": "light"
     },
     "output_type": "display_data"
    }
   ],
   "source": [
    "x = stats.uniform(0,1).rvs(1000)\n",
    "sns.histplot(x, kde=False, bins=10);"
   ]
  },
  {
   "cell_type": "code",
   "execution_count": 44,
   "metadata": {
    "id": "SbYABcOAkwq2",
    "outputId": "21289216-7470-4f1a-c9b5-d6ba252a7ed9"
   },
   "outputs": [
    {
     "data": {
      "image/png": "[encoded data removed]",
      "text/plain": [
       "<Figure size 432x288 with 1 Axes>"
      ]
     },
     "metadata": {
      "needs_background": "light"
     },
     "output_type": "display_data"
    }
   ],
   "source": [
    "sns.kdeplot(x, cumulative=True)\n",
    "\n",
    "mu, sigma = x.mean(), x.std(ddof=1)\n",
    "xs = np.arange(-0.25,1.25,0.1)\n",
    "cdf = stats.norm.cdf(xs, loc=mu, scale=sigma)\n",
    "plt.plot(xs, cdf)\n",
    "\n",
    "plt.legend(['observed', 'theoretical']);"
   ]
  },
  {
   "cell_type": "code",
   "execution_count": 45,
   "metadata": {
    "id": "20H6_Fu6kwq7",
    "outputId": "8593a0a5-78e3-4d5e-bdec-5af5afe6abae"
   },
   "outputs": [
    {
     "data": {
      "text/plain": [
       "KstestResult(statistic=0.06891364178674525, pvalue=0.00014210100486061945)"
      ]
     },
     "execution_count": 45,
     "metadata": {},
     "output_type": "execute_result"
    }
   ],
   "source": [
    "stats.kstest(x, 'norm', args=(mu, sigma))"
   ]
  },
  {
   "cell_type": "markdown",
   "metadata": {
    "id": "kxvDJ-H-kwq9"
   },
   "source": [
    "Видим, что $p\\_value$ очень низкое. Гипотеза о нормальности отвергается. По аналогии можно протестировать гипотезу для любого распределения. Вот пример с экспоненциальным распределением: "
   ]
  },
  {
   "cell_type": "code",
   "execution_count": 46,
   "metadata": {
    "id": "OjhVKugpkwrV",
    "outputId": "64f1cf50-66ec-492d-d4da-f179bbd3db47"
   },
   "outputs": [
    {
     "data": {
      "image/png": "[encoded data removed]",
      "text/plain": [
       "<Figure size 432x288 with 1 Axes>"
      ]
     },
     "metadata": {
      "needs_background": "light"
     },
     "output_type": "display_data"
    }
   ],
   "source": [
    "x = stats.expon(scale=0.2).rvs(1000)\n",
    "sns.histplot(x, kde=True);"
   ]
  },
  {
   "cell_type": "code",
   "execution_count": 47,
   "metadata": {
    "id": "G4GF5OIFkwrf",
    "outputId": "b0d0e188-79e5-4081-bc40-9e89db28fe3b"
   },
   "outputs": [
    {
     "data": {
      "text/plain": [
       "KstestResult(statistic=0.03463187322587913, pvalue=0.1773764769203796)"
      ]
     },
     "execution_count": 47,
     "metadata": {},
     "output_type": "execute_result"
    }
   ],
   "source": [
    "stats.kstest(x, 'expon', args=(0, x.mean()))"
   ]
  },
  {
   "cell_type": "markdown",
   "metadata": {
    "id": "URz0Fdy6kwri"
   },
   "source": [
    "Первый аргумент отвечает за `loc` (экспоненциальное распределение со сдвигом). Он равен нулю."
   ]
  },
  {
   "cell_type": "markdown",
   "metadata": {
    "id": "4Dk5f-Phkwrj"
   },
   "source": [
    "## Андерсон-Дарлинг и нормальность распределения акций\n",
    "\n",
    "Подгрузим данные о стоимости акций Яндекса в течение последних $10$ лет."
   ]
  },
  {
   "cell_type": "code",
   "execution_count": 48,
   "metadata": {
    "id": "72qoVVZIkwrl",
    "outputId": "fdab959d-a8aa-4390-9672-5d3622293806"
   },
   "outputs": [
    {
     "name": "stdout",
     "output_type": "stream",
     "text": [
      "(2291, 6)\n"
     ]
    },
    {
     "data": {
      "text/html": [
       "<div>\n",
       "<style scoped>\n",
       "    .dataframe tbody tr th:only-of-type {\n",
       "        vertical-align: middle;\n",
       "    }\n",
       "\n",
       "    .dataframe tbody tr th {\n",
       "        vertical-align: top;\n",
       "    }\n",
       "\n",
       "    .dataframe thead th {\n",
       "        text-align: right;\n",
       "    }\n",
       "</style>\n",
       "<table border=\"1\" class=\"dataframe\">\n",
       "  <thead>\n",
       "    <tr style=\"text-align: right;\">\n",
       "      <th></th>\n",
       "      <th>open</th>\n",
       "      <th>high</th>\n",
       "      <th>low</th>\n",
       "      <th>close</th>\n",
       "      <th>volume</th>\n",
       "      <th>adjusted</th>\n",
       "    </tr>\n",
       "    <tr>\n",
       "      <th>fielddate</th>\n",
       "      <th></th>\n",
       "      <th></th>\n",
       "      <th></th>\n",
       "      <th></th>\n",
       "      <th></th>\n",
       "      <th></th>\n",
       "    </tr>\n",
       "  </thead>\n",
       "  <tbody>\n",
       "    <tr>\n",
       "      <th>2011-05-24</th>\n",
       "      <td>35.000000</td>\n",
       "      <td>42.009998</td>\n",
       "      <td>30.549999</td>\n",
       "      <td>38.840000</td>\n",
       "      <td>70186700.0</td>\n",
       "      <td>38.840000</td>\n",
       "    </tr>\n",
       "    <tr>\n",
       "      <th>2011-05-25</th>\n",
       "      <td>37.750000</td>\n",
       "      <td>37.900002</td>\n",
       "      <td>34.400002</td>\n",
       "      <td>35.000000</td>\n",
       "      <td>11761600.0</td>\n",
       "      <td>35.000000</td>\n",
       "    </tr>\n",
       "    <tr>\n",
       "      <th>2011-05-26</th>\n",
       "      <td>34.450001</td>\n",
       "      <td>35.450001</td>\n",
       "      <td>34.000000</td>\n",
       "      <td>34.770000</td>\n",
       "      <td>4417500.0</td>\n",
       "      <td>34.770000</td>\n",
       "    </tr>\n",
       "    <tr>\n",
       "      <th>2011-05-27</th>\n",
       "      <td>34.750000</td>\n",
       "      <td>35.000000</td>\n",
       "      <td>34.000000</td>\n",
       "      <td>34.450001</td>\n",
       "      <td>2006000.0</td>\n",
       "      <td>34.450001</td>\n",
       "    </tr>\n",
       "    <tr>\n",
       "      <th>2011-05-31</th>\n",
       "      <td>34.950001</td>\n",
       "      <td>35.369999</td>\n",
       "      <td>32.610001</td>\n",
       "      <td>33.450001</td>\n",
       "      <td>3981100.0</td>\n",
       "      <td>33.450001</td>\n",
       "    </tr>\n",
       "  </tbody>\n",
       "</table>\n",
       "</div>"
      ],
      "text/plain": [
       "                 open       high        low      close      volume   adjusted\n",
       "fielddate                                                                    \n",
       "2011-05-24  35.000000  42.009998  30.549999  38.840000  70186700.0  38.840000\n",
       "2011-05-25  37.750000  37.900002  34.400002  35.000000  11761600.0  35.000000\n",
       "2011-05-26  34.450001  35.450001  34.000000  34.770000   4417500.0  34.770000\n",
       "2011-05-27  34.750000  35.000000  34.000000  34.450001   2006000.0  34.450001\n",
       "2011-05-31  34.950001  35.369999  32.610001  33.450001   3981100.0  33.450001"
      ]
     },
     "execution_count": 48,
     "metadata": {},
     "output_type": "execute_result"
    }
   ],
   "source": [
    "df = pd.read_csv('../data/ynd.tsv', sep='\\t')\n",
    "df['fielddate'] = pd.to_datetime(df['fielddate'])\n",
    "df.set_index('fielddate', inplace=True)\n",
    "print(df.shape)\n",
    "df.head()"
   ]
  },
  {
   "cell_type": "markdown",
   "metadata": {
    "id": "fn5DHUhtkwrq"
   },
   "source": [
    "Обычно финансисты работают с доходностями:\n",
    "\n",
    "$$\n",
    "R_t = \\frac{P_t - P_{t-1}}{P_{t-1}}\n",
    "$$"
   ]
  },
  {
   "cell_type": "code",
   "execution_count": 49,
   "metadata": {
    "id": "6vBC7SuQkwrt",
    "outputId": "0276fa6c-e247-4af1-d405-3509abc61f55"
   },
   "outputs": [
    {
     "data": {
      "text/plain": [
       "fielddate\n",
       "2011-05-25   -0.098867\n",
       "2011-05-26   -0.006571\n",
       "2011-05-27   -0.009203\n",
       "2011-05-31   -0.029028\n",
       "2011-06-01   -0.035874\n",
       "                ...   \n",
       "2020-06-24    0.026531\n",
       "2020-06-25    0.004970\n",
       "2020-06-26   -0.030069\n",
       "2020-06-29    0.004283\n",
       "2020-06-30    0.015841\n",
       "Name: close, Length: 2290, dtype: float64"
      ]
     },
     "execution_count": 49,
     "metadata": {},
     "output_type": "execute_result"
    }
   ],
   "source": [
    "r = (df.close.diff()/df.close.shift(1)).dropna()\n",
    "r"
   ]
  },
  {
   "cell_type": "code",
   "execution_count": 50,
   "metadata": {
    "id": "j73UyNsFkwru",
    "outputId": "334b4dd2-3b17-4ffb-8b92-3496e1dfdcd0"
   },
   "outputs": [
    {
     "data": {
      "image/png": "[encoded data removed]",
      "text/plain": [
       "<Figure size 432x288 with 1 Axes>"
      ]
     },
     "metadata": {
      "needs_background": "light"
     },
     "output_type": "display_data"
    }
   ],
   "source": [
    "# r.hist(bins=50, density=True);\n",
    "# sns.histplot(r, stat='density', bins=30, kde=True, label='observed')\n",
    "sns.kdeplot(r, label='observed')\n",
    "\n",
    "xs = np.linspace(-0.2, 0.2, 300)\n",
    "pdf = stats.norm(loc=r.mean(), scale=r.std(ddof=1)).pdf(xs)\n",
    "plt.plot(xs, pdf, label='theoretical')\n",
    "\n",
    "plt.legend()\n",
    "plt.show()"
   ]
  },
  {
   "cell_type": "code",
   "execution_count": 51,
   "metadata": {
    "id": "CGHnYVg2kwrx",
    "outputId": "365968a5-731b-4fd0-e775-48f046d51346"
   },
   "outputs": [
    {
     "data": {
      "text/plain": [
       "''"
      ]
     },
     "execution_count": 51,
     "metadata": {},
     "output_type": "execute_result"
    },
    {
     "data": {
      "image/png": "[encoded data removed]",
      "text/plain": [
       "<Figure size 432x288 with 1 Axes>"
      ]
     },
     "metadata": {
      "needs_background": "light"
     },
     "output_type": "display_data"
    }
   ],
   "source": [
    "sns.kdeplot(r, cumulative=True)\n",
    "\n",
    "\n",
    "mu, sigma = r.mean(), r.std(ddof=1)\n",
    "xs = np.arange(r.min(),r.max(),0.001)\n",
    "cdf = stats.norm.cdf(xs, loc=mu, scale=sigma)\n",
    "plt.plot(xs, cdf)\n",
    "\n",
    "plt.legend(['observed', 'theoretical'])\n",
    "plt.xlim(-.05,.05)\n",
    ";"
   ]
  },
  {
   "cell_type": "markdown",
   "metadata": {
    "id": "m8-wUfyvkwry"
   },
   "source": [
    " Как это не странно, оно оказывается куполообразным. Издали распределение напоминает собой нормальное. Однако это ещё не факт. Можно заметить, что у распределения довольно тяжёлые хвосты. Чтобы увидеть это построим диаграмму квантиль-квантиль. Она позволяет сравнить выборочное распределение с теоретическим. "
   ]
  },
  {
   "cell_type": "code",
   "execution_count": 52,
   "metadata": {},
   "outputs": [
    {
     "data": {
      "image/png": "[encoded data removed]",
      "text/plain": [
       "<Figure size 432x288 with 1 Axes>"
      ]
     },
     "metadata": {
      "needs_background": "light"
     },
     "output_type": "display_data"
    }
   ],
   "source": [
    "plt.scatter(\n",
    "    sorted(stats.norm(loc=r.mean(), scale=r.std()).rvs(r.size)),\n",
    "    sorted(r))\n",
    "\n",
    "plt.plot(sorted(r), \n",
    "         sorted(r));"
   ]
  },
  {
   "cell_type": "code",
   "execution_count": 53,
   "metadata": {
    "id": "_bu5-Kflkwrz",
    "outputId": "527685e5-4a47-4e3b-9134-657bdd7ea0e2"
   },
   "outputs": [
    {
     "data": {
      "image/png": "[encoded data removed]",
      "text/plain": [
       "<Figure size 432x288 with 1 Axes>"
      ]
     },
     "metadata": {
      "needs_background": "light"
     },
     "output_type": "display_data"
    }
   ],
   "source": [
    "stats.probplot(r, dist=\"norm\", plot=plt);"
   ]
  },
  {
   "cell_type": "code",
   "execution_count": 54,
   "metadata": {
    "id": "ClD-zwBCkwr0",
    "outputId": "392eb241-f030-4952-a9ac-baec3d89ef3c"
   },
   "outputs": [
    {
     "data": {
      "image/png": "[encoded data removed]",
      "text/plain": [
       "<Figure size 432x288 with 1 Axes>"
      ]
     },
     "metadata": {
      "needs_background": "light"
     },
     "output_type": "display_data"
    }
   ],
   "source": [
    "stats.probplot(stats.norm(loc=5, scale=3).rvs(500), dist=\"norm\", plot=plt);"
   ]
  },
  {
   "cell_type": "markdown",
   "metadata": {
    "id": "TufoFjlwkwr1"
   },
   "source": [
    "На диаграмме по оси $x$ откладываются значения из теоретического нормального распределения. По оси $y$ откладывают значения, которые фигурируют в выборке. Если бы наши наблюдения были из нормального распределения, они бы оказались на диагонали. Центр, действительно, укладывается на неё. А вот хвосты с неё спадают. Они оказываются тяжелыми.\n",
    "\n",
    "Проверим гипотезу тестом Колмогорова. "
   ]
  },
  {
   "cell_type": "code",
   "execution_count": 55,
   "metadata": {
    "id": "QqqlUF1Vkwr1",
    "outputId": "bd312073-5033-4c1b-ca01-e2137ae791f6"
   },
   "outputs": [
    {
     "data": {
      "text/plain": [
       "(0.0005134013394187065, 0.02832192239992791)"
      ]
     },
     "execution_count": 55,
     "metadata": {},
     "output_type": "execute_result"
    }
   ],
   "source": [
    "r.mean(), r.std(ddof=1)"
   ]
  },
  {
   "cell_type": "code",
   "execution_count": 56,
   "metadata": {
    "id": "jP7ePqRskwr2",
    "outputId": "bd5cff2c-9905-4a01-e761-b00260232f25"
   },
   "outputs": [
    {
     "data": {
      "text/plain": [
       "KstestResult(statistic=0.05845783509742092, pvalue=3.035955008496118e-07)"
      ]
     },
     "execution_count": 56,
     "metadata": {},
     "output_type": "execute_result"
    }
   ],
   "source": [
    "stats.kstest(r, 'norm', args=(r.mean(), r.std(ddof=1)))\n",
    "# гипотеза о нормальности отвергается"
   ]
  },
  {
   "cell_type": "markdown",
   "metadata": {
    "id": "7Lae45CFkwr3"
   },
   "source": [
    "Гипотеза о нормальности отвергается, p_value оказалось очень маленьким. Обычно доходности моделируют с помощью распределений с тяжёлыми хвостами. Попробуем проверить ту же самую гипотезу, но с помощью критерия, специфицированного под хвосты [(Андерсона-Дарлинга)](https://www.statsmodels.org/stable/generated/statsmodels.stats.diagnostic.normal_ad.html#statsmodels.stats.diagnostic.normal_ad): мы переносим на хвосты распределения дополнительный вес, чтобы критерий был к ним более чувствительным. "
   ]
  },
  {
   "cell_type": "code",
   "execution_count": 57,
   "metadata": {
    "id": "0-_6gAYCkwr4",
    "outputId": "6caa95ee-3e82-412e-fa13-ba569c2d881d"
   },
   "outputs": [
    {
     "data": {
      "text/plain": [
       "(19.749165127467222, 0.0)"
      ]
     },
     "execution_count": 57,
     "metadata": {},
     "output_type": "execute_result"
    }
   ],
   "source": [
    "from statsmodels.stats.diagnostic import normal_ad\n",
    "normal_ad(r) \n",
    "# гипотеза о нормальности отвергается"
   ]
  },
  {
   "cell_type": "markdown",
   "metadata": {
    "id": "G2i5VzZGkwr5"
   },
   "source": [
    "Попробуем этот же тест для выборки из нормального распределения."
   ]
  },
  {
   "cell_type": "code",
   "execution_count": 58,
   "metadata": {
    "id": "2YXGd5hBkwsB",
    "outputId": "b6187a08-583d-4a7e-9a27-25f367dee91e"
   },
   "outputs": [
    {
     "data": {
      "text/plain": [
       "(0.24834868552704847, 0.7494354277921951)"
      ]
     },
     "execution_count": 58,
     "metadata": {},
     "output_type": "execute_result"
    }
   ],
   "source": [
    "x = stats.norm(loc=5, scale=3).rvs(1000)\n",
    "normal_ad(x)\n",
    "# гипотеза о нормальности не отвергается"
   ]
  },
  {
   "cell_type": "markdown",
   "metadata": {
    "id": "Whrce_1ikwsC"
   },
   "source": [
    "## Однородность выборок\n",
    "\n",
    "__Ещё одно полезное свойство критерия:__ можно проверять гипотезу об однородности выборок, то есть пытаться понять из одного ли распределения они к нам пришли. Колмогоров доказал, что для этого случая распределение Колмогорова тоже подходит."
   ]
  },
  {
   "cell_type": "code",
   "execution_count": 59,
   "metadata": {
    "id": "uhSCrGo-kwsD"
   },
   "outputs": [],
   "source": [
    "x = stats.norm(loc=5, scale=3).rvs(1000, random_state=1)\n",
    "y = stats.norm(loc=5, scale=3).rvs(1000, random_state=2)\n",
    "z = stats.expon(scale=0.2).rvs(1000, random_state=1)"
   ]
  },
  {
   "cell_type": "code",
   "execution_count": 60,
   "metadata": {},
   "outputs": [
    {
     "data": {
      "text/plain": [
       "KstestResult(statistic=0.056, pvalue=0.08689937254547132)"
      ]
     },
     "execution_count": 60,
     "metadata": {},
     "output_type": "execute_result"
    },
    {
     "data": {
      "image/png": "[encoded data removed]",
      "text/plain": [
       "<Figure size 432x288 with 1 Axes>"
      ]
     },
     "metadata": {
      "needs_background": "light"
     },
     "output_type": "display_data"
    }
   ],
   "source": [
    "sns.ecdfplot(x)\n",
    "sns.ecdfplot(y)\n",
    "stats.ks_2samp(x, y)\n",
    "# гипотеза об однородности НЕ отвергается"
   ]
  },
  {
   "cell_type": "code",
   "execution_count": 61,
   "metadata": {
    "id": "fycYsACAkwsE",
    "outputId": "31465225-988c-4d09-b286-4fda0c854d4a"
   },
   "outputs": [
    {
     "data": {
      "text/plain": [
       "KstestResult(statistic=0.916, pvalue=0.0)"
      ]
     },
     "execution_count": 61,
     "metadata": {},
     "output_type": "execute_result"
    },
    {
     "data": {
      "image/png": "[encoded data removed]",
      "text/plain": [
       "<Figure size 432x288 with 1 Axes>"
      ]
     },
     "metadata": {
      "needs_background": "light"
     },
     "output_type": "display_data"
    }
   ],
   "source": [
    "sns.ecdfplot(x)\n",
    "sns.ecdfplot(z)\n",
    "stats.ks_2samp(x, z)\n",
    "# гипотеза об однородности отвергается"
   ]
  },
  {
   "cell_type": "markdown",
   "metadata": {
    "id": "Ga6_523GkwsF"
   },
   "source": [
    "> __Важно:__  Критерий работает только для непрерывных распределений! Для дискретных ситуаций обычно используют критерий Пирсона. "
   ]
  },
  {
   "cell_type": "markdown",
   "metadata": {
    "id": "4lRiTiGikwsI"
   },
   "source": [
    "## Критерий Пирсона\n",
    "\n",
    "\n",
    "__Гипотеза о неизвестном законе распределения:__ \n",
    "\n",
    "\n",
    "$$\n",
    "\\begin{aligned}\n",
    "H_0 : X \\sim F_0 \\\\\n",
    "H_1 : X \\nsim F_0\n",
    "\\end{aligned}\n",
    "$$\n",
    "\n",
    "__Статистика:__ \n",
    "\n",
    "$$\n",
    "\\sum_{j=1}^s \\frac{\\left(O_{i}-E_{i}\\right)^{2}}{E_{i}} = \\sum_{j=1}^s \\frac{(v_j - n \\cdot p_j(\\hat \\theta))^2}{n \\cdot p_j(\\hat \\theta)} \\sim \\chi^2_{s - k - 1},\n",
    "$$\n",
    "\n",
    "где \n",
    "- $\\hat \\theta$ - любая состоятельная оценка параметра, \n",
    "- $v_j$ - частота, с которой значение $j$ встречалось в выборке, \n",
    "- $p_j$ - теоретическая вероятность того, что выпадет значение $j$,  \n",
    "- $s$ - число значений, которые может принимать случайная величина, \n",
    "- $k$ - размерность вектора параметров $\\theta$, \n"
   ]
  },
  {
   "cell_type": "markdown",
   "metadata": {
    "id": "ikhESqCGkwsJ"
   },
   "source": [
    "### Число пи, дискретное распределение\n",
    "\n",
    "В десятичной записи числа $\\pi$ среди первых $10002$ знаков после запятой цифры $0, 1, \\dots, 9$ встречаются соответственно 968, 1026, 1021, 974, 1014, 1046, 1021, 970, 948, 1014 раз. Можно ли при уровне значимости $0.05$ считать эти цифры случайными? При каком уровне значимости эта гипотеза отвергается?"
   ]
  },
  {
   "cell_type": "markdown",
   "metadata": {
    "id": "h7wQzeejkwsL"
   },
   "source": [
    "У нас есть дискретное распределение и $10$ вероятностей. Нужно проверить гипотезу о равномерности этого распределения. Будем делать это с помощью критерия Пирсона. "
   ]
  },
  {
   "cell_type": "code",
   "execution_count": 62,
   "metadata": {
    "id": "E1ETRp_1kwsM"
   },
   "outputs": [],
   "source": [
    "import math"
   ]
  },
  {
   "cell_type": "code",
   "execution_count": 63,
   "metadata": {
    "id": "d23jd3s4kwsN",
    "outputId": "5f7a9d12-c99d-4a7f-a003-35252664906c"
   },
   "outputs": [
    {
     "data": {
      "text/plain": [
       "3.141592653589793"
      ]
     },
     "execution_count": 63,
     "metadata": {},
     "output_type": "execute_result"
    }
   ],
   "source": [
    "math.pi"
   ]
  },
  {
   "cell_type": "code",
   "execution_count": 64,
   "metadata": {
    "id": "Hsf_6BfgkwsN",
    "outputId": "e520259a-992e-4cfa-aff8-15e99238fc03"
   },
   "outputs": [
    {
     "data": {
      "text/plain": [
       "array([0.09678064, 0.10257948, 0.10207958, 0.09738052, 0.10137972,\n",
       "       0.10457908, 0.10207958, 0.0969806 , 0.09478104, 0.10137972])"
      ]
     },
     "execution_count": 64,
     "metadata": {},
     "output_type": "execute_result"
    }
   ],
   "source": [
    "n = 10002\n",
    "observed_cnts = np.array([968, 1026, 1021, 974, 1014, 1046, 1021, 970, 948, 1014])\n",
    "p = observed_cnts/n\n",
    "p"
   ]
  },
  {
   "cell_type": "code",
   "execution_count": 65,
   "metadata": {
    "id": "w5JQech6kwsO",
    "outputId": "bb407fa0-3894-4d9c-a255-d2d68bc6f4d3"
   },
   "outputs": [
    {
     "data": {
      "text/plain": [
       "array([0.1, 0.1, 0.1, 0.1, 0.1, 0.1, 0.1, 0.1, 0.1, 0.1])"
      ]
     },
     "execution_count": 65,
     "metadata": {},
     "output_type": "execute_result"
    }
   ],
   "source": [
    "expected_prob = np.array([1/10]*10)\n",
    "expected_prob"
   ]
  },
  {
   "cell_type": "markdown",
   "metadata": {
    "id": "amWmw85kkwsO"
   },
   "source": [
    "Статистика для теста Пирсона выглядит как\n",
    "\n",
    "$$\n",
    "\\sum_{j=1}^{10} \\frac{(v_j - n \\cdot p_j(\\hat \\theta))^2}{n \\cdot p_j(\\hat \\theta)} \\sim \\chi^2_{10-1},\n",
    "$$"
   ]
  },
  {
   "cell_type": "code",
   "execution_count": 66,
   "metadata": {},
   "outputs": [],
   "source": [
    "expected_cnts = n*expected_prob"
   ]
  },
  {
   "cell_type": "code",
   "execution_count": 67,
   "metadata": {
    "id": "BorOd1YRkwsP",
    "outputId": "228b5b03-405c-4238-833e-40a20c757fdd"
   },
   "outputs": [
    {
     "data": {
      "text/plain": [
       "9.367726454709057"
      ]
     },
     "execution_count": 67,
     "metadata": {},
     "output_type": "execute_result"
    }
   ],
   "source": [
    "T = np.sum((observed_cnts - expected_cnts)**2 / (expected_cnts))\n",
    "T"
   ]
  },
  {
   "cell_type": "markdown",
   "metadata": {
    "id": "BqjubJK0kwsS"
   },
   "source": [
    "Статистика Пирсона имеет $\\chi^2_9$. Найдём для неё критическое значения на уровне значимости $5\\%$."
   ]
  },
  {
   "cell_type": "code",
   "execution_count": 68,
   "metadata": {
    "id": "a9Wk66h7kwsT",
    "outputId": "7bce2443-29d5-4106-a698-bf61d803d053"
   },
   "outputs": [
    {
     "data": {
      "text/plain": [
       "16.918977604620448"
      ]
     },
     "execution_count": 68,
     "metadata": {},
     "output_type": "execute_result"
    }
   ],
   "source": [
    "chi2_crit = stats.chi2.ppf(0.95, df=9)\n",
    "chi2_crit"
   ]
  },
  {
   "cell_type": "code",
   "execution_count": 69,
   "metadata": {},
   "outputs": [
    {
     "data": {
      "text/plain": [
       "True"
      ]
     },
     "execution_count": 69,
     "metadata": {},
     "output_type": "execute_result"
    }
   ],
   "source": [
    "T < chi2_crit\n",
    "# не отвергаем гипотезу о равновероятности числе в числе пи"
   ]
  },
  {
   "cell_type": "markdown",
   "metadata": {
    "id": "mQ1--JGgkwsU"
   },
   "source": [
    "Наблюдаемое значение меньше критического. Гипотеза о равномерности не отвергается. Найдём $p\\_value$."
   ]
  },
  {
   "cell_type": "code",
   "execution_count": 70,
   "metadata": {
    "id": "J78U5zCxkwsb",
    "outputId": "5942228a-14f4-45a6-a983-095fcc6b957e"
   },
   "outputs": [
    {
     "data": {
      "text/plain": [
       "0.4040452075150309"
      ]
     },
     "execution_count": 70,
     "metadata": {},
     "output_type": "execute_result"
    }
   ],
   "source": [
    "1 - stats.chi2.cdf(T, df=9)"
   ]
  },
  {
   "cell_type": "markdown",
   "metadata": {
    "id": "3q2GQs95kwsi"
   },
   "source": [
    "Видим, что $p\\_value$ на порядок выше $5\\%$, значит гипотеза не отвергается. \n",
    "\n",
    "Ровно то же самое можно сделать встроенным тестом. "
   ]
  },
  {
   "cell_type": "code",
   "execution_count": 71,
   "metadata": {
    "id": "cCKaQP7Wkwsj",
    "outputId": "91f5addd-90bb-4247-a87c-14535fade4df"
   },
   "outputs": [
    {
     "data": {
      "text/plain": [
       "Power_divergenceResult(statistic=9.367726454709057, pvalue=0.40404520751503087)"
      ]
     },
     "execution_count": 71,
     "metadata": {},
     "output_type": "execute_result"
    }
   ],
   "source": [
    "from scipy.stats import chisquare\n",
    "chisquare(observed_cnts, f_exp=expected_cnts)"
   ]
  },
  {
   "cell_type": "markdown",
   "metadata": {
    "id": "gGEWpH1wkwsr"
   },
   "source": [
    "> По аналогии с тестом Колмогорова, тест Пирсона можно использовать, чтобы проверять выборки на однородность. В таком случае критерий хочет получить на вход таблицу сопряжённости для двух распределений. "
   ]
  },
  {
   "cell_type": "markdown",
   "metadata": {
    "id": "1AxK83MZkwsu"
   },
   "source": [
    "### Экспоненциальное распределение (непрерывное)"
   ]
  },
  {
   "cell_type": "markdown",
   "metadata": {
    "id": "CYscwX7Wkws1"
   },
   "source": [
    "Проверяем гипотезу, что выборка ниже из экспоненциального распределения"
   ]
  },
  {
   "cell_type": "code",
   "execution_count": 72,
   "metadata": {
    "id": "npGzwWzKkws2",
    "outputId": "c472c53c-949d-4306-8d4a-e933f7e1d1be"
   },
   "outputs": [
    {
     "data": {
      "image/png": "[encoded data removed]",
      "text/plain": [
       "<Figure size 432x288 with 1 Axes>"
      ]
     },
     "metadata": {
      "needs_background": "light"
     },
     "output_type": "display_data"
    }
   ],
   "source": [
    "X = np.array([1,1,7,16,8,8,11,7,5,45,13,0,36,15,4,15,7,39,6,91,28,7,0,2, \n",
    "              9,2,6,1,4,83,2,3,5,34,1,1,2,0,11,79,2,2,4,1,3,0,2,2,17,55,8, \n",
    "              9,20,23,16,3,5,5,4,84,1,20,1,1,20,0,19,17,5,66,0,2,5,1,26, \n",
    "              14,1,0,9,88,4,11,4,2,1,32,21,2,15,76,44,8,16,12,1,9])\n",
    "scale_mle = X.mean()\n",
    "n = X.size\n",
    "\n",
    "sns.histplot(X, stat='density', label='empirical', bins=10, kde=True);\n",
    "\n",
    "xs = np.arange(X.min(),X.max(),0.1)\n",
    "plt.plot(xs, stats.expon.pdf(xs, scale=scale_mle), 'red', label='theoretical');\n",
    "plt.legend()\n",
    "plt.show()"
   ]
  },
  {
   "cell_type": "code",
   "execution_count": 73,
   "metadata": {},
   "outputs": [
    {
     "data": {
      "text/plain": [
       "96"
      ]
     },
     "execution_count": 73,
     "metadata": {},
     "output_type": "execute_result"
    }
   ],
   "source": [
    "n"
   ]
  },
  {
   "cell_type": "code",
   "execution_count": 74,
   "metadata": {
    "id": "Nki24S9Mkws_"
   },
   "outputs": [
    {
     "data": {
      "text/plain": [
       "array([       -inf,  3.3332068 ,  7.63045776, 13.68709281, 24.04097882,\n",
       "               inf])"
      ]
     },
     "execution_count": 74,
     "metadata": {},
     "output_type": "execute_result"
    }
   ],
   "source": [
    "# для разбиения на интервалы выберем в качестве границ теор. квантиили\n",
    "Q = [0.2,0.4,0.6,0.8]\n",
    "# Q = np.arange(0.1,1,0.1)\n",
    "qs_ = [stats.expon.ppf(q, scale=scale_mle) for q in Q]\n",
    "qs = np.array([-np.inf] + qs_ + [np.inf])\n",
    "qs\n"
   ]
  },
  {
   "cell_type": "code",
   "execution_count": 75,
   "metadata": {},
   "outputs": [
    {
     "data": {
      "text/plain": [
       "[0.2, 0.4, 0.6, 0.8]"
      ]
     },
     "execution_count": 75,
     "metadata": {},
     "output_type": "execute_result"
    }
   ],
   "source": [
    "Q"
   ]
  },
  {
   "cell_type": "code",
   "execution_count": 76,
   "metadata": {
    "id": "S2EOqg4PkwtD",
    "outputId": "e31339e8-da98-4c32-cc1e-97cf79903d5c"
   },
   "outputs": [
    {
     "name": "stdout",
     "output_type": "stream",
     "text": [
      "P(-inf ≤ X < 3.333) \t= 0.200, \t Expected=19.2, \t Observed=34\n",
      "P(3.333 ≤ X < 7.630) \t= 0.200, \t Expected=19.2, \t Observed=18\n",
      "P(7.630 ≤ X < 13.687) \t= 0.200, \t Expected=19.2, \t Observed=13\n",
      "P(13.687 ≤ X < 24.041) \t= 0.200, \t Expected=19.2, \t Observed=15\n",
      "P(24.041 ≤ X < inf) \t= 0.200, \t Expected=19.2, \t Observed=16\n"
     ]
    }
   ],
   "source": [
    "E_ = []\n",
    "O_ = []\n",
    "\n",
    "for i in range(len(qs)-1):\n",
    "    a,b = qs[i], qs[i+1]\n",
    "    prob = stats.expon.cdf(b, scale=scale_mle) - stats.expon.cdf(a, scale=scale_mle)\n",
    "    E = n*prob # expected\n",
    "    O = sum([a<x<=b for x in X]) # observed\n",
    "    \n",
    "    print(f'P({a:.3f} ≤ X < {b:.3f}) \\t= {prob:.3f}, \\t Expected={E:.1f}, \\t Observed={O}')\n",
    "    \n",
    "    E_.append(E)\n",
    "    O_.append(O)\n",
    "\n",
    "E_ = np.array(E_)\n",
    "O_ = np.array(O_)\n",
    "\n",
    "assert O_.sum() == n\n"
   ]
  },
  {
   "cell_type": "code",
   "execution_count": 77,
   "metadata": {
    "id": "jTjgKfW0kwtK",
    "outputId": "daadf927-28f1-42da-c3a1-8c615ceede79"
   },
   "outputs": [
    {
     "name": "stdout",
     "output_type": "stream",
     "text": [
      "stat_obs\t 14.937500000000004\n",
      "stat_crit\t 7.814727903251179\n",
      "p-value \t 0.0018708459755163442\n"
     ]
    }
   ],
   "source": [
    "# 10 - кол-во возможных бинов\n",
    "# -1 потому что оценили параметр lambda для экспоненционального распределения\n",
    "# -1 из формулы\n",
    "s = len(O_)\n",
    "df = s-1-1\n",
    "alpha = 0.05\n",
    "\n",
    "stat_obs = np.sum((O_-E_)**2/E)\n",
    "pval = 1-stats.chi2.cdf(stat_obs, df=df)\n",
    "\n",
    "\n",
    "print('stat_obs\\t',stat_obs)\n",
    "print('stat_crit\\t',stats.chi2.ppf(1-alpha,df))\n",
    "print('p-value \\t',pval)\n",
    "\n",
    "# гипотеза отвергается на уровне значимости 5%"
   ]
  },
  {
   "cell_type": "code",
   "execution_count": 78,
   "metadata": {
    "id": "EGkySOAYkwtO",
    "outputId": "ff894f2e-2aed-4539-a180-791d7c02989d"
   },
   "outputs": [
    {
     "data": {
      "text/plain": [
       "Power_divergenceResult(statistic=14.937500000000002, pvalue=0.001870845975516381)"
      ]
     },
     "execution_count": 78,
     "metadata": {},
     "output_type": "execute_result"
    }
   ],
   "source": [
    "from scipy.stats import chisquare\n",
    "# через scipy \n",
    "chisquare(O_, f_exp=E_, ddof=1 # что нужно вычесть из s-1\n",
    "         )"
   ]
  },
  {
   "cell_type": "markdown",
   "metadata": {
    "id": "JHX1mZUGkwty"
   },
   "source": [
    "### Снова однородность\n",
    "\n",
    "Критерий Пирсона также можно применять для таблиц сопряженности размера больше чем 2 на 2.\n",
    "\n",
    "В этой случае мы будем тестировать гипотезу о том, что 2 категориальных фактора не зависимы друг от друга, причем категорий у этих факторов может быть более двух.\n",
    "\n",
    "__Статистика:__ \n",
    "\n",
    "$$\n",
    "\\sum_{j=1}^s \\frac{\\left(O_{i}-E_{i}\\right)^{2}}{E_{i}} \\sim \\chi^2_{(k-1)(m-1)},\n",
    "$$\n",
    "\n",
    "где \n",
    "- $k$ - кол-во строк в таблице сопряженности, \n",
    "- $m$ - кол-во столбцов в таблице сопряженности\n",
    "\n",
    "Рассмотрим пример. Мужчин и женщин опрашивают о их политических взглядах. Правда ли, что их распределение взглядов значимо различается?"
   ]
  },
  {
   "cell_type": "code",
   "execution_count": 79,
   "metadata": {
    "id": "j3SvLH1Gkwt8",
    "outputId": "1bf8d7c3-3263-41dd-82da-f1bb94423227"
   },
   "outputs": [
    {
     "data": {
      "text/html": [
       "<div>\n",
       "<style scoped>\n",
       "    .dataframe tbody tr th:only-of-type {\n",
       "        vertical-align: middle;\n",
       "    }\n",
       "\n",
       "    .dataframe tbody tr th {\n",
       "        vertical-align: top;\n",
       "    }\n",
       "\n",
       "    .dataframe thead th {\n",
       "        text-align: right;\n",
       "    }\n",
       "</style>\n",
       "<table border=\"1\" class=\"dataframe\">\n",
       "  <thead>\n",
       "    <tr style=\"text-align: right;\">\n",
       "      <th></th>\n",
       "      <th>Democrat</th>\n",
       "      <th>Independent</th>\n",
       "      <th>Republican</th>\n",
       "    </tr>\n",
       "  </thead>\n",
       "  <tbody>\n",
       "    <tr>\n",
       "      <th>F</th>\n",
       "      <td>762</td>\n",
       "      <td>327</td>\n",
       "      <td>468</td>\n",
       "    </tr>\n",
       "    <tr>\n",
       "      <th>M</th>\n",
       "      <td>484</td>\n",
       "      <td>239</td>\n",
       "      <td>477</td>\n",
       "    </tr>\n",
       "  </tbody>\n",
       "</table>\n",
       "</div>"
      ],
      "text/plain": [
       "   Democrat  Independent  Republican\n",
       "F       762          327         468\n",
       "M       484          239         477"
      ]
     },
     "execution_count": 79,
     "metadata": {},
     "output_type": "execute_result"
    }
   ],
   "source": [
    "df = pd.DataFrame([[762, 327, 468],[484, 239, 477]])\n",
    "df.columns = [\"Democrat\",\"Independent\", \"Republican\"]\n",
    "df.index = [\"F\", \"M\"]\n",
    "df"
   ]
  },
  {
   "cell_type": "code",
   "execution_count": 80,
   "metadata": {},
   "outputs": [
    {
     "data": {
      "image/png": "[encoded data removed]",
      "text/plain": [
       "<Figure size 432x288 with 1 Axes>"
      ]
     },
     "metadata": {
      "needs_background": "light"
     },
     "output_type": "display_data"
    }
   ],
   "source": [
    "df.plot(kind='bar');"
   ]
  },
  {
   "cell_type": "code",
   "execution_count": 81,
   "metadata": {},
   "outputs": [
    {
     "data": {
      "text/html": [
       "<div>\n",
       "<style scoped>\n",
       "    .dataframe tbody tr th:only-of-type {\n",
       "        vertical-align: middle;\n",
       "    }\n",
       "\n",
       "    .dataframe tbody tr th {\n",
       "        vertical-align: top;\n",
       "    }\n",
       "\n",
       "    .dataframe thead th {\n",
       "        text-align: right;\n",
       "    }\n",
       "</style>\n",
       "<table border=\"1\" class=\"dataframe\">\n",
       "  <thead>\n",
       "    <tr style=\"text-align: right;\">\n",
       "      <th></th>\n",
       "      <th>F</th>\n",
       "      <th>M</th>\n",
       "    </tr>\n",
       "  </thead>\n",
       "  <tbody>\n",
       "    <tr>\n",
       "      <th>Democrat</th>\n",
       "      <td>0.489403</td>\n",
       "      <td>0.403333</td>\n",
       "    </tr>\n",
       "    <tr>\n",
       "      <th>Independent</th>\n",
       "      <td>0.210019</td>\n",
       "      <td>0.199167</td>\n",
       "    </tr>\n",
       "    <tr>\n",
       "      <th>Republican</th>\n",
       "      <td>0.300578</td>\n",
       "      <td>0.397500</td>\n",
       "    </tr>\n",
       "  </tbody>\n",
       "</table>\n",
       "</div>"
      ],
      "text/plain": [
       "                    F         M\n",
       "Democrat     0.489403  0.403333\n",
       "Independent  0.210019  0.199167\n",
       "Republican   0.300578  0.397500"
      ]
     },
     "execution_count": 81,
     "metadata": {},
     "output_type": "execute_result"
    }
   ],
   "source": [
    "df.T / df.sum(axis=1)"
   ]
  },
  {
   "cell_type": "code",
   "execution_count": 82,
   "metadata": {},
   "outputs": [
    {
     "data": {
      "text/html": [
       "<div>\n",
       "<style scoped>\n",
       "    .dataframe tbody tr th:only-of-type {\n",
       "        vertical-align: middle;\n",
       "    }\n",
       "\n",
       "    .dataframe tbody tr th {\n",
       "        vertical-align: top;\n",
       "    }\n",
       "\n",
       "    .dataframe thead th {\n",
       "        text-align: right;\n",
       "    }\n",
       "</style>\n",
       "<table border=\"1\" class=\"dataframe\">\n",
       "  <thead>\n",
       "    <tr style=\"text-align: right;\">\n",
       "      <th></th>\n",
       "      <th>Democrat</th>\n",
       "      <th>Independent</th>\n",
       "      <th>Republican</th>\n",
       "    </tr>\n",
       "  </thead>\n",
       "  <tbody>\n",
       "    <tr>\n",
       "      <th>F</th>\n",
       "      <td>0.611557</td>\n",
       "      <td>0.577739</td>\n",
       "      <td>0.495238</td>\n",
       "    </tr>\n",
       "    <tr>\n",
       "      <th>M</th>\n",
       "      <td>0.388443</td>\n",
       "      <td>0.422261</td>\n",
       "      <td>0.504762</td>\n",
       "    </tr>\n",
       "  </tbody>\n",
       "</table>\n",
       "</div>"
      ],
      "text/plain": [
       "   Democrat  Independent  Republican\n",
       "F  0.611557     0.577739    0.495238\n",
       "M  0.388443     0.422261    0.504762"
      ]
     },
     "execution_count": 82,
     "metadata": {},
     "output_type": "execute_result"
    }
   ],
   "source": [
    "df / df.sum(axis=0)"
   ]
  },
  {
   "cell_type": "code",
   "execution_count": 83,
   "metadata": {
    "id": "ydx0K0wEkwt-",
    "outputId": "e405bab5-0bd4-4c0a-fdc5-1e7a457bd7be"
   },
   "outputs": [
    {
     "data": {
      "image/png": "[encoded data removed]",
      "text/plain": [
       "<Figure size 432x288 with 1 Axes>"
      ]
     },
     "metadata": {
      "needs_background": "light"
     },
     "output_type": "display_data"
    }
   ],
   "source": [
    "(df.T/df.sum(axis=1)).T.plot(kind='bar');\n",
    "plt.legend(loc='center left', bbox_to_anchor=(1, 0.5));"
   ]
  },
  {
   "cell_type": "code",
   "execution_count": 84,
   "metadata": {
    "id": "B1gsKLZCkwt-",
    "outputId": "d4b45aff-fd2f-4640-d0fa-f1fbb63be99c"
   },
   "outputs": [
    {
     "data": {
      "text/plain": [
       "2757"
      ]
     },
     "execution_count": 84,
     "metadata": {},
     "output_type": "execute_result"
    }
   ],
   "source": [
    "n = df.sum().sum()\n",
    "n"
   ]
  },
  {
   "cell_type": "code",
   "execution_count": 85,
   "metadata": {
    "id": "g_RLauYakwuA",
    "outputId": "8106a423-dfc1-4392-a62f-7f2a18b0456b"
   },
   "outputs": [
    {
     "data": {
      "text/plain": [
       "Democrat       1246\n",
       "Independent     566\n",
       "Republican      945\n",
       "dtype: int64"
      ]
     },
     "execution_count": 85,
     "metadata": {},
     "output_type": "execute_result"
    }
   ],
   "source": [
    "df.sum()"
   ]
  },
  {
   "cell_type": "code",
   "execution_count": 86,
   "metadata": {
    "id": "oY6sAuVjkwuB",
    "outputId": "7acb5ed6-f5d6-4c2c-b528-5e4694f398a7"
   },
   "outputs": [
    {
     "data": {
      "text/plain": [
       "F    0.564744\n",
       "M    0.435256\n",
       "dtype: float64"
      ]
     },
     "execution_count": 86,
     "metadata": {},
     "output_type": "execute_result"
    }
   ],
   "source": [
    "df.sum(axis=1)/n"
   ]
  },
  {
   "cell_type": "code",
   "execution_count": 87,
   "metadata": {
    "id": "c_arSqxrkwuB"
   },
   "outputs": [],
   "source": [
    "# посмотрим, что выдаст нам тест\n",
    "from scipy.stats import chi2_contingency\n",
    "chi, pvalue, df_, expected = chi2_contingency(df.values)"
   ]
  },
  {
   "cell_type": "code",
   "execution_count": 88,
   "metadata": {
    "id": "-l7Enk5EkwuD",
    "outputId": "652e3a8a-83e8-4ecd-a865-4dabab471833"
   },
   "outputs": [
    {
     "data": {
      "text/plain": [
       "array([[703.67138194, 319.64526659, 533.68335147],\n",
       "       [542.32861806, 246.35473341, 411.31664853]])"
      ]
     },
     "execution_count": 88,
     "metadata": {},
     "output_type": "execute_result"
    }
   ],
   "source": [
    "expected"
   ]
  },
  {
   "cell_type": "code",
   "execution_count": 89,
   "metadata": {
    "id": "13RIHzXxkwuF",
    "outputId": "a52391e2-88d9-4d86-ea0c-3060908c3dd9"
   },
   "outputs": [
    {
     "data": {
      "text/plain": [
       "array([[703.671024, 319.645104, 533.68308 ],\n",
       "       [542.328976, 246.354896, 411.31692 ]])"
      ]
     },
     "execution_count": 89,
     "metadata": {},
     "output_type": "execute_result"
    }
   ],
   "source": [
    "# откуда ожидаемые частоты - выясним вручную\n",
    "expected_ = np.array(\n",
    "[[1246 * 0.564744, 1246*0.435256],\n",
    "  [566 * 0.564744, 566 *0.435256 ],\n",
    "  [945 * 0.564744, 945 *0.435256 ],\n",
    " ]).T\n",
    "expected_"
   ]
  },
  {
   "cell_type": "code",
   "execution_count": 90,
   "metadata": {},
   "outputs": [
    {
     "data": {
      "text/plain": [
       "30.070144546191038"
      ]
     },
     "execution_count": 90,
     "metadata": {},
     "output_type": "execute_result"
    }
   ],
   "source": [
    "(((expected_ - df.values)**2)/expected_).ravel().sum()"
   ]
  },
  {
   "cell_type": "code",
   "execution_count": 91,
   "metadata": {},
   "outputs": [
    {
     "data": {
      "text/plain": [
       "30.070149095754672"
      ]
     },
     "execution_count": 91,
     "metadata": {},
     "output_type": "execute_result"
    }
   ],
   "source": [
    "chi"
   ]
  },
  {
   "cell_type": "code",
   "execution_count": 92,
   "metadata": {
    "id": "GIKRyr-IkwuI",
    "outputId": "e37d80cd-07b9-45da-d3eb-fd218adcdf18"
   },
   "outputs": [
    {
     "data": {
      "text/plain": [
       "array([[703.67138194, 319.64526659, 533.68335147],\n",
       "       [542.32861806, 246.35473341, 411.31664853]])"
      ]
     },
     "execution_count": 92,
     "metadata": {},
     "output_type": "execute_result"
    }
   ],
   "source": [
    "# откуда ожидаемые частоты - матрично\n",
    "(df.sum().values.reshape(3,1)  @ (df.sum(axis=1)/n).values.reshape(1,2)).T\n",
    "\n",
    "# np.dot(df.sum().values.reshape(3,1), (df.sum(axis=1)/n).values.reshape(1,2))"
   ]
  },
  {
   "cell_type": "code",
   "execution_count": 93,
   "metadata": {
    "id": "GdRhRLlgkwuK",
    "outputId": "4440429e-9568-4c2a-afd5-6bf65f4c5a5f"
   },
   "outputs": [
    {
     "data": {
      "text/plain": [
       "2"
      ]
     },
     "execution_count": 93,
     "metadata": {},
     "output_type": "execute_result"
    }
   ],
   "source": [
    "# (кол-во столбиков - 1) * (кол-во строк - 1)\n",
    "# (3-1)*(2-1)\n",
    "df_"
   ]
  },
  {
   "cell_type": "code",
   "execution_count": 94,
   "metadata": {
    "id": "NZ10OsIIkwuN",
    "outputId": "b6118ec4-ccc0-439b-ccb4-2ef137c34a22"
   },
   "outputs": [
    {
     "data": {
      "text/plain": [
       "2.9535891832117595e-07"
      ]
     },
     "execution_count": 94,
     "metadata": {},
     "output_type": "execute_result"
    }
   ],
   "source": [
    "pvalue"
   ]
  },
  {
   "cell_type": "code",
   "execution_count": 95,
   "metadata": {},
   "outputs": [
    {
     "data": {
      "text/plain": [
       "2.9535891832299654e-07"
      ]
     },
     "execution_count": 95,
     "metadata": {},
     "output_type": "execute_result"
    }
   ],
   "source": [
    "1-stats.chi2(2).cdf(chi)"
   ]
  },
  {
   "cell_type": "code",
   "execution_count": 96,
   "metadata": {},
   "outputs": [
    {
     "data": {
      "text/plain": [
       "True"
      ]
     },
     "execution_count": 96,
     "metadata": {},
     "output_type": "execute_result"
    }
   ],
   "source": [
    "pvalue < 0.05"
   ]
  },
  {
   "cell_type": "markdown",
   "metadata": {
    "id": "WlXXE84LkwuO"
   },
   "source": [
    "Гипотеза об однородности выборок отвергается. "
   ]
  },
  {
   "cell_type": "markdown",
   "metadata": {},
   "source": [
    "### Пример с именами котов и существительными"
   ]
  },
  {
   "cell_type": "code",
   "execution_count": 97,
   "metadata": {},
   "outputs": [
    {
     "data": {
      "text/html": [
       "<div>\n",
       "<style scoped>\n",
       "    .dataframe tbody tr th:only-of-type {\n",
       "        vertical-align: middle;\n",
       "    }\n",
       "\n",
       "    .dataframe tbody tr th {\n",
       "        vertical-align: top;\n",
       "    }\n",
       "\n",
       "    .dataframe thead th {\n",
       "        text-align: right;\n",
       "    }\n",
       "</style>\n",
       "<table border=\"1\" class=\"dataframe\">\n",
       "  <thead>\n",
       "    <tr style=\"text-align: right;\">\n",
       "      <th></th>\n",
       "      <th>name</th>\n",
       "      <th>stimuli</th>\n",
       "      <th>Ear moving</th>\n",
       "      <th>Head moving</th>\n",
       "      <th>Tail moving</th>\n",
       "      <th>Vocalising</th>\n",
       "      <th>Displacement</th>\n",
       "      <th>Total Score</th>\n",
       "    </tr>\n",
       "  </thead>\n",
       "  <tbody>\n",
       "    <tr>\n",
       "      <th>0</th>\n",
       "      <td>Cr</td>\n",
       "      <td>Noun 1</td>\n",
       "      <td>1</td>\n",
       "      <td>0</td>\n",
       "      <td>0</td>\n",
       "      <td>0</td>\n",
       "      <td>0</td>\n",
       "      <td>1</td>\n",
       "    </tr>\n",
       "    <tr>\n",
       "      <th>1</th>\n",
       "      <td>Cr</td>\n",
       "      <td>Noun 2</td>\n",
       "      <td>1</td>\n",
       "      <td>1</td>\n",
       "      <td>0</td>\n",
       "      <td>0</td>\n",
       "      <td>0</td>\n",
       "      <td>2</td>\n",
       "    </tr>\n",
       "    <tr>\n",
       "      <th>2</th>\n",
       "      <td>Cr</td>\n",
       "      <td>Noun 3</td>\n",
       "      <td>1</td>\n",
       "      <td>1</td>\n",
       "      <td>0</td>\n",
       "      <td>0</td>\n",
       "      <td>0</td>\n",
       "      <td>2</td>\n",
       "    </tr>\n",
       "    <tr>\n",
       "      <th>3</th>\n",
       "      <td>Cr</td>\n",
       "      <td>Noun 4</td>\n",
       "      <td>0</td>\n",
       "      <td>0</td>\n",
       "      <td>0</td>\n",
       "      <td>0</td>\n",
       "      <td>0</td>\n",
       "      <td>0</td>\n",
       "    </tr>\n",
       "    <tr>\n",
       "      <th>4</th>\n",
       "      <td>Cr</td>\n",
       "      <td>Test Cat's Name</td>\n",
       "      <td>1</td>\n",
       "      <td>0</td>\n",
       "      <td>0</td>\n",
       "      <td>0</td>\n",
       "      <td>0</td>\n",
       "      <td>1</td>\n",
       "    </tr>\n",
       "    <tr>\n",
       "      <th>5</th>\n",
       "      <td>Ekcn</td>\n",
       "      <td>Noun 1</td>\n",
       "      <td>0</td>\n",
       "      <td>1</td>\n",
       "      <td>0</td>\n",
       "      <td>0</td>\n",
       "      <td>0</td>\n",
       "      <td>1</td>\n",
       "    </tr>\n",
       "    <tr>\n",
       "      <th>6</th>\n",
       "      <td>Ekcn</td>\n",
       "      <td>Noun 2</td>\n",
       "      <td>0</td>\n",
       "      <td>1</td>\n",
       "      <td>0</td>\n",
       "      <td>0</td>\n",
       "      <td>0</td>\n",
       "      <td>1</td>\n",
       "    </tr>\n",
       "    <tr>\n",
       "      <th>7</th>\n",
       "      <td>Ekcn</td>\n",
       "      <td>Noun 3</td>\n",
       "      <td>0</td>\n",
       "      <td>0</td>\n",
       "      <td>0</td>\n",
       "      <td>0</td>\n",
       "      <td>0</td>\n",
       "      <td>0</td>\n",
       "    </tr>\n",
       "    <tr>\n",
       "      <th>8</th>\n",
       "      <td>Ekcn</td>\n",
       "      <td>Noun 4</td>\n",
       "      <td>0</td>\n",
       "      <td>1</td>\n",
       "      <td>0</td>\n",
       "      <td>0</td>\n",
       "      <td>0</td>\n",
       "      <td>1</td>\n",
       "    </tr>\n",
       "    <tr>\n",
       "      <th>9</th>\n",
       "      <td>Ekcn</td>\n",
       "      <td>Test Cat's Name</td>\n",
       "      <td>0</td>\n",
       "      <td>0</td>\n",
       "      <td>0</td>\n",
       "      <td>0</td>\n",
       "      <td>0</td>\n",
       "      <td>0</td>\n",
       "    </tr>\n",
       "  </tbody>\n",
       "</table>\n",
       "</div>"
      ],
      "text/plain": [
       "   name          stimuli  Ear moving  Head moving  Tail moving  Vocalising  \\\n",
       "0    Cr           Noun 1           1            0            0           0   \n",
       "1    Cr           Noun 2           1            1            0           0   \n",
       "2    Cr           Noun 3           1            1            0           0   \n",
       "3    Cr           Noun 4           0            0            0           0   \n",
       "4    Cr  Test Cat's Name           1            0            0           0   \n",
       "5  Ekcn           Noun 1           0            1            0           0   \n",
       "6  Ekcn           Noun 2           0            1            0           0   \n",
       "7  Ekcn           Noun 3           0            0            0           0   \n",
       "8  Ekcn           Noun 4           0            1            0           0   \n",
       "9  Ekcn  Test Cat's Name           0            0            0           0   \n",
       "\n",
       "   Displacement  Total Score  \n",
       "0             0            1  \n",
       "1             0            2  \n",
       "2             0            2  \n",
       "3             0            0  \n",
       "4             0            1  \n",
       "5             0            1  \n",
       "6             0            1  \n",
       "7             0            0  \n",
       "8             0            1  \n",
       "9             0            0  "
      ]
     },
     "execution_count": 97,
     "metadata": {},
     "output_type": "execute_result"
    }
   ],
   "source": [
    "df = pd.read_csv('../data/cats_names.csv', sep='\\t')\n",
    "df.head(10)"
   ]
  },
  {
   "cell_type": "code",
   "execution_count": 98,
   "metadata": {},
   "outputs": [
    {
     "data": {
      "text/html": [
       "<div>\n",
       "<style scoped>\n",
       "    .dataframe tbody tr th:only-of-type {\n",
       "        vertical-align: middle;\n",
       "    }\n",
       "\n",
       "    .dataframe tbody tr th {\n",
       "        vertical-align: top;\n",
       "    }\n",
       "\n",
       "    .dataframe thead th {\n",
       "        text-align: right;\n",
       "    }\n",
       "</style>\n",
       "<table border=\"1\" class=\"dataframe\">\n",
       "  <thead>\n",
       "    <tr style=\"text-align: right;\">\n",
       "      <th>stimuli</th>\n",
       "      <th>Noun 1</th>\n",
       "      <th>Noun 2</th>\n",
       "      <th>Noun 3</th>\n",
       "      <th>Noun 4</th>\n",
       "      <th>Test Cat's Name</th>\n",
       "    </tr>\n",
       "    <tr>\n",
       "      <th>name</th>\n",
       "      <th></th>\n",
       "      <th></th>\n",
       "      <th></th>\n",
       "      <th></th>\n",
       "      <th></th>\n",
       "    </tr>\n",
       "  </thead>\n",
       "  <tbody>\n",
       "    <tr>\n",
       "      <th>Cr</th>\n",
       "      <td>1</td>\n",
       "      <td>1</td>\n",
       "      <td>1</td>\n",
       "      <td>0</td>\n",
       "      <td>1</td>\n",
       "    </tr>\n",
       "    <tr>\n",
       "      <th>Ekcn</th>\n",
       "      <td>1</td>\n",
       "      <td>1</td>\n",
       "      <td>0</td>\n",
       "      <td>1</td>\n",
       "      <td>0</td>\n",
       "    </tr>\n",
       "    <tr>\n",
       "      <th>Icg</th>\n",
       "      <td>1</td>\n",
       "      <td>1</td>\n",
       "      <td>1</td>\n",
       "      <td>1</td>\n",
       "      <td>1</td>\n",
       "    </tr>\n",
       "    <tr>\n",
       "      <th>Knt</th>\n",
       "      <td>0</td>\n",
       "      <td>0</td>\n",
       "      <td>0</td>\n",
       "      <td>0</td>\n",
       "      <td>0</td>\n",
       "    </tr>\n",
       "    <tr>\n",
       "      <th>Kro</th>\n",
       "      <td>1</td>\n",
       "      <td>1</td>\n",
       "      <td>1</td>\n",
       "      <td>1</td>\n",
       "      <td>1</td>\n",
       "    </tr>\n",
       "    <tr>\n",
       "      <th>Krr</th>\n",
       "      <td>1</td>\n",
       "      <td>1</td>\n",
       "      <td>1</td>\n",
       "      <td>1</td>\n",
       "      <td>1</td>\n",
       "    </tr>\n",
       "    <tr>\n",
       "      <th>Kucn</th>\n",
       "      <td>1</td>\n",
       "      <td>1</td>\n",
       "      <td>0</td>\n",
       "      <td>0</td>\n",
       "      <td>1</td>\n",
       "    </tr>\n",
       "    <tr>\n",
       "      <th>Mm</th>\n",
       "      <td>1</td>\n",
       "      <td>1</td>\n",
       "      <td>1</td>\n",
       "      <td>1</td>\n",
       "      <td>1</td>\n",
       "    </tr>\n",
       "    <tr>\n",
       "      <th>Nk</th>\n",
       "      <td>1</td>\n",
       "      <td>1</td>\n",
       "      <td>1</td>\n",
       "      <td>0</td>\n",
       "      <td>1</td>\n",
       "    </tr>\n",
       "    <tr>\n",
       "      <th>Okr</th>\n",
       "      <td>1</td>\n",
       "      <td>1</td>\n",
       "      <td>1</td>\n",
       "      <td>1</td>\n",
       "      <td>1</td>\n",
       "    </tr>\n",
       "    <tr>\n",
       "      <th>Rnk</th>\n",
       "      <td>1</td>\n",
       "      <td>1</td>\n",
       "      <td>0</td>\n",
       "      <td>1</td>\n",
       "      <td>1</td>\n",
       "    </tr>\n",
       "    <tr>\n",
       "      <th>Sco</th>\n",
       "      <td>0</td>\n",
       "      <td>0</td>\n",
       "      <td>1</td>\n",
       "      <td>0</td>\n",
       "      <td>1</td>\n",
       "    </tr>\n",
       "    <tr>\n",
       "      <th>Sm</th>\n",
       "      <td>1</td>\n",
       "      <td>1</td>\n",
       "      <td>1</td>\n",
       "      <td>1</td>\n",
       "      <td>1</td>\n",
       "    </tr>\n",
       "    <tr>\n",
       "      <th>Sr</th>\n",
       "      <td>1</td>\n",
       "      <td>0</td>\n",
       "      <td>0</td>\n",
       "      <td>1</td>\n",
       "      <td>1</td>\n",
       "    </tr>\n",
       "    <tr>\n",
       "      <th>Te</th>\n",
       "      <td>1</td>\n",
       "      <td>1</td>\n",
       "      <td>1</td>\n",
       "      <td>1</td>\n",
       "      <td>1</td>\n",
       "    </tr>\n",
       "    <tr>\n",
       "      <th>Um</th>\n",
       "      <td>1</td>\n",
       "      <td>0</td>\n",
       "      <td>0</td>\n",
       "      <td>0</td>\n",
       "      <td>1</td>\n",
       "    </tr>\n",
       "  </tbody>\n",
       "</table>\n",
       "</div>"
      ],
      "text/plain": [
       "stimuli  Noun 1  Noun 2  Noun 3  Noun 4  Test Cat's Name\n",
       "name                                                    \n",
       "Cr            1       1       1       0                1\n",
       "Ekcn          1       1       0       1                0\n",
       "Icg           1       1       1       1                1\n",
       "Knt           0       0       0       0                0\n",
       "Kro           1       1       1       1                1\n",
       "Krr           1       1       1       1                1\n",
       "Kucn          1       1       0       0                1\n",
       "Mm            1       1       1       1                1\n",
       "Nk            1       1       1       0                1\n",
       "Okr           1       1       1       1                1\n",
       "Rnk           1       1       0       1                1\n",
       "Sco           0       0       1       0                1\n",
       "Sm            1       1       1       1                1\n",
       "Sr            1       0       0       1                1\n",
       "Te            1       1       1       1                1\n",
       "Um            1       0       0       0                1"
      ]
     },
     "execution_count": 98,
     "metadata": {},
     "output_type": "execute_result"
    }
   ],
   "source": [
    "df_piv = df.pivot(index='name', columns='stimuli', values='Total Score')\n",
    "df_piv = (df_piv>0)*1\n",
    "df_piv"
   ]
  },
  {
   "cell_type": "code",
   "execution_count": 99,
   "metadata": {},
   "outputs": [
    {
     "data": {
      "text/html": [
       "<div>\n",
       "<style scoped>\n",
       "    .dataframe tbody tr th:only-of-type {\n",
       "        vertical-align: middle;\n",
       "    }\n",
       "\n",
       "    .dataframe tbody tr th {\n",
       "        vertical-align: top;\n",
       "    }\n",
       "\n",
       "    .dataframe thead th {\n",
       "        text-align: right;\n",
       "    }\n",
       "</style>\n",
       "<table border=\"1\" class=\"dataframe\">\n",
       "  <thead>\n",
       "    <tr style=\"text-align: right;\">\n",
       "      <th>Test Cat's Name</th>\n",
       "      <th>0</th>\n",
       "      <th>1</th>\n",
       "    </tr>\n",
       "    <tr>\n",
       "      <th>Noun 4</th>\n",
       "      <th></th>\n",
       "      <th></th>\n",
       "    </tr>\n",
       "  </thead>\n",
       "  <tbody>\n",
       "    <tr>\n",
       "      <th>0</th>\n",
       "      <td>1</td>\n",
       "      <td>5</td>\n",
       "    </tr>\n",
       "    <tr>\n",
       "      <th>1</th>\n",
       "      <td>1</td>\n",
       "      <td>9</td>\n",
       "    </tr>\n",
       "  </tbody>\n",
       "</table>\n",
       "</div>"
      ],
      "text/plain": [
       "Test Cat's Name  0  1\n",
       "Noun 4               \n",
       "0                1  5\n",
       "1                1  9"
      ]
     },
     "execution_count": 99,
     "metadata": {},
     "output_type": "execute_result"
    }
   ],
   "source": [
    "agg = df_piv.groupby(['Noun 4',\"Test Cat's Name\"])[\"Test Cat's Name\"].size().unstack()\n",
    "agg"
   ]
  },
  {
   "cell_type": "code",
   "execution_count": 100,
   "metadata": {},
   "outputs": [
    {
     "data": {
      "text/html": [
       "<div>\n",
       "<style scoped>\n",
       "    .dataframe tbody tr th:only-of-type {\n",
       "        vertical-align: middle;\n",
       "    }\n",
       "\n",
       "    .dataframe tbody tr th {\n",
       "        vertical-align: top;\n",
       "    }\n",
       "\n",
       "    .dataframe thead th {\n",
       "        text-align: right;\n",
       "    }\n",
       "</style>\n",
       "<table border=\"1\" class=\"dataframe\">\n",
       "  <thead>\n",
       "    <tr style=\"text-align: right;\">\n",
       "      <th>Test Cat's Name</th>\n",
       "      <th>1</th>\n",
       "      <th>0</th>\n",
       "    </tr>\n",
       "    <tr>\n",
       "      <th>Noun 4</th>\n",
       "      <th></th>\n",
       "      <th></th>\n",
       "    </tr>\n",
       "  </thead>\n",
       "  <tbody>\n",
       "    <tr>\n",
       "      <th>1</th>\n",
       "      <td>9</td>\n",
       "      <td>1</td>\n",
       "    </tr>\n",
       "    <tr>\n",
       "      <th>0</th>\n",
       "      <td>5</td>\n",
       "      <td>1</td>\n",
       "    </tr>\n",
       "  </tbody>\n",
       "</table>\n",
       "</div>"
      ],
      "text/plain": [
       "Test Cat's Name  1  0\n",
       "Noun 4               \n",
       "1                9  1\n",
       "0                5  1"
      ]
     },
     "execution_count": 100,
     "metadata": {},
     "output_type": "execute_result"
    }
   ],
   "source": [
    "agg = df_piv.reset_index().pivot_table(\n",
    "    index='Noun 4', columns=\"Test Cat's Name\", \n",
    "    values='name', aggfunc=len\n",
    ")\n",
    "agg = agg.sort_index(ascending=False).loc[:,[1,0]]\n",
    "agg"
   ]
  },
  {
   "cell_type": "code",
   "execution_count": 101,
   "metadata": {},
   "outputs": [
    {
     "data": {
      "text/plain": [
       "0.6962703401140227"
      ]
     },
     "execution_count": 101,
     "metadata": {},
     "output_type": "execute_result"
    }
   ],
   "source": [
    "chi, pvalue, df_, expected = chi2_contingency(agg.values, correction=False)\n",
    "\n",
    "pvalue"
   ]
  },
  {
   "cell_type": "code",
   "execution_count": 102,
   "metadata": {},
   "outputs": [
    {
     "data": {
      "text/plain": [
       "0.1523809523809524"
      ]
     },
     "execution_count": 102,
     "metadata": {},
     "output_type": "execute_result"
    }
   ],
   "source": [
    "chi"
   ]
  },
  {
   "cell_type": "code",
   "execution_count": 103,
   "metadata": {},
   "outputs": [
    {
     "data": {
      "text/plain": [
       "0.1523809523809524"
      ]
     },
     "execution_count": 103,
     "metadata": {},
     "output_type": "execute_result"
    }
   ],
   "source": [
    "((agg.values - expected)**2/expected).ravel().sum()"
   ]
  },
  {
   "cell_type": "code",
   "execution_count": 104,
   "metadata": {},
   "outputs": [
    {
     "data": {
      "text/plain": [
       "1.7888543819998317"
      ]
     },
     "execution_count": 104,
     "metadata": {},
     "output_type": "execute_result"
    }
   ],
   "source": [
    "b = 5\n",
    "c = 1\n",
    "n = 16\n",
    "\n",
    "z_obs = (b-c)/np.sqrt(b+c - (b-c)**2/n)\n",
    "z_obs"
   ]
  },
  {
   "cell_type": "code",
   "execution_count": 105,
   "metadata": {},
   "outputs": [
    {
     "data": {
      "text/plain": [
       "0.07363827012030266"
      ]
     },
     "execution_count": 105,
     "metadata": {},
     "output_type": "execute_result"
    }
   ],
   "source": [
    "2*(1-stats.norm.cdf(z_obs))"
   ]
  },
  {
   "cell_type": "code",
   "execution_count": null,
   "metadata": {},
   "outputs": [],
   "source": []
  }
 ],
 "metadata": {
  "colab": {
   "collapsed_sections": [],
   "name": "07.1_non_parametric.ipynb",
   "provenance": [],
   "toc_visible": true
  },
  "kernelspec": {
   "display_name": "Python 3 (ipykernel)",
   "language": "python",
   "name": "python3"
  },
  "language_info": {
   "codemirror_mode": {
    "name": "ipython",
    "version": 3
   },
   "file_extension": ".py",
   "mimetype": "text/x-python",
   "name": "python",
   "nbconvert_exporter": "python",
   "pygments_lexer": "ipython3",
   "version": "3.10.4"
  },
  "toc": {
   "base_numbering": "1",
   "nav_menu": {},
   "number_sections": false,
   "sideBar": true,
   "skip_h1_title": false,
   "title_cell": "Table of Contents",
   "title_sidebar": "Contents",
   "toc_cell": true,
   "toc_position": {
    "height": "calc(100% - 180px)",
    "left": "10px",
    "top": "150px",
    "width": "349.339px"
   },
   "toc_section_display": true,
   "toc_window_display": true
  }
 },
 "nbformat": 4,
 "nbformat_minor": 1
}
