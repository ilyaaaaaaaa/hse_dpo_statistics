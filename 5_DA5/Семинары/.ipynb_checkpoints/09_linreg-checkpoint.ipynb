{
 "cells": [
  {
   "cell_type": "markdown",
   "metadata": {
    "toc": true
   },
   "source": [
    "<h1>Table of Contents<span class=\"tocSkip\"></span></h1>\n",
    "<div class=\"toc\"><ul class=\"toc-item\"><li><span><a href=\"#Регрессия---моя-профессия\" data-toc-modified-id=\"Регрессия---моя-профессия-1\"><span class=\"toc-item-num\">1&nbsp;&nbsp;</span>Регрессия - моя профессия</a></span><ul class=\"toc-item\"><li><span><a href=\"#Данные\" data-toc-modified-id=\"Данные-1.1\"><span class=\"toc-item-num\">1.1&nbsp;&nbsp;</span>Данные</a></span></li><li><span><a href=\"#Вопросы\" data-toc-modified-id=\"Вопросы-1.2\"><span class=\"toc-item-num\">1.2&nbsp;&nbsp;</span>Вопросы</a></span></li></ul></li><li><span><a href=\"#Парная-регрессия-в-уровнях\" data-toc-modified-id=\"Парная-регрессия-в-уровнях-2\"><span class=\"toc-item-num\">2&nbsp;&nbsp;</span>Парная регрессия в уровнях</a></span></li><li><span><a href=\"#Парная-регрессия-в-логарифмах\" data-toc-modified-id=\"Парная-регрессия-в-логарифмах-3\"><span class=\"toc-item-num\">3&nbsp;&nbsp;</span>Парная регрессия в логарифмах</a></span></li><li><span><a href=\"#Множественная-регрессия\" data-toc-modified-id=\"Множественная-регрессия-4\"><span class=\"toc-item-num\">4&nbsp;&nbsp;</span>Множественная регрессия</a></span></li><li><span><a href=\"#Проверка-предпосылок-модели\" data-toc-modified-id=\"Проверка-предпосылок-модели-5\"><span class=\"toc-item-num\">5&nbsp;&nbsp;</span>Проверка предпосылок модели</a></span><ul class=\"toc-item\"><li><span><a href=\"#Выводы\" data-toc-modified-id=\"Выводы-5.1\"><span class=\"toc-item-num\">5.1&nbsp;&nbsp;</span>Выводы</a></span></li></ul></li><li><span><a href=\"#Логистическая-регрессия\" data-toc-modified-id=\"Логистическая-регрессия-6\"><span class=\"toc-item-num\">6&nbsp;&nbsp;</span>Логистическая регрессия</a></span></li></ul></div>"
   ]
  },
  {
   "cell_type": "markdown",
   "metadata": {},
   "source": [
    "#  Регрессия - моя профессия\n",
    "\n",
    "В этой тетрадке мы попробуем найте BLUE-оценки и проверить пару гипотез. "
   ]
  },
  {
   "cell_type": "code",
   "execution_count": 1,
   "metadata": {},
   "outputs": [],
   "source": [
    "import numpy as np\n",
    "import pandas as pd\n",
    "\n",
    "from scipy import stats \n",
    "\n",
    "import seaborn as sns\n",
    "import matplotlib.pyplot as plt\n",
    "\n",
    "plt.style.use('ggplot')\n",
    "%matplotlib inline"
   ]
  },
  {
   "cell_type": "markdown",
   "metadata": {},
   "source": [
    "## Данные"
   ]
  },
  {
   "cell_type": "code",
   "execution_count": 2,
   "metadata": {},
   "outputs": [
    {
     "name": "stdout",
     "output_type": "stream",
     "text": [
      "(200, 4)\n"
     ]
    },
    {
     "data": {
      "text/html": [
       "<div>\n",
       "<style scoped>\n",
       "    .dataframe tbody tr th:only-of-type {\n",
       "        vertical-align: middle;\n",
       "    }\n",
       "\n",
       "    .dataframe tbody tr th {\n",
       "        vertical-align: top;\n",
       "    }\n",
       "\n",
       "    .dataframe thead th {\n",
       "        text-align: right;\n",
       "    }\n",
       "</style>\n",
       "<table border=\"1\" class=\"dataframe\">\n",
       "  <thead>\n",
       "    <tr style=\"text-align: right;\">\n",
       "      <th></th>\n",
       "      <th>TV</th>\n",
       "      <th>Radio</th>\n",
       "      <th>Newspaper</th>\n",
       "      <th>Sales</th>\n",
       "    </tr>\n",
       "  </thead>\n",
       "  <tbody>\n",
       "    <tr>\n",
       "      <th>1</th>\n",
       "      <td>230.1</td>\n",
       "      <td>37.8</td>\n",
       "      <td>69.2</td>\n",
       "      <td>22.1</td>\n",
       "    </tr>\n",
       "    <tr>\n",
       "      <th>2</th>\n",
       "      <td>44.5</td>\n",
       "      <td>39.3</td>\n",
       "      <td>45.1</td>\n",
       "      <td>10.4</td>\n",
       "    </tr>\n",
       "    <tr>\n",
       "      <th>3</th>\n",
       "      <td>17.2</td>\n",
       "      <td>45.9</td>\n",
       "      <td>69.3</td>\n",
       "      <td>9.3</td>\n",
       "    </tr>\n",
       "    <tr>\n",
       "      <th>4</th>\n",
       "      <td>151.5</td>\n",
       "      <td>41.3</td>\n",
       "      <td>58.5</td>\n",
       "      <td>18.5</td>\n",
       "    </tr>\n",
       "    <tr>\n",
       "      <th>5</th>\n",
       "      <td>180.8</td>\n",
       "      <td>10.8</td>\n",
       "      <td>58.4</td>\n",
       "      <td>12.9</td>\n",
       "    </tr>\n",
       "  </tbody>\n",
       "</table>\n",
       "</div>"
      ],
      "text/plain": [
       "      TV  Radio  Newspaper  Sales\n",
       "1  230.1   37.8       69.2   22.1\n",
       "2   44.5   39.3       45.1   10.4\n",
       "3   17.2   45.9       69.3    9.3\n",
       "4  151.5   41.3       58.5   18.5\n",
       "5  180.8   10.8       58.4   12.9"
      ]
     },
     "execution_count": 2,
     "metadata": {},
     "output_type": "execute_result"
    }
   ],
   "source": [
    "df = pd.read_csv('../data/Advertising.csv', index_col=0)\n",
    "print(df.shape)\n",
    "df.head()"
   ]
  },
  {
   "cell_type": "markdown",
   "metadata": {},
   "source": [
    "__Описание колонок:__ \n",
    "\n",
    "- `Sales` - продажи продукта на данном рынке (в тысячах штук) \n",
    "- `TV` -  доллары, потраченные на ТВ рекламу для одного продукта на данном рынке (в тысячах долларов)\n",
    "- `Radio` - доллары, потраченные на радио рекламу\n",
    "- `Newspaper` - доллары, потраченные на рекламу в газетах\n",
    "\n",
    "В нашей выборке мы имеем 200 **наблюдений** (200 разных рынков с разным объёмом рекламы)"
   ]
  },
  {
   "cell_type": "markdown",
   "metadata": {},
   "source": [
    "## Вопросы\n",
    "\n",
    "Давайте представим, что мы работаем на компанию, которая производит и продает этот товар. Компания может задать нам вопрос: как мы должны тратить наши рекламные деньги в будущем?\n",
    "\n",
    "Этот общий вопрос может привести вас к более конкретным вопросам:\n",
    "\n",
    "1. Существует ли связь между рекламой и продажами?\n",
    "2. Насколько сильны эти отношения?\n",
    "3. Какие типы рекламы способствуют росту продаж?\n",
    "4. Зная расходы на рекламу на конкретном рынке, можем ли мы предсказать продажи?"
   ]
  },
  {
   "cell_type": "markdown",
   "metadata": {},
   "source": [
    "# Парная регрессия в уровнях\n",
    "\n",
    "Взглянем как продажи зависят от типов рекламы."
   ]
  },
  {
   "cell_type": "code",
   "execution_count": 3,
   "metadata": {
    "scrolled": false
   },
   "outputs": [
    {
     "data": {
      "image/png": "[encoded data removed]",
      "text/plain": [
       "<Figure size 1080x360 with 3 Axes>"
      ]
     },
     "metadata": {
      "needs_background": "light"
     },
     "output_type": "display_data"
    }
   ],
   "source": [
    "sns.pairplot(\n",
    "    df, \n",
    "    y_vars='Sales', \n",
    "    x_vars=['Radio', 'Newspaper', 'TV'], \n",
    "    height=5,\n",
    "    kind='reg',\n",
    "    diag_kind=None\n",
    ");"
   ]
  },
  {
   "cell_type": "code",
   "execution_count": 4,
   "metadata": {},
   "outputs": [
    {
     "data": {
      "text/plain": [
       "TV           0.782224\n",
       "Radio        0.576223\n",
       "Newspaper    0.228299\n",
       "Sales        1.000000\n",
       "Name: Sales, dtype: float64"
      ]
     },
     "execution_count": 4,
     "metadata": {},
     "output_type": "execute_result"
    }
   ],
   "source": [
    "df.corr()['Sales']"
   ]
  },
  {
   "cell_type": "markdown",
   "metadata": {},
   "source": [
    "Для начала давайте поговорим только про рекламу на TV. Оценим параметры модели \n",
    "\n",
    "$$\n",
    "Sales_i = \\beta_0 + \\beta_1 \\cdot TV_i + \\varepsilon_i\n",
    "$$"
   ]
  },
  {
   "cell_type": "code",
   "execution_count": 5,
   "metadata": {},
   "outputs": [
    {
     "data": {
      "text/html": [
       "<div>\n",
       "<style scoped>\n",
       "    .dataframe tbody tr th:only-of-type {\n",
       "        vertical-align: middle;\n",
       "    }\n",
       "\n",
       "    .dataframe tbody tr th {\n",
       "        vertical-align: top;\n",
       "    }\n",
       "\n",
       "    .dataframe thead th {\n",
       "        text-align: right;\n",
       "    }\n",
       "</style>\n",
       "<table border=\"1\" class=\"dataframe\">\n",
       "  <thead>\n",
       "    <tr style=\"text-align: right;\">\n",
       "      <th></th>\n",
       "      <th>TV</th>\n",
       "      <th>Radio</th>\n",
       "      <th>Newspaper</th>\n",
       "      <th>Sales</th>\n",
       "    </tr>\n",
       "  </thead>\n",
       "  <tbody>\n",
       "    <tr>\n",
       "      <th>1</th>\n",
       "      <td>230.1</td>\n",
       "      <td>37.8</td>\n",
       "      <td>69.2</td>\n",
       "      <td>22.1</td>\n",
       "    </tr>\n",
       "    <tr>\n",
       "      <th>2</th>\n",
       "      <td>44.5</td>\n",
       "      <td>39.3</td>\n",
       "      <td>45.1</td>\n",
       "      <td>10.4</td>\n",
       "    </tr>\n",
       "    <tr>\n",
       "      <th>3</th>\n",
       "      <td>17.2</td>\n",
       "      <td>45.9</td>\n",
       "      <td>69.3</td>\n",
       "      <td>9.3</td>\n",
       "    </tr>\n",
       "    <tr>\n",
       "      <th>4</th>\n",
       "      <td>151.5</td>\n",
       "      <td>41.3</td>\n",
       "      <td>58.5</td>\n",
       "      <td>18.5</td>\n",
       "    </tr>\n",
       "    <tr>\n",
       "      <th>5</th>\n",
       "      <td>180.8</td>\n",
       "      <td>10.8</td>\n",
       "      <td>58.4</td>\n",
       "      <td>12.9</td>\n",
       "    </tr>\n",
       "  </tbody>\n",
       "</table>\n",
       "</div>"
      ],
      "text/plain": [
       "      TV  Radio  Newspaper  Sales\n",
       "1  230.1   37.8       69.2   22.1\n",
       "2   44.5   39.3       45.1   10.4\n",
       "3   17.2   45.9       69.3    9.3\n",
       "4  151.5   41.3       58.5   18.5\n",
       "5  180.8   10.8       58.4   12.9"
      ]
     },
     "execution_count": 5,
     "metadata": {},
     "output_type": "execute_result"
    }
   ],
   "source": [
    "df.head()"
   ]
  },
  {
   "cell_type": "code",
   "execution_count": 6,
   "metadata": {
    "scrolled": false
   },
   "outputs": [
    {
     "name": "stdout",
     "output_type": "stream",
     "text": [
      "                            OLS Regression Results                            \n",
      "==============================================================================\n",
      "Dep. Variable:                  Sales   R-squared:                       0.612\n",
      "Model:                            OLS   Adj. R-squared:                  0.610\n",
      "Method:                 Least Squares   F-statistic:                     312.1\n",
      "Date:                Mon, 26 Sep 2022   Prob (F-statistic):           1.47e-42\n",
      "Time:                        19:51:30   Log-Likelihood:                -519.05\n",
      "No. Observations:                 200   AIC:                             1042.\n",
      "Df Residuals:                     198   BIC:                             1049.\n",
      "Df Model:                           1                                         \n",
      "Covariance Type:            nonrobust                                         \n",
      "==============================================================================\n",
      "                 coef    std err          t      P>|t|      [0.025      0.975]\n",
      "------------------------------------------------------------------------------\n",
      "Intercept      7.0326      0.458     15.360      0.000       6.130       7.935\n",
      "TV             0.0475      0.003     17.668      0.000       0.042       0.053\n",
      "==============================================================================\n",
      "Omnibus:                        0.531   Durbin-Watson:                   1.935\n",
      "Prob(Omnibus):                  0.767   Jarque-Bera (JB):                0.669\n",
      "Skew:                          -0.089   Prob(JB):                        0.716\n",
      "Kurtosis:                       2.779   Cond. No.                         338.\n",
      "==============================================================================\n",
      "\n",
      "Notes:\n",
      "[1] Standard Errors assume that the covariance matrix of the errors is correctly specified.\n"
     ]
    }
   ],
   "source": [
    "import statsmodels.formula.api as smf\n",
    "\n",
    "model = smf.ols('Sales ~ TV', data=df)\n",
    "res = model.fit() #.fit_regularized()\n",
    "print(res.summary())"
   ]
  },
  {
   "cell_type": "code",
   "execution_count": 7,
   "metadata": {},
   "outputs": [
    {
     "data": {
      "text/html": [
       "<table class=\"simpletable\">\n",
       "<caption>OLS Regression Results</caption>\n",
       "<tr>\n",
       "  <th>Dep. Variable:</th>          <td>Sales</td>      <th>  R-squared:         </th> <td>   0.612</td>\n",
       "</tr>\n",
       "<tr>\n",
       "  <th>Model:</th>                   <td>OLS</td>       <th>  Adj. R-squared:    </th> <td>   0.610</td>\n",
       "</tr>\n",
       "<tr>\n",
       "  <th>Method:</th>             <td>Least Squares</td>  <th>  F-statistic:       </th> <td>   312.1</td>\n",
       "</tr>\n",
       "<tr>\n",
       "  <th>Date:</th>             <td>Mon, 26 Sep 2022</td> <th>  Prob (F-statistic):</th> <td>1.47e-42</td>\n",
       "</tr>\n",
       "<tr>\n",
       "  <th>Time:</th>                 <td>19:51:30</td>     <th>  Log-Likelihood:    </th> <td> -519.05</td>\n",
       "</tr>\n",
       "<tr>\n",
       "  <th>No. Observations:</th>      <td>   200</td>      <th>  AIC:               </th> <td>   1042.</td>\n",
       "</tr>\n",
       "<tr>\n",
       "  <th>Df Residuals:</th>          <td>   198</td>      <th>  BIC:               </th> <td>   1049.</td>\n",
       "</tr>\n",
       "<tr>\n",
       "  <th>Df Model:</th>              <td>     1</td>      <th>                     </th>     <td> </td>   \n",
       "</tr>\n",
       "<tr>\n",
       "  <th>Covariance Type:</th>      <td>nonrobust</td>    <th>                     </th>     <td> </td>   \n",
       "</tr>\n",
       "</table>\n",
       "<table class=\"simpletable\">\n",
       "<tr>\n",
       "    <td></td>       <th>coef</th>     <th>std err</th>      <th>t</th>      <th>P>|t|</th>  <th>[0.025</th>    <th>0.975]</th>  \n",
       "</tr>\n",
       "<tr>\n",
       "  <th>const</th> <td>    7.0326</td> <td>    0.458</td> <td>   15.360</td> <td> 0.000</td> <td>    6.130</td> <td>    7.935</td>\n",
       "</tr>\n",
       "<tr>\n",
       "  <th>TV</th>    <td>    0.0475</td> <td>    0.003</td> <td>   17.668</td> <td> 0.000</td> <td>    0.042</td> <td>    0.053</td>\n",
       "</tr>\n",
       "</table>\n",
       "<table class=\"simpletable\">\n",
       "<tr>\n",
       "  <th>Omnibus:</th>       <td> 0.531</td> <th>  Durbin-Watson:     </th> <td>   1.935</td>\n",
       "</tr>\n",
       "<tr>\n",
       "  <th>Prob(Omnibus):</th> <td> 0.767</td> <th>  Jarque-Bera (JB):  </th> <td>   0.669</td>\n",
       "</tr>\n",
       "<tr>\n",
       "  <th>Skew:</th>          <td>-0.089</td> <th>  Prob(JB):          </th> <td>   0.716</td>\n",
       "</tr>\n",
       "<tr>\n",
       "  <th>Kurtosis:</th>      <td> 2.779</td> <th>  Cond. No.          </th> <td>    338.</td>\n",
       "</tr>\n",
       "</table><br/><br/>Notes:<br/>[1] Standard Errors assume that the covariance matrix of the errors is correctly specified."
      ],
      "text/plain": [
       "<class 'statsmodels.iolib.summary.Summary'>\n",
       "\"\"\"\n",
       "                            OLS Regression Results                            \n",
       "==============================================================================\n",
       "Dep. Variable:                  Sales   R-squared:                       0.612\n",
       "Model:                            OLS   Adj. R-squared:                  0.610\n",
       "Method:                 Least Squares   F-statistic:                     312.1\n",
       "Date:                Mon, 26 Sep 2022   Prob (F-statistic):           1.47e-42\n",
       "Time:                        19:51:30   Log-Likelihood:                -519.05\n",
       "No. Observations:                 200   AIC:                             1042.\n",
       "Df Residuals:                     198   BIC:                             1049.\n",
       "Df Model:                           1                                         \n",
       "Covariance Type:            nonrobust                                         \n",
       "==============================================================================\n",
       "                 coef    std err          t      P>|t|      [0.025      0.975]\n",
       "------------------------------------------------------------------------------\n",
       "const          7.0326      0.458     15.360      0.000       6.130       7.935\n",
       "TV             0.0475      0.003     17.668      0.000       0.042       0.053\n",
       "==============================================================================\n",
       "Omnibus:                        0.531   Durbin-Watson:                   1.935\n",
       "Prob(Omnibus):                  0.767   Jarque-Bera (JB):                0.669\n",
       "Skew:                          -0.089   Prob(JB):                        0.716\n",
       "Kurtosis:                       2.779   Cond. No.                         338.\n",
       "==============================================================================\n",
       "\n",
       "Notes:\n",
       "[1] Standard Errors assume that the covariance matrix of the errors is correctly specified.\n",
       "\"\"\""
      ]
     },
     "execution_count": 7,
     "metadata": {},
     "output_type": "execute_result"
    }
   ],
   "source": [
    "import statsmodels as sm\n",
    "# метод без написания формулы через smf\n",
    "\n",
    "# добавляем константу\n",
    "df['const'] = np.ones_like(df['Sales'])\n",
    "\n",
    "X = df[['const','TV']]\n",
    "y = df['Sales']\n",
    "\n",
    "model = sm.regression.linear_model.OLS(\n",
    "    endog=y, #  эндогенная зависимая целевая переменная\n",
    "    exog=X, # экзогенные независимые переменные \n",
    "    hasconst=True\n",
    ")\n",
    "res = model.fit()\n",
    "res.summary()\n",
    "# res.params"
   ]
  },
  {
   "cell_type": "code",
   "execution_count": 8,
   "metadata": {},
   "outputs": [
    {
     "data": {
      "text/plain": [
       "const    7.032594\n",
       "TV       0.047537\n",
       "dtype: float64"
      ]
     },
     "execution_count": 8,
     "metadata": {},
     "output_type": "execute_result"
    }
   ],
   "source": [
    "res.params"
   ]
  },
  {
   "cell_type": "code",
   "execution_count": 9,
   "metadata": {},
   "outputs": [],
   "source": [
    "from sklearn.linear_model import LinearRegression"
   ]
  },
  {
   "cell_type": "code",
   "execution_count": 10,
   "metadata": {},
   "outputs": [
    {
     "data": {
      "text/plain": [
       "(7.0325935491276885, array([0.04753664]))"
      ]
     },
     "execution_count": 10,
     "metadata": {},
     "output_type": "execute_result"
    }
   ],
   "source": [
    "linreg = LinearRegression()\n",
    "linreg.fit(X[['TV']], y)\n",
    "linreg.intercept_, linreg.coef_"
   ]
  },
  {
   "cell_type": "markdown",
   "metadata": {},
   "source": [
    "- p_value<0.05 -> $H_0: \\beta = 0$ -> отвергается - коэффициент значим, коэффициент НЕ равен 0\n",
    "- p_value>0.05 -> $H_0: \\beta = 0$ -> НЕ отвергается - коэффициент НЕ значим, коэффициент равен 0"
   ]
  },
  {
   "cell_type": "markdown",
   "metadata": {},
   "source": [
    "- Переменная $TV$ значима, так как $p$-значение для проверки гипотезы о том, что она равна нулю оказалось очень маленьким, наблюдаемое значение статистики $17.668$. Оно лежит глубоко в хвосте нашего распределения. \n",
    "- Получившееся уравнение \n",
    "\n",
    "$$\n",
    "Sales_i = 7.033 + 0.047 \\cdot TV_i\n",
    "$$\n",
    "\n",
    "можно проинтерпретировать так, что каждые дополнительные $1000$ долларов, потраченные на рекламу по телевизору, увеличивают продажы на $47.537$ товаров.\n",
    "\n",
    "> Мы можем так интерпретировать значение коэффициента, если выполняются предпослыки линейной регрессии. Например, первая предпослыка говорит о том, что мы должны были верно специфицировать модель. \n",
    "\n",
    "Если модель специфицирована неверно, у нас есть проблемы. \n",
    "\n",
    "> Мы получаем корректные оценки стандартных ошибок в ситуации, когда ошибки независимо одинаково распределены с одинаковой дисперсией. Если это не так, оценки ошибок искажены. "
   ]
  },
  {
   "cell_type": "markdown",
   "metadata": {},
   "source": [
    "- Информационные критерии\n",
    "    - [Akaike information criterion](https://en.wikipedia.org/wiki/Akaike_information_criterion):\n",
    "    $\\mathrm{AIC} \\, = \\, 2k - 2\\ln(\\hat L)$\n",
    "    - [Bayesian information criterion](https://en.wikipedia.org/wiki/Bayesian_information_criterion):\n",
    "    $\\mathrm{BIC} = k\\ln(n) - 2\\ln(\\widehat L)$\n",
    "- Коэффициенты детерминации\n",
    "    - $ R^2 = 1-{RSS \\over TSS}$\n",
    "    - $ R^2_\\text{adj} = 1-{RSS/(n-k-1) \\over TSS/(n-1)}$"
   ]
  },
  {
   "cell_type": "markdown",
   "metadata": {},
   "source": [
    "# Парная регрессия в логарифмах"
   ]
  },
  {
   "cell_type": "markdown",
   "metadata": {},
   "source": [
    "У нашей модели явно есть проблемы со спецификацией. Давайте попробуем их исправить. Если взглянуть на график того, как между собой взаимосвязаны реклама по TV и продажи, можно заметить нелинейную зависимость, похожую на логарифмическую. "
   ]
  },
  {
   "cell_type": "markdown",
   "metadata": {},
   "source": [
    "- при увеличении инвестиций в ТВ, разброс продаж увеличивается (гетероскедастичность)"
   ]
  },
  {
   "cell_type": "code",
   "execution_count": 11,
   "metadata": {},
   "outputs": [
    {
     "data": {
      "image/png": "[encoded data removed]",
      "text/plain": [
       "<Figure size 432x432 with 4 Axes>"
      ]
     },
     "metadata": {
      "needs_background": "light"
     },
     "output_type": "display_data"
    }
   ],
   "source": [
    "df['ln_TV'] = df['TV'].apply(np.log)\n",
    "df['ln_Sales'] = df['Sales'].apply(np.log)\n",
    "\n",
    "\n",
    "sns.pairplot(\n",
    "    df, \n",
    "    y_vars=['Sales', 'ln_Sales'], \n",
    "    x_vars=['TV', 'ln_TV'], \n",
    "    height=3,\n",
    "    diag_kind=None,\n",
    ");\n"
   ]
  },
  {
   "cell_type": "markdown",
   "metadata": {},
   "source": [
    "Очистим данные от выбросов. "
   ]
  },
  {
   "cell_type": "code",
   "execution_count": 12,
   "metadata": {},
   "outputs": [],
   "source": [
    "df = df[df.Sales > df.Sales.quantile(0.01)]"
   ]
  },
  {
   "cell_type": "code",
   "execution_count": 13,
   "metadata": {
    "scrolled": true
   },
   "outputs": [
    {
     "data": {
      "image/png": "[encoded data removed]",
      "text/plain": [
       "<Figure size 720x288 with 2 Axes>"
      ]
     },
     "metadata": {
      "needs_background": "light"
     },
     "output_type": "display_data"
    }
   ],
   "source": [
    "plt.figure(figsize=(10,4))\n",
    "plt.subplot(121)\n",
    "# sns.scatterplot(data=df, x='TV', y='Sales');\n",
    "sns.regplot(data=df, x='TV', y='Sales');\n",
    "\n",
    "plt.subplot(122)\n",
    "# sns.scatterplot(data=df, x='ln_TV', y='ln_Sales');\n",
    "sns.regplot(data=df, x='ln_TV', y='ln_Sales');"
   ]
  },
  {
   "cell_type": "markdown",
   "metadata": {},
   "source": [
    "Оценим параметры модели \n",
    "\n",
    "$$\n",
    "\\ln Sales_i = \\beta_0 + \\beta_1 \\cdot \\ln TV_i + \\varepsilon_i\n",
    "$$"
   ]
  },
  {
   "cell_type": "code",
   "execution_count": 14,
   "metadata": {
    "scrolled": false
   },
   "outputs": [
    {
     "name": "stdout",
     "output_type": "stream",
     "text": [
      "                            OLS Regression Results                            \n",
      "==============================================================================\n",
      "Dep. Variable:               ln_Sales   R-squared:                       0.689\n",
      "Model:                            OLS   Adj. R-squared:                  0.688\n",
      "Method:                 Least Squares   F-statistic:                     435.1\n",
      "Date:                Mon, 26 Sep 2022   Prob (F-statistic):           1.16e-51\n",
      "Time:                        19:51:31   Log-Likelihood:                 29.332\n",
      "No. Observations:                 198   AIC:                            -54.66\n",
      "Df Residuals:                     196   BIC:                            -48.09\n",
      "Df Model:                           1                                         \n",
      "Covariance Type:            nonrobust                                         \n",
      "==============================================================================\n",
      "                 coef    std err          t      P>|t|      [0.025      0.975]\n",
      "------------------------------------------------------------------------------\n",
      "Intercept      0.9757      0.078     12.443      0.000       0.821       1.130\n",
      "ln_TV          0.3407      0.016     20.859      0.000       0.308       0.373\n",
      "==============================================================================\n",
      "Omnibus:                       29.778   Durbin-Watson:                   1.987\n",
      "Prob(Omnibus):                  0.000   Jarque-Bera (JB):                7.992\n",
      "Skew:                          -0.077   Prob(JB):                       0.0184\n",
      "Kurtosis:                       2.028   Cond. No.                         26.3\n",
      "==============================================================================\n",
      "\n",
      "Notes:\n",
      "[1] Standard Errors assume that the covariance matrix of the errors is correctly specified.\n"
     ]
    }
   ],
   "source": [
    "import statsmodels.formula.api as smf\n",
    "\n",
    "model = smf.ols('ln_Sales ~ ln_TV', data=df)\n",
    "res = model.fit()\n",
    "print(res.summary())"
   ]
  },
  {
   "cell_type": "markdown",
   "metadata": {},
   "source": [
    "Переменная снова значима. $R^2$ подрос. Все коэффициенты в моделях, где целевые и объясняющие переменные взяты в логарифмах, интерпретируются в процентных изменениях. Например, коэффициент $0.3550$ можно проинтерпретировать как то, на сколько процентов увеличутся продажи, при изменении трат на рекламу по телевизору на $1\\%$. \n",
    "\n",
    "![](https://www.kdnuggets.com/wp-content/uploads/r-glm-table-1.png)"
   ]
  },
  {
   "cell_type": "markdown",
   "metadata": {},
   "source": [
    "# Множественная регрессия"
   ]
  },
  {
   "cell_type": "markdown",
   "metadata": {},
   "source": [
    "Оценим уравнение \n",
    "\n",
    "$$\n",
    "\\ln Sales_i = \\beta_0 + \\beta_1 \\cdot \\ln TV_i + \\beta_2 \\cdot Radio_i + \\beta_3 \\cdot Newspaper_i + \\varepsilon_i\n",
    "$$"
   ]
  },
  {
   "cell_type": "code",
   "execution_count": 15,
   "metadata": {},
   "outputs": [
    {
     "name": "stdout",
     "output_type": "stream",
     "text": [
      "                            OLS Regression Results                            \n",
      "==============================================================================\n",
      "Dep. Variable:               ln_Sales   R-squared:                       0.979\n",
      "Model:                            OLS   Adj. R-squared:                  0.978\n",
      "Method:                 Least Squares   F-statistic:                     2959.\n",
      "Date:                Mon, 26 Sep 2022   Prob (F-statistic):          1.17e-161\n",
      "Time:                        19:51:31   Log-Likelihood:                 294.22\n",
      "No. Observations:                 198   AIC:                            -580.4\n",
      "Df Residuals:                     194   BIC:                            -567.3\n",
      "Df Model:                           3                                         \n",
      "Covariance Type:            nonrobust                                         \n",
      "==============================================================================\n",
      "                 coef    std err          t      P>|t|      [0.025      0.975]\n",
      "------------------------------------------------------------------------------\n",
      "Intercept      0.6661      0.022     30.446      0.000       0.623       0.709\n",
      "ln_TV          0.3397      0.004     78.844      0.000       0.331       0.348\n",
      "Radio          0.0136      0.000     47.947      0.000       0.013       0.014\n",
      "Newspaper  -7.896e-05      0.000     -0.407      0.685      -0.000       0.000\n",
      "==============================================================================\n",
      "Omnibus:                        3.843   Durbin-Watson:                   2.075\n",
      "Prob(Omnibus):                  0.146   Jarque-Bera (JB):                3.540\n",
      "Skew:                          -0.241   Prob(JB):                        0.170\n",
      "Kurtosis:                       3.444   Cond. No.                         253.\n",
      "==============================================================================\n",
      "\n",
      "Notes:\n",
      "[1] Standard Errors assume that the covariance matrix of the errors is correctly specified.\n"
     ]
    }
   ],
   "source": [
    "model = smf.ols('ln_Sales ~ ln_TV + Radio + Newspaper', data=df)\n",
    "res = model.fit()\n",
    "print(res.summary())"
   ]
  },
  {
   "cell_type": "code",
   "execution_count": 16,
   "metadata": {},
   "outputs": [
    {
     "data": {
      "text/html": [
       "<table class=\"simpletable\">\n",
       "<caption>OLS Regression Results</caption>\n",
       "<tr>\n",
       "  <th>Dep. Variable:</th>          <td>Sales</td>      <th>  R-squared:         </th> <td>   0.910</td> \n",
       "</tr>\n",
       "<tr>\n",
       "  <th>Model:</th>                   <td>OLS</td>       <th>  Adj. R-squared:    </th> <td>   0.909</td> \n",
       "</tr>\n",
       "<tr>\n",
       "  <th>Method:</th>             <td>Least Squares</td>  <th>  F-statistic:       </th> <td>   653.7</td> \n",
       "</tr>\n",
       "<tr>\n",
       "  <th>Date:</th>             <td>Mon, 26 Sep 2022</td> <th>  Prob (F-statistic):</th> <td>3.96e-101</td>\n",
       "</tr>\n",
       "<tr>\n",
       "  <th>Time:</th>                 <td>19:51:31</td>     <th>  Log-Likelihood:    </th> <td> -365.04</td> \n",
       "</tr>\n",
       "<tr>\n",
       "  <th>No. Observations:</th>      <td>   198</td>      <th>  AIC:               </th> <td>   738.1</td> \n",
       "</tr>\n",
       "<tr>\n",
       "  <th>Df Residuals:</th>          <td>   194</td>      <th>  BIC:               </th> <td>   751.2</td> \n",
       "</tr>\n",
       "<tr>\n",
       "  <th>Df Model:</th>              <td>     3</td>      <th>                     </th>     <td> </td>    \n",
       "</tr>\n",
       "<tr>\n",
       "  <th>Covariance Type:</th>      <td>nonrobust</td>    <th>                     </th>     <td> </td>    \n",
       "</tr>\n",
       "</table>\n",
       "<table class=\"simpletable\">\n",
       "<tr>\n",
       "      <td></td>         <th>coef</th>     <th>std err</th>      <th>t</th>      <th>P>|t|</th>  <th>[0.025</th>    <th>0.975]</th>  \n",
       "</tr>\n",
       "<tr>\n",
       "  <th>const</th>     <td>  -10.1646</td> <td>    0.611</td> <td>  -16.636</td> <td> 0.000</td> <td>  -11.370</td> <td>   -8.960</td>\n",
       "</tr>\n",
       "<tr>\n",
       "  <th>ln_TV</th>     <td>    4.1451</td> <td>    0.120</td> <td>   34.454</td> <td> 0.000</td> <td>    3.908</td> <td>    4.382</td>\n",
       "</tr>\n",
       "<tr>\n",
       "  <th>Radio</th>     <td>    0.2050</td> <td>    0.008</td> <td>   25.819</td> <td> 0.000</td> <td>    0.189</td> <td>    0.221</td>\n",
       "</tr>\n",
       "<tr>\n",
       "  <th>Newspaper</th> <td> 3.566e-05</td> <td>    0.005</td> <td>    0.007</td> <td> 0.995</td> <td>   -0.011</td> <td>    0.011</td>\n",
       "</tr>\n",
       "</table>\n",
       "<table class=\"simpletable\">\n",
       "<tr>\n",
       "  <th>Omnibus:</th>       <td>20.180</td> <th>  Durbin-Watson:     </th> <td>   2.110</td>\n",
       "</tr>\n",
       "<tr>\n",
       "  <th>Prob(Omnibus):</th> <td> 0.000</td> <th>  Jarque-Bera (JB):  </th> <td>  24.592</td>\n",
       "</tr>\n",
       "<tr>\n",
       "  <th>Skew:</th>          <td> 0.708</td> <th>  Prob(JB):          </th> <td>4.57e-06</td>\n",
       "</tr>\n",
       "<tr>\n",
       "  <th>Kurtosis:</th>      <td> 3.989</td> <th>  Cond. No.          </th> <td>    253.</td>\n",
       "</tr>\n",
       "</table><br/><br/>Notes:<br/>[1] Standard Errors assume that the covariance matrix of the errors is correctly specified."
      ],
      "text/plain": [
       "<class 'statsmodels.iolib.summary.Summary'>\n",
       "\"\"\"\n",
       "                            OLS Regression Results                            \n",
       "==============================================================================\n",
       "Dep. Variable:                  Sales   R-squared:                       0.910\n",
       "Model:                            OLS   Adj. R-squared:                  0.909\n",
       "Method:                 Least Squares   F-statistic:                     653.7\n",
       "Date:                Mon, 26 Sep 2022   Prob (F-statistic):          3.96e-101\n",
       "Time:                        19:51:31   Log-Likelihood:                -365.04\n",
       "No. Observations:                 198   AIC:                             738.1\n",
       "Df Residuals:                     194   BIC:                             751.2\n",
       "Df Model:                           3                                         \n",
       "Covariance Type:            nonrobust                                         \n",
       "==============================================================================\n",
       "                 coef    std err          t      P>|t|      [0.025      0.975]\n",
       "------------------------------------------------------------------------------\n",
       "const        -10.1646      0.611    -16.636      0.000     -11.370      -8.960\n",
       "ln_TV          4.1451      0.120     34.454      0.000       3.908       4.382\n",
       "Radio          0.2050      0.008     25.819      0.000       0.189       0.221\n",
       "Newspaper   3.566e-05      0.005      0.007      0.995      -0.011       0.011\n",
       "==============================================================================\n",
       "Omnibus:                       20.180   Durbin-Watson:                   2.110\n",
       "Prob(Omnibus):                  0.000   Jarque-Bera (JB):               24.592\n",
       "Skew:                           0.708   Prob(JB):                     4.57e-06\n",
       "Kurtosis:                       3.989   Cond. No.                         253.\n",
       "==============================================================================\n",
       "\n",
       "Notes:\n",
       "[1] Standard Errors assume that the covariance matrix of the errors is correctly specified.\n",
       "\"\"\""
      ]
     },
     "execution_count": 16,
     "metadata": {},
     "output_type": "execute_result"
    }
   ],
   "source": [
    "import statsmodels as sm\n",
    "\n",
    "df['const'] = np.ones_like(df['Sales'])\n",
    "X = df[['const', 'ln_TV', 'Radio', 'Newspaper']]\n",
    "y = df['Sales']\n",
    "\n",
    "model = sm.regression.linear_model.OLS(\n",
    "    endog=y,\n",
    "    exog=X,\n",
    "    hasconst=True\n",
    ")\n",
    "res = model.fit()\n",
    "res.summary()\n"
   ]
  },
  {
   "cell_type": "code",
   "execution_count": 17,
   "metadata": {},
   "outputs": [],
   "source": [
    "df['ln_Radio'] = df['Radio'].apply(np.log1p)\n",
    "df['ln_Newspaper'] = df['Newspaper'].apply(np.log1p)"
   ]
  },
  {
   "cell_type": "code",
   "execution_count": 18,
   "metadata": {},
   "outputs": [],
   "source": [
    "# model = smf.ols('ln_Sales ~ TV + ln_TV + ln_Radio + ln_Newspaper', data=df)\n",
    "# res = model.fit()\n",
    "# print(res.summary())"
   ]
  },
  {
   "cell_type": "code",
   "execution_count": 19,
   "metadata": {},
   "outputs": [
    {
     "data": {
      "image/png": "[encoded data removed]",
      "text/plain": [
       "<Figure size 432x288 with 1 Axes>"
      ]
     },
     "metadata": {
      "needs_background": "light"
     },
     "output_type": "display_data"
    }
   ],
   "source": [
    "sns.histplot(res.resid);"
   ]
  },
  {
   "cell_type": "code",
   "execution_count": 20,
   "metadata": {},
   "outputs": [],
   "source": [
    "import scipy.stats as ss"
   ]
  },
  {
   "cell_type": "code",
   "execution_count": 21,
   "metadata": {},
   "outputs": [
    {
     "data": {
      "image/png": "[encoded data removed]",
      "text/plain": [
       "<Figure size 432x288 with 1 Axes>"
      ]
     },
     "metadata": {
      "needs_background": "light"
     },
     "output_type": "display_data"
    }
   ],
   "source": [
    "plt.plot(res.resid, 'o');"
   ]
  },
  {
   "cell_type": "markdown",
   "metadata": {},
   "source": [
    "- Уравнение значимо в целом, значение F-статистики попадает глубоко в хвост \n",
    "- Коэффициент перед `Newspaper` отрицательный и незначимый\n",
    "\n",
    "> Если модель специфицирована верно и выполнены все предпосылки, мы можем сделать вывод, что траты на рекламу в газетах никак не повышают продажи и от них можно отказаться "
   ]
  },
  {
   "cell_type": "markdown",
   "metadata": {},
   "source": [
    "# Проверка предпосылок модели\n",
    "\n",
    "- Есть ли мультиколинеарность? \n",
    "\n",
    "Она возникает, если есть\n",
    "1) коррелируемые признаки\n",
    "\n",
    "2) дамми-переменные суммируются в единицу и совпадают с константным признаком => надо выбрать базовую категорию\n",
    "\n",
    "3) есть дамми-переменная с почти одними нулями, то есть редкими категориями"
   ]
  },
  {
   "cell_type": "code",
   "execution_count": 22,
   "metadata": {},
   "outputs": [
    {
     "data": {
      "text/html": [
       "<div>\n",
       "<style scoped>\n",
       "    .dataframe tbody tr th:only-of-type {\n",
       "        vertical-align: middle;\n",
       "    }\n",
       "\n",
       "    .dataframe tbody tr th {\n",
       "        vertical-align: top;\n",
       "    }\n",
       "\n",
       "    .dataframe thead th {\n",
       "        text-align: right;\n",
       "    }\n",
       "</style>\n",
       "<table border=\"1\" class=\"dataframe\">\n",
       "  <thead>\n",
       "    <tr style=\"text-align: right;\">\n",
       "      <th></th>\n",
       "      <th>TV</th>\n",
       "      <th>Radio</th>\n",
       "      <th>Newspaper</th>\n",
       "      <th>Sales</th>\n",
       "      <th>const</th>\n",
       "      <th>ln_TV</th>\n",
       "      <th>ln_Sales</th>\n",
       "      <th>ln_Radio</th>\n",
       "      <th>ln_Newspaper</th>\n",
       "    </tr>\n",
       "  </thead>\n",
       "  <tbody>\n",
       "    <tr>\n",
       "      <th>1</th>\n",
       "      <td>230.1</td>\n",
       "      <td>37.8</td>\n",
       "      <td>69.2</td>\n",
       "      <td>22.1</td>\n",
       "      <td>1.0</td>\n",
       "      <td>5.438514</td>\n",
       "      <td>3.095578</td>\n",
       "      <td>3.658420</td>\n",
       "      <td>4.251348</td>\n",
       "    </tr>\n",
       "    <tr>\n",
       "      <th>2</th>\n",
       "      <td>44.5</td>\n",
       "      <td>39.3</td>\n",
       "      <td>45.1</td>\n",
       "      <td>10.4</td>\n",
       "      <td>1.0</td>\n",
       "      <td>3.795489</td>\n",
       "      <td>2.341806</td>\n",
       "      <td>3.696351</td>\n",
       "      <td>3.830813</td>\n",
       "    </tr>\n",
       "    <tr>\n",
       "      <th>3</th>\n",
       "      <td>17.2</td>\n",
       "      <td>45.9</td>\n",
       "      <td>69.3</td>\n",
       "      <td>9.3</td>\n",
       "      <td>1.0</td>\n",
       "      <td>2.844909</td>\n",
       "      <td>2.230014</td>\n",
       "      <td>3.848018</td>\n",
       "      <td>4.252772</td>\n",
       "    </tr>\n",
       "    <tr>\n",
       "      <th>4</th>\n",
       "      <td>151.5</td>\n",
       "      <td>41.3</td>\n",
       "      <td>58.5</td>\n",
       "      <td>18.5</td>\n",
       "      <td>1.0</td>\n",
       "      <td>5.020586</td>\n",
       "      <td>2.917771</td>\n",
       "      <td>3.744787</td>\n",
       "      <td>4.085976</td>\n",
       "    </tr>\n",
       "    <tr>\n",
       "      <th>5</th>\n",
       "      <td>180.8</td>\n",
       "      <td>10.8</td>\n",
       "      <td>58.4</td>\n",
       "      <td>12.9</td>\n",
       "      <td>1.0</td>\n",
       "      <td>5.197391</td>\n",
       "      <td>2.557227</td>\n",
       "      <td>2.468100</td>\n",
       "      <td>4.084294</td>\n",
       "    </tr>\n",
       "  </tbody>\n",
       "</table>\n",
       "</div>"
      ],
      "text/plain": [
       "      TV  Radio  Newspaper  Sales  const     ln_TV  ln_Sales  ln_Radio  \\\n",
       "1  230.1   37.8       69.2   22.1    1.0  5.438514  3.095578  3.658420   \n",
       "2   44.5   39.3       45.1   10.4    1.0  3.795489  2.341806  3.696351   \n",
       "3   17.2   45.9       69.3    9.3    1.0  2.844909  2.230014  3.848018   \n",
       "4  151.5   41.3       58.5   18.5    1.0  5.020586  2.917771  3.744787   \n",
       "5  180.8   10.8       58.4   12.9    1.0  5.197391  2.557227  2.468100   \n",
       "\n",
       "   ln_Newspaper  \n",
       "1      4.251348  \n",
       "2      3.830813  \n",
       "3      4.252772  \n",
       "4      4.085976  \n",
       "5      4.084294  "
      ]
     },
     "execution_count": 22,
     "metadata": {},
     "output_type": "execute_result"
    }
   ],
   "source": [
    "df.head()"
   ]
  },
  {
   "cell_type": "code",
   "execution_count": 23,
   "metadata": {},
   "outputs": [
    {
     "data": {
      "text/html": [
       "<div>\n",
       "<style scoped>\n",
       "    .dataframe tbody tr th:only-of-type {\n",
       "        vertical-align: middle;\n",
       "    }\n",
       "\n",
       "    .dataframe tbody tr th {\n",
       "        vertical-align: top;\n",
       "    }\n",
       "\n",
       "    .dataframe thead th {\n",
       "        text-align: right;\n",
       "    }\n",
       "</style>\n",
       "<table border=\"1\" class=\"dataframe\">\n",
       "  <thead>\n",
       "    <tr style=\"text-align: right;\">\n",
       "      <th></th>\n",
       "      <th>ln_TV</th>\n",
       "      <th>Radio</th>\n",
       "      <th>Newspaper</th>\n",
       "    </tr>\n",
       "  </thead>\n",
       "  <tbody>\n",
       "    <tr>\n",
       "      <th>ln_TV</th>\n",
       "      <td>1.000000</td>\n",
       "      <td>0.004521</td>\n",
       "      <td>-0.004387</td>\n",
       "    </tr>\n",
       "    <tr>\n",
       "      <th>Radio</th>\n",
       "      <td>0.004521</td>\n",
       "      <td>1.000000</td>\n",
       "      <td>0.358916</td>\n",
       "    </tr>\n",
       "    <tr>\n",
       "      <th>Newspaper</th>\n",
       "      <td>-0.004387</td>\n",
       "      <td>0.358916</td>\n",
       "      <td>1.000000</td>\n",
       "    </tr>\n",
       "  </tbody>\n",
       "</table>\n",
       "</div>"
      ],
      "text/plain": [
       "              ln_TV     Radio  Newspaper\n",
       "ln_TV      1.000000  0.004521  -0.004387\n",
       "Radio      0.004521  1.000000   0.358916\n",
       "Newspaper -0.004387  0.358916   1.000000"
      ]
     },
     "execution_count": 23,
     "metadata": {},
     "output_type": "execute_result"
    }
   ],
   "source": [
    "df[['ln_TV', 'Radio', 'Newspaper']].corr()"
   ]
  },
  {
   "cell_type": "markdown",
   "metadata": {},
   "source": [
    "Между переменными нет высокой корреляции. Значит у нас получится корректно оценить нашу модель. Есть другие, более формальне критерии для поиска проблем, связанных с мультиколинеарностью, но мы про них говорить не будем. "
   ]
  },
  {
   "cell_type": "markdown",
   "metadata": {},
   "source": [
    "- Корректны ли данные, с которыми мы работаем, для решения поставленной задачи? \n",
    "- Корректна ли спецификация модели? \n",
    "- Есть ли выборосы? \n",
    "\n",
    "Про всё это мы поговорили выше. Судя по всему, оценки коэффициентов, которые мы получили - несмещённые и состоятельные. \n",
    "\n",
    "- Есть ли в остатках __автокоррелированность__?\n",
    "\n",
    "Для проверки этой предпосылки нам достаточно посмотреть в протокол оценивания и найти там строчку `Durbin-Watson`. Это статистика Дарбина-Уотсона. Если она оказывается в районе двух, то автокоррелированности в остатках нет. На самом деле это тоже статистика и для неё есть формальные критические значения, но мы в это углубляться не будем. Есть и другие критерии для проверки этой предпосылки. \n",
    "\n",
    "- Есть ли в остатках __гетероскедастичность__?\n",
    "\n",
    "Для гетероскедастичности построим картинку и воспользуемся каким-нибудь критерием. "
   ]
  },
  {
   "cell_type": "code",
   "execution_count": 24,
   "metadata": {},
   "outputs": [
    {
     "data": {
      "image/png": "[encoded data removed]",
      "text/plain": [
       "<Figure size 1080x360 with 3 Axes>"
      ]
     },
     "metadata": {
      "needs_background": "light"
     },
     "output_type": "display_data"
    }
   ],
   "source": [
    "df['residuals'] = res.resid\n",
    "\n",
    "sns.pairplot(\n",
    "    df, \n",
    "    y_vars='residuals', \n",
    "    x_vars=['Radio', 'Newspaper', 'ln_TV'], \n",
    "    height=5,\n",
    "    diag_kind=None\n",
    ");"
   ]
  },
  {
   "cell_type": "markdown",
   "metadata": {},
   "source": [
    "Судя по графику, дисперсия ошибок зависит от объёма рекламы по радио. Причём квадратично. Выходит, что оценки дисперсий коэффициентов искажены и доверительные интервалы оказываются смещёнными. Можно провести формальный тест на гомоскедастичность. Таких тестов есть довольно много. "
   ]
  },
  {
   "cell_type": "code",
   "execution_count": 25,
   "metadata": {},
   "outputs": [
    {
     "data": {
      "text/plain": [
       "(55.86762160507362,\n",
       " 7.387544499874759e-13,\n",
       " 25.549388853816673,\n",
       " 5.5218888462402244e-14)"
      ]
     },
     "execution_count": 25,
     "metadata": {},
     "output_type": "execute_result"
    }
   ],
   "source": [
    "from statsmodels.stats.diagnostic import het_breuschpagan\n",
    "het_breuschpagan(res.resid, df[['ln_TV', 'Radio', 'Newspaper']].values)"
   ]
  },
  {
   "cell_type": "markdown",
   "metadata": {},
   "source": [
    "Видим, что `pvalue` (последнее значение) сильно ниже уровня значимости. Гипотеза о гомоскедастичности отвергается. Можно ввести корректировку и исправить значения ошибок прямо при оценивании модели. "
   ]
  },
  {
   "cell_type": "code",
   "execution_count": 26,
   "metadata": {
    "scrolled": false
   },
   "outputs": [
    {
     "name": "stdout",
     "output_type": "stream",
     "text": [
      "                            OLS Regression Results                            \n",
      "==============================================================================\n",
      "Dep. Variable:               ln_Sales   R-squared:                       0.979\n",
      "Model:                            OLS   Adj. R-squared:                  0.978\n",
      "Method:                 Least Squares   F-statistic:                     1807.\n",
      "Date:                Mon, 26 Sep 2022   Prob (F-statistic):          1.85e-141\n",
      "Time:                        19:51:32   Log-Likelihood:                 294.22\n",
      "No. Observations:                 198   AIC:                            -580.4\n",
      "Df Residuals:                     194   BIC:                            -567.3\n",
      "Df Model:                           3                                         \n",
      "Covariance Type:                  HC3                                         \n",
      "==============================================================================\n",
      "                 coef    std err          z      P>|z|      [0.025      0.975]\n",
      "------------------------------------------------------------------------------\n",
      "Intercept      0.6661      0.029     23.108      0.000       0.610       0.723\n",
      "ln_TV          0.3397      0.005     63.393      0.000       0.329       0.350\n",
      "Radio          0.0136      0.000     37.356      0.000       0.013       0.014\n",
      "Newspaper  -7.896e-05      0.000     -0.374      0.709      -0.000       0.000\n",
      "==============================================================================\n",
      "Omnibus:                        3.843   Durbin-Watson:                   2.075\n",
      "Prob(Omnibus):                  0.146   Jarque-Bera (JB):                3.540\n",
      "Skew:                          -0.241   Prob(JB):                        0.170\n",
      "Kurtosis:                       3.444   Cond. No.                         253.\n",
      "==============================================================================\n",
      "\n",
      "Notes:\n",
      "[1] Standard Errors are heteroscedasticity robust (HC3)\n"
     ]
    }
   ],
   "source": [
    "model = smf.ols('ln_Sales ~ ln_TV + Radio + Newspaper', data=df)\n",
    "res = model.fit(cov_type='HC3')\n",
    "print(res.summary())"
   ]
  },
  {
   "cell_type": "markdown",
   "metadata": {},
   "source": [
    "Значения стандартных ошибок довольно сильно изменились. Теперь мы можем использовать их для проверки гипотез. \n",
    "\n",
    "> Нормальность остатков нам не нужна. Из-за корректировки ошибок мы можем пользоваться только асимптотическими результатами. В данных нет выбросов, поэтому предельные теоремы тут работают. "
   ]
  },
  {
   "cell_type": "markdown",
   "metadata": {},
   "source": [
    "## Выводы\n",
    "\n",
    "1. Тратить деньги на рекламу в газетах неэффективно. Гипотеза о том, что коэффициент перед этой переменной равен нулю, не отвергается. \n",
    "2. Реклама по телевидению обладает убывающей отдачей от масштаба. Коэффициент перед логарифмом получился меньше единицы. Этот канал оказывается в плане рекламы самым эффективным. \n",
    "3. Канал, связанный с радио, судя по всему, недоиспользуется. Здравый смысл и микроэкономика подсказывают, что от него тоже логично ожидать убывающую от масштаба отдачу. Однако в данных мы видим, что она линейная. "
   ]
  },
  {
   "cell_type": "markdown",
   "metadata": {},
   "source": [
    "# Логистическая регрессия"
   ]
  },
  {
   "cell_type": "code",
   "execution_count": 27,
   "metadata": {},
   "outputs": [],
   "source": [
    "from statsmodels.discrete.discrete_model import Logit"
   ]
  },
  {
   "cell_type": "code",
   "execution_count": 28,
   "metadata": {},
   "outputs": [],
   "source": [
    "df['const'] = 1 \n",
    "df['Sales_binary'] = (df.ln_Sales > df.ln_Sales.mean())*1\n",
    "\n",
    "y = df['Sales_binary']\n",
    "X = df[['const','ln_TV','Newspaper','Radio']]"
   ]
  },
  {
   "cell_type": "code",
   "execution_count": 29,
   "metadata": {},
   "outputs": [
    {
     "name": "stdout",
     "output_type": "stream",
     "text": [
      "Optimization terminated successfully.\n",
      "         Current function value: 0.063225\n",
      "         Iterations 12\n"
     ]
    }
   ],
   "source": [
    "model = Logit(endog=y, exog=X)\n",
    "res = model.fit()"
   ]
  },
  {
   "cell_type": "code",
   "execution_count": 30,
   "metadata": {},
   "outputs": [
    {
     "data": {
      "text/html": [
       "<table class=\"simpletable\">\n",
       "<caption>Logit Regression Results</caption>\n",
       "<tr>\n",
       "  <th>Dep. Variable:</th>     <td>Sales_binary</td>   <th>  No. Observations:  </th>  <td>   198</td>  \n",
       "</tr>\n",
       "<tr>\n",
       "  <th>Model:</th>                 <td>Logit</td>      <th>  Df Residuals:      </th>  <td>   194</td>  \n",
       "</tr>\n",
       "<tr>\n",
       "  <th>Method:</th>                 <td>MLE</td>       <th>  Df Model:          </th>  <td>     3</td>  \n",
       "</tr>\n",
       "<tr>\n",
       "  <th>Date:</th>            <td>Mon, 26 Sep 2022</td> <th>  Pseudo R-squ.:     </th>  <td>0.9087</td>  \n",
       "</tr>\n",
       "<tr>\n",
       "  <th>Time:</th>                <td>19:51:32</td>     <th>  Log-Likelihood:    </th> <td> -12.518</td> \n",
       "</tr>\n",
       "<tr>\n",
       "  <th>converged:</th>             <td>True</td>       <th>  LL-Null:           </th> <td> -137.08</td> \n",
       "</tr>\n",
       "<tr>\n",
       "  <th>Covariance Type:</th>     <td>nonrobust</td>    <th>  LLR p-value:       </th> <td>1.011e-53</td>\n",
       "</tr>\n",
       "</table>\n",
       "<table class=\"simpletable\">\n",
       "<tr>\n",
       "      <td></td>         <th>coef</th>     <th>std err</th>      <th>z</th>      <th>P>|z|</th>  <th>[0.025</th>    <th>0.975]</th>  \n",
       "</tr>\n",
       "<tr>\n",
       "  <th>const</th>     <td> -100.2938</td> <td>   29.327</td> <td>   -3.420</td> <td> 0.001</td> <td> -157.773</td> <td>  -42.815</td>\n",
       "</tr>\n",
       "<tr>\n",
       "  <th>ln_TV</th>     <td>   17.3584</td> <td>    5.096</td> <td>    3.407</td> <td> 0.001</td> <td>    7.371</td> <td>   27.346</td>\n",
       "</tr>\n",
       "<tr>\n",
       "  <th>Newspaper</th> <td>   -0.0076</td> <td>    0.023</td> <td>   -0.326</td> <td> 0.745</td> <td>   -0.053</td> <td>    0.038</td>\n",
       "</tr>\n",
       "<tr>\n",
       "  <th>Radio</th>     <td>    0.7056</td> <td>    0.198</td> <td>    3.569</td> <td> 0.000</td> <td>    0.318</td> <td>    1.093</td>\n",
       "</tr>\n",
       "</table><br/><br/>Possibly complete quasi-separation: A fraction 0.62 of observations can be<br/>perfectly predicted. This might indicate that there is complete<br/>quasi-separation. In this case some parameters will not be identified."
      ],
      "text/plain": [
       "<class 'statsmodels.iolib.summary.Summary'>\n",
       "\"\"\"\n",
       "                           Logit Regression Results                           \n",
       "==============================================================================\n",
       "Dep. Variable:           Sales_binary   No. Observations:                  198\n",
       "Model:                          Logit   Df Residuals:                      194\n",
       "Method:                           MLE   Df Model:                            3\n",
       "Date:                Mon, 26 Sep 2022   Pseudo R-squ.:                  0.9087\n",
       "Time:                        19:51:32   Log-Likelihood:                -12.518\n",
       "converged:                       True   LL-Null:                       -137.08\n",
       "Covariance Type:            nonrobust   LLR p-value:                 1.011e-53\n",
       "==============================================================================\n",
       "                 coef    std err          z      P>|z|      [0.025      0.975]\n",
       "------------------------------------------------------------------------------\n",
       "const       -100.2938     29.327     -3.420      0.001    -157.773     -42.815\n",
       "ln_TV         17.3584      5.096      3.407      0.001       7.371      27.346\n",
       "Newspaper     -0.0076      0.023     -0.326      0.745      -0.053       0.038\n",
       "Radio          0.7056      0.198      3.569      0.000       0.318       1.093\n",
       "==============================================================================\n",
       "\n",
       "Possibly complete quasi-separation: A fraction 0.62 of observations can be\n",
       "perfectly predicted. This might indicate that there is complete\n",
       "quasi-separation. In this case some parameters will not be identified.\n",
       "\"\"\""
      ]
     },
     "execution_count": 30,
     "metadata": {},
     "output_type": "execute_result"
    }
   ],
   "source": [
    "res.summary()"
   ]
  },
  {
   "cell_type": "markdown",
   "metadata": {},
   "source": [
    "  "
   ]
  }
 ],
 "metadata": {
  "kernelspec": {
   "display_name": "Python 3 (ipykernel)",
   "language": "python",
   "name": "python3"
  },
  "language_info": {
   "codemirror_mode": {
    "name": "ipython",
    "version": 3
   },
   "file_extension": ".py",
   "mimetype": "text/x-python",
   "name": "python",
   "nbconvert_exporter": "python",
   "pygments_lexer": "ipython3",
   "version": "3.10.4"
  },
  "toc": {
   "base_numbering": 1,
   "nav_menu": {},
   "number_sections": true,
   "sideBar": true,
   "skip_h1_title": false,
   "title_cell": "Table of Contents",
   "title_sidebar": "Contents",
   "toc_cell": true,
   "toc_position": {
    "height": "calc(100% - 180px)",
    "left": "10px",
    "top": "150px",
    "width": "165px"
   },
   "toc_section_display": true,
   "toc_window_display": true
  }
 },
 "nbformat": 4,
 "nbformat_minor": 4
}
